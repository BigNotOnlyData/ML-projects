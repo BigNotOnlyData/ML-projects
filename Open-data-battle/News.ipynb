{
 "cells": [
  {
   "cell_type": "markdown",
   "id": "26f242bc",
   "metadata": {},
   "source": [
    "# News"
   ]
  },
  {
   "cell_type": "markdown",
   "id": "4db0708e",
   "metadata": {},
   "source": [
    "https://open-data-battle.geecko.com/issues/news"
   ]
  },
  {
   "cell_type": "markdown",
   "id": "5b597855",
   "metadata": {},
   "source": [
    " Мы решили торговать на бирже, причем так, чтобы решение о покупке акций принимала нейросеть на основе последних новостей о той или иной компании. Для этого нужно научиться классифицировать все новости. Дана база новостей из разных источников news.csv. Необходимо написать классифицирующую модель новостей по источникам.\n",
    "\n",
    "Напиши любую модель для предсказания источника новостей и предскажите источники для данных из файла news.csv, для которых отсутствует значение Source.\n",
    "\n",
    "Пороговые значения для данной задачи классификации считать равными 0.33, 0.66.\n",
    "\n",
    "Ответ необходимо прикрепить в файле формата CSV. Файл должен содержать только прогнозные значения Source в одном столбце без заголовка. "
   ]
  },
  {
   "cell_type": "markdown",
   "id": "959a3e39",
   "metadata": {},
   "source": [
    "[Пример анализа](https://www.machinelearningmastery.ru/text-classification-in-python-dd95d264c802/)\n",
    "\n",
    "[Еще пример](https://nuancesprog.ru/p/12991/)"
   ]
  },
  {
   "cell_type": "code",
   "execution_count": 1,
   "id": "a917ff55",
   "metadata": {},
   "outputs": [],
   "source": [
    "import zipfile\n",
    "\n",
    "import pandas as pd\n",
    "import numpy as np\n",
    "import matplotlib.pyplot as plt\n",
    "import tensorflow as tf\n",
    "import seaborn as sns"
   ]
  },
  {
   "cell_type": "code",
   "execution_count": 2,
   "id": "165feb01",
   "metadata": {},
   "outputs": [],
   "source": [
    "# print('Extracting ZIP.')\n",
    "# with zipfile.ZipFile('news.zip', 'r') as archive:# Extract to current directory\n",
    "#     archive.extractall('.')\n",
    "# print('ZIP Extracted.')"
   ]
  },
  {
   "cell_type": "markdown",
   "id": "b4a8fa69",
   "metadata": {},
   "source": [
    "# 1. Разведочный анализ"
   ]
  },
  {
   "cell_type": "code",
   "execution_count": 3,
   "id": "d3b25948",
   "metadata": {},
   "outputs": [
    {
     "data": {
      "text/html": [
       "<div>\n",
       "<style scoped>\n",
       "    .dataframe tbody tr th:only-of-type {\n",
       "        vertical-align: middle;\n",
       "    }\n",
       "\n",
       "    .dataframe tbody tr th {\n",
       "        vertical-align: top;\n",
       "    }\n",
       "\n",
       "    .dataframe thead th {\n",
       "        text-align: right;\n",
       "    }\n",
       "</style>\n",
       "<table border=\"1\" class=\"dataframe\">\n",
       "  <thead>\n",
       "    <tr style=\"text-align: right;\">\n",
       "      <th></th>\n",
       "      <th>news</th>\n",
       "      <th>source</th>\n",
       "    </tr>\n",
       "  </thead>\n",
       "  <tbody>\n",
       "    <tr>\n",
       "      <th>0</th>\n",
       "      <td>Официальный аккаунт PlayStation опубликовал т...</td>\n",
       "      <td>1.0</td>\n",
       "    </tr>\n",
       "    <tr>\n",
       "      <th>1</th>\n",
       "      <td>Китайская компания Mobvoi опубликовала на офи...</td>\n",
       "      <td>1.0</td>\n",
       "    </tr>\n",
       "    <tr>\n",
       "      <th>2</th>\n",
       "      <td>Практически во всех странах мира введены огра...</td>\n",
       "      <td>0.0</td>\n",
       "    </tr>\n",
       "    <tr>\n",
       "      <th>3</th>\n",
       "      <td>Депутат Госдумы, единоросс Антон Горелкин вне...</td>\n",
       "      <td>2.0</td>\n",
       "    </tr>\n",
       "    <tr>\n",
       "      <th>4</th>\n",
       "      <td>Совет директоров «Почты России» проголосовал ...</td>\n",
       "      <td>2.0</td>\n",
       "    </tr>\n",
       "  </tbody>\n",
       "</table>\n",
       "</div>"
      ],
      "text/plain": [
       "                                                news  source\n",
       "0   Официальный аккаунт PlayStation опубликовал т...     1.0\n",
       "1   Китайская компания Mobvoi опубликовала на офи...     1.0\n",
       "2   Практически во всех странах мира введены огра...     0.0\n",
       "3   Депутат Госдумы, единоросс Антон Горелкин вне...     2.0\n",
       "4   Совет директоров «Почты России» проголосовал ...     2.0"
      ]
     },
     "execution_count": 3,
     "metadata": {},
     "output_type": "execute_result"
    }
   ],
   "source": [
    "df = pd.read_csv('Data/news (1).csv', index_col=0)\n",
    "df.head()"
   ]
  },
  {
   "cell_type": "code",
   "execution_count": 4,
   "id": "313350f4",
   "metadata": {},
   "outputs": [
    {
     "name": "stdout",
     "output_type": "stream",
     "text": [
      "<class 'pandas.core.frame.DataFrame'>\n",
      "Int64Index: 19462 entries, 0 to 19461\n",
      "Data columns (total 2 columns):\n",
      " #   Column  Non-Null Count  Dtype  \n",
      "---  ------  --------------  -----  \n",
      " 0   news    19462 non-null  object \n",
      " 1   source  18360 non-null  float64\n",
      "dtypes: float64(1), object(1)\n",
      "memory usage: 456.1+ KB\n"
     ]
    }
   ],
   "source": [
    "df.info()"
   ]
  },
  {
   "cell_type": "markdown",
   "id": "0e5a4f05",
   "metadata": {},
   "source": [
    "В колонке news пропусков нет, в колонке source есть пропуски - это то что надо предсказать"
   ]
  },
  {
   "cell_type": "code",
   "execution_count": 5,
   "id": "e9dab100",
   "metadata": {},
   "outputs": [
    {
     "data": {
      "text/plain": [
       "array([ 1.,  0.,  2., nan])"
      ]
     },
     "execution_count": 5,
     "metadata": {},
     "output_type": "execute_result"
    }
   ],
   "source": [
    "df.source.unique()"
   ]
  },
  {
   "cell_type": "markdown",
   "id": "93bc4bef",
   "metadata": {},
   "source": [
    "Всего 3 уникальных источника"
   ]
  },
  {
   "cell_type": "markdown",
   "id": "be12d1ca",
   "metadata": {},
   "source": [
    "Создадим колонку с количеством символов текста"
   ]
  },
  {
   "cell_type": "code",
   "execution_count": 6,
   "id": "f3847a60",
   "metadata": {},
   "outputs": [
    {
     "data": {
      "text/html": [
       "<div>\n",
       "<style scoped>\n",
       "    .dataframe tbody tr th:only-of-type {\n",
       "        vertical-align: middle;\n",
       "    }\n",
       "\n",
       "    .dataframe tbody tr th {\n",
       "        vertical-align: top;\n",
       "    }\n",
       "\n",
       "    .dataframe thead th {\n",
       "        text-align: right;\n",
       "    }\n",
       "</style>\n",
       "<table border=\"1\" class=\"dataframe\">\n",
       "  <thead>\n",
       "    <tr style=\"text-align: right;\">\n",
       "      <th></th>\n",
       "      <th>news</th>\n",
       "      <th>source</th>\n",
       "      <th>lenght</th>\n",
       "    </tr>\n",
       "  </thead>\n",
       "  <tbody>\n",
       "    <tr>\n",
       "      <th>0</th>\n",
       "      <td>Официальный аккаунт PlayStation опубликовал т...</td>\n",
       "      <td>1.0</td>\n",
       "      <td>593</td>\n",
       "    </tr>\n",
       "    <tr>\n",
       "      <th>1</th>\n",
       "      <td>Китайская компания Mobvoi опубликовала на офи...</td>\n",
       "      <td>1.0</td>\n",
       "      <td>772</td>\n",
       "    </tr>\n",
       "    <tr>\n",
       "      <th>2</th>\n",
       "      <td>Практически во всех странах мира введены огра...</td>\n",
       "      <td>0.0</td>\n",
       "      <td>2833</td>\n",
       "    </tr>\n",
       "    <tr>\n",
       "      <th>3</th>\n",
       "      <td>Депутат Госдумы, единоросс Антон Горелкин вне...</td>\n",
       "      <td>2.0</td>\n",
       "      <td>3993</td>\n",
       "    </tr>\n",
       "    <tr>\n",
       "      <th>4</th>\n",
       "      <td>Совет директоров «Почты России» проголосовал ...</td>\n",
       "      <td>2.0</td>\n",
       "      <td>597</td>\n",
       "    </tr>\n",
       "  </tbody>\n",
       "</table>\n",
       "</div>"
      ],
      "text/plain": [
       "                                                news  source  lenght\n",
       "0   Официальный аккаунт PlayStation опубликовал т...     1.0     593\n",
       "1   Китайская компания Mobvoi опубликовала на офи...     1.0     772\n",
       "2   Практически во всех странах мира введены огра...     0.0    2833\n",
       "3   Депутат Госдумы, единоросс Антон Горелкин вне...     2.0    3993\n",
       "4   Совет директоров «Почты России» проголосовал ...     2.0     597"
      ]
     },
     "execution_count": 6,
     "metadata": {},
     "output_type": "execute_result"
    }
   ],
   "source": [
    "df['lenght'] = df['news'].apply(str.strip).apply(len)\n",
    "df.head()"
   ]
  },
  {
   "cell_type": "markdown",
   "id": "b3280de0",
   "metadata": {},
   "source": [
    "Разделим данные на тренировочные и те что нужно предсказать"
   ]
  },
  {
   "cell_type": "code",
   "execution_count": 7,
   "id": "9822549a",
   "metadata": {},
   "outputs": [],
   "source": [
    "df_predict = df[df['source'].isna()]\n",
    "df_train = df[~df['source'].isna()]"
   ]
  },
  {
   "cell_type": "markdown",
   "id": "631b9ffd",
   "metadata": {},
   "source": [
    "Посмотрим как распределятся данные по длине и источника. При этом ограничимся длиной 10000"
   ]
  },
  {
   "cell_type": "code",
   "execution_count": 8,
   "id": "f9c7afcd",
   "metadata": {},
   "outputs": [
    {
     "data": {
      "text/plain": [
       "<AxesSubplot:xlabel='source', ylabel='lenght'>"
      ]
     },
     "execution_count": 8,
     "metadata": {},
     "output_type": "execute_result"
    },
    {
     "data": {
      "image/png": "[encoded data removed]",
      "text/plain": [
       "<Figure size 432x288 with 1 Axes>"
      ]
     },
     "metadata": {
      "needs_background": "light"
     },
     "output_type": "display_data"
    }
   ],
   "source": [
    "df_plot = df_train[df_train['lenght'] <=10000]\n",
    "sns.boxplot(x=\"source\", y=\"lenght\", data=df_plot)"
   ]
  },
  {
   "cell_type": "markdown",
   "id": "89989958",
   "metadata": {},
   "source": [
    "# *pyLDAvis"
   ]
  },
  {
   "cell_type": "code",
   "execution_count": 9,
   "id": "5bb62ce6",
   "metadata": {},
   "outputs": [],
   "source": [
    "# !pip install pyldavis"
   ]
  },
  {
   "cell_type": "code",
   "execution_count": 10,
   "id": "5a4a8f13",
   "metadata": {},
   "outputs": [],
   "source": [
    "# import pyLDAvis\n",
    "# import pyLDAvis.sklearn\n",
    "# from sklearn.feature_extraction.text import CountVectorizer\n",
    "# from sklearn.decomposition import LatentDirichletAllocation"
   ]
  },
  {
   "cell_type": "code",
   "execution_count": 11,
   "id": "d9ff92a0",
   "metadata": {},
   "outputs": [],
   "source": [
    "# pyLDAvis.enable_notebook()\n",
    "\n",
    "# text = df_train[['news']].to_numpy()\n",
    "# text = np.squeeze(text)\n",
    "\n",
    "# tf_vectorizer = CountVectorizer(token_pattern = r'\\b[a-zA-Z]{3,}\\b',\n",
    "#                                 max_df = 0.5, \n",
    "#                                 min_df = 10)\n",
    "# tf_vectorizer.fit(text)\n",
    "\n",
    "# dtm_tf = tf_vectorizer.transform(text)\n",
    "\n",
    "# lda_tf = LatentDirichletAllocation(n_components=20)\n",
    "# lda_tf.fit(dtm_tf)\n",
    "\n",
    "# pyLDAvis.sklearn.prepare(lda_tf, dtm_tf, tf_vectorizer)"
   ]
  },
  {
   "cell_type": "markdown",
   "id": "ce085d4d",
   "metadata": {},
   "source": [
    "# 2. Базовая модель. Мешок слов"
   ]
  },
  {
   "cell_type": "markdown",
   "id": "3792687d",
   "metadata": {},
   "source": [
    "## 2.1 Подготовка текста"
   ]
  },
  {
   "cell_type": "code",
   "execution_count": 12,
   "id": "d23ddf34",
   "metadata": {},
   "outputs": [],
   "source": [
    "from sklearn.model_selection import train_test_split\n",
    "from sklearn.feature_extraction.text import CountVectorizer\n",
    "from sklearn.linear_model import LogisticRegression\n",
    "from sklearn.svm import LinearSVC\n",
    "from sklearn.feature_extraction.text import TfidfVectorizer"
   ]
  },
  {
   "cell_type": "markdown",
   "id": "e0d52784",
   "metadata": {},
   "source": [
    "Преобразуем серии в эрэи"
   ]
  },
  {
   "cell_type": "code",
   "execution_count": 13,
   "id": "0cbefe44",
   "metadata": {},
   "outputs": [],
   "source": [
    "news = df_train['news'].values\n",
    "source = df_train['source'].values"
   ]
  },
  {
   "cell_type": "code",
   "execution_count": 14,
   "id": "e1d3a58c",
   "metadata": {},
   "outputs": [],
   "source": [
    "news_pred = df_predict['news'].values"
   ]
  },
  {
   "cell_type": "markdown",
   "id": "2983500e",
   "metadata": {},
   "source": [
    "Разделим данные на тренировочные и тестовые"
   ]
  },
  {
   "cell_type": "code",
   "execution_count": 15,
   "id": "7dec99bd",
   "metadata": {},
   "outputs": [],
   "source": [
    "news_train, news_test, y_train, y_test = train_test_split(\n",
    "   news, source, test_size=0.25, random_state=1000)"
   ]
  },
  {
   "cell_type": "markdown",
   "id": "e83d9070",
   "metadata": {},
   "source": [
    "Токенезация и векторизация текста"
   ]
  },
  {
   "cell_type": "markdown",
   "id": "a944d2ea",
   "metadata": {},
   "source": [
    "`CountVectorizer` создает словарь, в котором ключ - слово, значение - порядковый номер.\n",
    "\n",
    "Исходный текст векторизуется, номер слова в словаре = номеру элемента вектора, где вместо слов - количество вхождения слова в текст. "
   ]
  },
  {
   "cell_type": "code",
   "execution_count": 16,
   "id": "f3b6e65e",
   "metadata": {},
   "outputs": [],
   "source": [
    "vectorizer = CountVectorizer(token_pattern=r'\\b\\w\\w\\w+\\b',  # токен - минимум 3 символа\n",
    "                            max_df=0.7, # максимальное число слова - пропорциоанльное всему словарю\n",
    "                            min_df=5)   # минимальное число повторов токена (слова)\n",
    "\n",
    "X_train = vectorizer.fit_transform(news_train)\n",
    "X_test = vectorizer.transform(news_test)"
   ]
  },
  {
   "cell_type": "markdown",
   "id": "cc150d18",
   "metadata": {},
   "source": [
    "# TODO TfidfVectorizer"
   ]
  },
  {
   "cell_type": "markdown",
   "id": "5416a611",
   "metadata": {},
   "source": [
    "[](https://scikit-learn.org/stable/modules/generated/sklearn.feature_extraction.text.TfidfVectorizer.html)"
   ]
  },
  {
   "cell_type": "markdown",
   "id": "299069f1",
   "metadata": {},
   "source": [
    "[TfidfVectorizer](https://scikit-learn.org/stable/modules/generated/sklearn.feature_extraction.text.TfidfVectorizer.html)"
   ]
  },
  {
   "cell_type": "markdown",
   "id": "6092a40e",
   "metadata": {},
   "source": [
    "# TODO NLTK"
   ]
  },
  {
   "cell_type": "markdown",
   "id": "c98092c4",
   "metadata": {},
   "source": [
    "[NLTK](https://www.nltk.org/api/nltk.tokenize.html)"
   ]
  },
  {
   "cell_type": "markdown",
   "id": "aa15e9cf",
   "metadata": {},
   "source": [
    "## 2.2 Обучение модели"
   ]
  },
  {
   "cell_type": "markdown",
   "id": "1f5f72dd",
   "metadata": {},
   "source": [
    "Метод опорных векторов"
   ]
  },
  {
   "cell_type": "code",
   "execution_count": 17,
   "id": "55902818",
   "metadata": {},
   "outputs": [
    {
     "data": {
      "text/plain": [
       "0.9821350762527233"
      ]
     },
     "execution_count": 17,
     "metadata": {},
     "output_type": "execute_result"
    }
   ],
   "source": [
    "clf = LinearSVC(max_iter=10000)\n",
    "clf.fit(X_train, y_train)\n",
    "clf.score(X_test, y_test)"
   ]
  },
  {
   "cell_type": "markdown",
   "id": "102ab6fb",
   "metadata": {},
   "source": [
    "Логистическая регрессия"
   ]
  },
  {
   "cell_type": "code",
   "execution_count": 18,
   "id": "c88e718a",
   "metadata": {},
   "outputs": [
    {
     "data": {
      "text/plain": [
       "0.9812636165577342"
      ]
     },
     "execution_count": 18,
     "metadata": {},
     "output_type": "execute_result"
    }
   ],
   "source": [
    "clf2 = LogisticRegression(max_iter=1000)\n",
    "clf2.fit(X_train, y_train)\n",
    "clf2.score(X_test, y_test)"
   ]
  },
  {
   "cell_type": "markdown",
   "id": "6f887e0e",
   "metadata": {},
   "source": [
    "# TODO к-ближайших соседей, рэндом форест"
   ]
  },
  {
   "cell_type": "markdown",
   "id": "93399432",
   "metadata": {},
   "source": [
    "## 2.3 Предсказание модели"
   ]
  },
  {
   "cell_type": "code",
   "execution_count": 19,
   "id": "d1d6e495",
   "metadata": {},
   "outputs": [],
   "source": [
    "news_pred = df_predict['news'].values\n",
    "X_pred = vectorizer.transform(news_pred)"
   ]
  },
  {
   "cell_type": "code",
   "execution_count": 20,
   "id": "37608965",
   "metadata": {},
   "outputs": [],
   "source": [
    "np.savetxt('news_res_logreg.csv', clf2.predict(X_pred), fmt='%d')"
   ]
  },
  {
   "cell_type": "markdown",
   "id": "dd5941ba",
   "metadata": {},
   "source": [
    "Прошел проверку)"
   ]
  },
  {
   "cell_type": "markdown",
   "id": "35bfab87",
   "metadata": {},
   "source": [
    "# 3. Нейронные сети"
   ]
  },
  {
   "cell_type": "markdown",
   "id": "fb4ec82d",
   "metadata": {},
   "source": [
    "[Классификация текста - ютуб](https://www.youtube.com/watch?v=cPkH1k3U1c8&list=LL&index=10&t=937s)\n",
    "\n",
    "[Пример нейросетей](https://cyberguru.tech/%D0%BF%D1%80%D0%BE%D0%B3%D1%80%D0%B0%D0%BC%D0%BC%D0%B8%D1%80%D0%BE%D0%B2%D0%B0%D0%BD%D0%B8%D0%B5/%D0%BC%D0%B0%D1%88%D0%B8%D0%BD%D0%BD%D0%BE%D0%B5-%D0%BE%D0%B1%D1%83%D1%87%D0%B5%D0%BD%D0%B8%D0%B5/%D0%BF%D1%80%D0%B0%D0%BA%D1%82%D0%B8%D1%87%D0%B5%D1%81%D0%BA%D0%B0%D1%8F-%D0%BA%D0%BB%D0%B0%D1%81%D1%81%D0%B8%D1%84%D0%B8%D0%BA%D0%B0%D1%86%D0%B8%D1%8F-%D1%82%D0%B5%D0%BA%D1%81%D1%82%D0%B0-%D1%81)"
   ]
  },
  {
   "cell_type": "code",
   "execution_count": 21,
   "id": "d9316fd7",
   "metadata": {},
   "outputs": [],
   "source": [
    "from tensorflow.keras.models import Sequential\n",
    "from tensorflow.keras.layers import Dense, Embedding, Flatten, MaxPooling1D, Conv1D, GlobalMaxPooling1D, Dropout, LSTM, GRU\n",
    "from tensorflow.keras import utils\n",
    "from tensorflow.keras.preprocessing.sequence import pad_sequences\n",
    "from tensorflow.keras.preprocessing.text import Tokenizer\n",
    "from tensorflow.keras.callbacks import ModelCheckpoint\n",
    "from tensorflow.keras import utils"
   ]
  },
  {
   "cell_type": "markdown",
   "id": "3cdcc6b2",
   "metadata": {},
   "source": [
    "## 3.1 Токенизация, векторизация текста"
   ]
  },
  {
   "cell_type": "code",
   "execution_count": 22,
   "id": "6c751acd",
   "metadata": {},
   "outputs": [],
   "source": [
    "# Максимальное количество слов в словаре\n",
    "num_words = 10000\n",
    "# Максимальная длина новости\n",
    "max_news_len = 30\n",
    "# Количество классов новостей\n",
    "nb_classes = 3"
   ]
  },
  {
   "cell_type": "markdown",
   "id": "4f7738f9",
   "metadata": {},
   "source": [
    "[Tokenizer](https://www.tensorflow.org/api_docs/python/tf/keras/preprocessing/text/Tokenizer?hl=ru)"
   ]
  },
  {
   "cell_type": "markdown",
   "id": "c436a2ca",
   "metadata": {},
   "source": [
    "Создаем токенизатор, обучаем его на новостях и просматриваем словарь токенизатора"
   ]
  },
  {
   "cell_type": "code",
   "execution_count": 23,
   "id": "f226e822",
   "metadata": {},
   "outputs": [
    {
     "data": {
      "text/plain": [
       "{'в': 1,\n",
       " 'и': 2,\n",
       " 'на': 3,\n",
       " 'с': 4,\n",
       " 'что': 5,\n",
       " 'не': 6,\n",
       " 'по': 7,\n",
       " 'для': 8,\n",
       " 'из': 9,\n",
       " 'а': 10,\n",
       " 'к': 11,\n",
       " 'за': 12,\n",
       " 'о': 13,\n",
       " 'как': 14,\n",
       " 'от': 15,\n",
       " 'это': 16,\n",
       " 'но': 17,\n",
       " 'также': 18,\n",
       " 'компании': 19,\n",
       " 'года': 20,\n",
       " 'он': 21,\n",
       " 'до': 22,\n",
       " 'будет': 23,\n",
       " 'его': 24,\n",
       " 'у': 25,\n",
       " 'apple': 26,\n",
       " 'при': 27,\n",
       " 'рублей': 28,\n",
       " 'или': 29,\n",
       " 'то': 30,\n",
       " 'компания': 31,\n",
       " 'так': 32,\n",
       " 'которые': 33,\n",
       " 'г': 34,\n",
       " 'google': 35,\n",
       " 'все': 36,\n",
       " 'уже': 37,\n",
       " 'этом': 38,\n",
       " 'россии': 39,\n",
       " 'можно': 40,\n",
       " 'того': 41,\n",
       " 'их': 42,\n",
       " 'может': 43,\n",
       " 'том': 44,\n",
       " 'более': 45,\n",
       " 'только': 46,\n",
       " 'году': 47,\n",
       " 'мы': 48,\n",
       " 'если': 49,\n",
       " 'который': 50,\n",
       " 'гб': 51,\n",
       " 'чтобы': 52,\n",
       " 'млн': 53,\n",
       " 'же': 54,\n",
       " 'iphone': 55,\n",
       " 'после': 56,\n",
       " 'пользователей': 57,\n",
       " 'есть': 58,\n",
       " 'время': 59,\n",
       " 'они': 60,\n",
       " 'со': 61,\n",
       " 'сша': 62,\n",
       " 'во': 63,\n",
       " 'млрд': 64,\n",
       " 'этого': 65,\n",
       " 'android': 66,\n",
       " 'интернет': 67,\n",
       " 'будут': 68,\n",
       " 'pro': 69,\n",
       " 'об': 70,\n",
       " 'кроме': 71,\n",
       " 'еще': 72,\n",
       " 'могут': 73,\n",
       " 'facebook': 74,\n",
       " 'был': 75,\n",
       " 'под': 76,\n",
       " 'было': 77,\n",
       " 'сети': 78,\n",
       " 'руб': 79,\n",
       " 'которая': 80,\n",
       " 'чем': 81,\n",
       " 'ее': 82,\n",
       " 'она': 83,\n",
       " 'g': 84,\n",
       " 'данных': 85,\n",
       " 'однако': 86,\n",
       " 'пока': 87,\n",
       " 'ранее': 88,\n",
       " 'всего': 89,\n",
       " 'представитель': 90,\n",
       " 'когда': 91,\n",
       " 'словам': 92,\n",
       " 'связи': 93,\n",
       " 'сейчас': 94,\n",
       " 'samsung': 95,\n",
       " 'тем': 96,\n",
       " 'больше': 97,\n",
       " 's': 98,\n",
       " 'устройства': 99,\n",
       " 'huawei': 100,\n",
       " 'заявил': 101,\n",
       " 'galaxy': 102,\n",
       " 'смартфонов': 103,\n",
       " 'является': 104,\n",
       " 'через': 105,\n",
       " 'несколько': 106,\n",
       " 'даже': 107,\n",
       " 'были': 108,\n",
       " 'один': 109,\n",
       " 'например': 110,\n",
       " 'мп': 111,\n",
       " 'без': 112,\n",
       " 'ru': 113,\n",
       " 'я': 114,\n",
       " 'устройств': 115,\n",
       " 'данные': 116,\n",
       " 'the': 117,\n",
       " 'x': 118,\n",
       " 'быть': 119,\n",
       " 'всех': 120,\n",
       " 'говорит': 121,\n",
       " 'была': 122,\n",
       " 'смартфон': 123,\n",
       " 'информации': 124,\n",
       " 'этот': 125,\n",
       " 'видео': 126,\n",
       " 'лет': 127,\n",
       " 'других': 128,\n",
       " 'вместо': 129,\n",
       " 'смартфона': 130,\n",
       " 'системы': 131,\n",
       " 'них': 132,\n",
       " 'twitter': 133,\n",
       " 'пользователи': 134,\n",
       " '×': 135,\n",
       " 'a': 136,\n",
       " 'долларов': 137,\n",
       " 'нет': 138,\n",
       " 'бы': 139,\n",
       " 'telegram': 140,\n",
       " 'которых': 141,\n",
       " 'microsoft': 142,\n",
       " 'очень': 143,\n",
       " 'данным': 144,\n",
       " 'раз': 145,\n",
       " 'этой': 146,\n",
       " 'новые': 147,\n",
       " 'два': 148,\n",
       " 'приложения': 149,\n",
       " 'теперь': 150,\n",
       " 'xiaomi': 151,\n",
       " 'работы': 152,\n",
       " 'год': 153,\n",
       " 'компаний': 154,\n",
       " 'новый': 155,\n",
       " 'около': 156,\n",
       " 'безопасности': 157,\n",
       " 'считает': 158,\n",
       " 'доступ': 159,\n",
       " 'стоимость': 160,\n",
       " 'возможность': 161,\n",
       " 'другие': 162,\n",
       " 'новых': 163,\n",
       " 'человек': 164,\n",
       " 'своих': 165,\n",
       " 'версии': 166,\n",
       " 'яндекс': 167,\n",
       " 'помощью': 168,\n",
       " 'ли': 169,\n",
       " 'эти': 170,\n",
       " 'сервис': 171,\n",
       " 'мтс': 172,\n",
       " 'именно': 173,\n",
       " 'лишь': 174,\n",
       " 'которой': 175,\n",
       " 'среди': 176,\n",
       " 'числе': 177,\n",
       " 'приложение': 178,\n",
       " 'устройство': 179,\n",
       " 'менее': 180,\n",
       " 'свои': 181,\n",
       " 'онлайн': 182,\n",
       " 'момент': 183,\n",
       " 'где': 184,\n",
       " 'игры': 185,\n",
       " 'количество': 186,\n",
       " 'mi': 187,\n",
       " 'известно': 188,\n",
       " 'поэтому': 189,\n",
       " 'случае': 190,\n",
       " 'первый': 191,\n",
       " 'между': 192,\n",
       " 'рынке': 193,\n",
       " 'приложений': 194,\n",
       " 'технологии': 195,\n",
       " 'сообщил': 196,\n",
       " 'говорится': 197,\n",
       " 'три': 198,\n",
       " 'работает': 199,\n",
       " 'ios': 200,\n",
       " 'директор': 201,\n",
       " 'стало': 202,\n",
       " 'продажи': 203,\n",
       " 'решение': 204,\n",
       " 'рынка': 205,\n",
       " 'информацию': 206,\n",
       " 'часть': 207,\n",
       " 'камера': 208,\n",
       " 'позволяет': 209,\n",
       " 'согласно': 210,\n",
       " 'себя': 211,\n",
       " 'c': 212,\n",
       " 'модели': 213,\n",
       " 'windows': 214,\n",
       " 'свою': 215,\n",
       " 'дисплей': 216,\n",
       " 'стоит': 217,\n",
       " 'snapdragon': 218,\n",
       " 'кто': 219,\n",
       " 'рассказал': 220,\n",
       " 'мач': 221,\n",
       " 'тогда': 222,\n",
       " 'часов': 223,\n",
       " 'людей': 224,\n",
       " 'образом': 225,\n",
       " 'система': 226,\n",
       " 'сервиса': 227,\n",
       " 'рамках': 228,\n",
       " 'it': 229,\n",
       " 'оператора': 230,\n",
       " 'нужно': 231,\n",
       " 'конце': 232,\n",
       " 'им': 233,\n",
       " 'стал': 234,\n",
       " 'должны': 235,\n",
       " 'памяти': 236,\n",
       " 'стороны': 237,\n",
       " 'некоторые': 238,\n",
       " 'проект': 239,\n",
       " 'сообщает': 240,\n",
       " 'ещё': 241,\n",
       " 'своей': 242,\n",
       " 'такой': 243,\n",
       " 'таким': 244,\n",
       " 'времени': 245,\n",
       " 'над': 246,\n",
       " 'использовать': 247,\n",
       " 'президент': 248,\n",
       " 'либо': 249,\n",
       " 'продаж': 250,\n",
       " 'f': 251,\n",
       " 'одной': 252,\n",
       " 'рынок': 253,\n",
       " 'тыс': 254,\n",
       " 'камеры': 255,\n",
       " 'пресс': 256,\n",
       " 'получить': 257,\n",
       " 'сеть': 258,\n",
       " 'sony': 259,\n",
       " 'youtube': 260,\n",
       " 'ни': 261,\n",
       " 'ему': 262,\n",
       " 'нового': 263,\n",
       " 'эта': 264,\n",
       " 'операторов': 265,\n",
       " 'такие': 266,\n",
       " 'oneplus': 267,\n",
       " 'сайте': 268,\n",
       " 'которого': 269,\n",
       " 'многие': 270,\n",
       " 'смартфоны': 271,\n",
       " 'станет': 272,\n",
       " 'работать': 273,\n",
       " 'двух': 274,\n",
       " 'несмотря': 275,\n",
       " 'интернета': 276,\n",
       " 'мире': 277,\n",
       " 'таких': 278,\n",
       " 'просто': 279,\n",
       " 'этих': 280,\n",
       " 'помимо': 281,\n",
       " 'вы': 282,\n",
       " 'составляет': 283,\n",
       " 'вместе': 284,\n",
       " 'имеет': 285,\n",
       " 'против': 286,\n",
       " 'котором': 287,\n",
       " 'версия': 288,\n",
       " 'которое': 289,\n",
       " 'качестве': 290,\n",
       " 'note': 291,\n",
       " 'день': 292,\n",
       " 'получит': 293,\n",
       " 'group': 294,\n",
       " 'мм': 295,\n",
       " 'новой': 296,\n",
       " 'оперативной': 297,\n",
       " 'сми': 298,\n",
       " 'i': 299,\n",
       " 'глава': 300,\n",
       " 'почти': 301,\n",
       " 'работу': 302,\n",
       " 'модель': 303,\n",
       " 'пользователя': 304,\n",
       " 'российских': 305,\n",
       " 'сразу': 306,\n",
       " 'процессор': 307,\n",
       " 'сервисов': 308,\n",
       " 'fi': 309,\n",
       " 'начале': 310,\n",
       " 'redmi': 311,\n",
       " 'тех': 312,\n",
       " 'него': 313,\n",
       " 'должен': 314,\n",
       " 'store': 315,\n",
       " 'пользователь': 316,\n",
       " 'wi': 317,\n",
       " 'смогут': 318,\n",
       " 'свой': 319,\n",
       " 'следует': 320,\n",
       " 'мобильных': 321,\n",
       " 'течение': 322,\n",
       " 'одного': 323,\n",
       " 'благодаря': 324,\n",
       " 'стали': 325,\n",
       " 'usb': 326,\n",
       " 'нас': 327,\n",
       " 'технологий': 328,\n",
       " 'p': 329,\n",
       " 'одним': 330,\n",
       " 'люди': 331,\n",
       " 'стала': 332,\n",
       " 'поколения': 333,\n",
       " 'сетей': 334,\n",
       " 'мнению': 335,\n",
       " 'страны': 336,\n",
       " 'хотя': 337,\n",
       " 'honor': 338,\n",
       " 'проекта': 339,\n",
       " 'сентября': 340,\n",
       " 'ps': 341,\n",
       " 'ггц': 342,\n",
       " 'контента': 343,\n",
       " 'ведомостям': 344,\n",
       " 'самых': 345,\n",
       " 'отмечает': 346,\n",
       " 'апреля': 347,\n",
       " 'включая': 348,\n",
       " 'представители': 349,\n",
       " 'октября': 350,\n",
       " 'бизнес': 351,\n",
       " 'отметил': 352,\n",
       " 'президента': 353,\n",
       " 'сотрудников': 354,\n",
       " 'ipad': 355,\n",
       " 'bluetooth': 356,\n",
       " 'необходимо': 357,\n",
       " 'полностью': 358,\n",
       " 'тот': 359,\n",
       " 'amazon': 360,\n",
       " 'instagram': 361,\n",
       " 'ос': 362,\n",
       " 'pixel': 363,\n",
       " 'of': 364,\n",
       " 'сервисы': 365,\n",
       " 'своего': 366,\n",
       " 'использования': 367,\n",
       " 't': 368,\n",
       " 'сделать': 369,\n",
       " 'эту': 370,\n",
       " 'возможности': 371,\n",
       " 'xbox': 372,\n",
       " 'watch': 373,\n",
       " 'сможет': 374,\n",
       " 'список': 375,\n",
       " 'решения': 376,\n",
       " 'игр': 377,\n",
       " 'получил': 378,\n",
       " 'вопрос': 379,\n",
       " 'представила': 380,\n",
       " 'пользователям': 381,\n",
       " 'основная': 382,\n",
       " 'экран': 383,\n",
       " 'базе': 384,\n",
       " 'части': 385,\n",
       " 'tesla': 386,\n",
       " 'практически': 387,\n",
       " 'позволит': 388,\n",
       " 'всем': 389,\n",
       " 'поскольку': 390,\n",
       " 'акций': 391,\n",
       " 'назад': 392,\n",
       " 'рекламы': 393,\n",
       " 'социальной': 394,\n",
       " 'доступа': 395,\n",
       " 'intel': 396,\n",
       " 'информация': 397,\n",
       " 'ожидается': 398,\n",
       " 'систему': 399,\n",
       " 'области': 400,\n",
       " 'внимание': 401,\n",
       " 'обновление': 402,\n",
       " 'место': 403,\n",
       " 'удалось': 404,\n",
       " 'другой': 405,\n",
       " 'проблемы': 406,\n",
       " 'управления': 407,\n",
       " 'qualcomm': 408,\n",
       " 'чего': 409,\n",
       " 'сам': 410,\n",
       " 'много': 411,\n",
       " 'каждый': 412,\n",
       " 'эксперт': 413,\n",
       " 'рост': 414,\n",
       " 'цене': 415,\n",
       " 'одна': 416,\n",
       " 'потому': 417,\n",
       " 'себе': 418,\n",
       " 'абонентов': 419,\n",
       " 'деньги': 420,\n",
       " 'которую': 421,\n",
       " 'этим': 422,\n",
       " 'мая': 423,\n",
       " 'оператор': 424,\n",
       " 'plus': 425,\n",
       " 'марта': 426,\n",
       " 'lte': 427,\n",
       " 'власти': 428,\n",
       " 'nokia': 429,\n",
       " 'второй': 430,\n",
       " 'медиа': 431,\n",
       " 'версию': 432,\n",
       " 'появится': 433,\n",
       " 'января': 434,\n",
       " 'суд': 435,\n",
       " 'речь': 436,\n",
       " 'перед': 437,\n",
       " 'tele': 438,\n",
       " 'вт': 439,\n",
       " 'последние': 440,\n",
       " 'две': 441,\n",
       " 'достаточно': 442,\n",
       " 'территории': 443,\n",
       " 'своем': 444,\n",
       " 'юаней': 445,\n",
       " 'фото': 446,\n",
       " 'контент': 447,\n",
       " 'впервые': 448,\n",
       " 'ведомостей': 449,\n",
       " 'декабря': 450,\n",
       " 'начала': 451,\n",
       " 'действительно': 452,\n",
       " 'цены': 453,\n",
       " 'сообщения': 454,\n",
       " 'новая': 455,\n",
       " 'китае': 456,\n",
       " 'цена': 457,\n",
       " 'интернете': 458,\n",
       " 'режиме': 459,\n",
       " 'эксперты': 460,\n",
       " 'человека': 461,\n",
       " 'стать': 462,\n",
       " 'развития': 463,\n",
       " 'прошлом': 464,\n",
       " 'разработчиков': 465,\n",
       " 'всему': 466,\n",
       " 'бизнеса': 467,\n",
       " 'акции': 468,\n",
       " 'функция': 469,\n",
       " 'там': 470,\n",
       " 'm': 471,\n",
       " 'тоже': 472,\n",
       " 'нескольких': 473,\n",
       " 'услуг': 474,\n",
       " 'сегодня': 475,\n",
       " 'находится': 476,\n",
       " 'k': 477,\n",
       " 'обновления': 478,\n",
       " 'прошлого': 479,\n",
       " 'презентации': 480,\n",
       " 'whatsapp': 481,\n",
       " 'квартале': 482,\n",
       " 'связь': 483,\n",
       " 'платформы': 484,\n",
       " 'функции': 485,\n",
       " 'ноября': 486,\n",
       " 'разрешением': 487,\n",
       " 'яндекса': 488,\n",
       " 'частности': 489,\n",
       " 'очередь': 490,\n",
       " 'операторы': 491,\n",
       " 'type': 492,\n",
       " 'основной': 493,\n",
       " 'пишет': 494,\n",
       " 'one': 495,\n",
       " 'игра': 496,\n",
       " 'должна': 497,\n",
       " 'российского': 498,\n",
       " 'характеристики': 499,\n",
       " 'закон': 500,\n",
       " 'меньше': 501,\n",
       " 'гендиректор': 502,\n",
       " 'идет': 503,\n",
       " 'клиентов': 504,\n",
       " 'планирует': 505,\n",
       " 'аналитик': 506,\n",
       " 'мира': 507,\n",
       " 'дней': 508,\n",
       " 'фронтальная': 509,\n",
       " 'работе': 510,\n",
       " 'серии': 511,\n",
       " 'доступен': 512,\n",
       " 'первые': 513,\n",
       " 'результате': 514,\n",
       " 'дизайн': 515,\n",
       " 'режим': 516,\n",
       " 'четыре': 517,\n",
       " 'play': 518,\n",
       " 'дело': 519,\n",
       " 'те': 520,\n",
       " 'закона': 521,\n",
       " 'состоится': 522,\n",
       " 'являются': 523,\n",
       " 'т': 524,\n",
       " 'max': 525,\n",
       " 'поддержкой': 526,\n",
       " 'мегафона': 527,\n",
       " 'экрана': 528,\n",
       " 'февраля': 529,\n",
       " 'стран': 530,\n",
       " 'программы': 531,\n",
       " 'июля': 532,\n",
       " 'сайт': 533,\n",
       " 'августа': 534,\n",
       " 'использование': 535,\n",
       " 'получат': 536,\n",
       " 'июня': 537,\n",
       " 'роскомнадзор': 538,\n",
       " 'доступна': 539,\n",
       " 'большой': 540,\n",
       " 'жизни': 541,\n",
       " 'разных': 542,\n",
       " 'edition': 543,\n",
       " 'доступны': 544,\n",
       " 'её': 545,\n",
       " 'руководитель': 546,\n",
       " 'всегда': 547,\n",
       " 'странах': 548,\n",
       " 'помощи': 549,\n",
       " 'маск': 550,\n",
       " 'ней': 551,\n",
       " 'дома': 552,\n",
       " 'социальных': 553,\n",
       " 'компанию': 554,\n",
       " 'пор': 555,\n",
       " 'сообщается': 556,\n",
       " 'появилась': 557,\n",
       " 'российской': 558,\n",
       " 'москве': 559,\n",
       " 'систем': 560,\n",
       " 'месяц': 561,\n",
       " 'активно': 562,\n",
       " 'разработчики': 563,\n",
       " 'внутри': 564,\n",
       " 'услуги': 565,\n",
       " 'скорее': 566,\n",
       " 'возможно': 567,\n",
       " 'часы': 568,\n",
       " 'поддержку': 569,\n",
       " 'дисплеем': 570,\n",
       " 'новую': 571,\n",
       " 'тысяч': 572,\n",
       " 'некоторых': 573,\n",
       " 'действия': 574,\n",
       " 'рф': 575,\n",
       " 'компанией': 576,\n",
       " 'sim': 577,\n",
       " 'карты': 578,\n",
       " 'стране': 579,\n",
       " 'примерно': 580,\n",
       " 'наушников': 581,\n",
       " 'найти': 582,\n",
       " 'фас': 583,\n",
       " 'продуктов': 584,\n",
       " 'основе': 585,\n",
       " 'macbook': 586,\n",
       " 'получили': 587,\n",
       " 'утверждает': 588,\n",
       " 'сказал': 589,\n",
       " 'газете': 590,\n",
       " 'зарядки': 591,\n",
       " 'mail': 592,\n",
       " 'мобильного': 593,\n",
       " 'сравнению': 594,\n",
       " 'озу': 595,\n",
       " 'оно': 596,\n",
       " 'российские': 597,\n",
       " 'тому': 598,\n",
       " 'доля': 599,\n",
       " 'месяцев': 600,\n",
       " 'технология': 601,\n",
       " 'этому': 602,\n",
       " 'вице': 603,\n",
       " 'многих': 604,\n",
       " 'собой': 605,\n",
       " 'м': 606,\n",
       " 'группы': 607,\n",
       " 'касается': 608,\n",
       " 'ссылкой': 609,\n",
       " 'постоянной': 610,\n",
       " 'вот': 611,\n",
       " 'будущем': 612,\n",
       " 'трампа': 613,\n",
       " 'com': 614,\n",
       " 'изменения': 615,\n",
       " 'lg': 616,\n",
       " 'ним': 617,\n",
       " 'добавил': 618,\n",
       " 'ряд': 619,\n",
       " 'пк': 620,\n",
       " 'предлагает': 621,\n",
       " 'имеют': 622,\n",
       " 'россия': 623,\n",
       " 'первой': 624,\n",
       " 'миру': 625,\n",
       " 'александр': 626,\n",
       " 'источник': 627,\n",
       " 'средств': 628,\n",
       " 'выручка': 629,\n",
       " 'магазине': 630,\n",
       " 'делать': 631,\n",
       " 'веб': 632,\n",
       " 'бренд': 633,\n",
       " 'число': 634,\n",
       " 'самым': 635,\n",
       " 'появились': 636,\n",
       " 'нам': 637,\n",
       " 'минут': 638,\n",
       " 'сетях': 639,\n",
       " 'своим': 640,\n",
       " 'затем': 641,\n",
       " 'истории': 642,\n",
       " 'сообщении': 643,\n",
       " 'работают': 644,\n",
       " 'app': 645,\n",
       " 'операционной': 646,\n",
       " 'опубликовал': 647,\n",
       " 'поддержка': 648,\n",
       " 'tv': 649,\n",
       " 'playstation': 650,\n",
       " 'которым': 651,\n",
       " 'целом': 652,\n",
       " 'получила': 653,\n",
       " 'любой': 654,\n",
       " 'тв': 655,\n",
       " 'данный': 656,\n",
       " 'память': 657,\n",
       " 'какие': 658,\n",
       " 'соответственно': 659,\n",
       " 'всё': 660,\n",
       " 'часто': 661,\n",
       " 'издание': 662,\n",
       " 'трафика': 663,\n",
       " 'создать': 664,\n",
       " 'официальном': 665,\n",
       " 'системе': 666,\n",
       " 'сотрудники': 667,\n",
       " 'первую': 668,\n",
       " 'объясняет': 669,\n",
       " 'z': 670,\n",
       " 'заявила': 671,\n",
       " 'продаже': 672,\n",
       " 'создания': 673,\n",
       " 'счет': 674,\n",
       " 'период': 675,\n",
       " 'могли': 676,\n",
       " 'mate': 677,\n",
       " 'купить': 678,\n",
       " 'камеру': 679,\n",
       " 'такого': 680,\n",
       " 'новости': 681,\n",
       " 'названием': 682,\n",
       " 'используется': 683,\n",
       " 'быстро': 684,\n",
       " 'виде': 685,\n",
       " 'всей': 686,\n",
       " 'tiktok': 687,\n",
       " 'считают': 688,\n",
       " 'евро': 689,\n",
       " 'пальцев': 690,\n",
       " 'мессенджера': 691,\n",
       " 'e': 692,\n",
       " 'защиты': 693,\n",
       " 'первого': 694,\n",
       " 'дмитрий': 695,\n",
       " 'сайта': 696,\n",
       " 'составит': 697,\n",
       " 'позже': 698,\n",
       " 'крупных': 699,\n",
       " 'пять': 700,\n",
       " 'топ': 701,\n",
       " 'публикации': 702,\n",
       " 'организации': 703,\n",
       " 'v': 704,\n",
       " 'раньше': 705,\n",
       " 'давно': 706,\n",
       " 'минкомсвязи': 707,\n",
       " 'нельзя': 708,\n",
       " 'рассказывает': 709,\n",
       " 'mac': 710,\n",
       " 'nfc': 711,\n",
       " 'телефон': 712,\n",
       " 'сфере': 713,\n",
       " 'проблема': 714,\n",
       " 'продажу': 715,\n",
       " 'москвы': 716,\n",
       " 'источники': 717,\n",
       " 'марте': 718,\n",
       " 'телефона': 719,\n",
       " 'ситуации': 720,\n",
       " 'сергей': 721,\n",
       " 'линейки': 722,\n",
       " 'большинство': 723,\n",
       " 'отпечатков': 724,\n",
       " 'релиз': 725,\n",
       " 'сообщений': 726,\n",
       " 'начали': 727,\n",
       " 'трамп': 728,\n",
       " 'наушники': 729,\n",
       " 'дюймовый': 730,\n",
       " 'подтвердил': 731,\n",
       " 'такое': 732,\n",
       " 'поддерживает': 733,\n",
       " 'службы': 734,\n",
       " 'слишком': 735,\n",
       " 'батарея': 736,\n",
       " 'спустя': 737,\n",
       " 'роскомнадзора': 738,\n",
       " 'корпуса': 739,\n",
       " 'd': 740,\n",
       " 'якобы': 741,\n",
       " 'китая': 742,\n",
       " 'персональных': 743,\n",
       " 'обеспечения': 744,\n",
       " 'дисплея': 745,\n",
       " 'пользоваться': 746,\n",
       " 'про': 747,\n",
       " 'сообщили': 748,\n",
       " 'фотографии': 749,\n",
       " 'ростелекома': 750,\n",
       " 'производителей': 751,\n",
       " 'to': 752,\n",
       " 'презентация': 753,\n",
       " 'свое': 754,\n",
       " 'бренда': 755,\n",
       " 'отношении': 756,\n",
       " 'мегафон': 757,\n",
       " 'оборудования': 758,\n",
       " 'лучше': 759,\n",
       " 'производство': 760,\n",
       " 'права': 761,\n",
       " 'гц': 762,\n",
       " 'сообщила': 763,\n",
       " 'дня': 764,\n",
       " 'конца': 765,\n",
       " 'должно': 766,\n",
       " 'первых': 767,\n",
       " 'газета': 768,\n",
       " 'передачи': 769,\n",
       " 'прежде': 770,\n",
       " 'фильма': 771,\n",
       " 'технические': 772,\n",
       " 'заявили': 773,\n",
       " 'аккумулятор': 774,\n",
       " 'сайтов': 775,\n",
       " 'объявила': 776,\n",
       " 'развитие': 777,\n",
       " 'карт': 778,\n",
       " 'ничего': 779,\n",
       " 'мессенджер': 780,\n",
       " 'ходе': 781,\n",
       " 'фильм': 782,\n",
       " 'изображения': 783,\n",
       " 'производства': 784,\n",
       " 'производитель': 785,\n",
       " 'появился': 786,\n",
       " 'вконтакте': 787,\n",
       " 'ей': 788,\n",
       " 'дата': 789,\n",
       " 'меры': 790,\n",
       " 'средства': 791,\n",
       " 'такая': 792,\n",
       " 'сделки': 793,\n",
       " 'выхода': 794,\n",
       " 'российский': 795,\n",
       " 'генеральный': 796,\n",
       " 'особенно': 797,\n",
       " 'какой': 798,\n",
       " 'вымпелкома': 799,\n",
       " 'лиц': 800,\n",
       " 'комментариев': 801,\n",
       " 'корпус': 802,\n",
       " 'процесс': 803,\n",
       " 'уровень': 804,\n",
       " 'атаки': 805,\n",
       " 'американских': 806,\n",
       " 'соцсети': 807,\n",
       " 'силу': 808,\n",
       " 'граждан': 809,\n",
       " 'наиболее': 810,\n",
       " 'выпустила': 811,\n",
       " 'официально': 812,\n",
       " 'oppo': 813,\n",
       " 'здесь': 814,\n",
       " 'панели': 815,\n",
       " 'netflix': 816,\n",
       " 'мобильной': 817,\n",
       " 'уровне': 818,\n",
       " 'денег': 819,\n",
       " 'правительства': 820,\n",
       " 'директоров': 821,\n",
       " 'дуров': 822,\n",
       " 'одно': 823,\n",
       " 'название': 824,\n",
       " 'сентябре': 825,\n",
       " 'лица': 826,\n",
       " 'ситуация': 827,\n",
       " 'одном': 828,\n",
       " 'рассказали': 829,\n",
       " 'использует': 830,\n",
       " 'другими': 831,\n",
       " 'конечно': 832,\n",
       " 'блокировки': 833,\n",
       " 'создание': 834,\n",
       " 'впрочем': 835,\n",
       " 'совета': 836,\n",
       " 'интервью': 837,\n",
       " 'bloomberg': 838,\n",
       " 'новинки': 839,\n",
       " 'раза': 840,\n",
       " 'meizu': 841,\n",
       " 'используют': 842,\n",
       " 'автоматически': 843,\n",
       " 'первым': 844,\n",
       " 'покупки': 845,\n",
       " 'информационной': 846,\n",
       " 'аналитики': 847,\n",
       " 'цукерберг': 848,\n",
       " 'точки': 849,\n",
       " 'новинка': 850,\n",
       " 'самый': 851,\n",
       " 'разработки': 852,\n",
       " 'реальности': 853,\n",
       " 'gps': 854,\n",
       " 'слова': 855,\n",
       " 'государства': 856,\n",
       " 'приложении': 857,\n",
       " 'итоге': 858,\n",
       " 'стоимости': 859,\n",
       " 'hd': 860,\n",
       " 'ведь': 861,\n",
       " 'самой': 862,\n",
       " 'проблем': 863,\n",
       " 'служба': 864,\n",
       " 'моделей': 865,\n",
       " 'вопросы': 866,\n",
       " 'дюйма': 867,\n",
       " 'результаты': 868,\n",
       " 'выше': 869,\n",
       " 'аудитории': 870,\n",
       " 'цифровой': 871,\n",
       " 'мне': 872,\n",
       " 'дюймов': 873,\n",
       " 'весь': 874,\n",
       " 'апреле': 875,\n",
       " 'роста': 876,\n",
       " 'мае': 877,\n",
       " 'коронавируса': 878,\n",
       " 'сильно': 879,\n",
       " 'недавно': 880,\n",
       " 'банка': 881,\n",
       " 'разрешение': 882,\n",
       " 'хакеры': 883,\n",
       " 'распространения': 884,\n",
       " 'главный': 885,\n",
       " 'сами': 886,\n",
       " 'корпорации': 887,\n",
       " 'требования': 888,\n",
       " 'руководство': 889,\n",
       " 'продолжает': 890,\n",
       " 'ip': 891,\n",
       " 'условиях': 892,\n",
       " 'зрения': 893,\n",
       " 'октябре': 894,\n",
       " 'выйдет': 895,\n",
       " 'пришлось': 896,\n",
       " 'срок': 897,\n",
       " 'запуска': 898,\n",
       " 'неделе': 899,\n",
       " 'остается': 900,\n",
       " 'габариты': 901,\n",
       " 'текущего': 902,\n",
       " 'долю': 903,\n",
       " 'популярных': 904,\n",
       " 'никаких': 905,\n",
       " 'сумму': 906,\n",
       " 'месте': 907,\n",
       " 'участие': 908,\n",
       " 'продукты': 909,\n",
       " 'мир': 910,\n",
       " 'новым': 911,\n",
       " 'издания': 912,\n",
       " 'нем': 913,\n",
       " 'составила': 914,\n",
       " 'new': 915,\n",
       " 'конференции': 916,\n",
       " 'отказался': 917,\n",
       " 'подобные': 918,\n",
       " 'зависимости': 919,\n",
       " 'первом': 920,\n",
       " 'series': 921,\n",
       " 'ядерный': 922,\n",
       " 'основатель': 923,\n",
       " 'пзу': 924,\n",
       " 'постоянно': 925,\n",
       " 'проектов': 926,\n",
       " 'суда': 927,\n",
       " 'происходит': 928,\n",
       " 'сканер': 929,\n",
       " 'довольно': 930,\n",
       " 'приходится': 931,\n",
       " 'выручки': 932,\n",
       " 'центр': 933,\n",
       " 'газеты': 934,\n",
       " 'одновременно': 935,\n",
       " 'times': 936,\n",
       " 'фильмов': 937,\n",
       " 'бета': 938,\n",
       " 'установить': 939,\n",
       " 'работа': 940,\n",
       " 'core': 941,\n",
       " 'вероятно': 942,\n",
       " 'сих': 943,\n",
       " 'никогда': 944,\n",
       " 'экраном': 945,\n",
       " 'европе': 946,\n",
       " 'сотрудник': 947,\n",
       " 'записи': 948,\n",
       " 'законопроект': 949,\n",
       " 'гораздо': 950,\n",
       " 'существует': 951,\n",
       " 'странице': 952,\n",
       " 'уверен': 953,\n",
       " 'самого': 954,\n",
       " 'изначально': 955,\n",
       " 'vr': 956,\n",
       " 'фонда': 957,\n",
       " 'пользуются': 958,\n",
       " 'фонд': 959,\n",
       " 'маска': 960,\n",
       " 'частотой': 961,\n",
       " 'июне': 962,\n",
       " 'декабре': 963,\n",
       " 'инвесторов': 964,\n",
       " 'чаще': 965,\n",
       " 'функцию': 966,\n",
       " 'модуль': 967,\n",
       " 'гаджетов': 968,\n",
       " 'великобритании': 969,\n",
       " 'получать': 970,\n",
       " 'качество': 971,\n",
       " 'директора': 972,\n",
       " 'lenovo': 973,\n",
       " 'необходимости': 974,\n",
       " 'свыше': 975,\n",
       " 'целью': 976,\n",
       " 'назвал': 977,\n",
       " 'факт': 978,\n",
       " 'самом': 979,\n",
       " 'участников': 980,\n",
       " 'зарядка': 981,\n",
       " 'covid': 982,\n",
       " 'первое': 983,\n",
       " 'правила': 984,\n",
       " 'придется': 985,\n",
       " 'портал': 986,\n",
       " 'хочет': 987,\n",
       " 'отличие': 988,\n",
       " 'оказалось': 989,\n",
       " 'камерой': 990,\n",
       " 'тут': 991,\n",
       " 'новое': 992,\n",
       " 'наши': 993,\n",
       " 'официальный': 994,\n",
       " 'первая': 995,\n",
       " 'игру': 996,\n",
       " 'месяца': 997,\n",
       " 'деятельности': 998,\n",
       " 'вас': 999,\n",
       " 'недели': 1000,\n",
       " ...}"
      ]
     },
     "execution_count": 23,
     "metadata": {},
     "output_type": "execute_result"
    }
   ],
   "source": [
    "tokenizer = Tokenizer(filters='!\"#$%&()*+,-./:;<=>?@[\\\\]^_`{|}~\\t\\n—–1234567890«»→',\n",
    "                     num_words=num_words)\n",
    "\n",
    "tokenizer.fit_on_texts(news_train)\n",
    "tokenizer.word_index"
   ]
  },
  {
   "cell_type": "markdown",
   "id": "e5cac32d",
   "metadata": {},
   "source": [
    "Всего новостей"
   ]
  },
  {
   "cell_type": "code",
   "execution_count": 24,
   "id": "8c73480f",
   "metadata": {},
   "outputs": [
    {
     "data": {
      "text/plain": [
       "13770"
      ]
     },
     "execution_count": 24,
     "metadata": {},
     "output_type": "execute_result"
    }
   ],
   "source": [
    "tokenizer.document_count"
   ]
  },
  {
   "cell_type": "markdown",
   "id": "f8788f49",
   "metadata": {},
   "source": [
    "Выделяем правильные ответы"
   ]
  },
  {
   "cell_type": "code",
   "execution_count": 25,
   "id": "2089f279",
   "metadata": {},
   "outputs": [
    {
     "data": {
      "text/plain": [
       "array([0., 1., 1., ..., 1., 1., 0.])"
      ]
     },
     "execution_count": 25,
     "metadata": {},
     "output_type": "execute_result"
    }
   ],
   "source": [
    "y_train"
   ]
  },
  {
   "cell_type": "code",
   "execution_count": 26,
   "id": "2dba1653",
   "metadata": {},
   "outputs": [
    {
     "data": {
      "text/plain": [
       "array([[1., 0., 0.],\n",
       "       [0., 1., 0.],\n",
       "       [0., 1., 0.],\n",
       "       ...,\n",
       "       [0., 1., 0.],\n",
       "       [0., 1., 0.],\n",
       "       [1., 0., 0.]], dtype=float32)"
      ]
     },
     "execution_count": 26,
     "metadata": {},
     "output_type": "execute_result"
    }
   ],
   "source": [
    "utils.to_categorical(y_train, 3)"
   ]
  },
  {
   "cell_type": "code",
   "execution_count": 27,
   "id": "bd3b56d0",
   "metadata": {},
   "outputs": [
    {
     "data": {
      "text/plain": [
       "array([[1., 0., 0.],\n",
       "       [0., 1., 0.],\n",
       "       [0., 1., 0.],\n",
       "       ...,\n",
       "       [0., 1., 0.],\n",
       "       [0., 1., 0.],\n",
       "       [1., 0., 0.]], dtype=float32)"
      ]
     },
     "execution_count": 27,
     "metadata": {},
     "output_type": "execute_result"
    }
   ],
   "source": [
    "y_train = utils.to_categorical(y_train, 3)\n",
    "y_train"
   ]
  },
  {
   "cell_type": "code",
   "execution_count": 28,
   "id": "a5b06fb4",
   "metadata": {},
   "outputs": [
    {
     "data": {
      "text/plain": [
       "array([[1., 0., 0.],\n",
       "       [0., 1., 0.],\n",
       "       [0., 1., 0.],\n",
       "       ...,\n",
       "       [1., 0., 0.],\n",
       "       [1., 0., 0.],\n",
       "       [0., 1., 0.]], dtype=float32)"
      ]
     },
     "execution_count": 28,
     "metadata": {},
     "output_type": "execute_result"
    }
   ],
   "source": [
    "y_test = utils.to_categorical(y_test, 3)\n",
    "y_test"
   ]
  },
  {
   "cell_type": "code",
   "execution_count": 29,
   "id": "940b6372",
   "metadata": {},
   "outputs": [
    {
     "data": {
      "text/plain": [
       "(13770, 3)"
      ]
     },
     "execution_count": 29,
     "metadata": {},
     "output_type": "execute_result"
    }
   ],
   "source": [
    "y_train.shape"
   ]
  },
  {
   "cell_type": "markdown",
   "id": "355b1dd4",
   "metadata": {},
   "source": [
    "Преобразуем новости в числовое представление"
   ]
  },
  {
   "cell_type": "code",
   "execution_count": 30,
   "id": "ca0bf5c3",
   "metadata": {},
   "outputs": [],
   "source": [
    "sequences = tokenizer.texts_to_sequences(news_train)"
   ]
  },
  {
   "cell_type": "code",
   "execution_count": 31,
   "id": "24c97e64",
   "metadata": {},
   "outputs": [],
   "source": [
    "sequences_test = tokenizer.texts_to_sequences(news_test)"
   ]
  },
  {
   "cell_type": "code",
   "execution_count": 32,
   "id": "7d8e7191",
   "metadata": {},
   "outputs": [],
   "source": [
    "sequences_pred = tokenizer.texts_to_sequences(news_pred)"
   ]
  },
  {
   "cell_type": "code",
   "execution_count": 33,
   "id": "ddaddd24",
   "metadata": {},
   "outputs": [
    {
     "name": "stdout",
     "output_type": "stream",
     "text": [
      " Социальная сеть Facebook призналась в передаче сторонним приложениям персональных данных пользователей Facebook и Instagram, которые не заходили в соцсети более 90 дней. Уточняется, что несколько тысяч приложений получили доступ к данным пользователей. В 2018 году Facebook ввела новые правила — приложения, в которых пользователь авторизовался через Facebook или Instagram, не должны получать информацию об аккаунте, если его перестали использовать в течение 90 дней. В Facebook обнаружили, что некоторые приложения продолжали собирать информацию о пользователях, даже если те не заходили в аккаунт более 90 дней. Как долго продолжалась передача данных и какое количество пользователей затронула эта проблема, в компании не уточнили. Также в Facebook не назвали, какие конкретно данные передавались на сторону, но отметили, что пользователи ранее сами разрешили приложениям доступ к этой информации. По словам представителей социальной сети, на данный момент проблема устранена. \n",
      "\n",
      "[1193, 258, 74, 1, 4358, 8375, 4434, 743, 85, 57, 74, 2, 361, 33, 6, 1, 807, 45, 508, 3633, 5, 106, 572, 194, 587, 159, 11, 144, 57, 1, 47, 74, 147, 984, 149, 1, 141, 316, 105, 74, 29, 361, 6, 235, 970, 206, 70, 1991, 49, 24, 8674, 247, 1, 322, 508, 1, 74, 1973, 5, 238, 149, 2888, 206, 13, 3803, 107, 49, 520, 6, 1, 1057, 45, 508, 14, 2657, 4732, 85, 2, 2542, 186, 57, 9725, 264, 714, 1, 19, 6, 6205, 18, 1, 74, 6, 2693, 658, 7575, 116, 3, 1854, 17, 1074, 5, 134, 88, 886, 4434, 159, 11, 146, 124, 7, 92, 1678, 394, 78, 3, 656, 183, 714]\n"
     ]
    }
   ],
   "source": [
    "index = 1\n",
    "print(news_train[index], sequences[index], sep='\\n\\n')"
   ]
  },
  {
   "cell_type": "code",
   "execution_count": 34,
   "id": "8e5044f9",
   "metadata": {},
   "outputs": [
    {
     "data": {
      "text/plain": [
       "258"
      ]
     },
     "execution_count": 34,
     "metadata": {},
     "output_type": "execute_result"
    }
   ],
   "source": [
    "tokenizer.word_index['сеть']"
   ]
  },
  {
   "cell_type": "markdown",
   "id": "d82d503e",
   "metadata": {},
   "source": [
    "Ограничиваем длину отзывов"
   ]
  },
  {
   "cell_type": "code",
   "execution_count": 35,
   "id": "3afa144d",
   "metadata": {},
   "outputs": [
    {
     "data": {
      "text/plain": [
       "(13770, 30)"
      ]
     },
     "execution_count": 35,
     "metadata": {},
     "output_type": "execute_result"
    }
   ],
   "source": [
    "x_train = pad_sequences(sequences, maxlen=max_news_len)\n",
    "x_train.shape"
   ]
  },
  {
   "cell_type": "code",
   "execution_count": 36,
   "id": "acacaf56",
   "metadata": {},
   "outputs": [],
   "source": [
    "x_test = pad_sequences(sequences_test, maxlen=max_news_len)"
   ]
  },
  {
   "cell_type": "code",
   "execution_count": 37,
   "id": "4ae2c03d",
   "metadata": {},
   "outputs": [],
   "source": [
    "x_pred = pad_sequences(sequences_pred, maxlen=max_news_len)"
   ]
  },
  {
   "cell_type": "code",
   "execution_count": 38,
   "id": "09dea5d3",
   "metadata": {},
   "outputs": [
    {
     "data": {
      "text/plain": [
       "array([  18,    1,   74,    6, 2693,  658, 7575,  116,    3, 1854,   17,\n",
       "       1074,    5,  134,   88,  886, 4434,  159,   11,  146,  124,    7,\n",
       "         92, 1678,  394,   78,    3,  656,  183,  714])"
      ]
     },
     "execution_count": 38,
     "metadata": {},
     "output_type": "execute_result"
    }
   ],
   "source": [
    "x_train[1]"
   ]
  },
  {
   "cell_type": "markdown",
   "id": "15ff0a55",
   "metadata": {},
   "source": [
    "## 3.2 Обучение моделей"
   ]
  },
  {
   "cell_type": "markdown",
   "id": "8c443560",
   "metadata": {},
   "source": [
    "## Полносвязная сеть (самая обычная)"
   ]
  },
  {
   "cell_type": "code",
   "execution_count": 39,
   "id": "13e3e4c5",
   "metadata": {},
   "outputs": [],
   "source": [
    "model = Sequential()\n",
    "model.add(Dense(10, input_dim=max_news_len, activation='relu'))\n",
    "model.add(Dense(3, activation='softmax'))"
   ]
  },
  {
   "cell_type": "code",
   "execution_count": 40,
   "id": "50c07b17",
   "metadata": {},
   "outputs": [],
   "source": [
    "model.compile(optimizer='adam', \n",
    "              loss='categorical_crossentropy', \n",
    "              metrics=['accuracy'])"
   ]
  },
  {
   "cell_type": "code",
   "execution_count": 41,
   "id": "ad09f1b4",
   "metadata": {},
   "outputs": [
    {
     "name": "stdout",
     "output_type": "stream",
     "text": [
      "Model: \"sequential\"\n",
      "_________________________________________________________________\n",
      "Layer (type)                 Output Shape              Param #   \n",
      "=================================================================\n",
      "dense (Dense)                (None, 10)                310       \n",
      "_________________________________________________________________\n",
      "dense_1 (Dense)              (None, 3)                 33        \n",
      "=================================================================\n",
      "Total params: 343\n",
      "Trainable params: 343\n",
      "Non-trainable params: 0\n",
      "_________________________________________________________________\n"
     ]
    }
   ],
   "source": [
    "model.summary()"
   ]
  },
  {
   "cell_type": "code",
   "execution_count": 42,
   "id": "e574a0c8",
   "metadata": {},
   "outputs": [
    {
     "name": "stdout",
     "output_type": "stream",
     "text": [
      "Epoch 1/15\n",
      "414/414 [==============================] - 2s 4ms/step - loss: 373.0970 - accuracy: 0.4951 - val_loss: 70.0626 - val_accuracy: 0.5940\n",
      "Epoch 2/15\n",
      "414/414 [==============================] - 1s 2ms/step - loss: 27.1807 - accuracy: 0.6153 - val_loss: 16.0730 - val_accuracy: 0.6122\n",
      "Epoch 3/15\n",
      "414/414 [==============================] - 1s 2ms/step - loss: 6.7637 - accuracy: 0.6301 - val_loss: 8.1660 - val_accuracy: 0.6137\n",
      "Epoch 4/15\n",
      "414/414 [==============================] - 1s 2ms/step - loss: 3.0736 - accuracy: 0.6321 - val_loss: 5.4462 - val_accuracy: 0.6173\n",
      "Epoch 5/15\n",
      "414/414 [==============================] - 1s 2ms/step - loss: 1.8395 - accuracy: 0.6339 - val_loss: 3.9684 - val_accuracy: 0.6173\n",
      "Epoch 6/15\n",
      "414/414 [==============================] - 1s 2ms/step - loss: 1.3437 - accuracy: 0.6347 - val_loss: 3.2832 - val_accuracy: 0.6144\n",
      "Epoch 7/15\n",
      "414/414 [==============================] - 1s 2ms/step - loss: 1.1388 - accuracy: 0.6344 - val_loss: 2.8352 - val_accuracy: 0.6180\n",
      "Epoch 8/15\n",
      "414/414 [==============================] - 1s 2ms/step - loss: 1.0154 - accuracy: 0.6351 - val_loss: 2.5411 - val_accuracy: 0.6158\n",
      "Epoch 9/15\n",
      "414/414 [==============================] - 1s 2ms/step - loss: 0.9554 - accuracy: 0.6355 - val_loss: 2.2607 - val_accuracy: 0.6187\n",
      "Epoch 10/15\n",
      "414/414 [==============================] - 1s 2ms/step - loss: 0.9387 - accuracy: 0.6353 - val_loss: 2.1740 - val_accuracy: 0.6166\n",
      "Epoch 11/15\n",
      "414/414 [==============================] - 1s 2ms/step - loss: 0.9289 - accuracy: 0.6355 - val_loss: 2.1943 - val_accuracy: 0.6166\n",
      "Epoch 12/15\n",
      "414/414 [==============================] - 1s 2ms/step - loss: 0.9264 - accuracy: 0.6353 - val_loss: 2.0863 - val_accuracy: 0.6137\n",
      "Epoch 13/15\n",
      "414/414 [==============================] - 1s 2ms/step - loss: 0.9182 - accuracy: 0.6354 - val_loss: 2.0387 - val_accuracy: 0.6187\n",
      "Epoch 14/15\n",
      "414/414 [==============================] - 1s 2ms/step - loss: 0.9159 - accuracy: 0.6350 - val_loss: 1.9838 - val_accuracy: 0.6187\n",
      "Epoch 15/15\n",
      "414/414 [==============================] - 1s 2ms/step - loss: 0.9151 - accuracy: 0.6353 - val_loss: 1.9133 - val_accuracy: 0.6173\n"
     ]
    }
   ],
   "source": [
    "history = model.fit(x_train, \n",
    "                            y_train, \n",
    "                            epochs=15,\n",
    "                            batch_size=30,\n",
    "                            validation_split=0.1\n",
    "                            )"
   ]
  },
  {
   "cell_type": "code",
   "execution_count": 43,
   "id": "467171f9",
   "metadata": {},
   "outputs": [
    {
     "data": {
      "image/png": "[encoded data removed]",
      "text/plain": [
       "<Figure size 432x288 with 1 Axes>"
      ]
     },
     "metadata": {
      "needs_background": "light"
     },
     "output_type": "display_data"
    }
   ],
   "source": [
    "plt.plot(history.history['accuracy'], \n",
    "         label='Доля верных ответов на обучающем наборе')\n",
    "plt.plot(history.history['val_accuracy'], \n",
    "         label='Доля верных ответов на проверочном наборе')\n",
    "plt.xlabel('Эпоха обучения')\n",
    "plt.ylabel('Доля верных ответов')\n",
    "plt.legend()\n",
    "plt.show()"
   ]
  },
  {
   "cell_type": "markdown",
   "id": "333d7557",
   "metadata": {},
   "source": [
    "## Embedding (Вложения слов)"
   ]
  },
  {
   "cell_type": "markdown",
   "id": "5d6ac945",
   "metadata": {},
   "source": [
    "https://www.tensorflow.org/text/guide/word_embeddings?hl=ru"
   ]
  },
  {
   "cell_type": "code",
   "execution_count": 44,
   "id": "e647164e",
   "metadata": {},
   "outputs": [
    {
     "name": "stdout",
     "output_type": "stream",
     "text": [
      "Model: \"sequential_1\"\n",
      "_________________________________________________________________\n",
      "Layer (type)                 Output Shape              Param #   \n",
      "=================================================================\n",
      "embedding (Embedding)        (None, 30, 50)            500000    \n",
      "_________________________________________________________________\n",
      "flatten (Flatten)            (None, 1500)              0         \n",
      "_________________________________________________________________\n",
      "dense_2 (Dense)              (None, 10)                15010     \n",
      "_________________________________________________________________\n",
      "dense_3 (Dense)              (None, 3)                 33        \n",
      "=================================================================\n",
      "Total params: 515,043\n",
      "Trainable params: 515,043\n",
      "Non-trainable params: 0\n",
      "_________________________________________________________________\n"
     ]
    }
   ],
   "source": [
    "embedding_dim = 50\n",
    "\n",
    "model_emb = Sequential()\n",
    "model_emb.add(Embedding(input_dim=num_words, \n",
    "                           output_dim=embedding_dim, \n",
    "                           input_length=max_news_len))\n",
    "model_emb.add(Flatten())\n",
    "model_emb.add(Dense(10, activation='relu'))\n",
    "model_emb.add(Dense(3, activation='softmax'))\n",
    "model_emb.compile(optimizer='adam',\n",
    "              loss='binary_crossentropy',\n",
    "              metrics=['accuracy'])\n",
    "model_emb.summary()"
   ]
  },
  {
   "cell_type": "code",
   "execution_count": 45,
   "id": "22f8f26f",
   "metadata": {},
   "outputs": [
    {
     "name": "stdout",
     "output_type": "stream",
     "text": [
      "Epoch 1/5\n",
      "1240/1240 [==============================] - 17s 14ms/step - loss: 0.2988 - accuracy: 0.7919 - val_loss: 0.2177 - val_accuracy: 0.8584\n",
      "Epoch 2/5\n",
      "1240/1240 [==============================] - 17s 13ms/step - loss: 0.0697 - accuracy: 0.9635 - val_loss: 0.2427 - val_accuracy: 0.8548\n",
      "Epoch 3/5\n",
      "1240/1240 [==============================] - 17s 14ms/step - loss: 0.0069 - accuracy: 0.9973 - val_loss: 0.2854 - val_accuracy: 0.8519\n",
      "Epoch 4/5\n",
      "1240/1240 [==============================] - 17s 14ms/step - loss: 7.9328e-04 - accuracy: 0.9999 - val_loss: 0.3169 - val_accuracy: 0.8627\n",
      "Epoch 5/5\n",
      "1240/1240 [==============================] - 18s 14ms/step - loss: 2.4768e-04 - accuracy: 1.0000 - val_loss: 0.3336 - val_accuracy: 0.8627\n"
     ]
    }
   ],
   "source": [
    "history_emb = model_emb.fit(x_train, \n",
    "                            y_train, \n",
    "                            epochs=5,\n",
    "                            batch_size=10,\n",
    "                            validation_split=0.1\n",
    "                            )"
   ]
  },
  {
   "cell_type": "code",
   "execution_count": 46,
   "id": "9b022e22",
   "metadata": {},
   "outputs": [
    {
     "data": {
      "image/png": "[encoded data removed]",
      "text/plain": [
       "<Figure size 432x288 with 1 Axes>"
      ]
     },
     "metadata": {
      "needs_background": "light"
     },
     "output_type": "display_data"
    }
   ],
   "source": [
    "plt.plot(history_emb.history['accuracy'], \n",
    "         label='Доля верных ответов на обучающем наборе')\n",
    "plt.plot(history_emb.history['val_accuracy'], \n",
    "         label='Доля верных ответов на проверочном наборе')\n",
    "plt.xlabel('Эпоха обучения')\n",
    "plt.ylabel('Доля верных ответов')\n",
    "plt.legend()\n",
    "plt.show()"
   ]
  },
  {
   "cell_type": "markdown",
   "id": "8367dcfc",
   "metadata": {},
   "source": [
    "Оценка точности модели на тестовых данных"
   ]
  },
  {
   "cell_type": "code",
   "execution_count": 47,
   "id": "36804cef",
   "metadata": {},
   "outputs": [
    {
     "name": "stdout",
     "output_type": "stream",
     "text": [
      "144/144 [==============================] - 0s 2ms/step - loss: 0.2949 - accuracy: 0.8745\n"
     ]
    },
    {
     "data": {
      "text/plain": [
       "[0.2949009835720062, 0.8745098114013672]"
      ]
     },
     "execution_count": 47,
     "metadata": {},
     "output_type": "execute_result"
    }
   ],
   "source": [
    "model_emb.evaluate(x_test, y_test, verbose=1)"
   ]
  },
  {
   "cell_type": "markdown",
   "id": "ced9a0b0",
   "metadata": {},
   "source": [
    "Предсказание"
   ]
  },
  {
   "cell_type": "code",
   "execution_count": 48,
   "id": "59412cd3",
   "metadata": {},
   "outputs": [
    {
     "data": {
      "text/plain": [
       "array([0, 1, 1, ..., 1, 0, 1], dtype=int64)"
      ]
     },
     "execution_count": 48,
     "metadata": {},
     "output_type": "execute_result"
    }
   ],
   "source": [
    "model_emb_res = model_emb.predict(x_pred).argmax(axis=1)\n",
    "model_emb_res"
   ]
  },
  {
   "cell_type": "code",
   "execution_count": 49,
   "id": "2b16aa72",
   "metadata": {},
   "outputs": [],
   "source": [
    "np.savetxt('news_res_model_emb.csv', model_emb_res, fmt='%d')"
   ]
  },
  {
   "cell_type": "markdown",
   "id": "fd4bfe54",
   "metadata": {},
   "source": [
    "## Сверточная НС"
   ]
  },
  {
   "cell_type": "code",
   "execution_count": 50,
   "id": "c70a7f48",
   "metadata": {},
   "outputs": [],
   "source": [
    "model_cnn = Sequential()\n",
    "model_cnn.add(Embedding(num_words, 32, input_length=max_news_len))\n",
    "model_cnn.add(Conv1D(250, 5, padding='valid', activation='relu'))\n",
    "model_cnn.add(GlobalMaxPooling1D())\n",
    "model_cnn.add(Dense(128, activation='relu'))\n",
    "model_cnn.add(Dense(3, activation='softmax'))"
   ]
  },
  {
   "cell_type": "code",
   "execution_count": 51,
   "id": "839a237f",
   "metadata": {},
   "outputs": [],
   "source": [
    "model_cnn.compile(optimizer='adam', \n",
    "              loss='categorical_crossentropy', \n",
    "              metrics=['accuracy'])"
   ]
  },
  {
   "cell_type": "code",
   "execution_count": 52,
   "id": "8cb4a535",
   "metadata": {},
   "outputs": [
    {
     "name": "stdout",
     "output_type": "stream",
     "text": [
      "Model: \"sequential_2\"\n",
      "_________________________________________________________________\n",
      "Layer (type)                 Output Shape              Param #   \n",
      "=================================================================\n",
      "embedding_1 (Embedding)      (None, 30, 32)            320000    \n",
      "_________________________________________________________________\n",
      "conv1d (Conv1D)              (None, 26, 250)           40250     \n",
      "_________________________________________________________________\n",
      "global_max_pooling1d (Global (None, 250)               0         \n",
      "_________________________________________________________________\n",
      "dense_4 (Dense)              (None, 128)               32128     \n",
      "_________________________________________________________________\n",
      "dense_5 (Dense)              (None, 3)                 387       \n",
      "=================================================================\n",
      "Total params: 392,765\n",
      "Trainable params: 392,765\n",
      "Non-trainable params: 0\n",
      "_________________________________________________________________\n"
     ]
    }
   ],
   "source": [
    "model_cnn.summary()"
   ]
  },
  {
   "cell_type": "code",
   "execution_count": 53,
   "id": "5cdb0cb4",
   "metadata": {},
   "outputs": [],
   "source": [
    "# model_cnn_save_path = 'best_model_cnn.h5'\n",
    "# checkpoint_callback_cnn = ModelCheckpoint(model_cnn_save_path, \n",
    "#                                       monitor='val_accuracy',\n",
    "#                                       save_best_only=True,\n",
    "#                                       verbose=1)"
   ]
  },
  {
   "cell_type": "code",
   "execution_count": 54,
   "id": "da3d6922",
   "metadata": {},
   "outputs": [
    {
     "name": "stdout",
     "output_type": "stream",
     "text": [
      "Epoch 1/5\n",
      "1240/1240 [==============================] - 17s 14ms/step - loss: 0.5172 - accuracy: 0.7769 - val_loss: 0.4103 - val_accuracy: 0.8359\n",
      "Epoch 2/5\n",
      "1240/1240 [==============================] - 15s 12ms/step - loss: 0.2063 - accuracy: 0.9258 - val_loss: 0.4211 - val_accuracy: 0.8526\n",
      "Epoch 3/5\n",
      "1240/1240 [==============================] - 15s 12ms/step - loss: 0.0467 - accuracy: 0.9850 - val_loss: 0.6407 - val_accuracy: 0.8424\n",
      "Epoch 4/5\n",
      "1240/1240 [==============================] - 15s 12ms/step - loss: 0.0089 - accuracy: 0.9971 - val_loss: 0.9390 - val_accuracy: 0.8344\n",
      "Epoch 5/5\n",
      "1240/1240 [==============================] - 15s 12ms/step - loss: 0.0031 - accuracy: 0.9992 - val_loss: 0.9868 - val_accuracy: 0.8410\n"
     ]
    }
   ],
   "source": [
    "history_cnn = model_cnn.fit(x_train, \n",
    "                            y_train, \n",
    "                            epochs=5,\n",
    "                            batch_size=10,\n",
    "                            validation_split=0.1\n",
    "                            )"
   ]
  },
  {
   "cell_type": "code",
   "execution_count": 55,
   "id": "e765ce2d",
   "metadata": {},
   "outputs": [
    {
     "data": {
      "image/png": "[encoded data removed]",
      "text/plain": [
       "<Figure size 432x288 with 1 Axes>"
      ]
     },
     "metadata": {
      "needs_background": "light"
     },
     "output_type": "display_data"
    }
   ],
   "source": [
    "plt.plot(history_cnn.history['accuracy'], \n",
    "         label='Доля верных ответов на обучающем наборе')\n",
    "plt.plot(history_cnn.history['val_accuracy'], \n",
    "         label='Доля верных ответов на проверочном наборе')\n",
    "plt.xlabel('Эпоха обучения')\n",
    "plt.ylabel('Доля верных ответов')\n",
    "plt.legend()\n",
    "plt.show()"
   ]
  },
  {
   "cell_type": "markdown",
   "id": "b4495945",
   "metadata": {},
   "source": [
    "## Cеть LSTM"
   ]
  },
  {
   "cell_type": "markdown",
   "id": "ab8cf8d1",
   "metadata": {},
   "source": [
    "[Ошибка в сопоставивости numpy и tensorflov](https://stackoverflow.com/questions/66207609/notimplementederror-cannot-convert-a-symbolic-tensor-lstm-2-strided-slice0-t)"
   ]
  },
  {
   "cell_type": "code",
   "execution_count": 56,
   "id": "b8ba28cf",
   "metadata": {},
   "outputs": [
    {
     "ename": "NotImplementedError",
     "evalue": "Cannot convert a symbolic Tensor (lstm/strided_slice:0) to a numpy array. This error may indicate that you're trying to pass a Tensor to a NumPy call, which is not supported",
     "output_type": "error",
     "traceback": [
      "\u001b[1;31m---------------------------------------------------------------------------\u001b[0m",
      "\u001b[1;31mNotImplementedError\u001b[0m                       Traceback (most recent call last)",
      "\u001b[1;32m<ipython-input-56-5490eeea459a>\u001b[0m in \u001b[0;36m<module>\u001b[1;34m\u001b[0m\n\u001b[0;32m      1\u001b[0m \u001b[0mmodel_lstm\u001b[0m \u001b[1;33m=\u001b[0m \u001b[0mSequential\u001b[0m\u001b[1;33m(\u001b[0m\u001b[1;33m)\u001b[0m\u001b[1;33m\u001b[0m\u001b[1;33m\u001b[0m\u001b[0m\n\u001b[0;32m      2\u001b[0m \u001b[0mmodel_lstm\u001b[0m\u001b[1;33m.\u001b[0m\u001b[0madd\u001b[0m\u001b[1;33m(\u001b[0m\u001b[0mEmbedding\u001b[0m\u001b[1;33m(\u001b[0m\u001b[0mnum_words\u001b[0m\u001b[1;33m,\u001b[0m \u001b[1;36m32\u001b[0m\u001b[1;33m,\u001b[0m \u001b[0minput_length\u001b[0m\u001b[1;33m=\u001b[0m\u001b[0mmax_news_len\u001b[0m\u001b[1;33m)\u001b[0m\u001b[1;33m)\u001b[0m\u001b[1;33m\u001b[0m\u001b[1;33m\u001b[0m\u001b[0m\n\u001b[1;32m----> 3\u001b[1;33m \u001b[0mmodel_lstm\u001b[0m\u001b[1;33m.\u001b[0m\u001b[0madd\u001b[0m\u001b[1;33m(\u001b[0m\u001b[0mLSTM\u001b[0m\u001b[1;33m(\u001b[0m\u001b[1;36m8\u001b[0m\u001b[1;33m)\u001b[0m\u001b[1;33m)\u001b[0m\u001b[1;33m\u001b[0m\u001b[1;33m\u001b[0m\u001b[0m\n\u001b[0m\u001b[0;32m      4\u001b[0m \u001b[0mmodel_lstm\u001b[0m\u001b[1;33m.\u001b[0m\u001b[0madd\u001b[0m\u001b[1;33m(\u001b[0m\u001b[0mDense\u001b[0m\u001b[1;33m(\u001b[0m\u001b[1;36m3\u001b[0m\u001b[1;33m,\u001b[0m \u001b[0mactivation\u001b[0m\u001b[1;33m=\u001b[0m\u001b[1;34m'softmax'\u001b[0m\u001b[1;33m)\u001b[0m\u001b[1;33m)\u001b[0m\u001b[1;33m\u001b[0m\u001b[1;33m\u001b[0m\u001b[0m\n",
      "\u001b[1;32mC:\\Programs\\Anaconda\\anaconda3\\lib\\site-packages\\tensorflow\\python\\training\\tracking\\base.py\u001b[0m in \u001b[0;36m_method_wrapper\u001b[1;34m(self, *args, **kwargs)\u001b[0m\n\u001b[0;32m    455\u001b[0m     \u001b[0mself\u001b[0m\u001b[1;33m.\u001b[0m\u001b[0m_self_setattr_tracking\u001b[0m \u001b[1;33m=\u001b[0m \u001b[1;32mFalse\u001b[0m  \u001b[1;31m# pylint: disable=protected-access\u001b[0m\u001b[1;33m\u001b[0m\u001b[1;33m\u001b[0m\u001b[0m\n\u001b[0;32m    456\u001b[0m     \u001b[1;32mtry\u001b[0m\u001b[1;33m:\u001b[0m\u001b[1;33m\u001b[0m\u001b[1;33m\u001b[0m\u001b[0m\n\u001b[1;32m--> 457\u001b[1;33m       \u001b[0mresult\u001b[0m \u001b[1;33m=\u001b[0m \u001b[0mmethod\u001b[0m\u001b[1;33m(\u001b[0m\u001b[0mself\u001b[0m\u001b[1;33m,\u001b[0m \u001b[1;33m*\u001b[0m\u001b[0margs\u001b[0m\u001b[1;33m,\u001b[0m \u001b[1;33m**\u001b[0m\u001b[0mkwargs\u001b[0m\u001b[1;33m)\u001b[0m\u001b[1;33m\u001b[0m\u001b[1;33m\u001b[0m\u001b[0m\n\u001b[0m\u001b[0;32m    458\u001b[0m     \u001b[1;32mfinally\u001b[0m\u001b[1;33m:\u001b[0m\u001b[1;33m\u001b[0m\u001b[1;33m\u001b[0m\u001b[0m\n\u001b[0;32m    459\u001b[0m       \u001b[0mself\u001b[0m\u001b[1;33m.\u001b[0m\u001b[0m_self_setattr_tracking\u001b[0m \u001b[1;33m=\u001b[0m \u001b[0mprevious_value\u001b[0m  \u001b[1;31m# pylint: disable=protected-access\u001b[0m\u001b[1;33m\u001b[0m\u001b[1;33m\u001b[0m\u001b[0m\n",
      "\u001b[1;32mC:\\Programs\\Anaconda\\anaconda3\\lib\\site-packages\\tensorflow\\python\\keras\\engine\\sequential.py\u001b[0m in \u001b[0;36madd\u001b[1;34m(self, layer)\u001b[0m\n\u001b[0;32m    219\u001b[0m       \u001b[1;31m# If the model is being built continuously on top of an input layer:\u001b[0m\u001b[1;33m\u001b[0m\u001b[1;33m\u001b[0m\u001b[1;33m\u001b[0m\u001b[0m\n\u001b[0;32m    220\u001b[0m       \u001b[1;31m# refresh its output.\u001b[0m\u001b[1;33m\u001b[0m\u001b[1;33m\u001b[0m\u001b[1;33m\u001b[0m\u001b[0m\n\u001b[1;32m--> 221\u001b[1;33m       \u001b[0moutput_tensor\u001b[0m \u001b[1;33m=\u001b[0m \u001b[0mlayer\u001b[0m\u001b[1;33m(\u001b[0m\u001b[0mself\u001b[0m\u001b[1;33m.\u001b[0m\u001b[0moutputs\u001b[0m\u001b[1;33m[\u001b[0m\u001b[1;36m0\u001b[0m\u001b[1;33m]\u001b[0m\u001b[1;33m)\u001b[0m\u001b[1;33m\u001b[0m\u001b[1;33m\u001b[0m\u001b[0m\n\u001b[0m\u001b[0;32m    222\u001b[0m       \u001b[1;32mif\u001b[0m \u001b[0mlen\u001b[0m\u001b[1;33m(\u001b[0m\u001b[0mnest\u001b[0m\u001b[1;33m.\u001b[0m\u001b[0mflatten\u001b[0m\u001b[1;33m(\u001b[0m\u001b[0moutput_tensor\u001b[0m\u001b[1;33m)\u001b[0m\u001b[1;33m)\u001b[0m \u001b[1;33m!=\u001b[0m \u001b[1;36m1\u001b[0m\u001b[1;33m:\u001b[0m\u001b[1;33m\u001b[0m\u001b[1;33m\u001b[0m\u001b[0m\n\u001b[0;32m    223\u001b[0m         \u001b[1;32mraise\u001b[0m \u001b[0mValueError\u001b[0m\u001b[1;33m(\u001b[0m\u001b[0mSINGLE_LAYER_OUTPUT_ERROR_MSG\u001b[0m\u001b[1;33m)\u001b[0m\u001b[1;33m\u001b[0m\u001b[1;33m\u001b[0m\u001b[0m\n",
      "\u001b[1;32mC:\\Programs\\Anaconda\\anaconda3\\lib\\site-packages\\tensorflow\\python\\keras\\layers\\recurrent.py\u001b[0m in \u001b[0;36m__call__\u001b[1;34m(self, inputs, initial_state, constants, **kwargs)\u001b[0m\n\u001b[0;32m    661\u001b[0m \u001b[1;33m\u001b[0m\u001b[0m\n\u001b[0;32m    662\u001b[0m     \u001b[1;32mif\u001b[0m \u001b[0minitial_state\u001b[0m \u001b[1;32mis\u001b[0m \u001b[1;32mNone\u001b[0m \u001b[1;32mand\u001b[0m \u001b[0mconstants\u001b[0m \u001b[1;32mis\u001b[0m \u001b[1;32mNone\u001b[0m\u001b[1;33m:\u001b[0m\u001b[1;33m\u001b[0m\u001b[1;33m\u001b[0m\u001b[0m\n\u001b[1;32m--> 663\u001b[1;33m       \u001b[1;32mreturn\u001b[0m \u001b[0msuper\u001b[0m\u001b[1;33m(\u001b[0m\u001b[0mRNN\u001b[0m\u001b[1;33m,\u001b[0m \u001b[0mself\u001b[0m\u001b[1;33m)\u001b[0m\u001b[1;33m.\u001b[0m\u001b[0m__call__\u001b[0m\u001b[1;33m(\u001b[0m\u001b[0minputs\u001b[0m\u001b[1;33m,\u001b[0m \u001b[1;33m**\u001b[0m\u001b[0mkwargs\u001b[0m\u001b[1;33m)\u001b[0m\u001b[1;33m\u001b[0m\u001b[1;33m\u001b[0m\u001b[0m\n\u001b[0m\u001b[0;32m    664\u001b[0m \u001b[1;33m\u001b[0m\u001b[0m\n\u001b[0;32m    665\u001b[0m     \u001b[1;31m# If any of `initial_state` or `constants` are specified and are Keras\u001b[0m\u001b[1;33m\u001b[0m\u001b[1;33m\u001b[0m\u001b[1;33m\u001b[0m\u001b[0m\n",
      "\u001b[1;32mC:\\Programs\\Anaconda\\anaconda3\\lib\\site-packages\\tensorflow\\python\\keras\\engine\\base_layer.py\u001b[0m in \u001b[0;36m__call__\u001b[1;34m(self, *args, **kwargs)\u001b[0m\n\u001b[0;32m    924\u001b[0m     \u001b[1;32mif\u001b[0m \u001b[0m_in_functional_construction_mode\u001b[0m\u001b[1;33m(\u001b[0m\u001b[0mself\u001b[0m\u001b[1;33m,\u001b[0m \u001b[0minputs\u001b[0m\u001b[1;33m,\u001b[0m \u001b[0margs\u001b[0m\u001b[1;33m,\u001b[0m \u001b[0mkwargs\u001b[0m\u001b[1;33m,\u001b[0m \u001b[0minput_list\u001b[0m\u001b[1;33m)\u001b[0m\u001b[1;33m:\u001b[0m\u001b[1;33m\u001b[0m\u001b[1;33m\u001b[0m\u001b[0m\n\u001b[0;32m    925\u001b[0m       return self._functional_construction_call(inputs, args, kwargs,\n\u001b[1;32m--> 926\u001b[1;33m                                                 input_list)\n\u001b[0m\u001b[0;32m    927\u001b[0m \u001b[1;33m\u001b[0m\u001b[0m\n\u001b[0;32m    928\u001b[0m     \u001b[1;31m# Maintains info about the `Layer.call` stack.\u001b[0m\u001b[1;33m\u001b[0m\u001b[1;33m\u001b[0m\u001b[1;33m\u001b[0m\u001b[0m\n",
      "\u001b[1;32mC:\\Programs\\Anaconda\\anaconda3\\lib\\site-packages\\tensorflow\\python\\keras\\engine\\base_layer.py\u001b[0m in \u001b[0;36m_functional_construction_call\u001b[1;34m(self, inputs, args, kwargs, input_list)\u001b[0m\n\u001b[0;32m   1115\u001b[0m           \u001b[1;32mtry\u001b[0m\u001b[1;33m:\u001b[0m\u001b[1;33m\u001b[0m\u001b[1;33m\u001b[0m\u001b[0m\n\u001b[0;32m   1116\u001b[0m             \u001b[1;32mwith\u001b[0m \u001b[0mops\u001b[0m\u001b[1;33m.\u001b[0m\u001b[0menable_auto_cast_variables\u001b[0m\u001b[1;33m(\u001b[0m\u001b[0mself\u001b[0m\u001b[1;33m.\u001b[0m\u001b[0m_compute_dtype_object\u001b[0m\u001b[1;33m)\u001b[0m\u001b[1;33m:\u001b[0m\u001b[1;33m\u001b[0m\u001b[1;33m\u001b[0m\u001b[0m\n\u001b[1;32m-> 1117\u001b[1;33m               \u001b[0moutputs\u001b[0m \u001b[1;33m=\u001b[0m \u001b[0mcall_fn\u001b[0m\u001b[1;33m(\u001b[0m\u001b[0mcast_inputs\u001b[0m\u001b[1;33m,\u001b[0m \u001b[1;33m*\u001b[0m\u001b[0margs\u001b[0m\u001b[1;33m,\u001b[0m \u001b[1;33m**\u001b[0m\u001b[0mkwargs\u001b[0m\u001b[1;33m)\u001b[0m\u001b[1;33m\u001b[0m\u001b[1;33m\u001b[0m\u001b[0m\n\u001b[0m\u001b[0;32m   1118\u001b[0m \u001b[1;33m\u001b[0m\u001b[0m\n\u001b[0;32m   1119\u001b[0m           \u001b[1;32mexcept\u001b[0m \u001b[0merrors\u001b[0m\u001b[1;33m.\u001b[0m\u001b[0mOperatorNotAllowedInGraphError\u001b[0m \u001b[1;32mas\u001b[0m \u001b[0me\u001b[0m\u001b[1;33m:\u001b[0m\u001b[1;33m\u001b[0m\u001b[1;33m\u001b[0m\u001b[0m\n",
      "\u001b[1;32mC:\\Programs\\Anaconda\\anaconda3\\lib\\site-packages\\tensorflow\\python\\keras\\layers\\recurrent_v2.py\u001b[0m in \u001b[0;36mcall\u001b[1;34m(self, inputs, mask, training, initial_state)\u001b[0m\n\u001b[0;32m   1106\u001b[0m \u001b[1;33m\u001b[0m\u001b[0m\n\u001b[0;32m   1107\u001b[0m     \u001b[1;31m# LSTM does not support constants. Ignore it during process.\u001b[0m\u001b[1;33m\u001b[0m\u001b[1;33m\u001b[0m\u001b[1;33m\u001b[0m\u001b[0m\n\u001b[1;32m-> 1108\u001b[1;33m     \u001b[0minputs\u001b[0m\u001b[1;33m,\u001b[0m \u001b[0minitial_state\u001b[0m\u001b[1;33m,\u001b[0m \u001b[0m_\u001b[0m \u001b[1;33m=\u001b[0m \u001b[0mself\u001b[0m\u001b[1;33m.\u001b[0m\u001b[0m_process_inputs\u001b[0m\u001b[1;33m(\u001b[0m\u001b[0minputs\u001b[0m\u001b[1;33m,\u001b[0m \u001b[0minitial_state\u001b[0m\u001b[1;33m,\u001b[0m \u001b[1;32mNone\u001b[0m\u001b[1;33m)\u001b[0m\u001b[1;33m\u001b[0m\u001b[1;33m\u001b[0m\u001b[0m\n\u001b[0m\u001b[0;32m   1109\u001b[0m \u001b[1;33m\u001b[0m\u001b[0m\n\u001b[0;32m   1110\u001b[0m     \u001b[1;32mif\u001b[0m \u001b[0misinstance\u001b[0m\u001b[1;33m(\u001b[0m\u001b[0mmask\u001b[0m\u001b[1;33m,\u001b[0m \u001b[0mlist\u001b[0m\u001b[1;33m)\u001b[0m\u001b[1;33m:\u001b[0m\u001b[1;33m\u001b[0m\u001b[1;33m\u001b[0m\u001b[0m\n",
      "\u001b[1;32mC:\\Programs\\Anaconda\\anaconda3\\lib\\site-packages\\tensorflow\\python\\keras\\layers\\recurrent.py\u001b[0m in \u001b[0;36m_process_inputs\u001b[1;34m(self, inputs, initial_state, constants)\u001b[0m\n\u001b[0;32m    860\u001b[0m         \u001b[0minitial_state\u001b[0m \u001b[1;33m=\u001b[0m \u001b[0mself\u001b[0m\u001b[1;33m.\u001b[0m\u001b[0mstates\u001b[0m\u001b[1;33m\u001b[0m\u001b[1;33m\u001b[0m\u001b[0m\n\u001b[0;32m    861\u001b[0m     \u001b[1;32melif\u001b[0m \u001b[0minitial_state\u001b[0m \u001b[1;32mis\u001b[0m \u001b[1;32mNone\u001b[0m\u001b[1;33m:\u001b[0m\u001b[1;33m\u001b[0m\u001b[1;33m\u001b[0m\u001b[0m\n\u001b[1;32m--> 862\u001b[1;33m       \u001b[0minitial_state\u001b[0m \u001b[1;33m=\u001b[0m \u001b[0mself\u001b[0m\u001b[1;33m.\u001b[0m\u001b[0mget_initial_state\u001b[0m\u001b[1;33m(\u001b[0m\u001b[0minputs\u001b[0m\u001b[1;33m)\u001b[0m\u001b[1;33m\u001b[0m\u001b[1;33m\u001b[0m\u001b[0m\n\u001b[0m\u001b[0;32m    863\u001b[0m \u001b[1;33m\u001b[0m\u001b[0m\n\u001b[0;32m    864\u001b[0m     \u001b[1;32mif\u001b[0m \u001b[0mlen\u001b[0m\u001b[1;33m(\u001b[0m\u001b[0minitial_state\u001b[0m\u001b[1;33m)\u001b[0m \u001b[1;33m!=\u001b[0m \u001b[0mlen\u001b[0m\u001b[1;33m(\u001b[0m\u001b[0mself\u001b[0m\u001b[1;33m.\u001b[0m\u001b[0mstates\u001b[0m\u001b[1;33m)\u001b[0m\u001b[1;33m:\u001b[0m\u001b[1;33m\u001b[0m\u001b[1;33m\u001b[0m\u001b[0m\n",
      "\u001b[1;32mC:\\Programs\\Anaconda\\anaconda3\\lib\\site-packages\\tensorflow\\python\\keras\\layers\\recurrent.py\u001b[0m in \u001b[0;36mget_initial_state\u001b[1;34m(self, inputs)\u001b[0m\n\u001b[0;32m    644\u001b[0m     \u001b[1;32mif\u001b[0m \u001b[0mget_initial_state_fn\u001b[0m\u001b[1;33m:\u001b[0m\u001b[1;33m\u001b[0m\u001b[1;33m\u001b[0m\u001b[0m\n\u001b[0;32m    645\u001b[0m       init_state = get_initial_state_fn(\n\u001b[1;32m--> 646\u001b[1;33m           inputs=None, batch_size=batch_size, dtype=dtype)\n\u001b[0m\u001b[0;32m    647\u001b[0m     \u001b[1;32melse\u001b[0m\u001b[1;33m:\u001b[0m\u001b[1;33m\u001b[0m\u001b[1;33m\u001b[0m\u001b[0m\n\u001b[0;32m    648\u001b[0m       init_state = _generate_zero_filled_state(batch_size, self.cell.state_size,\n",
      "\u001b[1;32mC:\\Programs\\Anaconda\\anaconda3\\lib\\site-packages\\tensorflow\\python\\keras\\layers\\recurrent.py\u001b[0m in \u001b[0;36mget_initial_state\u001b[1;34m(self, inputs, batch_size, dtype)\u001b[0m\n\u001b[0;32m   2522\u001b[0m   \u001b[1;32mdef\u001b[0m \u001b[0mget_initial_state\u001b[0m\u001b[1;33m(\u001b[0m\u001b[0mself\u001b[0m\u001b[1;33m,\u001b[0m \u001b[0minputs\u001b[0m\u001b[1;33m=\u001b[0m\u001b[1;32mNone\u001b[0m\u001b[1;33m,\u001b[0m \u001b[0mbatch_size\u001b[0m\u001b[1;33m=\u001b[0m\u001b[1;32mNone\u001b[0m\u001b[1;33m,\u001b[0m \u001b[0mdtype\u001b[0m\u001b[1;33m=\u001b[0m\u001b[1;32mNone\u001b[0m\u001b[1;33m)\u001b[0m\u001b[1;33m:\u001b[0m\u001b[1;33m\u001b[0m\u001b[1;33m\u001b[0m\u001b[0m\n\u001b[0;32m   2523\u001b[0m     return list(_generate_zero_filled_state_for_cell(\n\u001b[1;32m-> 2524\u001b[1;33m         self, inputs, batch_size, dtype))\n\u001b[0m\u001b[0;32m   2525\u001b[0m \u001b[1;33m\u001b[0m\u001b[0m\n\u001b[0;32m   2526\u001b[0m \u001b[1;33m\u001b[0m\u001b[0m\n",
      "\u001b[1;32mC:\\Programs\\Anaconda\\anaconda3\\lib\\site-packages\\tensorflow\\python\\keras\\layers\\recurrent.py\u001b[0m in \u001b[0;36m_generate_zero_filled_state_for_cell\u001b[1;34m(cell, inputs, batch_size, dtype)\u001b[0m\n\u001b[0;32m   2966\u001b[0m     \u001b[0mbatch_size\u001b[0m \u001b[1;33m=\u001b[0m \u001b[0marray_ops\u001b[0m\u001b[1;33m.\u001b[0m\u001b[0mshape\u001b[0m\u001b[1;33m(\u001b[0m\u001b[0minputs\u001b[0m\u001b[1;33m)\u001b[0m\u001b[1;33m[\u001b[0m\u001b[1;36m0\u001b[0m\u001b[1;33m]\u001b[0m\u001b[1;33m\u001b[0m\u001b[1;33m\u001b[0m\u001b[0m\n\u001b[0;32m   2967\u001b[0m     \u001b[0mdtype\u001b[0m \u001b[1;33m=\u001b[0m \u001b[0minputs\u001b[0m\u001b[1;33m.\u001b[0m\u001b[0mdtype\u001b[0m\u001b[1;33m\u001b[0m\u001b[1;33m\u001b[0m\u001b[0m\n\u001b[1;32m-> 2968\u001b[1;33m   \u001b[1;32mreturn\u001b[0m \u001b[0m_generate_zero_filled_state\u001b[0m\u001b[1;33m(\u001b[0m\u001b[0mbatch_size\u001b[0m\u001b[1;33m,\u001b[0m \u001b[0mcell\u001b[0m\u001b[1;33m.\u001b[0m\u001b[0mstate_size\u001b[0m\u001b[1;33m,\u001b[0m \u001b[0mdtype\u001b[0m\u001b[1;33m)\u001b[0m\u001b[1;33m\u001b[0m\u001b[1;33m\u001b[0m\u001b[0m\n\u001b[0m\u001b[0;32m   2969\u001b[0m \u001b[1;33m\u001b[0m\u001b[0m\n\u001b[0;32m   2970\u001b[0m \u001b[1;33m\u001b[0m\u001b[0m\n",
      "\u001b[1;32mC:\\Programs\\Anaconda\\anaconda3\\lib\\site-packages\\tensorflow\\python\\keras\\layers\\recurrent.py\u001b[0m in \u001b[0;36m_generate_zero_filled_state\u001b[1;34m(batch_size_tensor, state_size, dtype)\u001b[0m\n\u001b[0;32m   2982\u001b[0m \u001b[1;33m\u001b[0m\u001b[0m\n\u001b[0;32m   2983\u001b[0m   \u001b[1;32mif\u001b[0m \u001b[0mnest\u001b[0m\u001b[1;33m.\u001b[0m\u001b[0mis_sequence\u001b[0m\u001b[1;33m(\u001b[0m\u001b[0mstate_size\u001b[0m\u001b[1;33m)\u001b[0m\u001b[1;33m:\u001b[0m\u001b[1;33m\u001b[0m\u001b[1;33m\u001b[0m\u001b[0m\n\u001b[1;32m-> 2984\u001b[1;33m     \u001b[1;32mreturn\u001b[0m \u001b[0mnest\u001b[0m\u001b[1;33m.\u001b[0m\u001b[0mmap_structure\u001b[0m\u001b[1;33m(\u001b[0m\u001b[0mcreate_zeros\u001b[0m\u001b[1;33m,\u001b[0m \u001b[0mstate_size\u001b[0m\u001b[1;33m)\u001b[0m\u001b[1;33m\u001b[0m\u001b[1;33m\u001b[0m\u001b[0m\n\u001b[0m\u001b[0;32m   2985\u001b[0m   \u001b[1;32melse\u001b[0m\u001b[1;33m:\u001b[0m\u001b[1;33m\u001b[0m\u001b[1;33m\u001b[0m\u001b[0m\n\u001b[0;32m   2986\u001b[0m     \u001b[1;32mreturn\u001b[0m \u001b[0mcreate_zeros\u001b[0m\u001b[1;33m(\u001b[0m\u001b[0mstate_size\u001b[0m\u001b[1;33m)\u001b[0m\u001b[1;33m\u001b[0m\u001b[1;33m\u001b[0m\u001b[0m\n",
      "\u001b[1;32mC:\\Programs\\Anaconda\\anaconda3\\lib\\site-packages\\tensorflow\\python\\util\\nest.py\u001b[0m in \u001b[0;36mmap_structure\u001b[1;34m(func, *structure, **kwargs)\u001b[0m\n\u001b[0;32m    633\u001b[0m \u001b[1;33m\u001b[0m\u001b[0m\n\u001b[0;32m    634\u001b[0m   return pack_sequence_as(\n\u001b[1;32m--> 635\u001b[1;33m       \u001b[0mstructure\u001b[0m\u001b[1;33m[\u001b[0m\u001b[1;36m0\u001b[0m\u001b[1;33m]\u001b[0m\u001b[1;33m,\u001b[0m \u001b[1;33m[\u001b[0m\u001b[0mfunc\u001b[0m\u001b[1;33m(\u001b[0m\u001b[1;33m*\u001b[0m\u001b[0mx\u001b[0m\u001b[1;33m)\u001b[0m \u001b[1;32mfor\u001b[0m \u001b[0mx\u001b[0m \u001b[1;32min\u001b[0m \u001b[0mentries\u001b[0m\u001b[1;33m]\u001b[0m\u001b[1;33m,\u001b[0m\u001b[1;33m\u001b[0m\u001b[1;33m\u001b[0m\u001b[0m\n\u001b[0m\u001b[0;32m    636\u001b[0m       expand_composites=expand_composites)\n\u001b[0;32m    637\u001b[0m \u001b[1;33m\u001b[0m\u001b[0m\n",
      "\u001b[1;32mC:\\Programs\\Anaconda\\anaconda3\\lib\\site-packages\\tensorflow\\python\\util\\nest.py\u001b[0m in \u001b[0;36m<listcomp>\u001b[1;34m(.0)\u001b[0m\n\u001b[0;32m    633\u001b[0m \u001b[1;33m\u001b[0m\u001b[0m\n\u001b[0;32m    634\u001b[0m   return pack_sequence_as(\n\u001b[1;32m--> 635\u001b[1;33m       \u001b[0mstructure\u001b[0m\u001b[1;33m[\u001b[0m\u001b[1;36m0\u001b[0m\u001b[1;33m]\u001b[0m\u001b[1;33m,\u001b[0m \u001b[1;33m[\u001b[0m\u001b[0mfunc\u001b[0m\u001b[1;33m(\u001b[0m\u001b[1;33m*\u001b[0m\u001b[0mx\u001b[0m\u001b[1;33m)\u001b[0m \u001b[1;32mfor\u001b[0m \u001b[0mx\u001b[0m \u001b[1;32min\u001b[0m \u001b[0mentries\u001b[0m\u001b[1;33m]\u001b[0m\u001b[1;33m,\u001b[0m\u001b[1;33m\u001b[0m\u001b[1;33m\u001b[0m\u001b[0m\n\u001b[0m\u001b[0;32m    636\u001b[0m       expand_composites=expand_composites)\n\u001b[0;32m    637\u001b[0m \u001b[1;33m\u001b[0m\u001b[0m\n",
      "\u001b[1;32mC:\\Programs\\Anaconda\\anaconda3\\lib\\site-packages\\tensorflow\\python\\keras\\layers\\recurrent.py\u001b[0m in \u001b[0;36mcreate_zeros\u001b[1;34m(unnested_state_size)\u001b[0m\n\u001b[0;32m   2979\u001b[0m     \u001b[0mflat_dims\u001b[0m \u001b[1;33m=\u001b[0m \u001b[0mtensor_shape\u001b[0m\u001b[1;33m.\u001b[0m\u001b[0mas_shape\u001b[0m\u001b[1;33m(\u001b[0m\u001b[0munnested_state_size\u001b[0m\u001b[1;33m)\u001b[0m\u001b[1;33m.\u001b[0m\u001b[0mas_list\u001b[0m\u001b[1;33m(\u001b[0m\u001b[1;33m)\u001b[0m\u001b[1;33m\u001b[0m\u001b[1;33m\u001b[0m\u001b[0m\n\u001b[0;32m   2980\u001b[0m     \u001b[0minit_state_size\u001b[0m \u001b[1;33m=\u001b[0m \u001b[1;33m[\u001b[0m\u001b[0mbatch_size_tensor\u001b[0m\u001b[1;33m]\u001b[0m \u001b[1;33m+\u001b[0m \u001b[0mflat_dims\u001b[0m\u001b[1;33m\u001b[0m\u001b[1;33m\u001b[0m\u001b[0m\n\u001b[1;32m-> 2981\u001b[1;33m     \u001b[1;32mreturn\u001b[0m \u001b[0marray_ops\u001b[0m\u001b[1;33m.\u001b[0m\u001b[0mzeros\u001b[0m\u001b[1;33m(\u001b[0m\u001b[0minit_state_size\u001b[0m\u001b[1;33m,\u001b[0m \u001b[0mdtype\u001b[0m\u001b[1;33m=\u001b[0m\u001b[0mdtype\u001b[0m\u001b[1;33m)\u001b[0m\u001b[1;33m\u001b[0m\u001b[1;33m\u001b[0m\u001b[0m\n\u001b[0m\u001b[0;32m   2982\u001b[0m \u001b[1;33m\u001b[0m\u001b[0m\n\u001b[0;32m   2983\u001b[0m   \u001b[1;32mif\u001b[0m \u001b[0mnest\u001b[0m\u001b[1;33m.\u001b[0m\u001b[0mis_sequence\u001b[0m\u001b[1;33m(\u001b[0m\u001b[0mstate_size\u001b[0m\u001b[1;33m)\u001b[0m\u001b[1;33m:\u001b[0m\u001b[1;33m\u001b[0m\u001b[1;33m\u001b[0m\u001b[0m\n",
      "\u001b[1;32mC:\\Programs\\Anaconda\\anaconda3\\lib\\site-packages\\tensorflow\\python\\util\\dispatch.py\u001b[0m in \u001b[0;36mwrapper\u001b[1;34m(*args, **kwargs)\u001b[0m\n\u001b[0;32m    199\u001b[0m     \u001b[1;34m\"\"\"Call target, and fall back on dispatchers if there is a TypeError.\"\"\"\u001b[0m\u001b[1;33m\u001b[0m\u001b[1;33m\u001b[0m\u001b[0m\n\u001b[0;32m    200\u001b[0m     \u001b[1;32mtry\u001b[0m\u001b[1;33m:\u001b[0m\u001b[1;33m\u001b[0m\u001b[1;33m\u001b[0m\u001b[0m\n\u001b[1;32m--> 201\u001b[1;33m       \u001b[1;32mreturn\u001b[0m \u001b[0mtarget\u001b[0m\u001b[1;33m(\u001b[0m\u001b[1;33m*\u001b[0m\u001b[0margs\u001b[0m\u001b[1;33m,\u001b[0m \u001b[1;33m**\u001b[0m\u001b[0mkwargs\u001b[0m\u001b[1;33m)\u001b[0m\u001b[1;33m\u001b[0m\u001b[1;33m\u001b[0m\u001b[0m\n\u001b[0m\u001b[0;32m    202\u001b[0m     \u001b[1;32mexcept\u001b[0m \u001b[1;33m(\u001b[0m\u001b[0mTypeError\u001b[0m\u001b[1;33m,\u001b[0m \u001b[0mValueError\u001b[0m\u001b[1;33m)\u001b[0m\u001b[1;33m:\u001b[0m\u001b[1;33m\u001b[0m\u001b[1;33m\u001b[0m\u001b[0m\n\u001b[0;32m    203\u001b[0m       \u001b[1;31m# Note: convert_to_eager_tensor currently raises a ValueError, not a\u001b[0m\u001b[1;33m\u001b[0m\u001b[1;33m\u001b[0m\u001b[1;33m\u001b[0m\u001b[0m\n",
      "\u001b[1;32mC:\\Programs\\Anaconda\\anaconda3\\lib\\site-packages\\tensorflow\\python\\ops\\array_ops.py\u001b[0m in \u001b[0;36mwrapped\u001b[1;34m(*args, **kwargs)\u001b[0m\n\u001b[0;32m   2745\u001b[0m \u001b[1;33m\u001b[0m\u001b[0m\n\u001b[0;32m   2746\u001b[0m   \u001b[1;32mdef\u001b[0m \u001b[0mwrapped\u001b[0m\u001b[1;33m(\u001b[0m\u001b[1;33m*\u001b[0m\u001b[0margs\u001b[0m\u001b[1;33m,\u001b[0m \u001b[1;33m**\u001b[0m\u001b[0mkwargs\u001b[0m\u001b[1;33m)\u001b[0m\u001b[1;33m:\u001b[0m\u001b[1;33m\u001b[0m\u001b[1;33m\u001b[0m\u001b[0m\n\u001b[1;32m-> 2747\u001b[1;33m     \u001b[0mtensor\u001b[0m \u001b[1;33m=\u001b[0m \u001b[0mfun\u001b[0m\u001b[1;33m(\u001b[0m\u001b[1;33m*\u001b[0m\u001b[0margs\u001b[0m\u001b[1;33m,\u001b[0m \u001b[1;33m**\u001b[0m\u001b[0mkwargs\u001b[0m\u001b[1;33m)\u001b[0m\u001b[1;33m\u001b[0m\u001b[1;33m\u001b[0m\u001b[0m\n\u001b[0m\u001b[0;32m   2748\u001b[0m     \u001b[0mtensor\u001b[0m\u001b[1;33m.\u001b[0m\u001b[0m_is_zeros_tensor\u001b[0m \u001b[1;33m=\u001b[0m \u001b[1;32mTrue\u001b[0m\u001b[1;33m\u001b[0m\u001b[1;33m\u001b[0m\u001b[0m\n\u001b[0;32m   2749\u001b[0m     \u001b[1;32mreturn\u001b[0m \u001b[0mtensor\u001b[0m\u001b[1;33m\u001b[0m\u001b[1;33m\u001b[0m\u001b[0m\n",
      "\u001b[1;32mC:\\Programs\\Anaconda\\anaconda3\\lib\\site-packages\\tensorflow\\python\\ops\\array_ops.py\u001b[0m in \u001b[0;36mzeros\u001b[1;34m(shape, dtype, name)\u001b[0m\n\u001b[0;32m   2792\u001b[0m           \u001b[1;31m# Create a constant if it won't be very big. Otherwise create a fill\u001b[0m\u001b[1;33m\u001b[0m\u001b[1;33m\u001b[0m\u001b[1;33m\u001b[0m\u001b[0m\n\u001b[0;32m   2793\u001b[0m           \u001b[1;31m# op to prevent serialized GraphDefs from becoming too large.\u001b[0m\u001b[1;33m\u001b[0m\u001b[1;33m\u001b[0m\u001b[1;33m\u001b[0m\u001b[0m\n\u001b[1;32m-> 2794\u001b[1;33m           \u001b[0moutput\u001b[0m \u001b[1;33m=\u001b[0m \u001b[0m_constant_if_small\u001b[0m\u001b[1;33m(\u001b[0m\u001b[0mzero\u001b[0m\u001b[1;33m,\u001b[0m \u001b[0mshape\u001b[0m\u001b[1;33m,\u001b[0m \u001b[0mdtype\u001b[0m\u001b[1;33m,\u001b[0m \u001b[0mname\u001b[0m\u001b[1;33m)\u001b[0m\u001b[1;33m\u001b[0m\u001b[1;33m\u001b[0m\u001b[0m\n\u001b[0m\u001b[0;32m   2795\u001b[0m           \u001b[1;32mif\u001b[0m \u001b[0moutput\u001b[0m \u001b[1;32mis\u001b[0m \u001b[1;32mnot\u001b[0m \u001b[1;32mNone\u001b[0m\u001b[1;33m:\u001b[0m\u001b[1;33m\u001b[0m\u001b[1;33m\u001b[0m\u001b[0m\n\u001b[0;32m   2796\u001b[0m             \u001b[1;32mreturn\u001b[0m \u001b[0moutput\u001b[0m\u001b[1;33m\u001b[0m\u001b[1;33m\u001b[0m\u001b[0m\n",
      "\u001b[1;32mC:\\Programs\\Anaconda\\anaconda3\\lib\\site-packages\\tensorflow\\python\\ops\\array_ops.py\u001b[0m in \u001b[0;36m_constant_if_small\u001b[1;34m(value, shape, dtype, name)\u001b[0m\n\u001b[0;32m   2730\u001b[0m \u001b[1;32mdef\u001b[0m \u001b[0m_constant_if_small\u001b[0m\u001b[1;33m(\u001b[0m\u001b[0mvalue\u001b[0m\u001b[1;33m,\u001b[0m \u001b[0mshape\u001b[0m\u001b[1;33m,\u001b[0m \u001b[0mdtype\u001b[0m\u001b[1;33m,\u001b[0m \u001b[0mname\u001b[0m\u001b[1;33m)\u001b[0m\u001b[1;33m:\u001b[0m\u001b[1;33m\u001b[0m\u001b[1;33m\u001b[0m\u001b[0m\n\u001b[0;32m   2731\u001b[0m   \u001b[1;32mtry\u001b[0m\u001b[1;33m:\u001b[0m\u001b[1;33m\u001b[0m\u001b[1;33m\u001b[0m\u001b[0m\n\u001b[1;32m-> 2732\u001b[1;33m     \u001b[1;32mif\u001b[0m \u001b[0mnp\u001b[0m\u001b[1;33m.\u001b[0m\u001b[0mprod\u001b[0m\u001b[1;33m(\u001b[0m\u001b[0mshape\u001b[0m\u001b[1;33m)\u001b[0m \u001b[1;33m<\u001b[0m \u001b[1;36m1000\u001b[0m\u001b[1;33m:\u001b[0m\u001b[1;33m\u001b[0m\u001b[1;33m\u001b[0m\u001b[0m\n\u001b[0m\u001b[0;32m   2733\u001b[0m       \u001b[1;32mreturn\u001b[0m \u001b[0mconstant\u001b[0m\u001b[1;33m(\u001b[0m\u001b[0mvalue\u001b[0m\u001b[1;33m,\u001b[0m \u001b[0mshape\u001b[0m\u001b[1;33m=\u001b[0m\u001b[0mshape\u001b[0m\u001b[1;33m,\u001b[0m \u001b[0mdtype\u001b[0m\u001b[1;33m=\u001b[0m\u001b[0mdtype\u001b[0m\u001b[1;33m,\u001b[0m \u001b[0mname\u001b[0m\u001b[1;33m=\u001b[0m\u001b[0mname\u001b[0m\u001b[1;33m)\u001b[0m\u001b[1;33m\u001b[0m\u001b[1;33m\u001b[0m\u001b[0m\n\u001b[0;32m   2734\u001b[0m   \u001b[1;32mexcept\u001b[0m \u001b[0mTypeError\u001b[0m\u001b[1;33m:\u001b[0m\u001b[1;33m\u001b[0m\u001b[1;33m\u001b[0m\u001b[0m\n",
      "\u001b[1;32m<__array_function__ internals>\u001b[0m in \u001b[0;36mprod\u001b[1;34m(*args, **kwargs)\u001b[0m\n",
      "\u001b[1;32mC:\\Programs\\Anaconda\\anaconda3\\lib\\site-packages\\numpy\\core\\fromnumeric.py\u001b[0m in \u001b[0;36mprod\u001b[1;34m(a, axis, dtype, out, keepdims, initial, where)\u001b[0m\n\u001b[0;32m   3029\u001b[0m     \"\"\"\n\u001b[0;32m   3030\u001b[0m     return _wrapreduction(a, np.multiply, 'prod', axis, dtype, out,\n\u001b[1;32m-> 3031\u001b[1;33m                           keepdims=keepdims, initial=initial, where=where)\n\u001b[0m\u001b[0;32m   3032\u001b[0m \u001b[1;33m\u001b[0m\u001b[0m\n\u001b[0;32m   3033\u001b[0m \u001b[1;33m\u001b[0m\u001b[0m\n",
      "\u001b[1;32mC:\\Programs\\Anaconda\\anaconda3\\lib\\site-packages\\numpy\\core\\fromnumeric.py\u001b[0m in \u001b[0;36m_wrapreduction\u001b[1;34m(obj, ufunc, method, axis, dtype, out, **kwargs)\u001b[0m\n\u001b[0;32m     85\u001b[0m                 \u001b[1;32mreturn\u001b[0m \u001b[0mreduction\u001b[0m\u001b[1;33m(\u001b[0m\u001b[0maxis\u001b[0m\u001b[1;33m=\u001b[0m\u001b[0maxis\u001b[0m\u001b[1;33m,\u001b[0m \u001b[0mout\u001b[0m\u001b[1;33m=\u001b[0m\u001b[0mout\u001b[0m\u001b[1;33m,\u001b[0m \u001b[1;33m**\u001b[0m\u001b[0mpasskwargs\u001b[0m\u001b[1;33m)\u001b[0m\u001b[1;33m\u001b[0m\u001b[1;33m\u001b[0m\u001b[0m\n\u001b[0;32m     86\u001b[0m \u001b[1;33m\u001b[0m\u001b[0m\n\u001b[1;32m---> 87\u001b[1;33m     \u001b[1;32mreturn\u001b[0m \u001b[0mufunc\u001b[0m\u001b[1;33m.\u001b[0m\u001b[0mreduce\u001b[0m\u001b[1;33m(\u001b[0m\u001b[0mobj\u001b[0m\u001b[1;33m,\u001b[0m \u001b[0maxis\u001b[0m\u001b[1;33m,\u001b[0m \u001b[0mdtype\u001b[0m\u001b[1;33m,\u001b[0m \u001b[0mout\u001b[0m\u001b[1;33m,\u001b[0m \u001b[1;33m**\u001b[0m\u001b[0mpasskwargs\u001b[0m\u001b[1;33m)\u001b[0m\u001b[1;33m\u001b[0m\u001b[1;33m\u001b[0m\u001b[0m\n\u001b[0m\u001b[0;32m     88\u001b[0m \u001b[1;33m\u001b[0m\u001b[0m\n\u001b[0;32m     89\u001b[0m \u001b[1;33m\u001b[0m\u001b[0m\n",
      "\u001b[1;32mC:\\Programs\\Anaconda\\anaconda3\\lib\\site-packages\\tensorflow\\python\\framework\\ops.py\u001b[0m in \u001b[0;36m__array__\u001b[1;34m(self)\u001b[0m\n\u001b[0;32m    846\u001b[0m         \u001b[1;34m\"Cannot convert a symbolic Tensor ({}) to a numpy array.\"\u001b[0m\u001b[1;33m\u001b[0m\u001b[1;33m\u001b[0m\u001b[0m\n\u001b[0;32m    847\u001b[0m         \u001b[1;34m\" This error may indicate that you're trying to pass a Tensor to\"\u001b[0m\u001b[1;33m\u001b[0m\u001b[1;33m\u001b[0m\u001b[0m\n\u001b[1;32m--> 848\u001b[1;33m         \" a NumPy call, which is not supported\".format(self.name))\n\u001b[0m\u001b[0;32m    849\u001b[0m \u001b[1;33m\u001b[0m\u001b[0m\n\u001b[0;32m    850\u001b[0m   \u001b[1;32mdef\u001b[0m \u001b[0m__len__\u001b[0m\u001b[1;33m(\u001b[0m\u001b[0mself\u001b[0m\u001b[1;33m)\u001b[0m\u001b[1;33m:\u001b[0m\u001b[1;33m\u001b[0m\u001b[1;33m\u001b[0m\u001b[0m\n",
      "\u001b[1;31mNotImplementedError\u001b[0m: Cannot convert a symbolic Tensor (lstm/strided_slice:0) to a numpy array. This error may indicate that you're trying to pass a Tensor to a NumPy call, which is not supported"
     ]
    }
   ],
   "source": [
    "model_lstm = Sequential()\n",
    "model_lstm.add(Embedding(num_words, 32, input_length=max_news_len))\n",
    "model_lstm.add(LSTM(8))\n",
    "model_lstm.add(Dense(3, activation='softmax'))"
   ]
  },
  {
   "cell_type": "code",
   "execution_count": 57,
   "id": "40096167",
   "metadata": {},
   "outputs": [
    {
     "data": {
      "text/plain": [
       "10000"
      ]
     },
     "execution_count": 57,
     "metadata": {},
     "output_type": "execute_result"
    }
   ],
   "source": [
    "num_words"
   ]
  },
  {
   "cell_type": "code",
   "execution_count": 58,
   "id": "3c3bb2f3",
   "metadata": {},
   "outputs": [],
   "source": [
    "model_lstm.compile(optimizer='adam', \n",
    "              loss='categorical_crossentropy', \n",
    "              metrics=['accuracy'])"
   ]
  },
  {
   "cell_type": "markdown",
   "id": "ce0a1b9f",
   "metadata": {},
   "source": [
    "## Cеть GRU"
   ]
  },
  {
   "cell_type": "code",
   "execution_count": 59,
   "id": "8563e9d3",
   "metadata": {},
   "outputs": [
    {
     "ename": "NotImplementedError",
     "evalue": "Cannot convert a symbolic Tensor (gru/strided_slice:0) to a numpy array. This error may indicate that you're trying to pass a Tensor to a NumPy call, which is not supported",
     "output_type": "error",
     "traceback": [
      "\u001b[1;31m---------------------------------------------------------------------------\u001b[0m",
      "\u001b[1;31mNotImplementedError\u001b[0m                       Traceback (most recent call last)",
      "\u001b[1;32m<ipython-input-59-71bf429be011>\u001b[0m in \u001b[0;36m<module>\u001b[1;34m\u001b[0m\n\u001b[0;32m      1\u001b[0m \u001b[0mmodel_gru\u001b[0m \u001b[1;33m=\u001b[0m \u001b[0mSequential\u001b[0m\u001b[1;33m(\u001b[0m\u001b[1;33m)\u001b[0m\u001b[1;33m\u001b[0m\u001b[1;33m\u001b[0m\u001b[0m\n\u001b[0;32m      2\u001b[0m \u001b[0mmodel_gru\u001b[0m\u001b[1;33m.\u001b[0m\u001b[0madd\u001b[0m\u001b[1;33m(\u001b[0m\u001b[0mEmbedding\u001b[0m\u001b[1;33m(\u001b[0m\u001b[0mnum_words\u001b[0m\u001b[1;33m,\u001b[0m \u001b[1;36m32\u001b[0m\u001b[1;33m,\u001b[0m \u001b[0minput_length\u001b[0m\u001b[1;33m=\u001b[0m\u001b[0mmax_news_len\u001b[0m\u001b[1;33m)\u001b[0m\u001b[1;33m)\u001b[0m\u001b[1;33m\u001b[0m\u001b[1;33m\u001b[0m\u001b[0m\n\u001b[1;32m----> 3\u001b[1;33m \u001b[0mmodel_gru\u001b[0m\u001b[1;33m.\u001b[0m\u001b[0madd\u001b[0m\u001b[1;33m(\u001b[0m\u001b[0mGRU\u001b[0m\u001b[1;33m(\u001b[0m\u001b[1;36m16\u001b[0m\u001b[1;33m)\u001b[0m\u001b[1;33m)\u001b[0m\u001b[1;33m\u001b[0m\u001b[1;33m\u001b[0m\u001b[0m\n\u001b[0m\u001b[0;32m      4\u001b[0m \u001b[0mmodel_gru\u001b[0m\u001b[1;33m.\u001b[0m\u001b[0madd\u001b[0m\u001b[1;33m(\u001b[0m\u001b[0mDense\u001b[0m\u001b[1;33m(\u001b[0m\u001b[1;36m4\u001b[0m\u001b[1;33m,\u001b[0m \u001b[0mactivation\u001b[0m\u001b[1;33m=\u001b[0m\u001b[1;34m'softmax'\u001b[0m\u001b[1;33m)\u001b[0m\u001b[1;33m)\u001b[0m\u001b[1;33m\u001b[0m\u001b[1;33m\u001b[0m\u001b[0m\n",
      "\u001b[1;32mC:\\Programs\\Anaconda\\anaconda3\\lib\\site-packages\\tensorflow\\python\\training\\tracking\\base.py\u001b[0m in \u001b[0;36m_method_wrapper\u001b[1;34m(self, *args, **kwargs)\u001b[0m\n\u001b[0;32m    455\u001b[0m     \u001b[0mself\u001b[0m\u001b[1;33m.\u001b[0m\u001b[0m_self_setattr_tracking\u001b[0m \u001b[1;33m=\u001b[0m \u001b[1;32mFalse\u001b[0m  \u001b[1;31m# pylint: disable=protected-access\u001b[0m\u001b[1;33m\u001b[0m\u001b[1;33m\u001b[0m\u001b[0m\n\u001b[0;32m    456\u001b[0m     \u001b[1;32mtry\u001b[0m\u001b[1;33m:\u001b[0m\u001b[1;33m\u001b[0m\u001b[1;33m\u001b[0m\u001b[0m\n\u001b[1;32m--> 457\u001b[1;33m       \u001b[0mresult\u001b[0m \u001b[1;33m=\u001b[0m \u001b[0mmethod\u001b[0m\u001b[1;33m(\u001b[0m\u001b[0mself\u001b[0m\u001b[1;33m,\u001b[0m \u001b[1;33m*\u001b[0m\u001b[0margs\u001b[0m\u001b[1;33m,\u001b[0m \u001b[1;33m**\u001b[0m\u001b[0mkwargs\u001b[0m\u001b[1;33m)\u001b[0m\u001b[1;33m\u001b[0m\u001b[1;33m\u001b[0m\u001b[0m\n\u001b[0m\u001b[0;32m    458\u001b[0m     \u001b[1;32mfinally\u001b[0m\u001b[1;33m:\u001b[0m\u001b[1;33m\u001b[0m\u001b[1;33m\u001b[0m\u001b[0m\n\u001b[0;32m    459\u001b[0m       \u001b[0mself\u001b[0m\u001b[1;33m.\u001b[0m\u001b[0m_self_setattr_tracking\u001b[0m \u001b[1;33m=\u001b[0m \u001b[0mprevious_value\u001b[0m  \u001b[1;31m# pylint: disable=protected-access\u001b[0m\u001b[1;33m\u001b[0m\u001b[1;33m\u001b[0m\u001b[0m\n",
      "\u001b[1;32mC:\\Programs\\Anaconda\\anaconda3\\lib\\site-packages\\tensorflow\\python\\keras\\engine\\sequential.py\u001b[0m in \u001b[0;36madd\u001b[1;34m(self, layer)\u001b[0m\n\u001b[0;32m    219\u001b[0m       \u001b[1;31m# If the model is being built continuously on top of an input layer:\u001b[0m\u001b[1;33m\u001b[0m\u001b[1;33m\u001b[0m\u001b[1;33m\u001b[0m\u001b[0m\n\u001b[0;32m    220\u001b[0m       \u001b[1;31m# refresh its output.\u001b[0m\u001b[1;33m\u001b[0m\u001b[1;33m\u001b[0m\u001b[1;33m\u001b[0m\u001b[0m\n\u001b[1;32m--> 221\u001b[1;33m       \u001b[0moutput_tensor\u001b[0m \u001b[1;33m=\u001b[0m \u001b[0mlayer\u001b[0m\u001b[1;33m(\u001b[0m\u001b[0mself\u001b[0m\u001b[1;33m.\u001b[0m\u001b[0moutputs\u001b[0m\u001b[1;33m[\u001b[0m\u001b[1;36m0\u001b[0m\u001b[1;33m]\u001b[0m\u001b[1;33m)\u001b[0m\u001b[1;33m\u001b[0m\u001b[1;33m\u001b[0m\u001b[0m\n\u001b[0m\u001b[0;32m    222\u001b[0m       \u001b[1;32mif\u001b[0m \u001b[0mlen\u001b[0m\u001b[1;33m(\u001b[0m\u001b[0mnest\u001b[0m\u001b[1;33m.\u001b[0m\u001b[0mflatten\u001b[0m\u001b[1;33m(\u001b[0m\u001b[0moutput_tensor\u001b[0m\u001b[1;33m)\u001b[0m\u001b[1;33m)\u001b[0m \u001b[1;33m!=\u001b[0m \u001b[1;36m1\u001b[0m\u001b[1;33m:\u001b[0m\u001b[1;33m\u001b[0m\u001b[1;33m\u001b[0m\u001b[0m\n\u001b[0;32m    223\u001b[0m         \u001b[1;32mraise\u001b[0m \u001b[0mValueError\u001b[0m\u001b[1;33m(\u001b[0m\u001b[0mSINGLE_LAYER_OUTPUT_ERROR_MSG\u001b[0m\u001b[1;33m)\u001b[0m\u001b[1;33m\u001b[0m\u001b[1;33m\u001b[0m\u001b[0m\n",
      "\u001b[1;32mC:\\Programs\\Anaconda\\anaconda3\\lib\\site-packages\\tensorflow\\python\\keras\\layers\\recurrent.py\u001b[0m in \u001b[0;36m__call__\u001b[1;34m(self, inputs, initial_state, constants, **kwargs)\u001b[0m\n\u001b[0;32m    661\u001b[0m \u001b[1;33m\u001b[0m\u001b[0m\n\u001b[0;32m    662\u001b[0m     \u001b[1;32mif\u001b[0m \u001b[0minitial_state\u001b[0m \u001b[1;32mis\u001b[0m \u001b[1;32mNone\u001b[0m \u001b[1;32mand\u001b[0m \u001b[0mconstants\u001b[0m \u001b[1;32mis\u001b[0m \u001b[1;32mNone\u001b[0m\u001b[1;33m:\u001b[0m\u001b[1;33m\u001b[0m\u001b[1;33m\u001b[0m\u001b[0m\n\u001b[1;32m--> 663\u001b[1;33m       \u001b[1;32mreturn\u001b[0m \u001b[0msuper\u001b[0m\u001b[1;33m(\u001b[0m\u001b[0mRNN\u001b[0m\u001b[1;33m,\u001b[0m \u001b[0mself\u001b[0m\u001b[1;33m)\u001b[0m\u001b[1;33m.\u001b[0m\u001b[0m__call__\u001b[0m\u001b[1;33m(\u001b[0m\u001b[0minputs\u001b[0m\u001b[1;33m,\u001b[0m \u001b[1;33m**\u001b[0m\u001b[0mkwargs\u001b[0m\u001b[1;33m)\u001b[0m\u001b[1;33m\u001b[0m\u001b[1;33m\u001b[0m\u001b[0m\n\u001b[0m\u001b[0;32m    664\u001b[0m \u001b[1;33m\u001b[0m\u001b[0m\n\u001b[0;32m    665\u001b[0m     \u001b[1;31m# If any of `initial_state` or `constants` are specified and are Keras\u001b[0m\u001b[1;33m\u001b[0m\u001b[1;33m\u001b[0m\u001b[1;33m\u001b[0m\u001b[0m\n",
      "\u001b[1;32mC:\\Programs\\Anaconda\\anaconda3\\lib\\site-packages\\tensorflow\\python\\keras\\engine\\base_layer.py\u001b[0m in \u001b[0;36m__call__\u001b[1;34m(self, *args, **kwargs)\u001b[0m\n\u001b[0;32m    924\u001b[0m     \u001b[1;32mif\u001b[0m \u001b[0m_in_functional_construction_mode\u001b[0m\u001b[1;33m(\u001b[0m\u001b[0mself\u001b[0m\u001b[1;33m,\u001b[0m \u001b[0minputs\u001b[0m\u001b[1;33m,\u001b[0m \u001b[0margs\u001b[0m\u001b[1;33m,\u001b[0m \u001b[0mkwargs\u001b[0m\u001b[1;33m,\u001b[0m \u001b[0minput_list\u001b[0m\u001b[1;33m)\u001b[0m\u001b[1;33m:\u001b[0m\u001b[1;33m\u001b[0m\u001b[1;33m\u001b[0m\u001b[0m\n\u001b[0;32m    925\u001b[0m       return self._functional_construction_call(inputs, args, kwargs,\n\u001b[1;32m--> 926\u001b[1;33m                                                 input_list)\n\u001b[0m\u001b[0;32m    927\u001b[0m \u001b[1;33m\u001b[0m\u001b[0m\n\u001b[0;32m    928\u001b[0m     \u001b[1;31m# Maintains info about the `Layer.call` stack.\u001b[0m\u001b[1;33m\u001b[0m\u001b[1;33m\u001b[0m\u001b[1;33m\u001b[0m\u001b[0m\n",
      "\u001b[1;32mC:\\Programs\\Anaconda\\anaconda3\\lib\\site-packages\\tensorflow\\python\\keras\\engine\\base_layer.py\u001b[0m in \u001b[0;36m_functional_construction_call\u001b[1;34m(self, inputs, args, kwargs, input_list)\u001b[0m\n\u001b[0;32m   1115\u001b[0m           \u001b[1;32mtry\u001b[0m\u001b[1;33m:\u001b[0m\u001b[1;33m\u001b[0m\u001b[1;33m\u001b[0m\u001b[0m\n\u001b[0;32m   1116\u001b[0m             \u001b[1;32mwith\u001b[0m \u001b[0mops\u001b[0m\u001b[1;33m.\u001b[0m\u001b[0menable_auto_cast_variables\u001b[0m\u001b[1;33m(\u001b[0m\u001b[0mself\u001b[0m\u001b[1;33m.\u001b[0m\u001b[0m_compute_dtype_object\u001b[0m\u001b[1;33m)\u001b[0m\u001b[1;33m:\u001b[0m\u001b[1;33m\u001b[0m\u001b[1;33m\u001b[0m\u001b[0m\n\u001b[1;32m-> 1117\u001b[1;33m               \u001b[0moutputs\u001b[0m \u001b[1;33m=\u001b[0m \u001b[0mcall_fn\u001b[0m\u001b[1;33m(\u001b[0m\u001b[0mcast_inputs\u001b[0m\u001b[1;33m,\u001b[0m \u001b[1;33m*\u001b[0m\u001b[0margs\u001b[0m\u001b[1;33m,\u001b[0m \u001b[1;33m**\u001b[0m\u001b[0mkwargs\u001b[0m\u001b[1;33m)\u001b[0m\u001b[1;33m\u001b[0m\u001b[1;33m\u001b[0m\u001b[0m\n\u001b[0m\u001b[0;32m   1118\u001b[0m \u001b[1;33m\u001b[0m\u001b[0m\n\u001b[0;32m   1119\u001b[0m           \u001b[1;32mexcept\u001b[0m \u001b[0merrors\u001b[0m\u001b[1;33m.\u001b[0m\u001b[0mOperatorNotAllowedInGraphError\u001b[0m \u001b[1;32mas\u001b[0m \u001b[0me\u001b[0m\u001b[1;33m:\u001b[0m\u001b[1;33m\u001b[0m\u001b[1;33m\u001b[0m\u001b[0m\n",
      "\u001b[1;32mC:\\Programs\\Anaconda\\anaconda3\\lib\\site-packages\\tensorflow\\python\\keras\\layers\\recurrent_v2.py\u001b[0m in \u001b[0;36mcall\u001b[1;34m(self, inputs, mask, training, initial_state)\u001b[0m\n\u001b[0;32m    407\u001b[0m \u001b[1;33m\u001b[0m\u001b[0m\n\u001b[0;32m    408\u001b[0m     \u001b[1;31m# GRU does not support constants. Ignore it during process.\u001b[0m\u001b[1;33m\u001b[0m\u001b[1;33m\u001b[0m\u001b[1;33m\u001b[0m\u001b[0m\n\u001b[1;32m--> 409\u001b[1;33m     \u001b[0minputs\u001b[0m\u001b[1;33m,\u001b[0m \u001b[0minitial_state\u001b[0m\u001b[1;33m,\u001b[0m \u001b[0m_\u001b[0m \u001b[1;33m=\u001b[0m \u001b[0mself\u001b[0m\u001b[1;33m.\u001b[0m\u001b[0m_process_inputs\u001b[0m\u001b[1;33m(\u001b[0m\u001b[0minputs\u001b[0m\u001b[1;33m,\u001b[0m \u001b[0minitial_state\u001b[0m\u001b[1;33m,\u001b[0m \u001b[1;32mNone\u001b[0m\u001b[1;33m)\u001b[0m\u001b[1;33m\u001b[0m\u001b[1;33m\u001b[0m\u001b[0m\n\u001b[0m\u001b[0;32m    410\u001b[0m \u001b[1;33m\u001b[0m\u001b[0m\n\u001b[0;32m    411\u001b[0m     \u001b[1;32mif\u001b[0m \u001b[0misinstance\u001b[0m\u001b[1;33m(\u001b[0m\u001b[0mmask\u001b[0m\u001b[1;33m,\u001b[0m \u001b[0mlist\u001b[0m\u001b[1;33m)\u001b[0m\u001b[1;33m:\u001b[0m\u001b[1;33m\u001b[0m\u001b[1;33m\u001b[0m\u001b[0m\n",
      "\u001b[1;32mC:\\Programs\\Anaconda\\anaconda3\\lib\\site-packages\\tensorflow\\python\\keras\\layers\\recurrent.py\u001b[0m in \u001b[0;36m_process_inputs\u001b[1;34m(self, inputs, initial_state, constants)\u001b[0m\n\u001b[0;32m    860\u001b[0m         \u001b[0minitial_state\u001b[0m \u001b[1;33m=\u001b[0m \u001b[0mself\u001b[0m\u001b[1;33m.\u001b[0m\u001b[0mstates\u001b[0m\u001b[1;33m\u001b[0m\u001b[1;33m\u001b[0m\u001b[0m\n\u001b[0;32m    861\u001b[0m     \u001b[1;32melif\u001b[0m \u001b[0minitial_state\u001b[0m \u001b[1;32mis\u001b[0m \u001b[1;32mNone\u001b[0m\u001b[1;33m:\u001b[0m\u001b[1;33m\u001b[0m\u001b[1;33m\u001b[0m\u001b[0m\n\u001b[1;32m--> 862\u001b[1;33m       \u001b[0minitial_state\u001b[0m \u001b[1;33m=\u001b[0m \u001b[0mself\u001b[0m\u001b[1;33m.\u001b[0m\u001b[0mget_initial_state\u001b[0m\u001b[1;33m(\u001b[0m\u001b[0minputs\u001b[0m\u001b[1;33m)\u001b[0m\u001b[1;33m\u001b[0m\u001b[1;33m\u001b[0m\u001b[0m\n\u001b[0m\u001b[0;32m    863\u001b[0m \u001b[1;33m\u001b[0m\u001b[0m\n\u001b[0;32m    864\u001b[0m     \u001b[1;32mif\u001b[0m \u001b[0mlen\u001b[0m\u001b[1;33m(\u001b[0m\u001b[0minitial_state\u001b[0m\u001b[1;33m)\u001b[0m \u001b[1;33m!=\u001b[0m \u001b[0mlen\u001b[0m\u001b[1;33m(\u001b[0m\u001b[0mself\u001b[0m\u001b[1;33m.\u001b[0m\u001b[0mstates\u001b[0m\u001b[1;33m)\u001b[0m\u001b[1;33m:\u001b[0m\u001b[1;33m\u001b[0m\u001b[1;33m\u001b[0m\u001b[0m\n",
      "\u001b[1;32mC:\\Programs\\Anaconda\\anaconda3\\lib\\site-packages\\tensorflow\\python\\keras\\layers\\recurrent.py\u001b[0m in \u001b[0;36mget_initial_state\u001b[1;34m(self, inputs)\u001b[0m\n\u001b[0;32m    644\u001b[0m     \u001b[1;32mif\u001b[0m \u001b[0mget_initial_state_fn\u001b[0m\u001b[1;33m:\u001b[0m\u001b[1;33m\u001b[0m\u001b[1;33m\u001b[0m\u001b[0m\n\u001b[0;32m    645\u001b[0m       init_state = get_initial_state_fn(\n\u001b[1;32m--> 646\u001b[1;33m           inputs=None, batch_size=batch_size, dtype=dtype)\n\u001b[0m\u001b[0;32m    647\u001b[0m     \u001b[1;32melse\u001b[0m\u001b[1;33m:\u001b[0m\u001b[1;33m\u001b[0m\u001b[1;33m\u001b[0m\u001b[0m\n\u001b[0;32m    648\u001b[0m       init_state = _generate_zero_filled_state(batch_size, self.cell.state_size,\n",
      "\u001b[1;32mC:\\Programs\\Anaconda\\anaconda3\\lib\\site-packages\\tensorflow\\python\\keras\\layers\\recurrent.py\u001b[0m in \u001b[0;36mget_initial_state\u001b[1;34m(self, inputs, batch_size, dtype)\u001b[0m\n\u001b[0;32m   1951\u001b[0m \u001b[1;33m\u001b[0m\u001b[0m\n\u001b[0;32m   1952\u001b[0m   \u001b[1;32mdef\u001b[0m \u001b[0mget_initial_state\u001b[0m\u001b[1;33m(\u001b[0m\u001b[0mself\u001b[0m\u001b[1;33m,\u001b[0m \u001b[0minputs\u001b[0m\u001b[1;33m=\u001b[0m\u001b[1;32mNone\u001b[0m\u001b[1;33m,\u001b[0m \u001b[0mbatch_size\u001b[0m\u001b[1;33m=\u001b[0m\u001b[1;32mNone\u001b[0m\u001b[1;33m,\u001b[0m \u001b[0mdtype\u001b[0m\u001b[1;33m=\u001b[0m\u001b[1;32mNone\u001b[0m\u001b[1;33m)\u001b[0m\u001b[1;33m:\u001b[0m\u001b[1;33m\u001b[0m\u001b[1;33m\u001b[0m\u001b[0m\n\u001b[1;32m-> 1953\u001b[1;33m     \u001b[1;32mreturn\u001b[0m \u001b[0m_generate_zero_filled_state_for_cell\u001b[0m\u001b[1;33m(\u001b[0m\u001b[0mself\u001b[0m\u001b[1;33m,\u001b[0m \u001b[0minputs\u001b[0m\u001b[1;33m,\u001b[0m \u001b[0mbatch_size\u001b[0m\u001b[1;33m,\u001b[0m \u001b[0mdtype\u001b[0m\u001b[1;33m)\u001b[0m\u001b[1;33m\u001b[0m\u001b[1;33m\u001b[0m\u001b[0m\n\u001b[0m\u001b[0;32m   1954\u001b[0m \u001b[1;33m\u001b[0m\u001b[0m\n\u001b[0;32m   1955\u001b[0m \u001b[1;33m\u001b[0m\u001b[0m\n",
      "\u001b[1;32mC:\\Programs\\Anaconda\\anaconda3\\lib\\site-packages\\tensorflow\\python\\keras\\layers\\recurrent.py\u001b[0m in \u001b[0;36m_generate_zero_filled_state_for_cell\u001b[1;34m(cell, inputs, batch_size, dtype)\u001b[0m\n\u001b[0;32m   2966\u001b[0m     \u001b[0mbatch_size\u001b[0m \u001b[1;33m=\u001b[0m \u001b[0marray_ops\u001b[0m\u001b[1;33m.\u001b[0m\u001b[0mshape\u001b[0m\u001b[1;33m(\u001b[0m\u001b[0minputs\u001b[0m\u001b[1;33m)\u001b[0m\u001b[1;33m[\u001b[0m\u001b[1;36m0\u001b[0m\u001b[1;33m]\u001b[0m\u001b[1;33m\u001b[0m\u001b[1;33m\u001b[0m\u001b[0m\n\u001b[0;32m   2967\u001b[0m     \u001b[0mdtype\u001b[0m \u001b[1;33m=\u001b[0m \u001b[0minputs\u001b[0m\u001b[1;33m.\u001b[0m\u001b[0mdtype\u001b[0m\u001b[1;33m\u001b[0m\u001b[1;33m\u001b[0m\u001b[0m\n\u001b[1;32m-> 2968\u001b[1;33m   \u001b[1;32mreturn\u001b[0m \u001b[0m_generate_zero_filled_state\u001b[0m\u001b[1;33m(\u001b[0m\u001b[0mbatch_size\u001b[0m\u001b[1;33m,\u001b[0m \u001b[0mcell\u001b[0m\u001b[1;33m.\u001b[0m\u001b[0mstate_size\u001b[0m\u001b[1;33m,\u001b[0m \u001b[0mdtype\u001b[0m\u001b[1;33m)\u001b[0m\u001b[1;33m\u001b[0m\u001b[1;33m\u001b[0m\u001b[0m\n\u001b[0m\u001b[0;32m   2969\u001b[0m \u001b[1;33m\u001b[0m\u001b[0m\n\u001b[0;32m   2970\u001b[0m \u001b[1;33m\u001b[0m\u001b[0m\n",
      "\u001b[1;32mC:\\Programs\\Anaconda\\anaconda3\\lib\\site-packages\\tensorflow\\python\\keras\\layers\\recurrent.py\u001b[0m in \u001b[0;36m_generate_zero_filled_state\u001b[1;34m(batch_size_tensor, state_size, dtype)\u001b[0m\n\u001b[0;32m   2984\u001b[0m     \u001b[1;32mreturn\u001b[0m \u001b[0mnest\u001b[0m\u001b[1;33m.\u001b[0m\u001b[0mmap_structure\u001b[0m\u001b[1;33m(\u001b[0m\u001b[0mcreate_zeros\u001b[0m\u001b[1;33m,\u001b[0m \u001b[0mstate_size\u001b[0m\u001b[1;33m)\u001b[0m\u001b[1;33m\u001b[0m\u001b[1;33m\u001b[0m\u001b[0m\n\u001b[0;32m   2985\u001b[0m   \u001b[1;32melse\u001b[0m\u001b[1;33m:\u001b[0m\u001b[1;33m\u001b[0m\u001b[1;33m\u001b[0m\u001b[0m\n\u001b[1;32m-> 2986\u001b[1;33m     \u001b[1;32mreturn\u001b[0m \u001b[0mcreate_zeros\u001b[0m\u001b[1;33m(\u001b[0m\u001b[0mstate_size\u001b[0m\u001b[1;33m)\u001b[0m\u001b[1;33m\u001b[0m\u001b[1;33m\u001b[0m\u001b[0m\n\u001b[0m\u001b[0;32m   2987\u001b[0m \u001b[1;33m\u001b[0m\u001b[0m\n\u001b[0;32m   2988\u001b[0m \u001b[1;33m\u001b[0m\u001b[0m\n",
      "\u001b[1;32mC:\\Programs\\Anaconda\\anaconda3\\lib\\site-packages\\tensorflow\\python\\keras\\layers\\recurrent.py\u001b[0m in \u001b[0;36mcreate_zeros\u001b[1;34m(unnested_state_size)\u001b[0m\n\u001b[0;32m   2979\u001b[0m     \u001b[0mflat_dims\u001b[0m \u001b[1;33m=\u001b[0m \u001b[0mtensor_shape\u001b[0m\u001b[1;33m.\u001b[0m\u001b[0mas_shape\u001b[0m\u001b[1;33m(\u001b[0m\u001b[0munnested_state_size\u001b[0m\u001b[1;33m)\u001b[0m\u001b[1;33m.\u001b[0m\u001b[0mas_list\u001b[0m\u001b[1;33m(\u001b[0m\u001b[1;33m)\u001b[0m\u001b[1;33m\u001b[0m\u001b[1;33m\u001b[0m\u001b[0m\n\u001b[0;32m   2980\u001b[0m     \u001b[0minit_state_size\u001b[0m \u001b[1;33m=\u001b[0m \u001b[1;33m[\u001b[0m\u001b[0mbatch_size_tensor\u001b[0m\u001b[1;33m]\u001b[0m \u001b[1;33m+\u001b[0m \u001b[0mflat_dims\u001b[0m\u001b[1;33m\u001b[0m\u001b[1;33m\u001b[0m\u001b[0m\n\u001b[1;32m-> 2981\u001b[1;33m     \u001b[1;32mreturn\u001b[0m \u001b[0marray_ops\u001b[0m\u001b[1;33m.\u001b[0m\u001b[0mzeros\u001b[0m\u001b[1;33m(\u001b[0m\u001b[0minit_state_size\u001b[0m\u001b[1;33m,\u001b[0m \u001b[0mdtype\u001b[0m\u001b[1;33m=\u001b[0m\u001b[0mdtype\u001b[0m\u001b[1;33m)\u001b[0m\u001b[1;33m\u001b[0m\u001b[1;33m\u001b[0m\u001b[0m\n\u001b[0m\u001b[0;32m   2982\u001b[0m \u001b[1;33m\u001b[0m\u001b[0m\n\u001b[0;32m   2983\u001b[0m   \u001b[1;32mif\u001b[0m \u001b[0mnest\u001b[0m\u001b[1;33m.\u001b[0m\u001b[0mis_sequence\u001b[0m\u001b[1;33m(\u001b[0m\u001b[0mstate_size\u001b[0m\u001b[1;33m)\u001b[0m\u001b[1;33m:\u001b[0m\u001b[1;33m\u001b[0m\u001b[1;33m\u001b[0m\u001b[0m\n",
      "\u001b[1;32mC:\\Programs\\Anaconda\\anaconda3\\lib\\site-packages\\tensorflow\\python\\util\\dispatch.py\u001b[0m in \u001b[0;36mwrapper\u001b[1;34m(*args, **kwargs)\u001b[0m\n\u001b[0;32m    199\u001b[0m     \u001b[1;34m\"\"\"Call target, and fall back on dispatchers if there is a TypeError.\"\"\"\u001b[0m\u001b[1;33m\u001b[0m\u001b[1;33m\u001b[0m\u001b[0m\n\u001b[0;32m    200\u001b[0m     \u001b[1;32mtry\u001b[0m\u001b[1;33m:\u001b[0m\u001b[1;33m\u001b[0m\u001b[1;33m\u001b[0m\u001b[0m\n\u001b[1;32m--> 201\u001b[1;33m       \u001b[1;32mreturn\u001b[0m \u001b[0mtarget\u001b[0m\u001b[1;33m(\u001b[0m\u001b[1;33m*\u001b[0m\u001b[0margs\u001b[0m\u001b[1;33m,\u001b[0m \u001b[1;33m**\u001b[0m\u001b[0mkwargs\u001b[0m\u001b[1;33m)\u001b[0m\u001b[1;33m\u001b[0m\u001b[1;33m\u001b[0m\u001b[0m\n\u001b[0m\u001b[0;32m    202\u001b[0m     \u001b[1;32mexcept\u001b[0m \u001b[1;33m(\u001b[0m\u001b[0mTypeError\u001b[0m\u001b[1;33m,\u001b[0m \u001b[0mValueError\u001b[0m\u001b[1;33m)\u001b[0m\u001b[1;33m:\u001b[0m\u001b[1;33m\u001b[0m\u001b[1;33m\u001b[0m\u001b[0m\n\u001b[0;32m    203\u001b[0m       \u001b[1;31m# Note: convert_to_eager_tensor currently raises a ValueError, not a\u001b[0m\u001b[1;33m\u001b[0m\u001b[1;33m\u001b[0m\u001b[1;33m\u001b[0m\u001b[0m\n",
      "\u001b[1;32mC:\\Programs\\Anaconda\\anaconda3\\lib\\site-packages\\tensorflow\\python\\ops\\array_ops.py\u001b[0m in \u001b[0;36mwrapped\u001b[1;34m(*args, **kwargs)\u001b[0m\n\u001b[0;32m   2745\u001b[0m \u001b[1;33m\u001b[0m\u001b[0m\n\u001b[0;32m   2746\u001b[0m   \u001b[1;32mdef\u001b[0m \u001b[0mwrapped\u001b[0m\u001b[1;33m(\u001b[0m\u001b[1;33m*\u001b[0m\u001b[0margs\u001b[0m\u001b[1;33m,\u001b[0m \u001b[1;33m**\u001b[0m\u001b[0mkwargs\u001b[0m\u001b[1;33m)\u001b[0m\u001b[1;33m:\u001b[0m\u001b[1;33m\u001b[0m\u001b[1;33m\u001b[0m\u001b[0m\n\u001b[1;32m-> 2747\u001b[1;33m     \u001b[0mtensor\u001b[0m \u001b[1;33m=\u001b[0m \u001b[0mfun\u001b[0m\u001b[1;33m(\u001b[0m\u001b[1;33m*\u001b[0m\u001b[0margs\u001b[0m\u001b[1;33m,\u001b[0m \u001b[1;33m**\u001b[0m\u001b[0mkwargs\u001b[0m\u001b[1;33m)\u001b[0m\u001b[1;33m\u001b[0m\u001b[1;33m\u001b[0m\u001b[0m\n\u001b[0m\u001b[0;32m   2748\u001b[0m     \u001b[0mtensor\u001b[0m\u001b[1;33m.\u001b[0m\u001b[0m_is_zeros_tensor\u001b[0m \u001b[1;33m=\u001b[0m \u001b[1;32mTrue\u001b[0m\u001b[1;33m\u001b[0m\u001b[1;33m\u001b[0m\u001b[0m\n\u001b[0;32m   2749\u001b[0m     \u001b[1;32mreturn\u001b[0m \u001b[0mtensor\u001b[0m\u001b[1;33m\u001b[0m\u001b[1;33m\u001b[0m\u001b[0m\n",
      "\u001b[1;32mC:\\Programs\\Anaconda\\anaconda3\\lib\\site-packages\\tensorflow\\python\\ops\\array_ops.py\u001b[0m in \u001b[0;36mzeros\u001b[1;34m(shape, dtype, name)\u001b[0m\n\u001b[0;32m   2792\u001b[0m           \u001b[1;31m# Create a constant if it won't be very big. Otherwise create a fill\u001b[0m\u001b[1;33m\u001b[0m\u001b[1;33m\u001b[0m\u001b[1;33m\u001b[0m\u001b[0m\n\u001b[0;32m   2793\u001b[0m           \u001b[1;31m# op to prevent serialized GraphDefs from becoming too large.\u001b[0m\u001b[1;33m\u001b[0m\u001b[1;33m\u001b[0m\u001b[1;33m\u001b[0m\u001b[0m\n\u001b[1;32m-> 2794\u001b[1;33m           \u001b[0moutput\u001b[0m \u001b[1;33m=\u001b[0m \u001b[0m_constant_if_small\u001b[0m\u001b[1;33m(\u001b[0m\u001b[0mzero\u001b[0m\u001b[1;33m,\u001b[0m \u001b[0mshape\u001b[0m\u001b[1;33m,\u001b[0m \u001b[0mdtype\u001b[0m\u001b[1;33m,\u001b[0m \u001b[0mname\u001b[0m\u001b[1;33m)\u001b[0m\u001b[1;33m\u001b[0m\u001b[1;33m\u001b[0m\u001b[0m\n\u001b[0m\u001b[0;32m   2795\u001b[0m           \u001b[1;32mif\u001b[0m \u001b[0moutput\u001b[0m \u001b[1;32mis\u001b[0m \u001b[1;32mnot\u001b[0m \u001b[1;32mNone\u001b[0m\u001b[1;33m:\u001b[0m\u001b[1;33m\u001b[0m\u001b[1;33m\u001b[0m\u001b[0m\n\u001b[0;32m   2796\u001b[0m             \u001b[1;32mreturn\u001b[0m \u001b[0moutput\u001b[0m\u001b[1;33m\u001b[0m\u001b[1;33m\u001b[0m\u001b[0m\n",
      "\u001b[1;32mC:\\Programs\\Anaconda\\anaconda3\\lib\\site-packages\\tensorflow\\python\\ops\\array_ops.py\u001b[0m in \u001b[0;36m_constant_if_small\u001b[1;34m(value, shape, dtype, name)\u001b[0m\n\u001b[0;32m   2730\u001b[0m \u001b[1;32mdef\u001b[0m \u001b[0m_constant_if_small\u001b[0m\u001b[1;33m(\u001b[0m\u001b[0mvalue\u001b[0m\u001b[1;33m,\u001b[0m \u001b[0mshape\u001b[0m\u001b[1;33m,\u001b[0m \u001b[0mdtype\u001b[0m\u001b[1;33m,\u001b[0m \u001b[0mname\u001b[0m\u001b[1;33m)\u001b[0m\u001b[1;33m:\u001b[0m\u001b[1;33m\u001b[0m\u001b[1;33m\u001b[0m\u001b[0m\n\u001b[0;32m   2731\u001b[0m   \u001b[1;32mtry\u001b[0m\u001b[1;33m:\u001b[0m\u001b[1;33m\u001b[0m\u001b[1;33m\u001b[0m\u001b[0m\n\u001b[1;32m-> 2732\u001b[1;33m     \u001b[1;32mif\u001b[0m \u001b[0mnp\u001b[0m\u001b[1;33m.\u001b[0m\u001b[0mprod\u001b[0m\u001b[1;33m(\u001b[0m\u001b[0mshape\u001b[0m\u001b[1;33m)\u001b[0m \u001b[1;33m<\u001b[0m \u001b[1;36m1000\u001b[0m\u001b[1;33m:\u001b[0m\u001b[1;33m\u001b[0m\u001b[1;33m\u001b[0m\u001b[0m\n\u001b[0m\u001b[0;32m   2733\u001b[0m       \u001b[1;32mreturn\u001b[0m \u001b[0mconstant\u001b[0m\u001b[1;33m(\u001b[0m\u001b[0mvalue\u001b[0m\u001b[1;33m,\u001b[0m \u001b[0mshape\u001b[0m\u001b[1;33m=\u001b[0m\u001b[0mshape\u001b[0m\u001b[1;33m,\u001b[0m \u001b[0mdtype\u001b[0m\u001b[1;33m=\u001b[0m\u001b[0mdtype\u001b[0m\u001b[1;33m,\u001b[0m \u001b[0mname\u001b[0m\u001b[1;33m=\u001b[0m\u001b[0mname\u001b[0m\u001b[1;33m)\u001b[0m\u001b[1;33m\u001b[0m\u001b[1;33m\u001b[0m\u001b[0m\n\u001b[0;32m   2734\u001b[0m   \u001b[1;32mexcept\u001b[0m \u001b[0mTypeError\u001b[0m\u001b[1;33m:\u001b[0m\u001b[1;33m\u001b[0m\u001b[1;33m\u001b[0m\u001b[0m\n",
      "\u001b[1;32m<__array_function__ internals>\u001b[0m in \u001b[0;36mprod\u001b[1;34m(*args, **kwargs)\u001b[0m\n",
      "\u001b[1;32mC:\\Programs\\Anaconda\\anaconda3\\lib\\site-packages\\numpy\\core\\fromnumeric.py\u001b[0m in \u001b[0;36mprod\u001b[1;34m(a, axis, dtype, out, keepdims, initial, where)\u001b[0m\n\u001b[0;32m   3029\u001b[0m     \"\"\"\n\u001b[0;32m   3030\u001b[0m     return _wrapreduction(a, np.multiply, 'prod', axis, dtype, out,\n\u001b[1;32m-> 3031\u001b[1;33m                           keepdims=keepdims, initial=initial, where=where)\n\u001b[0m\u001b[0;32m   3032\u001b[0m \u001b[1;33m\u001b[0m\u001b[0m\n\u001b[0;32m   3033\u001b[0m \u001b[1;33m\u001b[0m\u001b[0m\n",
      "\u001b[1;32mC:\\Programs\\Anaconda\\anaconda3\\lib\\site-packages\\numpy\\core\\fromnumeric.py\u001b[0m in \u001b[0;36m_wrapreduction\u001b[1;34m(obj, ufunc, method, axis, dtype, out, **kwargs)\u001b[0m\n\u001b[0;32m     85\u001b[0m                 \u001b[1;32mreturn\u001b[0m \u001b[0mreduction\u001b[0m\u001b[1;33m(\u001b[0m\u001b[0maxis\u001b[0m\u001b[1;33m=\u001b[0m\u001b[0maxis\u001b[0m\u001b[1;33m,\u001b[0m \u001b[0mout\u001b[0m\u001b[1;33m=\u001b[0m\u001b[0mout\u001b[0m\u001b[1;33m,\u001b[0m \u001b[1;33m**\u001b[0m\u001b[0mpasskwargs\u001b[0m\u001b[1;33m)\u001b[0m\u001b[1;33m\u001b[0m\u001b[1;33m\u001b[0m\u001b[0m\n\u001b[0;32m     86\u001b[0m \u001b[1;33m\u001b[0m\u001b[0m\n\u001b[1;32m---> 87\u001b[1;33m     \u001b[1;32mreturn\u001b[0m \u001b[0mufunc\u001b[0m\u001b[1;33m.\u001b[0m\u001b[0mreduce\u001b[0m\u001b[1;33m(\u001b[0m\u001b[0mobj\u001b[0m\u001b[1;33m,\u001b[0m \u001b[0maxis\u001b[0m\u001b[1;33m,\u001b[0m \u001b[0mdtype\u001b[0m\u001b[1;33m,\u001b[0m \u001b[0mout\u001b[0m\u001b[1;33m,\u001b[0m \u001b[1;33m**\u001b[0m\u001b[0mpasskwargs\u001b[0m\u001b[1;33m)\u001b[0m\u001b[1;33m\u001b[0m\u001b[1;33m\u001b[0m\u001b[0m\n\u001b[0m\u001b[0;32m     88\u001b[0m \u001b[1;33m\u001b[0m\u001b[0m\n\u001b[0;32m     89\u001b[0m \u001b[1;33m\u001b[0m\u001b[0m\n",
      "\u001b[1;32mC:\\Programs\\Anaconda\\anaconda3\\lib\\site-packages\\tensorflow\\python\\framework\\ops.py\u001b[0m in \u001b[0;36m__array__\u001b[1;34m(self)\u001b[0m\n\u001b[0;32m    846\u001b[0m         \u001b[1;34m\"Cannot convert a symbolic Tensor ({}) to a numpy array.\"\u001b[0m\u001b[1;33m\u001b[0m\u001b[1;33m\u001b[0m\u001b[0m\n\u001b[0;32m    847\u001b[0m         \u001b[1;34m\" This error may indicate that you're trying to pass a Tensor to\"\u001b[0m\u001b[1;33m\u001b[0m\u001b[1;33m\u001b[0m\u001b[0m\n\u001b[1;32m--> 848\u001b[1;33m         \" a NumPy call, which is not supported\".format(self.name))\n\u001b[0m\u001b[0;32m    849\u001b[0m \u001b[1;33m\u001b[0m\u001b[0m\n\u001b[0;32m    850\u001b[0m   \u001b[1;32mdef\u001b[0m \u001b[0m__len__\u001b[0m\u001b[1;33m(\u001b[0m\u001b[0mself\u001b[0m\u001b[1;33m)\u001b[0m\u001b[1;33m:\u001b[0m\u001b[1;33m\u001b[0m\u001b[1;33m\u001b[0m\u001b[0m\n",
      "\u001b[1;31mNotImplementedError\u001b[0m: Cannot convert a symbolic Tensor (gru/strided_slice:0) to a numpy array. This error may indicate that you're trying to pass a Tensor to a NumPy call, which is not supported"
     ]
    }
   ],
   "source": [
    "model_gru = Sequential()\n",
    "model_gru.add(Embedding(num_words, 32, input_length=max_news_len))\n",
    "model_gru.add(GRU(16))\n",
    "model_gru.add(Dense(4, activation='softmax'))"
   ]
  },
  {
   "cell_type": "code",
   "execution_count": null,
   "id": "798901f1",
   "metadata": {},
   "outputs": [],
   "source": []
  }
 ],
 "metadata": {
  "kernelspec": {
   "display_name": "Python 3",
   "language": "python",
   "name": "python3"
  },
  "language_info": {
   "codemirror_mode": {
    "name": "ipython",
    "version": 3
   },
   "file_extension": ".py",
   "mimetype": "text/x-python",
   "name": "python",
   "nbconvert_exporter": "python",
   "pygments_lexer": "ipython3",
   "version": "3.7.10"
  }
 },
 "nbformat": 4,
 "nbformat_minor": 5
}
