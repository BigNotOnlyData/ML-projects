{
 "cells": [
  {
   "cell_type": "markdown",
   "id": "61e9f3b7",
   "metadata": {},
   "source": [
    "# Paris"
   ]
  },
  {
   "cell_type": "markdown",
   "id": "0bfdd90a",
   "metadata": {},
   "source": [
    "Дана выборка недвижимости в Париже в файле ParisHousing.csv\n",
    "\n",
    "Необходимо определить оптимальное число кластеров для данной выборки при помощи метода kMeans с использованием метода “локтя” с шагом 20 "
   ]
  },
  {
   "cell_type": "markdown",
   "id": "451a00e3",
   "metadata": {},
   "source": [
    "[Метод локтя](http://espressocode.top/elbow-method-for-optimal-value-of-k-in-kmeans/)"
   ]
  },
  {
   "cell_type": "markdown",
   "id": "bf9189da",
   "metadata": {},
   "source": [
    "## 1. Разведочный анализ"
   ]
  },
  {
   "cell_type": "code",
   "execution_count": 1,
   "id": "c00c07db",
   "metadata": {},
   "outputs": [],
   "source": [
    "import pandas as pd\n",
    "import numpy as np\n",
    "import matplotlib.pyplot as plt\n",
    "import seaborn as sns\n",
    "from sklearn.cluster import KMeans"
   ]
  },
  {
   "cell_type": "code",
   "execution_count": 2,
   "id": "27e76388",
   "metadata": {},
   "outputs": [],
   "source": [
    "import warnings\n",
    "warnings.filterwarnings('ignore')"
   ]
  },
  {
   "cell_type": "code",
   "execution_count": 3,
   "id": "ef71eb3f",
   "metadata": {},
   "outputs": [
    {
     "data": {
      "text/html": [
       "<div>\n",
       "<style scoped>\n",
       "    .dataframe tbody tr th:only-of-type {\n",
       "        vertical-align: middle;\n",
       "    }\n",
       "\n",
       "    .dataframe tbody tr th {\n",
       "        vertical-align: top;\n",
       "    }\n",
       "\n",
       "    .dataframe thead th {\n",
       "        text-align: right;\n",
       "    }\n",
       "</style>\n",
       "<table border=\"1\" class=\"dataframe\">\n",
       "  <thead>\n",
       "    <tr style=\"text-align: right;\">\n",
       "      <th></th>\n",
       "      <th>squareMeters</th>\n",
       "      <th>numberOfRooms</th>\n",
       "      <th>floors</th>\n",
       "      <th>cityCode</th>\n",
       "      <th>cityPartRange</th>\n",
       "      <th>numPrevOwners</th>\n",
       "      <th>made</th>\n",
       "      <th>isNewBuilt</th>\n",
       "      <th>hasStormProtector</th>\n",
       "      <th>basement</th>\n",
       "      <th>attic</th>\n",
       "      <th>garage</th>\n",
       "      <th>hasStorageRoom</th>\n",
       "      <th>hasGuestRoom</th>\n",
       "      <th>price</th>\n",
       "      <th>category</th>\n",
       "      <th>PoolAndYard</th>\n",
       "    </tr>\n",
       "  </thead>\n",
       "  <tbody>\n",
       "    <tr>\n",
       "      <th>0</th>\n",
       "      <td>75523</td>\n",
       "      <td>three</td>\n",
       "      <td>63</td>\n",
       "      <td>9373</td>\n",
       "      <td>3</td>\n",
       "      <td>8</td>\n",
       "      <td>2005</td>\n",
       "      <td>False</td>\n",
       "      <td>True</td>\n",
       "      <td>4313</td>\n",
       "      <td>9005</td>\n",
       "      <td>956</td>\n",
       "      <td>False</td>\n",
       "      <td>7</td>\n",
       "      <td>7559081.5</td>\n",
       "      <td>Basic</td>\n",
       "      <td>has pool and no yard</td>\n",
       "    </tr>\n",
       "    <tr>\n",
       "      <th>1</th>\n",
       "      <td>80771</td>\n",
       "      <td>thirty-nine</td>\n",
       "      <td>98</td>\n",
       "      <td>39381</td>\n",
       "      <td>8</td>\n",
       "      <td>6</td>\n",
       "      <td>2015</td>\n",
       "      <td>True</td>\n",
       "      <td>False</td>\n",
       "      <td>3653</td>\n",
       "      <td>2436</td>\n",
       "      <td>128</td>\n",
       "      <td>True</td>\n",
       "      <td>2</td>\n",
       "      <td>8085989.5</td>\n",
       "      <td>Luxury</td>\n",
       "      <td>has pool and has yard</td>\n",
       "    </tr>\n",
       "    <tr>\n",
       "      <th>2</th>\n",
       "      <td>55712</td>\n",
       "      <td>fifty-eight</td>\n",
       "      <td>19</td>\n",
       "      <td>34457</td>\n",
       "      <td>6</td>\n",
       "      <td>8</td>\n",
       "      <td>2021</td>\n",
       "      <td>False</td>\n",
       "      <td>False</td>\n",
       "      <td>2937</td>\n",
       "      <td>8852</td>\n",
       "      <td>135</td>\n",
       "      <td>True</td>\n",
       "      <td>9</td>\n",
       "      <td>5574642.1</td>\n",
       "      <td>Basic</td>\n",
       "      <td>has pool and no yard</td>\n",
       "    </tr>\n",
       "    <tr>\n",
       "      <th>3</th>\n",
       "      <td>32316</td>\n",
       "      <td>forty-seven</td>\n",
       "      <td>6</td>\n",
       "      <td>27939</td>\n",
       "      <td>10</td>\n",
       "      <td>4</td>\n",
       "      <td>2012</td>\n",
       "      <td>False</td>\n",
       "      <td>True</td>\n",
       "      <td>659</td>\n",
       "      <td>7141</td>\n",
       "      <td>359</td>\n",
       "      <td>False</td>\n",
       "      <td>3</td>\n",
       "      <td>3232561.2</td>\n",
       "      <td>Basic</td>\n",
       "      <td>no pool and no yard</td>\n",
       "    </tr>\n",
       "    <tr>\n",
       "      <th>4</th>\n",
       "      <td>70429</td>\n",
       "      <td>nineteen</td>\n",
       "      <td>90</td>\n",
       "      <td>38045</td>\n",
       "      <td>3</td>\n",
       "      <td>7</td>\n",
       "      <td>1990</td>\n",
       "      <td>True</td>\n",
       "      <td>False</td>\n",
       "      <td>8435</td>\n",
       "      <td>2429</td>\n",
       "      <td>292</td>\n",
       "      <td>True</td>\n",
       "      <td>4</td>\n",
       "      <td>7055052.0</td>\n",
       "      <td>Luxury</td>\n",
       "      <td>has pool and has yard</td>\n",
       "    </tr>\n",
       "  </tbody>\n",
       "</table>\n",
       "</div>"
      ],
      "text/plain": [
       "   squareMeters numberOfRooms  floors  cityCode  cityPartRange  numPrevOwners  \\\n",
       "0         75523         three      63      9373              3              8   \n",
       "1         80771   thirty-nine      98     39381              8              6   \n",
       "2         55712   fifty-eight      19     34457              6              8   \n",
       "3         32316   forty-seven       6     27939             10              4   \n",
       "4         70429      nineteen      90     38045              3              7   \n",
       "\n",
       "   made  isNewBuilt  hasStormProtector  basement  attic  garage  \\\n",
       "0  2005       False               True      4313   9005     956   \n",
       "1  2015        True              False      3653   2436     128   \n",
       "2  2021       False              False      2937   8852     135   \n",
       "3  2012       False               True       659   7141     359   \n",
       "4  1990        True              False      8435   2429     292   \n",
       "\n",
       "   hasStorageRoom  hasGuestRoom      price category            PoolAndYard  \n",
       "0           False             7  7559081.5    Basic   has pool and no yard  \n",
       "1            True             2  8085989.5   Luxury  has pool and has yard  \n",
       "2            True             9  5574642.1    Basic   has pool and no yard  \n",
       "3           False             3  3232561.2    Basic    no pool and no yard  \n",
       "4            True             4  7055052.0   Luxury  has pool and has yard  "
      ]
     },
     "execution_count": 3,
     "metadata": {},
     "output_type": "execute_result"
    }
   ],
   "source": [
    "df = pd.read_csv('Data/ParisHousing.csv', index_col=0)\n",
    "df.head()"
   ]
  },
  {
   "cell_type": "code",
   "execution_count": 4,
   "id": "b5c11c9e",
   "metadata": {},
   "outputs": [
    {
     "name": "stdout",
     "output_type": "stream",
     "text": [
      "<class 'pandas.core.frame.DataFrame'>\n",
      "Int64Index: 10000 entries, 0 to 9999\n",
      "Data columns (total 17 columns):\n",
      " #   Column             Non-Null Count  Dtype  \n",
      "---  ------             --------------  -----  \n",
      " 0   squareMeters       10000 non-null  int64  \n",
      " 1   numberOfRooms      10000 non-null  object \n",
      " 2   floors             10000 non-null  int64  \n",
      " 3   cityCode           10000 non-null  int64  \n",
      " 4   cityPartRange      10000 non-null  int64  \n",
      " 5   numPrevOwners      10000 non-null  int64  \n",
      " 6   made               10000 non-null  int64  \n",
      " 7   isNewBuilt         10000 non-null  bool   \n",
      " 8   hasStormProtector  10000 non-null  bool   \n",
      " 9   basement           10000 non-null  int64  \n",
      " 10  attic              10000 non-null  int64  \n",
      " 11  garage             10000 non-null  int64  \n",
      " 12  hasStorageRoom     10000 non-null  bool   \n",
      " 13  hasGuestRoom       10000 non-null  int64  \n",
      " 14  price              10000 non-null  float64\n",
      " 15  category           10000 non-null  object \n",
      " 16  PoolAndYard        10000 non-null  object \n",
      "dtypes: bool(3), float64(1), int64(10), object(3)\n",
      "memory usage: 1.2+ MB\n"
     ]
    }
   ],
   "source": [
    "df.info()"
   ]
  },
  {
   "cell_type": "code",
   "execution_count": 5,
   "id": "8322d774",
   "metadata": {},
   "outputs": [
    {
     "data": {
      "text/plain": [
       "array(['three', 'thirty-nine', 'fifty-eight', 'forty-seven', 'nineteen',\n",
       "       'thirty-six', 'ten', 'one hundred', 'forty-two', 'twenty-one',\n",
       "       'seventy-four', 'thirty-one', 'forty-four', 'sixty',\n",
       "       'eighty-eight', 'thirty-seven', 'forty-three', 'sixty-four',\n",
       "       'twelve', 'fifty-one', 'fifty-six', 'forty-six', 'seventy-two',\n",
       "       'seven', 'ninety-eight', 'forty', 'seventy-eight', 'eighty-nine',\n",
       "       'twenty-nine', 'eighty-seven', 'eight', 'twenty-seven',\n",
       "       'fifty-nine', 'thirty-eight', 'forty-nine', 'sixty-six',\n",
       "       'twenty-two', 'ninety-seven', 'twenty-five', 'fifty-two', 'eleven',\n",
       "       'six', 'eighty-two', 'seventeen', 'fifty-seven', 'nine', 'fifteen',\n",
       "       'forty-eight', 'five', 'twenty-eight', 'twenty', 'sixty-seven',\n",
       "       'ninety-nine', 'seventy-three', 'fifty', 'sixty-nine', 'four',\n",
       "       'seventy-five', 'sixty-one', 'fifty-five', 'ninety-two',\n",
       "       'twenty-three', 'ninety-three', 'seventy-one', 'thirty-five',\n",
       "       'ninety-four', 'twenty-four', 'eighty-one', 'ninety-one',\n",
       "       'seventy-seven', 'sixty-eight', 'seventy', 'fifty-four',\n",
       "       'forty-five', 'sixty-three', 'eighty-four', 'thirty-four',\n",
       "       'seventy-six', 'ninety-six', 'one', 'ninety', 'ninety-five',\n",
       "       'eighteen', 'two', 'fifty-three', 'forty-one', 'twenty-six',\n",
       "       'sixteen', 'thirteen', 'sixty-five', 'eighty-three', 'sixty-two',\n",
       "       'seventy-nine', 'thirty', 'eighty-five', 'eighty', 'thirty-three',\n",
       "       'fourteen', 'thirty-two', 'eighty-six'], dtype=object)"
      ]
     },
     "execution_count": 5,
     "metadata": {},
     "output_type": "execute_result"
    }
   ],
   "source": [
    "df['numberOfRooms'].unique()"
   ]
  },
  {
   "cell_type": "markdown",
   "id": "041d973f",
   "metadata": {},
   "source": [
    "Количесиво комнат представлено словами. Конвертируем числа в буквенном формате в циферный формат. Так модель сможет сравнивать примеры между собой"
   ]
  },
  {
   "cell_type": "code",
   "execution_count": 6,
   "id": "204173c9",
   "metadata": {},
   "outputs": [],
   "source": [
    "numbers = {'one': 1, 'two': 2, 'three': 3, 'four': 4, 'five': 5, 'six': 6, 'seven': 7, 'eight': 8,\n",
    "         'nine': 9, 'ten': 10, 'eleven': 11, 'twelve': 12, 'thirteen': 13, 'fourteen': 14,\n",
    "         'fifteen': 15, 'sixteen': 16, 'seventeen': 17, 'eighteen': 18, 'nineteen': 19,\n",
    "         'twenty': 20, 'thirty': 30, 'forty': 40, 'fifty': 50, 'sixty': 60, 'seventy': 70,\n",
    "         'eighty': 80, 'ninety': 90, 'one_hundred': 100}"
   ]
  },
  {
   "cell_type": "code",
   "execution_count": 7,
   "id": "b007092e",
   "metadata": {},
   "outputs": [],
   "source": [
    "def str_to_num(element):\n",
    "    if 'one hundred' in element:\n",
    "        element = element.replace('one hundred', 'one_hundred')\n",
    "    \n",
    "    lst = element.split('-')\n",
    "\n",
    "    return sum([numbers[el] for el in lst if el in numbers])"
   ]
  },
  {
   "cell_type": "code",
   "execution_count": 8,
   "id": "e45239dc",
   "metadata": {},
   "outputs": [],
   "source": [
    "df['numberOfRooms'] = df['numberOfRooms'].apply(str_to_num)"
   ]
  },
  {
   "cell_type": "markdown",
   "id": "b429f50b",
   "metadata": {},
   "source": [
    "Факторизум категорию жилья"
   ]
  },
  {
   "cell_type": "code",
   "execution_count": 9,
   "id": "6df60ae4",
   "metadata": {},
   "outputs": [
    {
     "data": {
      "text/plain": [
       "array(['Basic', 'Luxury'], dtype=object)"
      ]
     },
     "execution_count": 9,
     "metadata": {},
     "output_type": "execute_result"
    }
   ],
   "source": [
    "df['category'].unique()"
   ]
  },
  {
   "cell_type": "code",
   "execution_count": 10,
   "id": "df11cc08",
   "metadata": {},
   "outputs": [],
   "source": [
    "df['category'] = df['category'].map({'Basic': 0, 'Luxury': 1})"
   ]
  },
  {
   "cell_type": "markdown",
   "id": "69af9a6c",
   "metadata": {},
   "source": [
    "Разделим колонку `PoolAndYard` на две для лучшего понимания"
   ]
  },
  {
   "cell_type": "code",
   "execution_count": 11,
   "id": "57c52f20",
   "metadata": {},
   "outputs": [
    {
     "data": {
      "text/plain": [
       "array(['has pool and no yard', 'has pool and has yard',\n",
       "       'no pool and no yard', 'no pool and has yard'], dtype=object)"
      ]
     },
     "execution_count": 11,
     "metadata": {},
     "output_type": "execute_result"
    }
   ],
   "source": [
    "df['PoolAndYard'].unique()"
   ]
  },
  {
   "cell_type": "code",
   "execution_count": 12,
   "id": "f44b9144",
   "metadata": {},
   "outputs": [],
   "source": [
    "def has_pool(cell):\n",
    "    return 1 if 'has pool' in cell else 0"
   ]
  },
  {
   "cell_type": "code",
   "execution_count": 13,
   "id": "d15ddfcc",
   "metadata": {},
   "outputs": [],
   "source": [
    "def has_yard(cell):\n",
    "    return 1 if 'has yard' in cell else 0"
   ]
  },
  {
   "cell_type": "code",
   "execution_count": 14,
   "id": "f32700e8",
   "metadata": {},
   "outputs": [],
   "source": [
    "df['hasPool'] = df['PoolAndYard'].apply(has_pool)"
   ]
  },
  {
   "cell_type": "code",
   "execution_count": 15,
   "id": "a9a1d4bd",
   "metadata": {},
   "outputs": [],
   "source": [
    "df['hasYard'] = df['PoolAndYard'].apply(has_yard)"
   ]
  },
  {
   "cell_type": "markdown",
   "id": "609833c7",
   "metadata": {},
   "source": [
    "Переведем в числа булевы выражения"
   ]
  },
  {
   "cell_type": "code",
   "execution_count": 16,
   "id": "4858ba3f",
   "metadata": {},
   "outputs": [],
   "source": [
    "new_built_factor, types = df['isNewBuilt'].factorize(sort=True)\n",
    "df['isNewBuilt'] = new_built_factor"
   ]
  },
  {
   "cell_type": "code",
   "execution_count": 17,
   "id": "d86a80fa",
   "metadata": {},
   "outputs": [
    {
     "data": {
      "text/plain": [
       "Index([False, True], dtype='object')"
      ]
     },
     "execution_count": 17,
     "metadata": {},
     "output_type": "execute_result"
    }
   ],
   "source": [
    "types"
   ]
  },
  {
   "cell_type": "code",
   "execution_count": 18,
   "id": "57e7ddc6",
   "metadata": {},
   "outputs": [],
   "source": [
    "protector_factor, types = df['hasStormProtector'].factorize(sort=True)\n",
    "df['hasStormProtector'] = protector_factor"
   ]
  },
  {
   "cell_type": "code",
   "execution_count": 19,
   "id": "357e04ae",
   "metadata": {},
   "outputs": [
    {
     "data": {
      "text/plain": [
       "Index([False, True], dtype='object')"
      ]
     },
     "execution_count": 19,
     "metadata": {},
     "output_type": "execute_result"
    }
   ],
   "source": [
    "types"
   ]
  },
  {
   "cell_type": "code",
   "execution_count": 20,
   "id": "3a15180b",
   "metadata": {},
   "outputs": [],
   "source": [
    "protector_factor, types = df['hasStorageRoom'].factorize(sort=True)\n",
    "df['hasStorageRoom'] = protector_factor"
   ]
  },
  {
   "cell_type": "code",
   "execution_count": 21,
   "id": "ef5c6375",
   "metadata": {},
   "outputs": [
    {
     "data": {
      "text/plain": [
       "Index([False, True], dtype='object')"
      ]
     },
     "execution_count": 21,
     "metadata": {},
     "output_type": "execute_result"
    }
   ],
   "source": [
    "types"
   ]
  },
  {
   "cell_type": "markdown",
   "id": "8aac08a8",
   "metadata": {},
   "source": [
    "Данные после преобразования"
   ]
  },
  {
   "cell_type": "code",
   "execution_count": 22,
   "id": "a6ff28e8",
   "metadata": {},
   "outputs": [
    {
     "data": {
      "text/html": [
       "<div>\n",
       "<style scoped>\n",
       "    .dataframe tbody tr th:only-of-type {\n",
       "        vertical-align: middle;\n",
       "    }\n",
       "\n",
       "    .dataframe tbody tr th {\n",
       "        vertical-align: top;\n",
       "    }\n",
       "\n",
       "    .dataframe thead th {\n",
       "        text-align: right;\n",
       "    }\n",
       "</style>\n",
       "<table border=\"1\" class=\"dataframe\">\n",
       "  <thead>\n",
       "    <tr style=\"text-align: right;\">\n",
       "      <th></th>\n",
       "      <th>squareMeters</th>\n",
       "      <th>numberOfRooms</th>\n",
       "      <th>floors</th>\n",
       "      <th>cityCode</th>\n",
       "      <th>cityPartRange</th>\n",
       "      <th>numPrevOwners</th>\n",
       "      <th>made</th>\n",
       "      <th>isNewBuilt</th>\n",
       "      <th>hasStormProtector</th>\n",
       "      <th>basement</th>\n",
       "      <th>attic</th>\n",
       "      <th>garage</th>\n",
       "      <th>hasStorageRoom</th>\n",
       "      <th>hasGuestRoom</th>\n",
       "      <th>price</th>\n",
       "      <th>category</th>\n",
       "      <th>PoolAndYard</th>\n",
       "      <th>hasPool</th>\n",
       "      <th>hasYard</th>\n",
       "    </tr>\n",
       "  </thead>\n",
       "  <tbody>\n",
       "    <tr>\n",
       "      <th>0</th>\n",
       "      <td>75523</td>\n",
       "      <td>3</td>\n",
       "      <td>63</td>\n",
       "      <td>9373</td>\n",
       "      <td>3</td>\n",
       "      <td>8</td>\n",
       "      <td>2005</td>\n",
       "      <td>0</td>\n",
       "      <td>1</td>\n",
       "      <td>4313</td>\n",
       "      <td>9005</td>\n",
       "      <td>956</td>\n",
       "      <td>0</td>\n",
       "      <td>7</td>\n",
       "      <td>7559081.5</td>\n",
       "      <td>0</td>\n",
       "      <td>has pool and no yard</td>\n",
       "      <td>1</td>\n",
       "      <td>0</td>\n",
       "    </tr>\n",
       "    <tr>\n",
       "      <th>1</th>\n",
       "      <td>80771</td>\n",
       "      <td>39</td>\n",
       "      <td>98</td>\n",
       "      <td>39381</td>\n",
       "      <td>8</td>\n",
       "      <td>6</td>\n",
       "      <td>2015</td>\n",
       "      <td>1</td>\n",
       "      <td>0</td>\n",
       "      <td>3653</td>\n",
       "      <td>2436</td>\n",
       "      <td>128</td>\n",
       "      <td>1</td>\n",
       "      <td>2</td>\n",
       "      <td>8085989.5</td>\n",
       "      <td>1</td>\n",
       "      <td>has pool and has yard</td>\n",
       "      <td>1</td>\n",
       "      <td>1</td>\n",
       "    </tr>\n",
       "    <tr>\n",
       "      <th>2</th>\n",
       "      <td>55712</td>\n",
       "      <td>58</td>\n",
       "      <td>19</td>\n",
       "      <td>34457</td>\n",
       "      <td>6</td>\n",
       "      <td>8</td>\n",
       "      <td>2021</td>\n",
       "      <td>0</td>\n",
       "      <td>0</td>\n",
       "      <td>2937</td>\n",
       "      <td>8852</td>\n",
       "      <td>135</td>\n",
       "      <td>1</td>\n",
       "      <td>9</td>\n",
       "      <td>5574642.1</td>\n",
       "      <td>0</td>\n",
       "      <td>has pool and no yard</td>\n",
       "      <td>1</td>\n",
       "      <td>0</td>\n",
       "    </tr>\n",
       "    <tr>\n",
       "      <th>3</th>\n",
       "      <td>32316</td>\n",
       "      <td>47</td>\n",
       "      <td>6</td>\n",
       "      <td>27939</td>\n",
       "      <td>10</td>\n",
       "      <td>4</td>\n",
       "      <td>2012</td>\n",
       "      <td>0</td>\n",
       "      <td>1</td>\n",
       "      <td>659</td>\n",
       "      <td>7141</td>\n",
       "      <td>359</td>\n",
       "      <td>0</td>\n",
       "      <td>3</td>\n",
       "      <td>3232561.2</td>\n",
       "      <td>0</td>\n",
       "      <td>no pool and no yard</td>\n",
       "      <td>0</td>\n",
       "      <td>0</td>\n",
       "    </tr>\n",
       "    <tr>\n",
       "      <th>4</th>\n",
       "      <td>70429</td>\n",
       "      <td>19</td>\n",
       "      <td>90</td>\n",
       "      <td>38045</td>\n",
       "      <td>3</td>\n",
       "      <td>7</td>\n",
       "      <td>1990</td>\n",
       "      <td>1</td>\n",
       "      <td>0</td>\n",
       "      <td>8435</td>\n",
       "      <td>2429</td>\n",
       "      <td>292</td>\n",
       "      <td>1</td>\n",
       "      <td>4</td>\n",
       "      <td>7055052.0</td>\n",
       "      <td>1</td>\n",
       "      <td>has pool and has yard</td>\n",
       "      <td>1</td>\n",
       "      <td>1</td>\n",
       "    </tr>\n",
       "  </tbody>\n",
       "</table>\n",
       "</div>"
      ],
      "text/plain": [
       "   squareMeters  numberOfRooms  floors  cityCode  cityPartRange  \\\n",
       "0         75523              3      63      9373              3   \n",
       "1         80771             39      98     39381              8   \n",
       "2         55712             58      19     34457              6   \n",
       "3         32316             47       6     27939             10   \n",
       "4         70429             19      90     38045              3   \n",
       "\n",
       "   numPrevOwners  made  isNewBuilt  hasStormProtector  basement  attic  \\\n",
       "0              8  2005           0                  1      4313   9005   \n",
       "1              6  2015           1                  0      3653   2436   \n",
       "2              8  2021           0                  0      2937   8852   \n",
       "3              4  2012           0                  1       659   7141   \n",
       "4              7  1990           1                  0      8435   2429   \n",
       "\n",
       "   garage  hasStorageRoom  hasGuestRoom      price  category  \\\n",
       "0     956               0             7  7559081.5         0   \n",
       "1     128               1             2  8085989.5         1   \n",
       "2     135               1             9  5574642.1         0   \n",
       "3     359               0             3  3232561.2         0   \n",
       "4     292               1             4  7055052.0         1   \n",
       "\n",
       "             PoolAndYard  hasPool  hasYard  \n",
       "0   has pool and no yard        1        0  \n",
       "1  has pool and has yard        1        1  \n",
       "2   has pool and no yard        1        0  \n",
       "3    no pool and no yard        0        0  \n",
       "4  has pool and has yard        1        1  "
      ]
     },
     "execution_count": 22,
     "metadata": {},
     "output_type": "execute_result"
    }
   ],
   "source": [
    "df.head()"
   ]
  },
  {
   "cell_type": "code",
   "execution_count": 23,
   "id": "5914ce0d",
   "metadata": {},
   "outputs": [],
   "source": [
    "df.drop('PoolAndYard', axis=1, inplace=True)"
   ]
  },
  {
   "cell_type": "code",
   "execution_count": 24,
   "id": "dc3535bf",
   "metadata": {},
   "outputs": [
    {
     "data": {
      "text/html": [
       "<div>\n",
       "<style scoped>\n",
       "    .dataframe tbody tr th:only-of-type {\n",
       "        vertical-align: middle;\n",
       "    }\n",
       "\n",
       "    .dataframe tbody tr th {\n",
       "        vertical-align: top;\n",
       "    }\n",
       "\n",
       "    .dataframe thead th {\n",
       "        text-align: right;\n",
       "    }\n",
       "</style>\n",
       "<table border=\"1\" class=\"dataframe\">\n",
       "  <thead>\n",
       "    <tr style=\"text-align: right;\">\n",
       "      <th></th>\n",
       "      <th>squareMeters</th>\n",
       "      <th>numberOfRooms</th>\n",
       "      <th>floors</th>\n",
       "      <th>cityCode</th>\n",
       "      <th>cityPartRange</th>\n",
       "      <th>numPrevOwners</th>\n",
       "      <th>made</th>\n",
       "      <th>isNewBuilt</th>\n",
       "      <th>hasStormProtector</th>\n",
       "      <th>basement</th>\n",
       "      <th>attic</th>\n",
       "      <th>garage</th>\n",
       "      <th>hasStorageRoom</th>\n",
       "      <th>hasGuestRoom</th>\n",
       "      <th>price</th>\n",
       "      <th>category</th>\n",
       "      <th>hasPool</th>\n",
       "      <th>hasYard</th>\n",
       "    </tr>\n",
       "  </thead>\n",
       "  <tbody>\n",
       "    <tr>\n",
       "      <th>0</th>\n",
       "      <td>75523</td>\n",
       "      <td>3</td>\n",
       "      <td>63</td>\n",
       "      <td>9373</td>\n",
       "      <td>3</td>\n",
       "      <td>8</td>\n",
       "      <td>2005</td>\n",
       "      <td>0</td>\n",
       "      <td>1</td>\n",
       "      <td>4313</td>\n",
       "      <td>9005</td>\n",
       "      <td>956</td>\n",
       "      <td>0</td>\n",
       "      <td>7</td>\n",
       "      <td>7559081.5</td>\n",
       "      <td>0</td>\n",
       "      <td>1</td>\n",
       "      <td>0</td>\n",
       "    </tr>\n",
       "    <tr>\n",
       "      <th>1</th>\n",
       "      <td>80771</td>\n",
       "      <td>39</td>\n",
       "      <td>98</td>\n",
       "      <td>39381</td>\n",
       "      <td>8</td>\n",
       "      <td>6</td>\n",
       "      <td>2015</td>\n",
       "      <td>1</td>\n",
       "      <td>0</td>\n",
       "      <td>3653</td>\n",
       "      <td>2436</td>\n",
       "      <td>128</td>\n",
       "      <td>1</td>\n",
       "      <td>2</td>\n",
       "      <td>8085989.5</td>\n",
       "      <td>1</td>\n",
       "      <td>1</td>\n",
       "      <td>1</td>\n",
       "    </tr>\n",
       "    <tr>\n",
       "      <th>2</th>\n",
       "      <td>55712</td>\n",
       "      <td>58</td>\n",
       "      <td>19</td>\n",
       "      <td>34457</td>\n",
       "      <td>6</td>\n",
       "      <td>8</td>\n",
       "      <td>2021</td>\n",
       "      <td>0</td>\n",
       "      <td>0</td>\n",
       "      <td>2937</td>\n",
       "      <td>8852</td>\n",
       "      <td>135</td>\n",
       "      <td>1</td>\n",
       "      <td>9</td>\n",
       "      <td>5574642.1</td>\n",
       "      <td>0</td>\n",
       "      <td>1</td>\n",
       "      <td>0</td>\n",
       "    </tr>\n",
       "    <tr>\n",
       "      <th>3</th>\n",
       "      <td>32316</td>\n",
       "      <td>47</td>\n",
       "      <td>6</td>\n",
       "      <td>27939</td>\n",
       "      <td>10</td>\n",
       "      <td>4</td>\n",
       "      <td>2012</td>\n",
       "      <td>0</td>\n",
       "      <td>1</td>\n",
       "      <td>659</td>\n",
       "      <td>7141</td>\n",
       "      <td>359</td>\n",
       "      <td>0</td>\n",
       "      <td>3</td>\n",
       "      <td>3232561.2</td>\n",
       "      <td>0</td>\n",
       "      <td>0</td>\n",
       "      <td>0</td>\n",
       "    </tr>\n",
       "    <tr>\n",
       "      <th>4</th>\n",
       "      <td>70429</td>\n",
       "      <td>19</td>\n",
       "      <td>90</td>\n",
       "      <td>38045</td>\n",
       "      <td>3</td>\n",
       "      <td>7</td>\n",
       "      <td>1990</td>\n",
       "      <td>1</td>\n",
       "      <td>0</td>\n",
       "      <td>8435</td>\n",
       "      <td>2429</td>\n",
       "      <td>292</td>\n",
       "      <td>1</td>\n",
       "      <td>4</td>\n",
       "      <td>7055052.0</td>\n",
       "      <td>1</td>\n",
       "      <td>1</td>\n",
       "      <td>1</td>\n",
       "    </tr>\n",
       "  </tbody>\n",
       "</table>\n",
       "</div>"
      ],
      "text/plain": [
       "   squareMeters  numberOfRooms  floors  cityCode  cityPartRange  \\\n",
       "0         75523              3      63      9373              3   \n",
       "1         80771             39      98     39381              8   \n",
       "2         55712             58      19     34457              6   \n",
       "3         32316             47       6     27939             10   \n",
       "4         70429             19      90     38045              3   \n",
       "\n",
       "   numPrevOwners  made  isNewBuilt  hasStormProtector  basement  attic  \\\n",
       "0              8  2005           0                  1      4313   9005   \n",
       "1              6  2015           1                  0      3653   2436   \n",
       "2              8  2021           0                  0      2937   8852   \n",
       "3              4  2012           0                  1       659   7141   \n",
       "4              7  1990           1                  0      8435   2429   \n",
       "\n",
       "   garage  hasStorageRoom  hasGuestRoom      price  category  hasPool  hasYard  \n",
       "0     956               0             7  7559081.5         0        1        0  \n",
       "1     128               1             2  8085989.5         1        1        1  \n",
       "2     135               1             9  5574642.1         0        1        0  \n",
       "3     359               0             3  3232561.2         0        0        0  \n",
       "4     292               1             4  7055052.0         1        1        1  "
      ]
     },
     "execution_count": 24,
     "metadata": {},
     "output_type": "execute_result"
    }
   ],
   "source": [
    "df.head()"
   ]
  },
  {
   "cell_type": "code",
   "execution_count": 25,
   "id": "b0b2dd40",
   "metadata": {},
   "outputs": [
    {
     "data": {
      "text/plain": [
       "squareMeters         0\n",
       "numberOfRooms        0\n",
       "floors               0\n",
       "cityCode             0\n",
       "cityPartRange        0\n",
       "numPrevOwners        0\n",
       "made                 0\n",
       "isNewBuilt           0\n",
       "hasStormProtector    0\n",
       "basement             0\n",
       "attic                0\n",
       "garage               0\n",
       "hasStorageRoom       0\n",
       "hasGuestRoom         0\n",
       "price                0\n",
       "category             0\n",
       "hasPool              0\n",
       "hasYard              0\n",
       "dtype: int64"
      ]
     },
     "execution_count": 25,
     "metadata": {},
     "output_type": "execute_result"
    }
   ],
   "source": [
    "df.isna().sum()"
   ]
  },
  {
   "cell_type": "markdown",
   "id": "10b5e923",
   "metadata": {},
   "source": [
    "## 2. Класстеризация KMeans"
   ]
  },
  {
   "cell_type": "code",
   "execution_count": 26,
   "id": "25a11177",
   "metadata": {},
   "outputs": [],
   "source": [
    "inertias = []\n",
    "K = range(1,123, 20)\n",
    "\n",
    "for k in K:\n",
    "\n",
    "    # Построение и подгонка модели\n",
    "\n",
    "    kmeanModel = KMeans(n_clusters=k)\n",
    "\n",
    "    kmeanModel.fit(df)\n",
    "    inertias.append(kmeanModel.inertia_)"
   ]
  },
  {
   "cell_type": "code",
   "execution_count": 27,
   "id": "511f5da4",
   "metadata": {},
   "outputs": [
    {
     "data": {
      "text/plain": [
       "[<matplotlib.lines.Line2D at 0x26a36ba2308>]"
      ]
     },
     "execution_count": 27,
     "metadata": {},
     "output_type": "execute_result"
    },
    {
     "data": {
      "image/png": "[encoded data removed]",
      "text/plain": [
       "<Figure size 432x288 with 1 Axes>"
      ]
     },
     "metadata": {
      "needs_background": "light"
     },
     "output_type": "display_data"
    }
   ],
   "source": [
    "plt.plot(K, inertias)"
   ]
  },
  {
   "cell_type": "code",
   "execution_count": 28,
   "id": "2e640ed1",
   "metadata": {},
   "outputs": [],
   "source": [
    "inertias = []\n",
    "K = range(1,100)\n",
    "\n",
    "for k in K:\n",
    "\n",
    "    # Построение и подгонка модели\n",
    "\n",
    "    kmeanModel = KMeans(n_clusters=k)\n",
    "\n",
    "    kmeanModel.fit(df)\n",
    "    inertias.append(kmeanModel.inertia_)"
   ]
  },
  {
   "cell_type": "code",
   "execution_count": 29,
   "id": "70f80b38",
   "metadata": {},
   "outputs": [
    {
     "data": {
      "text/plain": [
       "[<matplotlib.lines.Line2D at 0x26a36c99048>]"
      ]
     },
     "execution_count": 29,
     "metadata": {},
     "output_type": "execute_result"
    },
    {
     "data": {
      "image/png": "[encoded data removed]",
      "text/plain": [
       "<Figure size 432x288 with 1 Axes>"
      ]
     },
     "metadata": {
      "needs_background": "light"
     },
     "output_type": "display_data"
    }
   ],
   "source": [
    "plt.plot(K[:40], inertias[:40])"
   ]
  },
  {
   "cell_type": "markdown",
   "id": "619df4dc",
   "metadata": {},
   "source": [
    "Ответ 20😲"
   ]
  }
 ],
 "metadata": {
  "kernelspec": {
   "display_name": "Python 3",
   "language": "python",
   "name": "python3"
  },
  "language_info": {
   "codemirror_mode": {
    "name": "ipython",
    "version": 3
   },
   "file_extension": ".py",
   "mimetype": "text/x-python",
   "name": "python",
   "nbconvert_exporter": "python",
   "pygments_lexer": "ipython3",
   "version": "3.7.10"
  }
 },
 "nbformat": 4,
 "nbformat_minor": 5
}
