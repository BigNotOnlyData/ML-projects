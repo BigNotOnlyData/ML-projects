{
 "cells": [
  {
   "cell_type": "markdown",
   "id": "bb29e0d4",
   "metadata": {},
   "source": [
    "# Gender"
   ]
  },
  {
   "cell_type": "markdown",
   "id": "92495a88",
   "metadata": {},
   "source": [
    " В одной компании произошла неприятность: случился потоп, в бумажных анкетах клиентов размыло некоторые строки и в 1000 анкетах пострадало поле “gender”. Конечно, их было бы можно восстановить, но в компании решили автоматизировать решение проблемы и определить пол клиентов по фотографиям. Был создан датасет gender.csv, в котором записаны признаки человека на фото и его пол.\n",
    "\n",
    "Первые 1000 значений имеют пропуски в столбце gender.\n",
    "\n",
    "Все столбцы с \".1\" в названии дублируют предыдущие столбцы без \".1\", но содержат уникальные значения\n",
    "\n",
    "Необходимо произвести чистку данных:\n",
    "1. Присоединить дублирующие столбцы к основным.\n",
    "2. Столбцы 'nose_wide', 'nose_long', 'lips_thin', 'distance_nose_to_lip_long', 'long_hair' содержат информацию в условных единицах. Известно, что измерения проводились разными людьми с разными измерительными инструментами, поэтому данные в столбцах имеют разную погрешность измерений. Необходимо уменьшить влияние погрешности путем приравнивания значений диапазона [0,0.5) к 0, а [0.5, 1) —- к 1. Столбцы 'orehead_width_cm' и 'forehead_height_cm' необходимо оставить «\"как есть».\" \n",
    "3. Оставить один из дублирующих друг друга столбцов.\n",
    "4. Определите пол по остальным параметрам из выборки для первой тысячи значений и прикрепите его в CSV формате. Файл должен содержать только прогнозные значения в формате \"Male\"/\"Female\", в одном столбце без заголовка \n",
    "\n",
    "Пороговое значение для данной задачи классификации считать равным 0.5."
   ]
  },
  {
   "cell_type": "code",
   "execution_count": 1,
   "id": "a6fb3583",
   "metadata": {},
   "outputs": [],
   "source": [
    "import pandas as pd\n",
    "import numpy as np\n",
    "import matplotlib.pyplot as plt\n",
    "import seaborn as sns"
   ]
  },
  {
   "cell_type": "code",
   "execution_count": 2,
   "id": "44a9367f",
   "metadata": {},
   "outputs": [],
   "source": [
    "import missingno as miss"
   ]
  },
  {
   "cell_type": "code",
   "execution_count": 3,
   "id": "8058231b",
   "metadata": {},
   "outputs": [],
   "source": [
    "import warnings\n",
    "warnings.filterwarnings('ignore')"
   ]
  },
  {
   "cell_type": "markdown",
   "id": "6837034f",
   "metadata": {},
   "source": [
    "## 1. Присоединить дублирующие столбцы к основным."
   ]
  },
  {
   "cell_type": "markdown",
   "id": "924c38ee",
   "metadata": {},
   "source": [
    "### 1.1 Разведочный анализ"
   ]
  },
  {
   "cell_type": "code",
   "execution_count": 4,
   "id": "a429cf2f",
   "metadata": {},
   "outputs": [
    {
     "data": {
      "text/html": [
       "<div>\n",
       "<style scoped>\n",
       "    .dataframe tbody tr th:only-of-type {\n",
       "        vertical-align: middle;\n",
       "    }\n",
       "\n",
       "    .dataframe tbody tr th {\n",
       "        vertical-align: top;\n",
       "    }\n",
       "\n",
       "    .dataframe thead th {\n",
       "        text-align: right;\n",
       "    }\n",
       "</style>\n",
       "<table border=\"1\" class=\"dataframe\">\n",
       "  <thead>\n",
       "    <tr style=\"text-align: right;\">\n",
       "      <th></th>\n",
       "      <th>index</th>\n",
       "      <th>long_hair</th>\n",
       "      <th>forehead_width_cm</th>\n",
       "      <th>forehead_height_cm</th>\n",
       "      <th>forehead_width_mm</th>\n",
       "      <th>forehead_width_conventional_units</th>\n",
       "      <th>nose_wide</th>\n",
       "      <th>nose_long</th>\n",
       "      <th>lips_thin</th>\n",
       "      <th>distance_nose_to_lip_long</th>\n",
       "      <th>...</th>\n",
       "      <th>long_hair.1</th>\n",
       "      <th>forehead_width_cm.1</th>\n",
       "      <th>forehead_height_cm.1</th>\n",
       "      <th>forehead_width_mm.1</th>\n",
       "      <th>forehead_width_conventional_units.1</th>\n",
       "      <th>nose_wide.1</th>\n",
       "      <th>nose_long.1</th>\n",
       "      <th>lips_thin.1</th>\n",
       "      <th>distance_nose_to_lip_long.1</th>\n",
       "      <th>gender.1</th>\n",
       "    </tr>\n",
       "  </thead>\n",
       "  <tbody>\n",
       "    <tr>\n",
       "      <th>0</th>\n",
       "      <td>0</td>\n",
       "      <td>0.704275</td>\n",
       "      <td>11.8</td>\n",
       "      <td>6.1</td>\n",
       "      <td>118.0</td>\n",
       "      <td>0.025806</td>\n",
       "      <td>0.895614</td>\n",
       "      <td>0.477485</td>\n",
       "      <td>0.841261</td>\n",
       "      <td>0.902628</td>\n",
       "      <td>...</td>\n",
       "      <td>0.818018</td>\n",
       "      <td>11.5</td>\n",
       "      <td>5.8</td>\n",
       "      <td>115.0</td>\n",
       "      <td>0.006452</td>\n",
       "      <td>0.137806</td>\n",
       "      <td>0.402620</td>\n",
       "      <td>0.167844</td>\n",
       "      <td>0.188913</td>\n",
       "      <td>Female</td>\n",
       "    </tr>\n",
       "    <tr>\n",
       "      <th>1</th>\n",
       "      <td>1</td>\n",
       "      <td>0.118690</td>\n",
       "      <td>14.0</td>\n",
       "      <td>5.4</td>\n",
       "      <td>140.0</td>\n",
       "      <td>0.167742</td>\n",
       "      <td>0.202520</td>\n",
       "      <td>0.186825</td>\n",
       "      <td>0.719697</td>\n",
       "      <td>0.309122</td>\n",
       "      <td>...</td>\n",
       "      <td>0.995941</td>\n",
       "      <td>15.2</td>\n",
       "      <td>5.8</td>\n",
       "      <td>152.0</td>\n",
       "      <td>0.245161</td>\n",
       "      <td>0.570656</td>\n",
       "      <td>0.980237</td>\n",
       "      <td>0.811487</td>\n",
       "      <td>0.967540</td>\n",
       "      <td>Male</td>\n",
       "    </tr>\n",
       "    <tr>\n",
       "      <th>2</th>\n",
       "      <td>2</td>\n",
       "      <td>0.203894</td>\n",
       "      <td>11.8</td>\n",
       "      <td>6.3</td>\n",
       "      <td>118.0</td>\n",
       "      <td>0.025806</td>\n",
       "      <td>0.892793</td>\n",
       "      <td>0.723152</td>\n",
       "      <td>0.725821</td>\n",
       "      <td>0.720640</td>\n",
       "      <td>...</td>\n",
       "      <td>0.633806</td>\n",
       "      <td>15.4</td>\n",
       "      <td>5.7</td>\n",
       "      <td>154.0</td>\n",
       "      <td>0.258065</td>\n",
       "      <td>0.709777</td>\n",
       "      <td>0.365825</td>\n",
       "      <td>0.933026</td>\n",
       "      <td>0.646992</td>\n",
       "      <td>Male</td>\n",
       "    </tr>\n",
       "    <tr>\n",
       "      <th>3</th>\n",
       "      <td>3</td>\n",
       "      <td>0.386228</td>\n",
       "      <td>14.4</td>\n",
       "      <td>6.1</td>\n",
       "      <td>144.0</td>\n",
       "      <td>0.193548</td>\n",
       "      <td>0.024963</td>\n",
       "      <td>0.562005</td>\n",
       "      <td>0.831515</td>\n",
       "      <td>0.770379</td>\n",
       "      <td>...</td>\n",
       "      <td>0.795792</td>\n",
       "      <td>13.0</td>\n",
       "      <td>6.9</td>\n",
       "      <td>130.0</td>\n",
       "      <td>0.103226</td>\n",
       "      <td>0.883454</td>\n",
       "      <td>0.399733</td>\n",
       "      <td>0.595028</td>\n",
       "      <td>0.822491</td>\n",
       "      <td>Male</td>\n",
       "    </tr>\n",
       "    <tr>\n",
       "      <th>4</th>\n",
       "      <td>4</td>\n",
       "      <td>0.564020</td>\n",
       "      <td>13.5</td>\n",
       "      <td>5.9</td>\n",
       "      <td>135.0</td>\n",
       "      <td>0.135484</td>\n",
       "      <td>0.415389</td>\n",
       "      <td>0.063705</td>\n",
       "      <td>0.211584</td>\n",
       "      <td>0.157217</td>\n",
       "      <td>...</td>\n",
       "      <td>0.915185</td>\n",
       "      <td>14.2</td>\n",
       "      <td>5.8</td>\n",
       "      <td>142.0</td>\n",
       "      <td>0.180645</td>\n",
       "      <td>0.652973</td>\n",
       "      <td>0.735543</td>\n",
       "      <td>0.553571</td>\n",
       "      <td>0.532910</td>\n",
       "      <td>Male</td>\n",
       "    </tr>\n",
       "  </tbody>\n",
       "</table>\n",
       "<p>5 rows × 22 columns</p>\n",
       "</div>"
      ],
      "text/plain": [
       "   index  long_hair  forehead_width_cm  forehead_height_cm  forehead_width_mm  \\\n",
       "0      0   0.704275               11.8                 6.1              118.0   \n",
       "1      1   0.118690               14.0                 5.4              140.0   \n",
       "2      2   0.203894               11.8                 6.3              118.0   \n",
       "3      3   0.386228               14.4                 6.1              144.0   \n",
       "4      4   0.564020               13.5                 5.9              135.0   \n",
       "\n",
       "   forehead_width_conventional_units  nose_wide  nose_long  lips_thin  \\\n",
       "0                           0.025806   0.895614   0.477485   0.841261   \n",
       "1                           0.167742   0.202520   0.186825   0.719697   \n",
       "2                           0.025806   0.892793   0.723152   0.725821   \n",
       "3                           0.193548   0.024963   0.562005   0.831515   \n",
       "4                           0.135484   0.415389   0.063705   0.211584   \n",
       "\n",
       "   distance_nose_to_lip_long  ... long_hair.1  forehead_width_cm.1  \\\n",
       "0                   0.902628  ...    0.818018                 11.5   \n",
       "1                   0.309122  ...    0.995941                 15.2   \n",
       "2                   0.720640  ...    0.633806                 15.4   \n",
       "3                   0.770379  ...    0.795792                 13.0   \n",
       "4                   0.157217  ...    0.915185                 14.2   \n",
       "\n",
       "   forehead_height_cm.1  forehead_width_mm.1  \\\n",
       "0                   5.8                115.0   \n",
       "1                   5.8                152.0   \n",
       "2                   5.7                154.0   \n",
       "3                   6.9                130.0   \n",
       "4                   5.8                142.0   \n",
       "\n",
       "   forehead_width_conventional_units.1  nose_wide.1  nose_long.1  lips_thin.1  \\\n",
       "0                             0.006452     0.137806     0.402620     0.167844   \n",
       "1                             0.245161     0.570656     0.980237     0.811487   \n",
       "2                             0.258065     0.709777     0.365825     0.933026   \n",
       "3                             0.103226     0.883454     0.399733     0.595028   \n",
       "4                             0.180645     0.652973     0.735543     0.553571   \n",
       "\n",
       "   distance_nose_to_lip_long.1  gender.1  \n",
       "0                     0.188913    Female  \n",
       "1                     0.967540      Male  \n",
       "2                     0.646992      Male  \n",
       "3                     0.822491      Male  \n",
       "4                     0.532910      Male  \n",
       "\n",
       "[5 rows x 22 columns]"
      ]
     },
     "execution_count": 4,
     "metadata": {},
     "output_type": "execute_result"
    }
   ],
   "source": [
    "df = pd.read_csv('Data/gender (1).csv', index_col=0)\n",
    "df.head()"
   ]
  },
  {
   "cell_type": "code",
   "execution_count": 5,
   "id": "bcc25e8d",
   "metadata": {},
   "outputs": [
    {
     "data": {
      "text/plain": [
       "<AxesSubplot:>"
      ]
     },
     "execution_count": 5,
     "metadata": {},
     "output_type": "execute_result"
    },
    {
     "data": {
      "image/png": "[encoded data removed]",
      "text/plain": [
       "<Figure size 1800x720 with 2 Axes>"
      ]
     },
     "metadata": {
      "needs_background": "light"
     },
     "output_type": "display_data"
    }
   ],
   "source": [
    "miss.matrix(df)"
   ]
  },
  {
   "cell_type": "code",
   "execution_count": 6,
   "id": "166b09ff",
   "metadata": {},
   "outputs": [
    {
     "name": "stdout",
     "output_type": "stream",
     "text": [
      "<class 'pandas.core.frame.DataFrame'>\n",
      "Int64Index: 2515 entries, 0 to 2514\n",
      "Data columns (total 22 columns):\n",
      " #   Column                               Non-Null Count  Dtype  \n",
      "---  ------                               --------------  -----  \n",
      " 0   index                                2515 non-null   int64  \n",
      " 1   long_hair                            2515 non-null   float64\n",
      " 2   forehead_width_cm                    2515 non-null   float64\n",
      " 3   forehead_height_cm                   2515 non-null   float64\n",
      " 4   forehead_width_mm                    2515 non-null   float64\n",
      " 5   forehead_width_conventional_units    2515 non-null   float64\n",
      " 6   nose_wide                            2515 non-null   float64\n",
      " 7   nose_long                            2515 non-null   float64\n",
      " 8   lips_thin                            2515 non-null   float64\n",
      " 9   distance_nose_to_lip_long            2515 non-null   float64\n",
      " 10  gender                               1514 non-null   object \n",
      " 11  index.1                              2515 non-null   int64  \n",
      " 12  long_hair.1                          2486 non-null   float64\n",
      " 13  forehead_width_cm.1                  2486 non-null   float64\n",
      " 14  forehead_height_cm.1                 2486 non-null   float64\n",
      " 15  forehead_width_mm.1                  2486 non-null   float64\n",
      " 16  forehead_width_conventional_units.1  2486 non-null   float64\n",
      " 17  nose_wide.1                          2486 non-null   float64\n",
      " 18  nose_long.1                          2486 non-null   float64\n",
      " 19  lips_thin.1                          2486 non-null   float64\n",
      " 20  distance_nose_to_lip_long.1          2486 non-null   float64\n",
      " 21  gender.1                             2486 non-null   object \n",
      "dtypes: float64(18), int64(2), object(2)\n",
      "memory usage: 451.9+ KB\n"
     ]
    }
   ],
   "source": [
    "df.info()"
   ]
  },
  {
   "cell_type": "markdown",
   "id": "5cf26063",
   "metadata": {},
   "source": [
    "Видим что таблицу как-будто склеили справа с такой же таблицей"
   ]
  },
  {
   "cell_type": "code",
   "execution_count": 7,
   "id": "92850542",
   "metadata": {},
   "outputs": [
    {
     "data": {
      "text/html": [
       "<div>\n",
       "<style scoped>\n",
       "    .dataframe tbody tr th:only-of-type {\n",
       "        vertical-align: middle;\n",
       "    }\n",
       "\n",
       "    .dataframe tbody tr th {\n",
       "        vertical-align: top;\n",
       "    }\n",
       "\n",
       "    .dataframe thead th {\n",
       "        text-align: right;\n",
       "    }\n",
       "</style>\n",
       "<table border=\"1\" class=\"dataframe\">\n",
       "  <thead>\n",
       "    <tr style=\"text-align: right;\">\n",
       "      <th></th>\n",
       "      <th>index</th>\n",
       "      <th>gender</th>\n",
       "      <th>index.1</th>\n",
       "      <th>gender.1</th>\n",
       "    </tr>\n",
       "  </thead>\n",
       "  <tbody>\n",
       "    <tr>\n",
       "      <th>0</th>\n",
       "      <td>0</td>\n",
       "      <td>NaN</td>\n",
       "      <td>2515</td>\n",
       "      <td>Female</td>\n",
       "    </tr>\n",
       "    <tr>\n",
       "      <th>1</th>\n",
       "      <td>1</td>\n",
       "      <td>NaN</td>\n",
       "      <td>2516</td>\n",
       "      <td>Male</td>\n",
       "    </tr>\n",
       "    <tr>\n",
       "      <th>2</th>\n",
       "      <td>2</td>\n",
       "      <td>NaN</td>\n",
       "      <td>2517</td>\n",
       "      <td>Male</td>\n",
       "    </tr>\n",
       "    <tr>\n",
       "      <th>3</th>\n",
       "      <td>3</td>\n",
       "      <td>NaN</td>\n",
       "      <td>2518</td>\n",
       "      <td>Male</td>\n",
       "    </tr>\n",
       "    <tr>\n",
       "      <th>4</th>\n",
       "      <td>4</td>\n",
       "      <td>NaN</td>\n",
       "      <td>2519</td>\n",
       "      <td>Male</td>\n",
       "    </tr>\n",
       "    <tr>\n",
       "      <th>...</th>\n",
       "      <td>...</td>\n",
       "      <td>...</td>\n",
       "      <td>...</td>\n",
       "      <td>...</td>\n",
       "    </tr>\n",
       "    <tr>\n",
       "      <th>2510</th>\n",
       "      <td>2510</td>\n",
       "      <td>Male</td>\n",
       "      <td>4996</td>\n",
       "      <td>Female</td>\n",
       "    </tr>\n",
       "    <tr>\n",
       "      <th>2511</th>\n",
       "      <td>2511</td>\n",
       "      <td>Male</td>\n",
       "      <td>4997</td>\n",
       "      <td>Female</td>\n",
       "    </tr>\n",
       "    <tr>\n",
       "      <th>2512</th>\n",
       "      <td>2512</td>\n",
       "      <td>Female</td>\n",
       "      <td>4998</td>\n",
       "      <td>Female</td>\n",
       "    </tr>\n",
       "    <tr>\n",
       "      <th>2513</th>\n",
       "      <td>2513</td>\n",
       "      <td>Male</td>\n",
       "      <td>4999</td>\n",
       "      <td>Female</td>\n",
       "    </tr>\n",
       "    <tr>\n",
       "      <th>2514</th>\n",
       "      <td>2514</td>\n",
       "      <td>Male</td>\n",
       "      <td>5000</td>\n",
       "      <td>Male</td>\n",
       "    </tr>\n",
       "  </tbody>\n",
       "</table>\n",
       "<p>2515 rows × 4 columns</p>\n",
       "</div>"
      ],
      "text/plain": [
       "      index  gender  index.1 gender.1\n",
       "0         0     NaN     2515   Female\n",
       "1         1     NaN     2516     Male\n",
       "2         2     NaN     2517     Male\n",
       "3         3     NaN     2518     Male\n",
       "4         4     NaN     2519     Male\n",
       "...     ...     ...      ...      ...\n",
       "2510   2510    Male     4996   Female\n",
       "2511   2511    Male     4997   Female\n",
       "2512   2512  Female     4998   Female\n",
       "2513   2513    Male     4999   Female\n",
       "2514   2514    Male     5000     Male\n",
       "\n",
       "[2515 rows x 4 columns]"
      ]
     },
     "execution_count": 7,
     "metadata": {},
     "output_type": "execute_result"
    }
   ],
   "source": [
    "df[['index', 'gender', 'index.1', 'gender.1']]"
   ]
  },
  {
   "cell_type": "markdown",
   "id": "db2ca807",
   "metadata": {},
   "source": [
    "### 1.2 Формирование отдельных таблиц и их дальнейшее объединение"
   ]
  },
  {
   "cell_type": "markdown",
   "id": "c099ebf0",
   "metadata": {},
   "source": [
    "### Таблица df1"
   ]
  },
  {
   "cell_type": "code",
   "execution_count": 8,
   "id": "0ac059c3",
   "metadata": {},
   "outputs": [
    {
     "data": {
      "text/html": [
       "<div>\n",
       "<style scoped>\n",
       "    .dataframe tbody tr th:only-of-type {\n",
       "        vertical-align: middle;\n",
       "    }\n",
       "\n",
       "    .dataframe tbody tr th {\n",
       "        vertical-align: top;\n",
       "    }\n",
       "\n",
       "    .dataframe thead th {\n",
       "        text-align: right;\n",
       "    }\n",
       "</style>\n",
       "<table border=\"1\" class=\"dataframe\">\n",
       "  <thead>\n",
       "    <tr style=\"text-align: right;\">\n",
       "      <th></th>\n",
       "      <th>index</th>\n",
       "      <th>long_hair</th>\n",
       "      <th>forehead_width_cm</th>\n",
       "      <th>forehead_height_cm</th>\n",
       "      <th>forehead_width_mm</th>\n",
       "      <th>forehead_width_conventional_units</th>\n",
       "      <th>nose_wide</th>\n",
       "      <th>nose_long</th>\n",
       "      <th>lips_thin</th>\n",
       "      <th>distance_nose_to_lip_long</th>\n",
       "      <th>gender</th>\n",
       "    </tr>\n",
       "  </thead>\n",
       "  <tbody>\n",
       "    <tr>\n",
       "      <th>0</th>\n",
       "      <td>0</td>\n",
       "      <td>0.704275</td>\n",
       "      <td>11.8</td>\n",
       "      <td>6.1</td>\n",
       "      <td>118.0</td>\n",
       "      <td>0.025806</td>\n",
       "      <td>0.895614</td>\n",
       "      <td>0.477485</td>\n",
       "      <td>0.841261</td>\n",
       "      <td>0.902628</td>\n",
       "      <td>NaN</td>\n",
       "    </tr>\n",
       "    <tr>\n",
       "      <th>1</th>\n",
       "      <td>1</td>\n",
       "      <td>0.118690</td>\n",
       "      <td>14.0</td>\n",
       "      <td>5.4</td>\n",
       "      <td>140.0</td>\n",
       "      <td>0.167742</td>\n",
       "      <td>0.202520</td>\n",
       "      <td>0.186825</td>\n",
       "      <td>0.719697</td>\n",
       "      <td>0.309122</td>\n",
       "      <td>NaN</td>\n",
       "    </tr>\n",
       "    <tr>\n",
       "      <th>2</th>\n",
       "      <td>2</td>\n",
       "      <td>0.203894</td>\n",
       "      <td>11.8</td>\n",
       "      <td>6.3</td>\n",
       "      <td>118.0</td>\n",
       "      <td>0.025806</td>\n",
       "      <td>0.892793</td>\n",
       "      <td>0.723152</td>\n",
       "      <td>0.725821</td>\n",
       "      <td>0.720640</td>\n",
       "      <td>NaN</td>\n",
       "    </tr>\n",
       "    <tr>\n",
       "      <th>3</th>\n",
       "      <td>3</td>\n",
       "      <td>0.386228</td>\n",
       "      <td>14.4</td>\n",
       "      <td>6.1</td>\n",
       "      <td>144.0</td>\n",
       "      <td>0.193548</td>\n",
       "      <td>0.024963</td>\n",
       "      <td>0.562005</td>\n",
       "      <td>0.831515</td>\n",
       "      <td>0.770379</td>\n",
       "      <td>NaN</td>\n",
       "    </tr>\n",
       "    <tr>\n",
       "      <th>4</th>\n",
       "      <td>4</td>\n",
       "      <td>0.564020</td>\n",
       "      <td>13.5</td>\n",
       "      <td>5.9</td>\n",
       "      <td>135.0</td>\n",
       "      <td>0.135484</td>\n",
       "      <td>0.415389</td>\n",
       "      <td>0.063705</td>\n",
       "      <td>0.211584</td>\n",
       "      <td>0.157217</td>\n",
       "      <td>NaN</td>\n",
       "    </tr>\n",
       "    <tr>\n",
       "      <th>...</th>\n",
       "      <td>...</td>\n",
       "      <td>...</td>\n",
       "      <td>...</td>\n",
       "      <td>...</td>\n",
       "      <td>...</td>\n",
       "      <td>...</td>\n",
       "      <td>...</td>\n",
       "      <td>...</td>\n",
       "      <td>...</td>\n",
       "      <td>...</td>\n",
       "      <td>...</td>\n",
       "    </tr>\n",
       "    <tr>\n",
       "      <th>2510</th>\n",
       "      <td>2510</td>\n",
       "      <td>0.915744</td>\n",
       "      <td>13.9</td>\n",
       "      <td>6.4</td>\n",
       "      <td>139.0</td>\n",
       "      <td>0.161290</td>\n",
       "      <td>0.604791</td>\n",
       "      <td>0.851645</td>\n",
       "      <td>0.766959</td>\n",
       "      <td>0.763820</td>\n",
       "      <td>Male</td>\n",
       "    </tr>\n",
       "    <tr>\n",
       "      <th>2511</th>\n",
       "      <td>2511</td>\n",
       "      <td>0.820041</td>\n",
       "      <td>13.8</td>\n",
       "      <td>5.1</td>\n",
       "      <td>138.0</td>\n",
       "      <td>0.154839</td>\n",
       "      <td>0.933549</td>\n",
       "      <td>0.537350</td>\n",
       "      <td>0.918460</td>\n",
       "      <td>0.938982</td>\n",
       "      <td>Male</td>\n",
       "    </tr>\n",
       "    <tr>\n",
       "      <th>2512</th>\n",
       "      <td>2512</td>\n",
       "      <td>0.659143</td>\n",
       "      <td>12.2</td>\n",
       "      <td>5.3</td>\n",
       "      <td>122.0</td>\n",
       "      <td>0.051613</td>\n",
       "      <td>0.531385</td>\n",
       "      <td>0.456792</td>\n",
       "      <td>0.489438</td>\n",
       "      <td>0.457138</td>\n",
       "      <td>Female</td>\n",
       "    </tr>\n",
       "    <tr>\n",
       "      <th>2513</th>\n",
       "      <td>2513</td>\n",
       "      <td>0.664928</td>\n",
       "      <td>12.1</td>\n",
       "      <td>5.2</td>\n",
       "      <td>121.0</td>\n",
       "      <td>0.045161</td>\n",
       "      <td>0.538634</td>\n",
       "      <td>0.610885</td>\n",
       "      <td>0.977585</td>\n",
       "      <td>0.942940</td>\n",
       "      <td>Male</td>\n",
       "    </tr>\n",
       "    <tr>\n",
       "      <th>2514</th>\n",
       "      <td>2514</td>\n",
       "      <td>0.561345</td>\n",
       "      <td>12.2</td>\n",
       "      <td>5.8</td>\n",
       "      <td>122.0</td>\n",
       "      <td>0.051613</td>\n",
       "      <td>0.940424</td>\n",
       "      <td>0.873414</td>\n",
       "      <td>0.561728</td>\n",
       "      <td>0.815824</td>\n",
       "      <td>Male</td>\n",
       "    </tr>\n",
       "  </tbody>\n",
       "</table>\n",
       "<p>2515 rows × 11 columns</p>\n",
       "</div>"
      ],
      "text/plain": [
       "      index  long_hair  forehead_width_cm  forehead_height_cm  \\\n",
       "0         0   0.704275               11.8                 6.1   \n",
       "1         1   0.118690               14.0                 5.4   \n",
       "2         2   0.203894               11.8                 6.3   \n",
       "3         3   0.386228               14.4                 6.1   \n",
       "4         4   0.564020               13.5                 5.9   \n",
       "...     ...        ...                ...                 ...   \n",
       "2510   2510   0.915744               13.9                 6.4   \n",
       "2511   2511   0.820041               13.8                 5.1   \n",
       "2512   2512   0.659143               12.2                 5.3   \n",
       "2513   2513   0.664928               12.1                 5.2   \n",
       "2514   2514   0.561345               12.2                 5.8   \n",
       "\n",
       "      forehead_width_mm  forehead_width_conventional_units  nose_wide  \\\n",
       "0                 118.0                           0.025806   0.895614   \n",
       "1                 140.0                           0.167742   0.202520   \n",
       "2                 118.0                           0.025806   0.892793   \n",
       "3                 144.0                           0.193548   0.024963   \n",
       "4                 135.0                           0.135484   0.415389   \n",
       "...                 ...                                ...        ...   \n",
       "2510              139.0                           0.161290   0.604791   \n",
       "2511              138.0                           0.154839   0.933549   \n",
       "2512              122.0                           0.051613   0.531385   \n",
       "2513              121.0                           0.045161   0.538634   \n",
       "2514              122.0                           0.051613   0.940424   \n",
       "\n",
       "      nose_long  lips_thin  distance_nose_to_lip_long  gender  \n",
       "0      0.477485   0.841261                   0.902628     NaN  \n",
       "1      0.186825   0.719697                   0.309122     NaN  \n",
       "2      0.723152   0.725821                   0.720640     NaN  \n",
       "3      0.562005   0.831515                   0.770379     NaN  \n",
       "4      0.063705   0.211584                   0.157217     NaN  \n",
       "...         ...        ...                        ...     ...  \n",
       "2510   0.851645   0.766959                   0.763820    Male  \n",
       "2511   0.537350   0.918460                   0.938982    Male  \n",
       "2512   0.456792   0.489438                   0.457138  Female  \n",
       "2513   0.610885   0.977585                   0.942940    Male  \n",
       "2514   0.873414   0.561728                   0.815824    Male  \n",
       "\n",
       "[2515 rows x 11 columns]"
      ]
     },
     "execution_count": 8,
     "metadata": {},
     "output_type": "execute_result"
    }
   ],
   "source": [
    "# вычленим колоки без индекса '.1'\n",
    "df1 = df.iloc[:,0:11]\n",
    "df1"
   ]
  },
  {
   "cell_type": "code",
   "execution_count": 9,
   "id": "35ea2711",
   "metadata": {},
   "outputs": [
    {
     "data": {
      "text/plain": [
       "0"
      ]
     },
     "execution_count": 9,
     "metadata": {},
     "output_type": "execute_result"
    }
   ],
   "source": [
    "df1.duplicated().sum()"
   ]
  },
  {
   "cell_type": "markdown",
   "id": "cf485caf",
   "metadata": {},
   "source": [
    "### Таблица df2"
   ]
  },
  {
   "cell_type": "code",
   "execution_count": 10,
   "id": "e4cfe88b",
   "metadata": {},
   "outputs": [
    {
     "data": {
      "text/html": [
       "<div>\n",
       "<style scoped>\n",
       "    .dataframe tbody tr th:only-of-type {\n",
       "        vertical-align: middle;\n",
       "    }\n",
       "\n",
       "    .dataframe tbody tr th {\n",
       "        vertical-align: top;\n",
       "    }\n",
       "\n",
       "    .dataframe thead th {\n",
       "        text-align: right;\n",
       "    }\n",
       "</style>\n",
       "<table border=\"1\" class=\"dataframe\">\n",
       "  <thead>\n",
       "    <tr style=\"text-align: right;\">\n",
       "      <th></th>\n",
       "      <th>index.1</th>\n",
       "      <th>long_hair.1</th>\n",
       "      <th>forehead_width_cm.1</th>\n",
       "      <th>forehead_height_cm.1</th>\n",
       "      <th>forehead_width_mm.1</th>\n",
       "      <th>forehead_width_conventional_units.1</th>\n",
       "      <th>nose_wide.1</th>\n",
       "      <th>nose_long.1</th>\n",
       "      <th>lips_thin.1</th>\n",
       "      <th>distance_nose_to_lip_long.1</th>\n",
       "      <th>gender.1</th>\n",
       "    </tr>\n",
       "  </thead>\n",
       "  <tbody>\n",
       "    <tr>\n",
       "      <th>0</th>\n",
       "      <td>2515</td>\n",
       "      <td>0.818018</td>\n",
       "      <td>11.5</td>\n",
       "      <td>5.8</td>\n",
       "      <td>115.0</td>\n",
       "      <td>0.006452</td>\n",
       "      <td>0.137806</td>\n",
       "      <td>0.402620</td>\n",
       "      <td>0.167844</td>\n",
       "      <td>0.188913</td>\n",
       "      <td>Female</td>\n",
       "    </tr>\n",
       "    <tr>\n",
       "      <th>1</th>\n",
       "      <td>2516</td>\n",
       "      <td>0.995941</td>\n",
       "      <td>15.2</td>\n",
       "      <td>5.8</td>\n",
       "      <td>152.0</td>\n",
       "      <td>0.245161</td>\n",
       "      <td>0.570656</td>\n",
       "      <td>0.980237</td>\n",
       "      <td>0.811487</td>\n",
       "      <td>0.967540</td>\n",
       "      <td>Male</td>\n",
       "    </tr>\n",
       "    <tr>\n",
       "      <th>2</th>\n",
       "      <td>2517</td>\n",
       "      <td>0.633806</td>\n",
       "      <td>15.4</td>\n",
       "      <td>5.7</td>\n",
       "      <td>154.0</td>\n",
       "      <td>0.258065</td>\n",
       "      <td>0.709777</td>\n",
       "      <td>0.365825</td>\n",
       "      <td>0.933026</td>\n",
       "      <td>0.646992</td>\n",
       "      <td>Male</td>\n",
       "    </tr>\n",
       "    <tr>\n",
       "      <th>3</th>\n",
       "      <td>2518</td>\n",
       "      <td>0.795792</td>\n",
       "      <td>13.0</td>\n",
       "      <td>6.9</td>\n",
       "      <td>130.0</td>\n",
       "      <td>0.103226</td>\n",
       "      <td>0.883454</td>\n",
       "      <td>0.399733</td>\n",
       "      <td>0.595028</td>\n",
       "      <td>0.822491</td>\n",
       "      <td>Male</td>\n",
       "    </tr>\n",
       "    <tr>\n",
       "      <th>4</th>\n",
       "      <td>2519</td>\n",
       "      <td>0.915185</td>\n",
       "      <td>14.2</td>\n",
       "      <td>5.8</td>\n",
       "      <td>142.0</td>\n",
       "      <td>0.180645</td>\n",
       "      <td>0.652973</td>\n",
       "      <td>0.735543</td>\n",
       "      <td>0.553571</td>\n",
       "      <td>0.532910</td>\n",
       "      <td>Male</td>\n",
       "    </tr>\n",
       "  </tbody>\n",
       "</table>\n",
       "</div>"
      ],
      "text/plain": [
       "   index.1  long_hair.1  forehead_width_cm.1  forehead_height_cm.1  \\\n",
       "0     2515     0.818018                 11.5                   5.8   \n",
       "1     2516     0.995941                 15.2                   5.8   \n",
       "2     2517     0.633806                 15.4                   5.7   \n",
       "3     2518     0.795792                 13.0                   6.9   \n",
       "4     2519     0.915185                 14.2                   5.8   \n",
       "\n",
       "   forehead_width_mm.1  forehead_width_conventional_units.1  nose_wide.1  \\\n",
       "0                115.0                             0.006452     0.137806   \n",
       "1                152.0                             0.245161     0.570656   \n",
       "2                154.0                             0.258065     0.709777   \n",
       "3                130.0                             0.103226     0.883454   \n",
       "4                142.0                             0.180645     0.652973   \n",
       "\n",
       "   nose_long.1  lips_thin.1  distance_nose_to_lip_long.1 gender.1  \n",
       "0     0.402620     0.167844                     0.188913   Female  \n",
       "1     0.980237     0.811487                     0.967540     Male  \n",
       "2     0.365825     0.933026                     0.646992     Male  \n",
       "3     0.399733     0.595028                     0.822491     Male  \n",
       "4     0.735543     0.553571                     0.532910     Male  "
      ]
     },
     "execution_count": 10,
     "metadata": {},
     "output_type": "execute_result"
    }
   ],
   "source": [
    "# вычленим колоки дублирующие c индексом '.1'\n",
    "df2 = df.iloc[:,11:]\n",
    "df2.head()"
   ]
  },
  {
   "cell_type": "code",
   "execution_count": 11,
   "id": "c6535e72",
   "metadata": {},
   "outputs": [
    {
     "data": {
      "text/html": [
       "<div>\n",
       "<style scoped>\n",
       "    .dataframe tbody tr th:only-of-type {\n",
       "        vertical-align: middle;\n",
       "    }\n",
       "\n",
       "    .dataframe tbody tr th {\n",
       "        vertical-align: top;\n",
       "    }\n",
       "\n",
       "    .dataframe thead th {\n",
       "        text-align: right;\n",
       "    }\n",
       "</style>\n",
       "<table border=\"1\" class=\"dataframe\">\n",
       "  <thead>\n",
       "    <tr style=\"text-align: right;\">\n",
       "      <th></th>\n",
       "      <th>index.1</th>\n",
       "      <th>long_hair.1</th>\n",
       "      <th>forehead_width_cm.1</th>\n",
       "      <th>forehead_height_cm.1</th>\n",
       "      <th>forehead_width_mm.1</th>\n",
       "      <th>forehead_width_conventional_units.1</th>\n",
       "      <th>nose_wide.1</th>\n",
       "      <th>nose_long.1</th>\n",
       "      <th>lips_thin.1</th>\n",
       "      <th>distance_nose_to_lip_long.1</th>\n",
       "      <th>gender.1</th>\n",
       "    </tr>\n",
       "  </thead>\n",
       "  <tbody>\n",
       "    <tr>\n",
       "      <th>485</th>\n",
       "      <td>0</td>\n",
       "      <td>NaN</td>\n",
       "      <td>NaN</td>\n",
       "      <td>NaN</td>\n",
       "      <td>NaN</td>\n",
       "      <td>NaN</td>\n",
       "      <td>NaN</td>\n",
       "      <td>NaN</td>\n",
       "      <td>NaN</td>\n",
       "      <td>NaN</td>\n",
       "      <td>NaN</td>\n",
       "    </tr>\n",
       "    <tr>\n",
       "      <th>486</th>\n",
       "      <td>1</td>\n",
       "      <td>NaN</td>\n",
       "      <td>NaN</td>\n",
       "      <td>NaN</td>\n",
       "      <td>NaN</td>\n",
       "      <td>NaN</td>\n",
       "      <td>NaN</td>\n",
       "      <td>NaN</td>\n",
       "      <td>NaN</td>\n",
       "      <td>NaN</td>\n",
       "      <td>NaN</td>\n",
       "    </tr>\n",
       "    <tr>\n",
       "      <th>487</th>\n",
       "      <td>2</td>\n",
       "      <td>NaN</td>\n",
       "      <td>NaN</td>\n",
       "      <td>NaN</td>\n",
       "      <td>NaN</td>\n",
       "      <td>NaN</td>\n",
       "      <td>NaN</td>\n",
       "      <td>NaN</td>\n",
       "      <td>NaN</td>\n",
       "      <td>NaN</td>\n",
       "      <td>NaN</td>\n",
       "    </tr>\n",
       "    <tr>\n",
       "      <th>488</th>\n",
       "      <td>3</td>\n",
       "      <td>NaN</td>\n",
       "      <td>NaN</td>\n",
       "      <td>NaN</td>\n",
       "      <td>NaN</td>\n",
       "      <td>NaN</td>\n",
       "      <td>NaN</td>\n",
       "      <td>NaN</td>\n",
       "      <td>NaN</td>\n",
       "      <td>NaN</td>\n",
       "      <td>NaN</td>\n",
       "    </tr>\n",
       "    <tr>\n",
       "      <th>489</th>\n",
       "      <td>4</td>\n",
       "      <td>NaN</td>\n",
       "      <td>NaN</td>\n",
       "      <td>NaN</td>\n",
       "      <td>NaN</td>\n",
       "      <td>NaN</td>\n",
       "      <td>NaN</td>\n",
       "      <td>NaN</td>\n",
       "      <td>NaN</td>\n",
       "      <td>NaN</td>\n",
       "      <td>NaN</td>\n",
       "    </tr>\n",
       "    <tr>\n",
       "      <th>490</th>\n",
       "      <td>5</td>\n",
       "      <td>NaN</td>\n",
       "      <td>NaN</td>\n",
       "      <td>NaN</td>\n",
       "      <td>NaN</td>\n",
       "      <td>NaN</td>\n",
       "      <td>NaN</td>\n",
       "      <td>NaN</td>\n",
       "      <td>NaN</td>\n",
       "      <td>NaN</td>\n",
       "      <td>NaN</td>\n",
       "    </tr>\n",
       "    <tr>\n",
       "      <th>491</th>\n",
       "      <td>6</td>\n",
       "      <td>NaN</td>\n",
       "      <td>NaN</td>\n",
       "      <td>NaN</td>\n",
       "      <td>NaN</td>\n",
       "      <td>NaN</td>\n",
       "      <td>NaN</td>\n",
       "      <td>NaN</td>\n",
       "      <td>NaN</td>\n",
       "      <td>NaN</td>\n",
       "      <td>NaN</td>\n",
       "    </tr>\n",
       "    <tr>\n",
       "      <th>492</th>\n",
       "      <td>7</td>\n",
       "      <td>NaN</td>\n",
       "      <td>NaN</td>\n",
       "      <td>NaN</td>\n",
       "      <td>NaN</td>\n",
       "      <td>NaN</td>\n",
       "      <td>NaN</td>\n",
       "      <td>NaN</td>\n",
       "      <td>NaN</td>\n",
       "      <td>NaN</td>\n",
       "      <td>NaN</td>\n",
       "    </tr>\n",
       "    <tr>\n",
       "      <th>493</th>\n",
       "      <td>8</td>\n",
       "      <td>NaN</td>\n",
       "      <td>NaN</td>\n",
       "      <td>NaN</td>\n",
       "      <td>NaN</td>\n",
       "      <td>NaN</td>\n",
       "      <td>NaN</td>\n",
       "      <td>NaN</td>\n",
       "      <td>NaN</td>\n",
       "      <td>NaN</td>\n",
       "      <td>NaN</td>\n",
       "    </tr>\n",
       "    <tr>\n",
       "      <th>494</th>\n",
       "      <td>9</td>\n",
       "      <td>NaN</td>\n",
       "      <td>NaN</td>\n",
       "      <td>NaN</td>\n",
       "      <td>NaN</td>\n",
       "      <td>NaN</td>\n",
       "      <td>NaN</td>\n",
       "      <td>NaN</td>\n",
       "      <td>NaN</td>\n",
       "      <td>NaN</td>\n",
       "      <td>NaN</td>\n",
       "    </tr>\n",
       "    <tr>\n",
       "      <th>495</th>\n",
       "      <td>10</td>\n",
       "      <td>NaN</td>\n",
       "      <td>NaN</td>\n",
       "      <td>NaN</td>\n",
       "      <td>NaN</td>\n",
       "      <td>NaN</td>\n",
       "      <td>NaN</td>\n",
       "      <td>NaN</td>\n",
       "      <td>NaN</td>\n",
       "      <td>NaN</td>\n",
       "      <td>NaN</td>\n",
       "    </tr>\n",
       "    <tr>\n",
       "      <th>496</th>\n",
       "      <td>11</td>\n",
       "      <td>NaN</td>\n",
       "      <td>NaN</td>\n",
       "      <td>NaN</td>\n",
       "      <td>NaN</td>\n",
       "      <td>NaN</td>\n",
       "      <td>NaN</td>\n",
       "      <td>NaN</td>\n",
       "      <td>NaN</td>\n",
       "      <td>NaN</td>\n",
       "      <td>NaN</td>\n",
       "    </tr>\n",
       "    <tr>\n",
       "      <th>497</th>\n",
       "      <td>12</td>\n",
       "      <td>NaN</td>\n",
       "      <td>NaN</td>\n",
       "      <td>NaN</td>\n",
       "      <td>NaN</td>\n",
       "      <td>NaN</td>\n",
       "      <td>NaN</td>\n",
       "      <td>NaN</td>\n",
       "      <td>NaN</td>\n",
       "      <td>NaN</td>\n",
       "      <td>NaN</td>\n",
       "    </tr>\n",
       "    <tr>\n",
       "      <th>498</th>\n",
       "      <td>13</td>\n",
       "      <td>NaN</td>\n",
       "      <td>NaN</td>\n",
       "      <td>NaN</td>\n",
       "      <td>NaN</td>\n",
       "      <td>NaN</td>\n",
       "      <td>NaN</td>\n",
       "      <td>NaN</td>\n",
       "      <td>NaN</td>\n",
       "      <td>NaN</td>\n",
       "      <td>NaN</td>\n",
       "    </tr>\n",
       "    <tr>\n",
       "      <th>499</th>\n",
       "      <td>14</td>\n",
       "      <td>NaN</td>\n",
       "      <td>NaN</td>\n",
       "      <td>NaN</td>\n",
       "      <td>NaN</td>\n",
       "      <td>NaN</td>\n",
       "      <td>NaN</td>\n",
       "      <td>NaN</td>\n",
       "      <td>NaN</td>\n",
       "      <td>NaN</td>\n",
       "      <td>NaN</td>\n",
       "    </tr>\n",
       "    <tr>\n",
       "      <th>500</th>\n",
       "      <td>15</td>\n",
       "      <td>NaN</td>\n",
       "      <td>NaN</td>\n",
       "      <td>NaN</td>\n",
       "      <td>NaN</td>\n",
       "      <td>NaN</td>\n",
       "      <td>NaN</td>\n",
       "      <td>NaN</td>\n",
       "      <td>NaN</td>\n",
       "      <td>NaN</td>\n",
       "      <td>NaN</td>\n",
       "    </tr>\n",
       "    <tr>\n",
       "      <th>501</th>\n",
       "      <td>16</td>\n",
       "      <td>NaN</td>\n",
       "      <td>NaN</td>\n",
       "      <td>NaN</td>\n",
       "      <td>NaN</td>\n",
       "      <td>NaN</td>\n",
       "      <td>NaN</td>\n",
       "      <td>NaN</td>\n",
       "      <td>NaN</td>\n",
       "      <td>NaN</td>\n",
       "      <td>NaN</td>\n",
       "    </tr>\n",
       "    <tr>\n",
       "      <th>502</th>\n",
       "      <td>17</td>\n",
       "      <td>NaN</td>\n",
       "      <td>NaN</td>\n",
       "      <td>NaN</td>\n",
       "      <td>NaN</td>\n",
       "      <td>NaN</td>\n",
       "      <td>NaN</td>\n",
       "      <td>NaN</td>\n",
       "      <td>NaN</td>\n",
       "      <td>NaN</td>\n",
       "      <td>NaN</td>\n",
       "    </tr>\n",
       "    <tr>\n",
       "      <th>503</th>\n",
       "      <td>18</td>\n",
       "      <td>NaN</td>\n",
       "      <td>NaN</td>\n",
       "      <td>NaN</td>\n",
       "      <td>NaN</td>\n",
       "      <td>NaN</td>\n",
       "      <td>NaN</td>\n",
       "      <td>NaN</td>\n",
       "      <td>NaN</td>\n",
       "      <td>NaN</td>\n",
       "      <td>NaN</td>\n",
       "    </tr>\n",
       "    <tr>\n",
       "      <th>504</th>\n",
       "      <td>19</td>\n",
       "      <td>NaN</td>\n",
       "      <td>NaN</td>\n",
       "      <td>NaN</td>\n",
       "      <td>NaN</td>\n",
       "      <td>NaN</td>\n",
       "      <td>NaN</td>\n",
       "      <td>NaN</td>\n",
       "      <td>NaN</td>\n",
       "      <td>NaN</td>\n",
       "      <td>NaN</td>\n",
       "    </tr>\n",
       "    <tr>\n",
       "      <th>505</th>\n",
       "      <td>20</td>\n",
       "      <td>NaN</td>\n",
       "      <td>NaN</td>\n",
       "      <td>NaN</td>\n",
       "      <td>NaN</td>\n",
       "      <td>NaN</td>\n",
       "      <td>NaN</td>\n",
       "      <td>NaN</td>\n",
       "      <td>NaN</td>\n",
       "      <td>NaN</td>\n",
       "      <td>NaN</td>\n",
       "    </tr>\n",
       "    <tr>\n",
       "      <th>506</th>\n",
       "      <td>21</td>\n",
       "      <td>NaN</td>\n",
       "      <td>NaN</td>\n",
       "      <td>NaN</td>\n",
       "      <td>NaN</td>\n",
       "      <td>NaN</td>\n",
       "      <td>NaN</td>\n",
       "      <td>NaN</td>\n",
       "      <td>NaN</td>\n",
       "      <td>NaN</td>\n",
       "      <td>NaN</td>\n",
       "    </tr>\n",
       "    <tr>\n",
       "      <th>507</th>\n",
       "      <td>22</td>\n",
       "      <td>NaN</td>\n",
       "      <td>NaN</td>\n",
       "      <td>NaN</td>\n",
       "      <td>NaN</td>\n",
       "      <td>NaN</td>\n",
       "      <td>NaN</td>\n",
       "      <td>NaN</td>\n",
       "      <td>NaN</td>\n",
       "      <td>NaN</td>\n",
       "      <td>NaN</td>\n",
       "    </tr>\n",
       "    <tr>\n",
       "      <th>508</th>\n",
       "      <td>23</td>\n",
       "      <td>NaN</td>\n",
       "      <td>NaN</td>\n",
       "      <td>NaN</td>\n",
       "      <td>NaN</td>\n",
       "      <td>NaN</td>\n",
       "      <td>NaN</td>\n",
       "      <td>NaN</td>\n",
       "      <td>NaN</td>\n",
       "      <td>NaN</td>\n",
       "      <td>NaN</td>\n",
       "    </tr>\n",
       "    <tr>\n",
       "      <th>509</th>\n",
       "      <td>24</td>\n",
       "      <td>NaN</td>\n",
       "      <td>NaN</td>\n",
       "      <td>NaN</td>\n",
       "      <td>NaN</td>\n",
       "      <td>NaN</td>\n",
       "      <td>NaN</td>\n",
       "      <td>NaN</td>\n",
       "      <td>NaN</td>\n",
       "      <td>NaN</td>\n",
       "      <td>NaN</td>\n",
       "    </tr>\n",
       "    <tr>\n",
       "      <th>510</th>\n",
       "      <td>25</td>\n",
       "      <td>NaN</td>\n",
       "      <td>NaN</td>\n",
       "      <td>NaN</td>\n",
       "      <td>NaN</td>\n",
       "      <td>NaN</td>\n",
       "      <td>NaN</td>\n",
       "      <td>NaN</td>\n",
       "      <td>NaN</td>\n",
       "      <td>NaN</td>\n",
       "      <td>NaN</td>\n",
       "    </tr>\n",
       "    <tr>\n",
       "      <th>511</th>\n",
       "      <td>26</td>\n",
       "      <td>NaN</td>\n",
       "      <td>NaN</td>\n",
       "      <td>NaN</td>\n",
       "      <td>NaN</td>\n",
       "      <td>NaN</td>\n",
       "      <td>NaN</td>\n",
       "      <td>NaN</td>\n",
       "      <td>NaN</td>\n",
       "      <td>NaN</td>\n",
       "      <td>NaN</td>\n",
       "    </tr>\n",
       "    <tr>\n",
       "      <th>512</th>\n",
       "      <td>27</td>\n",
       "      <td>NaN</td>\n",
       "      <td>NaN</td>\n",
       "      <td>NaN</td>\n",
       "      <td>NaN</td>\n",
       "      <td>NaN</td>\n",
       "      <td>NaN</td>\n",
       "      <td>NaN</td>\n",
       "      <td>NaN</td>\n",
       "      <td>NaN</td>\n",
       "      <td>NaN</td>\n",
       "    </tr>\n",
       "    <tr>\n",
       "      <th>513</th>\n",
       "      <td>28</td>\n",
       "      <td>NaN</td>\n",
       "      <td>NaN</td>\n",
       "      <td>NaN</td>\n",
       "      <td>NaN</td>\n",
       "      <td>NaN</td>\n",
       "      <td>NaN</td>\n",
       "      <td>NaN</td>\n",
       "      <td>NaN</td>\n",
       "      <td>NaN</td>\n",
       "      <td>NaN</td>\n",
       "    </tr>\n",
       "  </tbody>\n",
       "</table>\n",
       "</div>"
      ],
      "text/plain": [
       "     index.1  long_hair.1  forehead_width_cm.1  forehead_height_cm.1  \\\n",
       "485        0          NaN                  NaN                   NaN   \n",
       "486        1          NaN                  NaN                   NaN   \n",
       "487        2          NaN                  NaN                   NaN   \n",
       "488        3          NaN                  NaN                   NaN   \n",
       "489        4          NaN                  NaN                   NaN   \n",
       "490        5          NaN                  NaN                   NaN   \n",
       "491        6          NaN                  NaN                   NaN   \n",
       "492        7          NaN                  NaN                   NaN   \n",
       "493        8          NaN                  NaN                   NaN   \n",
       "494        9          NaN                  NaN                   NaN   \n",
       "495       10          NaN                  NaN                   NaN   \n",
       "496       11          NaN                  NaN                   NaN   \n",
       "497       12          NaN                  NaN                   NaN   \n",
       "498       13          NaN                  NaN                   NaN   \n",
       "499       14          NaN                  NaN                   NaN   \n",
       "500       15          NaN                  NaN                   NaN   \n",
       "501       16          NaN                  NaN                   NaN   \n",
       "502       17          NaN                  NaN                   NaN   \n",
       "503       18          NaN                  NaN                   NaN   \n",
       "504       19          NaN                  NaN                   NaN   \n",
       "505       20          NaN                  NaN                   NaN   \n",
       "506       21          NaN                  NaN                   NaN   \n",
       "507       22          NaN                  NaN                   NaN   \n",
       "508       23          NaN                  NaN                   NaN   \n",
       "509       24          NaN                  NaN                   NaN   \n",
       "510       25          NaN                  NaN                   NaN   \n",
       "511       26          NaN                  NaN                   NaN   \n",
       "512       27          NaN                  NaN                   NaN   \n",
       "513       28          NaN                  NaN                   NaN   \n",
       "\n",
       "     forehead_width_mm.1  forehead_width_conventional_units.1  nose_wide.1  \\\n",
       "485                  NaN                                  NaN          NaN   \n",
       "486                  NaN                                  NaN          NaN   \n",
       "487                  NaN                                  NaN          NaN   \n",
       "488                  NaN                                  NaN          NaN   \n",
       "489                  NaN                                  NaN          NaN   \n",
       "490                  NaN                                  NaN          NaN   \n",
       "491                  NaN                                  NaN          NaN   \n",
       "492                  NaN                                  NaN          NaN   \n",
       "493                  NaN                                  NaN          NaN   \n",
       "494                  NaN                                  NaN          NaN   \n",
       "495                  NaN                                  NaN          NaN   \n",
       "496                  NaN                                  NaN          NaN   \n",
       "497                  NaN                                  NaN          NaN   \n",
       "498                  NaN                                  NaN          NaN   \n",
       "499                  NaN                                  NaN          NaN   \n",
       "500                  NaN                                  NaN          NaN   \n",
       "501                  NaN                                  NaN          NaN   \n",
       "502                  NaN                                  NaN          NaN   \n",
       "503                  NaN                                  NaN          NaN   \n",
       "504                  NaN                                  NaN          NaN   \n",
       "505                  NaN                                  NaN          NaN   \n",
       "506                  NaN                                  NaN          NaN   \n",
       "507                  NaN                                  NaN          NaN   \n",
       "508                  NaN                                  NaN          NaN   \n",
       "509                  NaN                                  NaN          NaN   \n",
       "510                  NaN                                  NaN          NaN   \n",
       "511                  NaN                                  NaN          NaN   \n",
       "512                  NaN                                  NaN          NaN   \n",
       "513                  NaN                                  NaN          NaN   \n",
       "\n",
       "     nose_long.1  lips_thin.1  distance_nose_to_lip_long.1 gender.1  \n",
       "485          NaN          NaN                          NaN      NaN  \n",
       "486          NaN          NaN                          NaN      NaN  \n",
       "487          NaN          NaN                          NaN      NaN  \n",
       "488          NaN          NaN                          NaN      NaN  \n",
       "489          NaN          NaN                          NaN      NaN  \n",
       "490          NaN          NaN                          NaN      NaN  \n",
       "491          NaN          NaN                          NaN      NaN  \n",
       "492          NaN          NaN                          NaN      NaN  \n",
       "493          NaN          NaN                          NaN      NaN  \n",
       "494          NaN          NaN                          NaN      NaN  \n",
       "495          NaN          NaN                          NaN      NaN  \n",
       "496          NaN          NaN                          NaN      NaN  \n",
       "497          NaN          NaN                          NaN      NaN  \n",
       "498          NaN          NaN                          NaN      NaN  \n",
       "499          NaN          NaN                          NaN      NaN  \n",
       "500          NaN          NaN                          NaN      NaN  \n",
       "501          NaN          NaN                          NaN      NaN  \n",
       "502          NaN          NaN                          NaN      NaN  \n",
       "503          NaN          NaN                          NaN      NaN  \n",
       "504          NaN          NaN                          NaN      NaN  \n",
       "505          NaN          NaN                          NaN      NaN  \n",
       "506          NaN          NaN                          NaN      NaN  \n",
       "507          NaN          NaN                          NaN      NaN  \n",
       "508          NaN          NaN                          NaN      NaN  \n",
       "509          NaN          NaN                          NaN      NaN  \n",
       "510          NaN          NaN                          NaN      NaN  \n",
       "511          NaN          NaN                          NaN      NaN  \n",
       "512          NaN          NaN                          NaN      NaN  \n",
       "513          NaN          NaN                          NaN      NaN  "
      ]
     },
     "execution_count": 11,
     "metadata": {},
     "output_type": "execute_result"
    }
   ],
   "source": [
    "# проверим на пропуски так как первоначальный анализ показал их наличие\n",
    "df2[df2['long_hair.1'].isna()]"
   ]
  },
  {
   "cell_type": "code",
   "execution_count": 12,
   "id": "ede90d15",
   "metadata": {},
   "outputs": [],
   "source": [
    "# удалим строки с NaN. Выберем при этом столбец long_hair.1 так как столбец index.1 не содержит NaN\n",
    "df2.dropna(subset=['long_hair.1'], inplace=True)"
   ]
  },
  {
   "cell_type": "code",
   "execution_count": 13,
   "id": "3afa847b",
   "metadata": {},
   "outputs": [],
   "source": [
    "def rename_col(columns):\n",
    "    \"\"\"Ф-ция убирает 2 последних символа в названиях колонок\n",
    "    \"\"\"\n",
    "    return map(lambda x: x[:-2], columns)"
   ]
  },
  {
   "cell_type": "code",
   "execution_count": 14,
   "id": "ceffada3",
   "metadata": {},
   "outputs": [
    {
     "data": {
      "text/html": [
       "<div>\n",
       "<style scoped>\n",
       "    .dataframe tbody tr th:only-of-type {\n",
       "        vertical-align: middle;\n",
       "    }\n",
       "\n",
       "    .dataframe tbody tr th {\n",
       "        vertical-align: top;\n",
       "    }\n",
       "\n",
       "    .dataframe thead th {\n",
       "        text-align: right;\n",
       "    }\n",
       "</style>\n",
       "<table border=\"1\" class=\"dataframe\">\n",
       "  <thead>\n",
       "    <tr style=\"text-align: right;\">\n",
       "      <th></th>\n",
       "      <th>index</th>\n",
       "      <th>long_hair</th>\n",
       "      <th>forehead_width_cm</th>\n",
       "      <th>forehead_height_cm</th>\n",
       "      <th>forehead_width_mm</th>\n",
       "      <th>forehead_width_conventional_units</th>\n",
       "      <th>nose_wide</th>\n",
       "      <th>nose_long</th>\n",
       "      <th>lips_thin</th>\n",
       "      <th>distance_nose_to_lip_long</th>\n",
       "      <th>gender</th>\n",
       "    </tr>\n",
       "  </thead>\n",
       "  <tbody>\n",
       "    <tr>\n",
       "      <th>0</th>\n",
       "      <td>2515</td>\n",
       "      <td>0.818018</td>\n",
       "      <td>11.5</td>\n",
       "      <td>5.8</td>\n",
       "      <td>115.0</td>\n",
       "      <td>0.006452</td>\n",
       "      <td>0.137806</td>\n",
       "      <td>0.402620</td>\n",
       "      <td>0.167844</td>\n",
       "      <td>0.188913</td>\n",
       "      <td>Female</td>\n",
       "    </tr>\n",
       "    <tr>\n",
       "      <th>1</th>\n",
       "      <td>2516</td>\n",
       "      <td>0.995941</td>\n",
       "      <td>15.2</td>\n",
       "      <td>5.8</td>\n",
       "      <td>152.0</td>\n",
       "      <td>0.245161</td>\n",
       "      <td>0.570656</td>\n",
       "      <td>0.980237</td>\n",
       "      <td>0.811487</td>\n",
       "      <td>0.967540</td>\n",
       "      <td>Male</td>\n",
       "    </tr>\n",
       "    <tr>\n",
       "      <th>2</th>\n",
       "      <td>2517</td>\n",
       "      <td>0.633806</td>\n",
       "      <td>15.4</td>\n",
       "      <td>5.7</td>\n",
       "      <td>154.0</td>\n",
       "      <td>0.258065</td>\n",
       "      <td>0.709777</td>\n",
       "      <td>0.365825</td>\n",
       "      <td>0.933026</td>\n",
       "      <td>0.646992</td>\n",
       "      <td>Male</td>\n",
       "    </tr>\n",
       "    <tr>\n",
       "      <th>3</th>\n",
       "      <td>2518</td>\n",
       "      <td>0.795792</td>\n",
       "      <td>13.0</td>\n",
       "      <td>6.9</td>\n",
       "      <td>130.0</td>\n",
       "      <td>0.103226</td>\n",
       "      <td>0.883454</td>\n",
       "      <td>0.399733</td>\n",
       "      <td>0.595028</td>\n",
       "      <td>0.822491</td>\n",
       "      <td>Male</td>\n",
       "    </tr>\n",
       "    <tr>\n",
       "      <th>4</th>\n",
       "      <td>2519</td>\n",
       "      <td>0.915185</td>\n",
       "      <td>14.2</td>\n",
       "      <td>5.8</td>\n",
       "      <td>142.0</td>\n",
       "      <td>0.180645</td>\n",
       "      <td>0.652973</td>\n",
       "      <td>0.735543</td>\n",
       "      <td>0.553571</td>\n",
       "      <td>0.532910</td>\n",
       "      <td>Male</td>\n",
       "    </tr>\n",
       "  </tbody>\n",
       "</table>\n",
       "</div>"
      ],
      "text/plain": [
       "   index  long_hair  forehead_width_cm  forehead_height_cm  forehead_width_mm  \\\n",
       "0   2515   0.818018               11.5                 5.8              115.0   \n",
       "1   2516   0.995941               15.2                 5.8              152.0   \n",
       "2   2517   0.633806               15.4                 5.7              154.0   \n",
       "3   2518   0.795792               13.0                 6.9              130.0   \n",
       "4   2519   0.915185               14.2                 5.8              142.0   \n",
       "\n",
       "   forehead_width_conventional_units  nose_wide  nose_long  lips_thin  \\\n",
       "0                           0.006452   0.137806   0.402620   0.167844   \n",
       "1                           0.245161   0.570656   0.980237   0.811487   \n",
       "2                           0.258065   0.709777   0.365825   0.933026   \n",
       "3                           0.103226   0.883454   0.399733   0.595028   \n",
       "4                           0.180645   0.652973   0.735543   0.553571   \n",
       "\n",
       "   distance_nose_to_lip_long  gender  \n",
       "0                   0.188913  Female  \n",
       "1                   0.967540    Male  \n",
       "2                   0.646992    Male  \n",
       "3                   0.822491    Male  \n",
       "4                   0.532910    Male  "
      ]
     },
     "execution_count": 14,
     "metadata": {},
     "output_type": "execute_result"
    }
   ],
   "source": [
    "# переименуем колонки\n",
    "df2.columns = rename_col(df2.columns)\n",
    "df2.head()"
   ]
  },
  {
   "cell_type": "markdown",
   "id": "5bb42c30",
   "metadata": {},
   "source": [
    "### Объединение df1 и df2"
   ]
  },
  {
   "cell_type": "code",
   "execution_count": 15,
   "id": "e2385d95",
   "metadata": {},
   "outputs": [
    {
     "data": {
      "text/html": [
       "<div>\n",
       "<style scoped>\n",
       "    .dataframe tbody tr th:only-of-type {\n",
       "        vertical-align: middle;\n",
       "    }\n",
       "\n",
       "    .dataframe tbody tr th {\n",
       "        vertical-align: top;\n",
       "    }\n",
       "\n",
       "    .dataframe thead th {\n",
       "        text-align: right;\n",
       "    }\n",
       "</style>\n",
       "<table border=\"1\" class=\"dataframe\">\n",
       "  <thead>\n",
       "    <tr style=\"text-align: right;\">\n",
       "      <th></th>\n",
       "      <th>index</th>\n",
       "      <th>long_hair</th>\n",
       "      <th>forehead_width_cm</th>\n",
       "      <th>forehead_height_cm</th>\n",
       "      <th>forehead_width_mm</th>\n",
       "      <th>forehead_width_conventional_units</th>\n",
       "      <th>nose_wide</th>\n",
       "      <th>nose_long</th>\n",
       "      <th>lips_thin</th>\n",
       "      <th>distance_nose_to_lip_long</th>\n",
       "      <th>gender</th>\n",
       "    </tr>\n",
       "  </thead>\n",
       "  <tbody>\n",
       "    <tr>\n",
       "      <th>0</th>\n",
       "      <td>0</td>\n",
       "      <td>0.704275</td>\n",
       "      <td>11.8</td>\n",
       "      <td>6.1</td>\n",
       "      <td>118.0</td>\n",
       "      <td>0.025806</td>\n",
       "      <td>0.895614</td>\n",
       "      <td>0.477485</td>\n",
       "      <td>0.841261</td>\n",
       "      <td>0.902628</td>\n",
       "      <td>NaN</td>\n",
       "    </tr>\n",
       "    <tr>\n",
       "      <th>1</th>\n",
       "      <td>1</td>\n",
       "      <td>0.118690</td>\n",
       "      <td>14.0</td>\n",
       "      <td>5.4</td>\n",
       "      <td>140.0</td>\n",
       "      <td>0.167742</td>\n",
       "      <td>0.202520</td>\n",
       "      <td>0.186825</td>\n",
       "      <td>0.719697</td>\n",
       "      <td>0.309122</td>\n",
       "      <td>NaN</td>\n",
       "    </tr>\n",
       "    <tr>\n",
       "      <th>2</th>\n",
       "      <td>2</td>\n",
       "      <td>0.203894</td>\n",
       "      <td>11.8</td>\n",
       "      <td>6.3</td>\n",
       "      <td>118.0</td>\n",
       "      <td>0.025806</td>\n",
       "      <td>0.892793</td>\n",
       "      <td>0.723152</td>\n",
       "      <td>0.725821</td>\n",
       "      <td>0.720640</td>\n",
       "      <td>NaN</td>\n",
       "    </tr>\n",
       "    <tr>\n",
       "      <th>3</th>\n",
       "      <td>3</td>\n",
       "      <td>0.386228</td>\n",
       "      <td>14.4</td>\n",
       "      <td>6.1</td>\n",
       "      <td>144.0</td>\n",
       "      <td>0.193548</td>\n",
       "      <td>0.024963</td>\n",
       "      <td>0.562005</td>\n",
       "      <td>0.831515</td>\n",
       "      <td>0.770379</td>\n",
       "      <td>NaN</td>\n",
       "    </tr>\n",
       "    <tr>\n",
       "      <th>4</th>\n",
       "      <td>4</td>\n",
       "      <td>0.564020</td>\n",
       "      <td>13.5</td>\n",
       "      <td>5.9</td>\n",
       "      <td>135.0</td>\n",
       "      <td>0.135484</td>\n",
       "      <td>0.415389</td>\n",
       "      <td>0.063705</td>\n",
       "      <td>0.211584</td>\n",
       "      <td>0.157217</td>\n",
       "      <td>NaN</td>\n",
       "    </tr>\n",
       "    <tr>\n",
       "      <th>...</th>\n",
       "      <td>...</td>\n",
       "      <td>...</td>\n",
       "      <td>...</td>\n",
       "      <td>...</td>\n",
       "      <td>...</td>\n",
       "      <td>...</td>\n",
       "      <td>...</td>\n",
       "      <td>...</td>\n",
       "      <td>...</td>\n",
       "      <td>...</td>\n",
       "      <td>...</td>\n",
       "    </tr>\n",
       "    <tr>\n",
       "      <th>2510</th>\n",
       "      <td>4996</td>\n",
       "      <td>0.645930</td>\n",
       "      <td>13.6</td>\n",
       "      <td>5.1</td>\n",
       "      <td>136.0</td>\n",
       "      <td>0.141935</td>\n",
       "      <td>0.443641</td>\n",
       "      <td>0.255464</td>\n",
       "      <td>0.116379</td>\n",
       "      <td>0.042459</td>\n",
       "      <td>Female</td>\n",
       "    </tr>\n",
       "    <tr>\n",
       "      <th>2511</th>\n",
       "      <td>4997</td>\n",
       "      <td>0.501251</td>\n",
       "      <td>11.9</td>\n",
       "      <td>5.4</td>\n",
       "      <td>119.0</td>\n",
       "      <td>0.032258</td>\n",
       "      <td>0.473038</td>\n",
       "      <td>0.469482</td>\n",
       "      <td>0.067636</td>\n",
       "      <td>0.210801</td>\n",
       "      <td>Female</td>\n",
       "    </tr>\n",
       "    <tr>\n",
       "      <th>2512</th>\n",
       "      <td>4998</td>\n",
       "      <td>0.701357</td>\n",
       "      <td>12.9</td>\n",
       "      <td>5.7</td>\n",
       "      <td>129.0</td>\n",
       "      <td>0.096774</td>\n",
       "      <td>0.388300</td>\n",
       "      <td>0.428321</td>\n",
       "      <td>0.322559</td>\n",
       "      <td>0.199743</td>\n",
       "      <td>Female</td>\n",
       "    </tr>\n",
       "    <tr>\n",
       "      <th>2513</th>\n",
       "      <td>4999</td>\n",
       "      <td>0.684078</td>\n",
       "      <td>13.2</td>\n",
       "      <td>6.2</td>\n",
       "      <td>132.0</td>\n",
       "      <td>0.116129</td>\n",
       "      <td>0.067981</td>\n",
       "      <td>0.167563</td>\n",
       "      <td>0.218222</td>\n",
       "      <td>0.370723</td>\n",
       "      <td>Female</td>\n",
       "    </tr>\n",
       "    <tr>\n",
       "      <th>2514</th>\n",
       "      <td>5000</td>\n",
       "      <td>0.794726</td>\n",
       "      <td>15.4</td>\n",
       "      <td>5.4</td>\n",
       "      <td>154.0</td>\n",
       "      <td>0.258065</td>\n",
       "      <td>0.812078</td>\n",
       "      <td>0.956397</td>\n",
       "      <td>0.692107</td>\n",
       "      <td>0.531950</td>\n",
       "      <td>Male</td>\n",
       "    </tr>\n",
       "  </tbody>\n",
       "</table>\n",
       "<p>5001 rows × 11 columns</p>\n",
       "</div>"
      ],
      "text/plain": [
       "      index  long_hair  forehead_width_cm  forehead_height_cm  \\\n",
       "0         0   0.704275               11.8                 6.1   \n",
       "1         1   0.118690               14.0                 5.4   \n",
       "2         2   0.203894               11.8                 6.3   \n",
       "3         3   0.386228               14.4                 6.1   \n",
       "4         4   0.564020               13.5                 5.9   \n",
       "...     ...        ...                ...                 ...   \n",
       "2510   4996   0.645930               13.6                 5.1   \n",
       "2511   4997   0.501251               11.9                 5.4   \n",
       "2512   4998   0.701357               12.9                 5.7   \n",
       "2513   4999   0.684078               13.2                 6.2   \n",
       "2514   5000   0.794726               15.4                 5.4   \n",
       "\n",
       "      forehead_width_mm  forehead_width_conventional_units  nose_wide  \\\n",
       "0                 118.0                           0.025806   0.895614   \n",
       "1                 140.0                           0.167742   0.202520   \n",
       "2                 118.0                           0.025806   0.892793   \n",
       "3                 144.0                           0.193548   0.024963   \n",
       "4                 135.0                           0.135484   0.415389   \n",
       "...                 ...                                ...        ...   \n",
       "2510              136.0                           0.141935   0.443641   \n",
       "2511              119.0                           0.032258   0.473038   \n",
       "2512              129.0                           0.096774   0.388300   \n",
       "2513              132.0                           0.116129   0.067981   \n",
       "2514              154.0                           0.258065   0.812078   \n",
       "\n",
       "      nose_long  lips_thin  distance_nose_to_lip_long  gender  \n",
       "0      0.477485   0.841261                   0.902628     NaN  \n",
       "1      0.186825   0.719697                   0.309122     NaN  \n",
       "2      0.723152   0.725821                   0.720640     NaN  \n",
       "3      0.562005   0.831515                   0.770379     NaN  \n",
       "4      0.063705   0.211584                   0.157217     NaN  \n",
       "...         ...        ...                        ...     ...  \n",
       "2510   0.255464   0.116379                   0.042459  Female  \n",
       "2511   0.469482   0.067636                   0.210801  Female  \n",
       "2512   0.428321   0.322559                   0.199743  Female  \n",
       "2513   0.167563   0.218222                   0.370723  Female  \n",
       "2514   0.956397   0.692107                   0.531950    Male  \n",
       "\n",
       "[5001 rows x 11 columns]"
      ]
     },
     "execution_count": 15,
     "metadata": {},
     "output_type": "execute_result"
    }
   ],
   "source": [
    "# объединим колонки\n",
    "df_concat = pd.concat([df1, df2])\n",
    "df_concat"
   ]
  },
  {
   "cell_type": "markdown",
   "id": "74cac189",
   "metadata": {},
   "source": [
    "### Установим колонку index в качестве индексов таблицы"
   ]
  },
  {
   "cell_type": "code",
   "execution_count": 16,
   "id": "2437205b",
   "metadata": {},
   "outputs": [
    {
     "data": {
      "text/plain": [
       "0"
      ]
     },
     "execution_count": 16,
     "metadata": {},
     "output_type": "execute_result"
    }
   ],
   "source": [
    "# проверим на наличие дубликатов в индексах\n",
    "df_concat['index'].duplicated().sum()"
   ]
  },
  {
   "cell_type": "code",
   "execution_count": 17,
   "id": "78a75278",
   "metadata": {},
   "outputs": [
    {
     "data": {
      "text/plain": [
       "0"
      ]
     },
     "execution_count": 17,
     "metadata": {},
     "output_type": "execute_result"
    }
   ],
   "source": [
    "# дубликаты всей таблицы\n",
    "df_concat.duplicated().sum()"
   ]
  },
  {
   "cell_type": "code",
   "execution_count": 18,
   "id": "8c54006d",
   "metadata": {},
   "outputs": [],
   "source": [
    "df_concat.set_index('index', inplace = True)"
   ]
  },
  {
   "cell_type": "code",
   "execution_count": 19,
   "id": "ba47fcb5",
   "metadata": {},
   "outputs": [
    {
     "data": {
      "text/html": [
       "<div>\n",
       "<style scoped>\n",
       "    .dataframe tbody tr th:only-of-type {\n",
       "        vertical-align: middle;\n",
       "    }\n",
       "\n",
       "    .dataframe tbody tr th {\n",
       "        vertical-align: top;\n",
       "    }\n",
       "\n",
       "    .dataframe thead th {\n",
       "        text-align: right;\n",
       "    }\n",
       "</style>\n",
       "<table border=\"1\" class=\"dataframe\">\n",
       "  <thead>\n",
       "    <tr style=\"text-align: right;\">\n",
       "      <th></th>\n",
       "      <th>long_hair</th>\n",
       "      <th>forehead_width_cm</th>\n",
       "      <th>forehead_height_cm</th>\n",
       "      <th>forehead_width_mm</th>\n",
       "      <th>forehead_width_conventional_units</th>\n",
       "      <th>nose_wide</th>\n",
       "      <th>nose_long</th>\n",
       "      <th>lips_thin</th>\n",
       "      <th>distance_nose_to_lip_long</th>\n",
       "      <th>gender</th>\n",
       "    </tr>\n",
       "    <tr>\n",
       "      <th>index</th>\n",
       "      <th></th>\n",
       "      <th></th>\n",
       "      <th></th>\n",
       "      <th></th>\n",
       "      <th></th>\n",
       "      <th></th>\n",
       "      <th></th>\n",
       "      <th></th>\n",
       "      <th></th>\n",
       "      <th></th>\n",
       "    </tr>\n",
       "  </thead>\n",
       "  <tbody>\n",
       "    <tr>\n",
       "      <th>0</th>\n",
       "      <td>0.704275</td>\n",
       "      <td>11.8</td>\n",
       "      <td>6.1</td>\n",
       "      <td>118.0</td>\n",
       "      <td>0.025806</td>\n",
       "      <td>0.895614</td>\n",
       "      <td>0.477485</td>\n",
       "      <td>0.841261</td>\n",
       "      <td>0.902628</td>\n",
       "      <td>NaN</td>\n",
       "    </tr>\n",
       "    <tr>\n",
       "      <th>1</th>\n",
       "      <td>0.118690</td>\n",
       "      <td>14.0</td>\n",
       "      <td>5.4</td>\n",
       "      <td>140.0</td>\n",
       "      <td>0.167742</td>\n",
       "      <td>0.202520</td>\n",
       "      <td>0.186825</td>\n",
       "      <td>0.719697</td>\n",
       "      <td>0.309122</td>\n",
       "      <td>NaN</td>\n",
       "    </tr>\n",
       "    <tr>\n",
       "      <th>2</th>\n",
       "      <td>0.203894</td>\n",
       "      <td>11.8</td>\n",
       "      <td>6.3</td>\n",
       "      <td>118.0</td>\n",
       "      <td>0.025806</td>\n",
       "      <td>0.892793</td>\n",
       "      <td>0.723152</td>\n",
       "      <td>0.725821</td>\n",
       "      <td>0.720640</td>\n",
       "      <td>NaN</td>\n",
       "    </tr>\n",
       "    <tr>\n",
       "      <th>3</th>\n",
       "      <td>0.386228</td>\n",
       "      <td>14.4</td>\n",
       "      <td>6.1</td>\n",
       "      <td>144.0</td>\n",
       "      <td>0.193548</td>\n",
       "      <td>0.024963</td>\n",
       "      <td>0.562005</td>\n",
       "      <td>0.831515</td>\n",
       "      <td>0.770379</td>\n",
       "      <td>NaN</td>\n",
       "    </tr>\n",
       "    <tr>\n",
       "      <th>4</th>\n",
       "      <td>0.564020</td>\n",
       "      <td>13.5</td>\n",
       "      <td>5.9</td>\n",
       "      <td>135.0</td>\n",
       "      <td>0.135484</td>\n",
       "      <td>0.415389</td>\n",
       "      <td>0.063705</td>\n",
       "      <td>0.211584</td>\n",
       "      <td>0.157217</td>\n",
       "      <td>NaN</td>\n",
       "    </tr>\n",
       "  </tbody>\n",
       "</table>\n",
       "</div>"
      ],
      "text/plain": [
       "       long_hair  forehead_width_cm  forehead_height_cm  forehead_width_mm  \\\n",
       "index                                                                        \n",
       "0       0.704275               11.8                 6.1              118.0   \n",
       "1       0.118690               14.0                 5.4              140.0   \n",
       "2       0.203894               11.8                 6.3              118.0   \n",
       "3       0.386228               14.4                 6.1              144.0   \n",
       "4       0.564020               13.5                 5.9              135.0   \n",
       "\n",
       "       forehead_width_conventional_units  nose_wide  nose_long  lips_thin  \\\n",
       "index                                                                       \n",
       "0                               0.025806   0.895614   0.477485   0.841261   \n",
       "1                               0.167742   0.202520   0.186825   0.719697   \n",
       "2                               0.025806   0.892793   0.723152   0.725821   \n",
       "3                               0.193548   0.024963   0.562005   0.831515   \n",
       "4                               0.135484   0.415389   0.063705   0.211584   \n",
       "\n",
       "       distance_nose_to_lip_long gender  \n",
       "index                                    \n",
       "0                       0.902628    NaN  \n",
       "1                       0.309122    NaN  \n",
       "2                       0.720640    NaN  \n",
       "3                       0.770379    NaN  \n",
       "4                       0.157217    NaN  "
      ]
     },
     "execution_count": 19,
     "metadata": {},
     "output_type": "execute_result"
    }
   ],
   "source": [
    "df_concat.head()"
   ]
  },
  {
   "cell_type": "code",
   "execution_count": 20,
   "id": "683f3c2b",
   "metadata": {},
   "outputs": [
    {
     "data": {
      "text/plain": [
       "<AxesSubplot:>"
      ]
     },
     "execution_count": 20,
     "metadata": {},
     "output_type": "execute_result"
    },
    {
     "data": {
      "image/png": "[encoded data removed]",
      "text/plain": [
       "<Figure size 432x288 with 2 Axes>"
      ]
     },
     "metadata": {
      "needs_background": "light"
     },
     "output_type": "display_data"
    }
   ],
   "source": [
    "sns.heatmap(df_concat.corr(),annot=True)"
   ]
  },
  {
   "cell_type": "markdown",
   "id": "25357acb",
   "metadata": {},
   "source": [
    "## 2. Уменьшение влияние погрешности путем приравнивания значений диапазона [0,0.5) к 0, а [0.5, 1) —- к 1"
   ]
  },
  {
   "cell_type": "markdown",
   "id": "02923cbf",
   "metadata": {},
   "source": [
    "### Создадим таблицу из колонок, которую надо преобразовать в 0 и 1"
   ]
  },
  {
   "cell_type": "code",
   "execution_count": 21,
   "id": "cbd6f9dd",
   "metadata": {},
   "outputs": [],
   "source": [
    "# колонки в которых нужно произвести бинаризацию\n",
    "columns = ['nose_wide', 'nose_long', 'lips_thin', 'distance_nose_to_lip_long', 'long_hair']"
   ]
  },
  {
   "cell_type": "code",
   "execution_count": 22,
   "id": "42735967",
   "metadata": {},
   "outputs": [
    {
     "data": {
      "text/html": [
       "<div>\n",
       "<style scoped>\n",
       "    .dataframe tbody tr th:only-of-type {\n",
       "        vertical-align: middle;\n",
       "    }\n",
       "\n",
       "    .dataframe tbody tr th {\n",
       "        vertical-align: top;\n",
       "    }\n",
       "\n",
       "    .dataframe thead th {\n",
       "        text-align: right;\n",
       "    }\n",
       "</style>\n",
       "<table border=\"1\" class=\"dataframe\">\n",
       "  <thead>\n",
       "    <tr style=\"text-align: right;\">\n",
       "      <th></th>\n",
       "      <th>nose_wide</th>\n",
       "      <th>nose_long</th>\n",
       "      <th>lips_thin</th>\n",
       "      <th>distance_nose_to_lip_long</th>\n",
       "      <th>long_hair</th>\n",
       "    </tr>\n",
       "    <tr>\n",
       "      <th>index</th>\n",
       "      <th></th>\n",
       "      <th></th>\n",
       "      <th></th>\n",
       "      <th></th>\n",
       "      <th></th>\n",
       "    </tr>\n",
       "  </thead>\n",
       "  <tbody>\n",
       "    <tr>\n",
       "      <th>0</th>\n",
       "      <td>0.895614</td>\n",
       "      <td>0.477485</td>\n",
       "      <td>0.841261</td>\n",
       "      <td>0.902628</td>\n",
       "      <td>0.704275</td>\n",
       "    </tr>\n",
       "    <tr>\n",
       "      <th>1</th>\n",
       "      <td>0.202520</td>\n",
       "      <td>0.186825</td>\n",
       "      <td>0.719697</td>\n",
       "      <td>0.309122</td>\n",
       "      <td>0.118690</td>\n",
       "    </tr>\n",
       "    <tr>\n",
       "      <th>2</th>\n",
       "      <td>0.892793</td>\n",
       "      <td>0.723152</td>\n",
       "      <td>0.725821</td>\n",
       "      <td>0.720640</td>\n",
       "      <td>0.203894</td>\n",
       "    </tr>\n",
       "    <tr>\n",
       "      <th>3</th>\n",
       "      <td>0.024963</td>\n",
       "      <td>0.562005</td>\n",
       "      <td>0.831515</td>\n",
       "      <td>0.770379</td>\n",
       "      <td>0.386228</td>\n",
       "    </tr>\n",
       "    <tr>\n",
       "      <th>4</th>\n",
       "      <td>0.415389</td>\n",
       "      <td>0.063705</td>\n",
       "      <td>0.211584</td>\n",
       "      <td>0.157217</td>\n",
       "      <td>0.564020</td>\n",
       "    </tr>\n",
       "    <tr>\n",
       "      <th>...</th>\n",
       "      <td>...</td>\n",
       "      <td>...</td>\n",
       "      <td>...</td>\n",
       "      <td>...</td>\n",
       "      <td>...</td>\n",
       "    </tr>\n",
       "    <tr>\n",
       "      <th>4996</th>\n",
       "      <td>0.443641</td>\n",
       "      <td>0.255464</td>\n",
       "      <td>0.116379</td>\n",
       "      <td>0.042459</td>\n",
       "      <td>0.645930</td>\n",
       "    </tr>\n",
       "    <tr>\n",
       "      <th>4997</th>\n",
       "      <td>0.473038</td>\n",
       "      <td>0.469482</td>\n",
       "      <td>0.067636</td>\n",
       "      <td>0.210801</td>\n",
       "      <td>0.501251</td>\n",
       "    </tr>\n",
       "    <tr>\n",
       "      <th>4998</th>\n",
       "      <td>0.388300</td>\n",
       "      <td>0.428321</td>\n",
       "      <td>0.322559</td>\n",
       "      <td>0.199743</td>\n",
       "      <td>0.701357</td>\n",
       "    </tr>\n",
       "    <tr>\n",
       "      <th>4999</th>\n",
       "      <td>0.067981</td>\n",
       "      <td>0.167563</td>\n",
       "      <td>0.218222</td>\n",
       "      <td>0.370723</td>\n",
       "      <td>0.684078</td>\n",
       "    </tr>\n",
       "    <tr>\n",
       "      <th>5000</th>\n",
       "      <td>0.812078</td>\n",
       "      <td>0.956397</td>\n",
       "      <td>0.692107</td>\n",
       "      <td>0.531950</td>\n",
       "      <td>0.794726</td>\n",
       "    </tr>\n",
       "  </tbody>\n",
       "</table>\n",
       "<p>5001 rows × 5 columns</p>\n",
       "</div>"
      ],
      "text/plain": [
       "       nose_wide  nose_long  lips_thin  distance_nose_to_lip_long  long_hair\n",
       "index                                                                       \n",
       "0       0.895614   0.477485   0.841261                   0.902628   0.704275\n",
       "1       0.202520   0.186825   0.719697                   0.309122   0.118690\n",
       "2       0.892793   0.723152   0.725821                   0.720640   0.203894\n",
       "3       0.024963   0.562005   0.831515                   0.770379   0.386228\n",
       "4       0.415389   0.063705   0.211584                   0.157217   0.564020\n",
       "...          ...        ...        ...                        ...        ...\n",
       "4996    0.443641   0.255464   0.116379                   0.042459   0.645930\n",
       "4997    0.473038   0.469482   0.067636                   0.210801   0.501251\n",
       "4998    0.388300   0.428321   0.322559                   0.199743   0.701357\n",
       "4999    0.067981   0.167563   0.218222                   0.370723   0.684078\n",
       "5000    0.812078   0.956397   0.692107                   0.531950   0.794726\n",
       "\n",
       "[5001 rows x 5 columns]"
      ]
     },
     "execution_count": 22,
     "metadata": {},
     "output_type": "execute_result"
    }
   ],
   "source": [
    "df_bin = df_concat[columns]\n",
    "df_bin"
   ]
  },
  {
   "cell_type": "markdown",
   "id": "61c86f77",
   "metadata": {},
   "source": [
    "### Сделаем разными способами бинаризацию"
   ]
  },
  {
   "cell_type": "markdown",
   "id": "f9e845ed",
   "metadata": {},
   "source": [
    "Приведем при этом к одному типу данных 'int32' для корректного дальнейшего сравнения результатов"
   ]
  },
  {
   "cell_type": "markdown",
   "id": "7983ccb9",
   "metadata": {},
   "source": [
    "**1 способ**"
   ]
  },
  {
   "cell_type": "code",
   "execution_count": 23,
   "id": "f40e5c66",
   "metadata": {},
   "outputs": [
    {
     "name": "stdout",
     "output_type": "stream",
     "text": [
      "2.81 ms ± 595 µs per loop (mean ± std. dev. of 7 runs, 100 loops each)\n"
     ]
    }
   ],
   "source": [
    "%%timeit\n",
    "df_bin.where(df_bin >= 0.5, 0).where(df_bin < 0.5, 1)"
   ]
  },
  {
   "cell_type": "code",
   "execution_count": 24,
   "id": "a909d5b2",
   "metadata": {},
   "outputs": [
    {
     "data": {
      "text/html": [
       "<div>\n",
       "<style scoped>\n",
       "    .dataframe tbody tr th:only-of-type {\n",
       "        vertical-align: middle;\n",
       "    }\n",
       "\n",
       "    .dataframe tbody tr th {\n",
       "        vertical-align: top;\n",
       "    }\n",
       "\n",
       "    .dataframe thead th {\n",
       "        text-align: right;\n",
       "    }\n",
       "</style>\n",
       "<table border=\"1\" class=\"dataframe\">\n",
       "  <thead>\n",
       "    <tr style=\"text-align: right;\">\n",
       "      <th></th>\n",
       "      <th>nose_wide</th>\n",
       "      <th>nose_long</th>\n",
       "      <th>lips_thin</th>\n",
       "      <th>distance_nose_to_lip_long</th>\n",
       "      <th>long_hair</th>\n",
       "    </tr>\n",
       "    <tr>\n",
       "      <th>index</th>\n",
       "      <th></th>\n",
       "      <th></th>\n",
       "      <th></th>\n",
       "      <th></th>\n",
       "      <th></th>\n",
       "    </tr>\n",
       "  </thead>\n",
       "  <tbody>\n",
       "    <tr>\n",
       "      <th>0</th>\n",
       "      <td>1.0</td>\n",
       "      <td>0.0</td>\n",
       "      <td>1.0</td>\n",
       "      <td>1.0</td>\n",
       "      <td>1.0</td>\n",
       "    </tr>\n",
       "    <tr>\n",
       "      <th>1</th>\n",
       "      <td>0.0</td>\n",
       "      <td>0.0</td>\n",
       "      <td>1.0</td>\n",
       "      <td>0.0</td>\n",
       "      <td>0.0</td>\n",
       "    </tr>\n",
       "    <tr>\n",
       "      <th>2</th>\n",
       "      <td>1.0</td>\n",
       "      <td>1.0</td>\n",
       "      <td>1.0</td>\n",
       "      <td>1.0</td>\n",
       "      <td>0.0</td>\n",
       "    </tr>\n",
       "    <tr>\n",
       "      <th>3</th>\n",
       "      <td>0.0</td>\n",
       "      <td>1.0</td>\n",
       "      <td>1.0</td>\n",
       "      <td>1.0</td>\n",
       "      <td>0.0</td>\n",
       "    </tr>\n",
       "    <tr>\n",
       "      <th>4</th>\n",
       "      <td>0.0</td>\n",
       "      <td>0.0</td>\n",
       "      <td>0.0</td>\n",
       "      <td>0.0</td>\n",
       "      <td>1.0</td>\n",
       "    </tr>\n",
       "    <tr>\n",
       "      <th>...</th>\n",
       "      <td>...</td>\n",
       "      <td>...</td>\n",
       "      <td>...</td>\n",
       "      <td>...</td>\n",
       "      <td>...</td>\n",
       "    </tr>\n",
       "    <tr>\n",
       "      <th>4996</th>\n",
       "      <td>0.0</td>\n",
       "      <td>0.0</td>\n",
       "      <td>0.0</td>\n",
       "      <td>0.0</td>\n",
       "      <td>1.0</td>\n",
       "    </tr>\n",
       "    <tr>\n",
       "      <th>4997</th>\n",
       "      <td>0.0</td>\n",
       "      <td>0.0</td>\n",
       "      <td>0.0</td>\n",
       "      <td>0.0</td>\n",
       "      <td>1.0</td>\n",
       "    </tr>\n",
       "    <tr>\n",
       "      <th>4998</th>\n",
       "      <td>0.0</td>\n",
       "      <td>0.0</td>\n",
       "      <td>0.0</td>\n",
       "      <td>0.0</td>\n",
       "      <td>1.0</td>\n",
       "    </tr>\n",
       "    <tr>\n",
       "      <th>4999</th>\n",
       "      <td>0.0</td>\n",
       "      <td>0.0</td>\n",
       "      <td>0.0</td>\n",
       "      <td>0.0</td>\n",
       "      <td>1.0</td>\n",
       "    </tr>\n",
       "    <tr>\n",
       "      <th>5000</th>\n",
       "      <td>1.0</td>\n",
       "      <td>1.0</td>\n",
       "      <td>1.0</td>\n",
       "      <td>1.0</td>\n",
       "      <td>1.0</td>\n",
       "    </tr>\n",
       "  </tbody>\n",
       "</table>\n",
       "<p>5001 rows × 5 columns</p>\n",
       "</div>"
      ],
      "text/plain": [
       "       nose_wide  nose_long  lips_thin  distance_nose_to_lip_long  long_hair\n",
       "index                                                                       \n",
       "0            1.0        0.0        1.0                        1.0        1.0\n",
       "1            0.0        0.0        1.0                        0.0        0.0\n",
       "2            1.0        1.0        1.0                        1.0        0.0\n",
       "3            0.0        1.0        1.0                        1.0        0.0\n",
       "4            0.0        0.0        0.0                        0.0        1.0\n",
       "...          ...        ...        ...                        ...        ...\n",
       "4996         0.0        0.0        0.0                        0.0        1.0\n",
       "4997         0.0        0.0        0.0                        0.0        1.0\n",
       "4998         0.0        0.0        0.0                        0.0        1.0\n",
       "4999         0.0        0.0        0.0                        0.0        1.0\n",
       "5000         1.0        1.0        1.0                        1.0        1.0\n",
       "\n",
       "[5001 rows x 5 columns]"
      ]
     },
     "execution_count": 24,
     "metadata": {},
     "output_type": "execute_result"
    }
   ],
   "source": [
    "a = df_bin.where(df_bin >= 0.5, 0).where(df_bin < 0.5, 1)\n",
    "a"
   ]
  },
  {
   "cell_type": "code",
   "execution_count": 25,
   "id": "a54e307c",
   "metadata": {},
   "outputs": [
    {
     "data": {
      "text/plain": [
       "nose_wide                    float64\n",
       "nose_long                    float64\n",
       "lips_thin                    float64\n",
       "distance_nose_to_lip_long    float64\n",
       "long_hair                    float64\n",
       "dtype: object"
      ]
     },
     "execution_count": 25,
     "metadata": {},
     "output_type": "execute_result"
    }
   ],
   "source": [
    "a.dtypes"
   ]
  },
  {
   "cell_type": "code",
   "execution_count": 26,
   "id": "1ee0bea8",
   "metadata": {},
   "outputs": [],
   "source": [
    "a = a.astype('int32')"
   ]
  },
  {
   "cell_type": "code",
   "execution_count": 27,
   "id": "0ba7c68f",
   "metadata": {},
   "outputs": [
    {
     "data": {
      "text/plain": [
       "nose_wide                    int32\n",
       "nose_long                    int32\n",
       "lips_thin                    int32\n",
       "distance_nose_to_lip_long    int32\n",
       "long_hair                    int32\n",
       "dtype: object"
      ]
     },
     "execution_count": 27,
     "metadata": {},
     "output_type": "execute_result"
    }
   ],
   "source": [
    "a.dtypes"
   ]
  },
  {
   "cell_type": "markdown",
   "id": "0dd490db",
   "metadata": {},
   "source": [
    "**2 способ**"
   ]
  },
  {
   "cell_type": "markdown",
   "id": "e300fddb",
   "metadata": {},
   "source": [
    "[apply, map, applymap](https://kanoki.org/2019/11/25/pandas-apply-map-and-applymap/)"
   ]
  },
  {
   "cell_type": "code",
   "execution_count": 28,
   "id": "1002a675",
   "metadata": {},
   "outputs": [
    {
     "name": "stdout",
     "output_type": "stream",
     "text": [
      "30.9 ms ± 2.63 ms per loop (mean ± std. dev. of 7 runs, 100 loops each)\n"
     ]
    }
   ],
   "source": [
    "%%timeit\n",
    "df_bin.applymap(lambda x: 0 if x < 0.5 else 1)"
   ]
  },
  {
   "cell_type": "code",
   "execution_count": 29,
   "id": "84b8eccb",
   "metadata": {},
   "outputs": [
    {
     "data": {
      "text/html": [
       "<div>\n",
       "<style scoped>\n",
       "    .dataframe tbody tr th:only-of-type {\n",
       "        vertical-align: middle;\n",
       "    }\n",
       "\n",
       "    .dataframe tbody tr th {\n",
       "        vertical-align: top;\n",
       "    }\n",
       "\n",
       "    .dataframe thead th {\n",
       "        text-align: right;\n",
       "    }\n",
       "</style>\n",
       "<table border=\"1\" class=\"dataframe\">\n",
       "  <thead>\n",
       "    <tr style=\"text-align: right;\">\n",
       "      <th></th>\n",
       "      <th>nose_wide</th>\n",
       "      <th>nose_long</th>\n",
       "      <th>lips_thin</th>\n",
       "      <th>distance_nose_to_lip_long</th>\n",
       "      <th>long_hair</th>\n",
       "    </tr>\n",
       "    <tr>\n",
       "      <th>index</th>\n",
       "      <th></th>\n",
       "      <th></th>\n",
       "      <th></th>\n",
       "      <th></th>\n",
       "      <th></th>\n",
       "    </tr>\n",
       "  </thead>\n",
       "  <tbody>\n",
       "    <tr>\n",
       "      <th>0</th>\n",
       "      <td>1</td>\n",
       "      <td>0</td>\n",
       "      <td>1</td>\n",
       "      <td>1</td>\n",
       "      <td>1</td>\n",
       "    </tr>\n",
       "    <tr>\n",
       "      <th>1</th>\n",
       "      <td>0</td>\n",
       "      <td>0</td>\n",
       "      <td>1</td>\n",
       "      <td>0</td>\n",
       "      <td>0</td>\n",
       "    </tr>\n",
       "    <tr>\n",
       "      <th>2</th>\n",
       "      <td>1</td>\n",
       "      <td>1</td>\n",
       "      <td>1</td>\n",
       "      <td>1</td>\n",
       "      <td>0</td>\n",
       "    </tr>\n",
       "    <tr>\n",
       "      <th>3</th>\n",
       "      <td>0</td>\n",
       "      <td>1</td>\n",
       "      <td>1</td>\n",
       "      <td>1</td>\n",
       "      <td>0</td>\n",
       "    </tr>\n",
       "    <tr>\n",
       "      <th>4</th>\n",
       "      <td>0</td>\n",
       "      <td>0</td>\n",
       "      <td>0</td>\n",
       "      <td>0</td>\n",
       "      <td>1</td>\n",
       "    </tr>\n",
       "    <tr>\n",
       "      <th>...</th>\n",
       "      <td>...</td>\n",
       "      <td>...</td>\n",
       "      <td>...</td>\n",
       "      <td>...</td>\n",
       "      <td>...</td>\n",
       "    </tr>\n",
       "    <tr>\n",
       "      <th>4996</th>\n",
       "      <td>0</td>\n",
       "      <td>0</td>\n",
       "      <td>0</td>\n",
       "      <td>0</td>\n",
       "      <td>1</td>\n",
       "    </tr>\n",
       "    <tr>\n",
       "      <th>4997</th>\n",
       "      <td>0</td>\n",
       "      <td>0</td>\n",
       "      <td>0</td>\n",
       "      <td>0</td>\n",
       "      <td>1</td>\n",
       "    </tr>\n",
       "    <tr>\n",
       "      <th>4998</th>\n",
       "      <td>0</td>\n",
       "      <td>0</td>\n",
       "      <td>0</td>\n",
       "      <td>0</td>\n",
       "      <td>1</td>\n",
       "    </tr>\n",
       "    <tr>\n",
       "      <th>4999</th>\n",
       "      <td>0</td>\n",
       "      <td>0</td>\n",
       "      <td>0</td>\n",
       "      <td>0</td>\n",
       "      <td>1</td>\n",
       "    </tr>\n",
       "    <tr>\n",
       "      <th>5000</th>\n",
       "      <td>1</td>\n",
       "      <td>1</td>\n",
       "      <td>1</td>\n",
       "      <td>1</td>\n",
       "      <td>1</td>\n",
       "    </tr>\n",
       "  </tbody>\n",
       "</table>\n",
       "<p>5001 rows × 5 columns</p>\n",
       "</div>"
      ],
      "text/plain": [
       "       nose_wide  nose_long  lips_thin  distance_nose_to_lip_long  long_hair\n",
       "index                                                                       \n",
       "0              1          0          1                          1          1\n",
       "1              0          0          1                          0          0\n",
       "2              1          1          1                          1          0\n",
       "3              0          1          1                          1          0\n",
       "4              0          0          0                          0          1\n",
       "...          ...        ...        ...                        ...        ...\n",
       "4996           0          0          0                          0          1\n",
       "4997           0          0          0                          0          1\n",
       "4998           0          0          0                          0          1\n",
       "4999           0          0          0                          0          1\n",
       "5000           1          1          1                          1          1\n",
       "\n",
       "[5001 rows x 5 columns]"
      ]
     },
     "execution_count": 29,
     "metadata": {},
     "output_type": "execute_result"
    }
   ],
   "source": [
    "b = df_bin.applymap(lambda x: 0 if x < 0.5 else 1)\n",
    "b"
   ]
  },
  {
   "cell_type": "code",
   "execution_count": 30,
   "id": "d8e15151",
   "metadata": {},
   "outputs": [
    {
     "data": {
      "text/plain": [
       "nose_wide                    int64\n",
       "nose_long                    int64\n",
       "lips_thin                    int64\n",
       "distance_nose_to_lip_long    int64\n",
       "long_hair                    int64\n",
       "dtype: object"
      ]
     },
     "execution_count": 30,
     "metadata": {},
     "output_type": "execute_result"
    }
   ],
   "source": [
    "b.dtypes"
   ]
  },
  {
   "cell_type": "code",
   "execution_count": 31,
   "id": "993e2967",
   "metadata": {},
   "outputs": [],
   "source": [
    "b = b.astype('int32')"
   ]
  },
  {
   "cell_type": "code",
   "execution_count": 32,
   "id": "31a2a6b1",
   "metadata": {},
   "outputs": [
    {
     "data": {
      "text/plain": [
       "nose_wide                    int32\n",
       "nose_long                    int32\n",
       "lips_thin                    int32\n",
       "distance_nose_to_lip_long    int32\n",
       "long_hair                    int32\n",
       "dtype: object"
      ]
     },
     "execution_count": 32,
     "metadata": {},
     "output_type": "execute_result"
    }
   ],
   "source": [
    "b.dtypes"
   ]
  },
  {
   "cell_type": "markdown",
   "id": "348b6422",
   "metadata": {},
   "source": [
    "**3 способ**"
   ]
  },
  {
   "cell_type": "code",
   "execution_count": 33,
   "id": "c5b8246b",
   "metadata": {},
   "outputs": [],
   "source": [
    "def interval(col):\n",
    "    return np.where(col >= 0.5, 1, 0)"
   ]
  },
  {
   "cell_type": "code",
   "execution_count": 34,
   "id": "0e95523e",
   "metadata": {},
   "outputs": [
    {
     "name": "stdout",
     "output_type": "stream",
     "text": [
      "2.76 ms ± 123 µs per loop (mean ± std. dev. of 7 runs, 100 loops each)\n"
     ]
    }
   ],
   "source": [
    "%%timeit\n",
    "df_bin.apply(interval)"
   ]
  },
  {
   "cell_type": "code",
   "execution_count": 35,
   "id": "d648fe65",
   "metadata": {},
   "outputs": [
    {
     "data": {
      "text/html": [
       "<div>\n",
       "<style scoped>\n",
       "    .dataframe tbody tr th:only-of-type {\n",
       "        vertical-align: middle;\n",
       "    }\n",
       "\n",
       "    .dataframe tbody tr th {\n",
       "        vertical-align: top;\n",
       "    }\n",
       "\n",
       "    .dataframe thead th {\n",
       "        text-align: right;\n",
       "    }\n",
       "</style>\n",
       "<table border=\"1\" class=\"dataframe\">\n",
       "  <thead>\n",
       "    <tr style=\"text-align: right;\">\n",
       "      <th></th>\n",
       "      <th>nose_wide</th>\n",
       "      <th>nose_long</th>\n",
       "      <th>lips_thin</th>\n",
       "      <th>distance_nose_to_lip_long</th>\n",
       "      <th>long_hair</th>\n",
       "    </tr>\n",
       "    <tr>\n",
       "      <th>index</th>\n",
       "      <th></th>\n",
       "      <th></th>\n",
       "      <th></th>\n",
       "      <th></th>\n",
       "      <th></th>\n",
       "    </tr>\n",
       "  </thead>\n",
       "  <tbody>\n",
       "    <tr>\n",
       "      <th>0</th>\n",
       "      <td>1</td>\n",
       "      <td>0</td>\n",
       "      <td>1</td>\n",
       "      <td>1</td>\n",
       "      <td>1</td>\n",
       "    </tr>\n",
       "    <tr>\n",
       "      <th>1</th>\n",
       "      <td>0</td>\n",
       "      <td>0</td>\n",
       "      <td>1</td>\n",
       "      <td>0</td>\n",
       "      <td>0</td>\n",
       "    </tr>\n",
       "    <tr>\n",
       "      <th>2</th>\n",
       "      <td>1</td>\n",
       "      <td>1</td>\n",
       "      <td>1</td>\n",
       "      <td>1</td>\n",
       "      <td>0</td>\n",
       "    </tr>\n",
       "    <tr>\n",
       "      <th>3</th>\n",
       "      <td>0</td>\n",
       "      <td>1</td>\n",
       "      <td>1</td>\n",
       "      <td>1</td>\n",
       "      <td>0</td>\n",
       "    </tr>\n",
       "    <tr>\n",
       "      <th>4</th>\n",
       "      <td>0</td>\n",
       "      <td>0</td>\n",
       "      <td>0</td>\n",
       "      <td>0</td>\n",
       "      <td>1</td>\n",
       "    </tr>\n",
       "    <tr>\n",
       "      <th>...</th>\n",
       "      <td>...</td>\n",
       "      <td>...</td>\n",
       "      <td>...</td>\n",
       "      <td>...</td>\n",
       "      <td>...</td>\n",
       "    </tr>\n",
       "    <tr>\n",
       "      <th>4996</th>\n",
       "      <td>0</td>\n",
       "      <td>0</td>\n",
       "      <td>0</td>\n",
       "      <td>0</td>\n",
       "      <td>1</td>\n",
       "    </tr>\n",
       "    <tr>\n",
       "      <th>4997</th>\n",
       "      <td>0</td>\n",
       "      <td>0</td>\n",
       "      <td>0</td>\n",
       "      <td>0</td>\n",
       "      <td>1</td>\n",
       "    </tr>\n",
       "    <tr>\n",
       "      <th>4998</th>\n",
       "      <td>0</td>\n",
       "      <td>0</td>\n",
       "      <td>0</td>\n",
       "      <td>0</td>\n",
       "      <td>1</td>\n",
       "    </tr>\n",
       "    <tr>\n",
       "      <th>4999</th>\n",
       "      <td>0</td>\n",
       "      <td>0</td>\n",
       "      <td>0</td>\n",
       "      <td>0</td>\n",
       "      <td>1</td>\n",
       "    </tr>\n",
       "    <tr>\n",
       "      <th>5000</th>\n",
       "      <td>1</td>\n",
       "      <td>1</td>\n",
       "      <td>1</td>\n",
       "      <td>1</td>\n",
       "      <td>1</td>\n",
       "    </tr>\n",
       "  </tbody>\n",
       "</table>\n",
       "<p>5001 rows × 5 columns</p>\n",
       "</div>"
      ],
      "text/plain": [
       "       nose_wide  nose_long  lips_thin  distance_nose_to_lip_long  long_hair\n",
       "index                                                                       \n",
       "0              1          0          1                          1          1\n",
       "1              0          0          1                          0          0\n",
       "2              1          1          1                          1          0\n",
       "3              0          1          1                          1          0\n",
       "4              0          0          0                          0          1\n",
       "...          ...        ...        ...                        ...        ...\n",
       "4996           0          0          0                          0          1\n",
       "4997           0          0          0                          0          1\n",
       "4998           0          0          0                          0          1\n",
       "4999           0          0          0                          0          1\n",
       "5000           1          1          1                          1          1\n",
       "\n",
       "[5001 rows x 5 columns]"
      ]
     },
     "execution_count": 35,
     "metadata": {},
     "output_type": "execute_result"
    }
   ],
   "source": [
    "c = df_bin.apply(interval)\n",
    "c"
   ]
  },
  {
   "cell_type": "code",
   "execution_count": 36,
   "id": "80e2f40c",
   "metadata": {},
   "outputs": [
    {
     "data": {
      "text/plain": [
       "nose_wide                    int32\n",
       "nose_long                    int32\n",
       "lips_thin                    int32\n",
       "distance_nose_to_lip_long    int32\n",
       "long_hair                    int32\n",
       "dtype: object"
      ]
     },
     "execution_count": 36,
     "metadata": {},
     "output_type": "execute_result"
    }
   ],
   "source": [
    "c.dtypes"
   ]
  },
  {
   "cell_type": "markdown",
   "id": "e9258463",
   "metadata": {},
   "source": [
    "### Проверка на равенсто полученных таблиц разными способами"
   ]
  },
  {
   "cell_type": "code",
   "execution_count": 37,
   "id": "b0ff8c79",
   "metadata": {},
   "outputs": [
    {
     "data": {
      "text/plain": [
       "True"
      ]
     },
     "execution_count": 37,
     "metadata": {},
     "output_type": "execute_result"
    }
   ],
   "source": [
    "a.equals(b)"
   ]
  },
  {
   "cell_type": "code",
   "execution_count": 38,
   "id": "66f56966",
   "metadata": {},
   "outputs": [
    {
     "data": {
      "text/plain": [
       "True"
      ]
     },
     "execution_count": 38,
     "metadata": {},
     "output_type": "execute_result"
    }
   ],
   "source": [
    "b.equals(c)"
   ]
  },
  {
   "cell_type": "code",
   "execution_count": 39,
   "id": "b764b304",
   "metadata": {},
   "outputs": [
    {
     "data": {
      "text/plain": [
       "True"
      ]
     },
     "execution_count": 39,
     "metadata": {},
     "output_type": "execute_result"
    }
   ],
   "source": [
    "a.equals(c)"
   ]
  },
  {
   "cell_type": "markdown",
   "id": "452c7b25",
   "metadata": {},
   "source": [
    "## 3. Оставить один из дублирующих друг друга столбцов."
   ]
  },
  {
   "cell_type": "code",
   "execution_count": 40,
   "id": "a97185ca",
   "metadata": {},
   "outputs": [
    {
     "data": {
      "text/plain": [
       "<AxesSubplot:>"
      ]
     },
     "execution_count": 40,
     "metadata": {},
     "output_type": "execute_result"
    },
    {
     "data": {
      "image/png": "[encoded data removed]",
      "text/plain": [
       "<Figure size 432x288 with 2 Axes>"
      ]
     },
     "metadata": {
      "needs_background": "light"
     },
     "output_type": "display_data"
    }
   ],
   "source": [
    "sns.heatmap(df_concat.corr(),annot=True)"
   ]
  },
  {
   "cell_type": "markdown",
   "id": "f9351766",
   "metadata": {},
   "source": [
    "`forehead_width_mm` и\t`forehead_width_conventional_units` - удалим. Они повторяют смысловю интерпретацию `orehead_width_cm`"
   ]
  },
  {
   "cell_type": "markdown",
   "id": "0460d297",
   "metadata": {},
   "source": [
    "### Создадим итоговую таблицу"
   ]
  },
  {
   "cell_type": "code",
   "execution_count": 41,
   "id": "f6a7e2c1",
   "metadata": {},
   "outputs": [
    {
     "data": {
      "text/html": [
       "<div>\n",
       "<style scoped>\n",
       "    .dataframe tbody tr th:only-of-type {\n",
       "        vertical-align: middle;\n",
       "    }\n",
       "\n",
       "    .dataframe tbody tr th {\n",
       "        vertical-align: top;\n",
       "    }\n",
       "\n",
       "    .dataframe thead th {\n",
       "        text-align: right;\n",
       "    }\n",
       "</style>\n",
       "<table border=\"1\" class=\"dataframe\">\n",
       "  <thead>\n",
       "    <tr style=\"text-align: right;\">\n",
       "      <th></th>\n",
       "      <th>nose_wide</th>\n",
       "      <th>nose_long</th>\n",
       "      <th>lips_thin</th>\n",
       "      <th>distance_nose_to_lip_long</th>\n",
       "      <th>long_hair</th>\n",
       "      <th>forehead_width_cm</th>\n",
       "      <th>forehead_height_cm</th>\n",
       "      <th>gender</th>\n",
       "    </tr>\n",
       "    <tr>\n",
       "      <th>index</th>\n",
       "      <th></th>\n",
       "      <th></th>\n",
       "      <th></th>\n",
       "      <th></th>\n",
       "      <th></th>\n",
       "      <th></th>\n",
       "      <th></th>\n",
       "      <th></th>\n",
       "    </tr>\n",
       "  </thead>\n",
       "  <tbody>\n",
       "    <tr>\n",
       "      <th>0</th>\n",
       "      <td>1</td>\n",
       "      <td>0</td>\n",
       "      <td>1</td>\n",
       "      <td>1</td>\n",
       "      <td>1</td>\n",
       "      <td>11.8</td>\n",
       "      <td>6.1</td>\n",
       "      <td>NaN</td>\n",
       "    </tr>\n",
       "    <tr>\n",
       "      <th>1</th>\n",
       "      <td>0</td>\n",
       "      <td>0</td>\n",
       "      <td>1</td>\n",
       "      <td>0</td>\n",
       "      <td>0</td>\n",
       "      <td>14.0</td>\n",
       "      <td>5.4</td>\n",
       "      <td>NaN</td>\n",
       "    </tr>\n",
       "    <tr>\n",
       "      <th>2</th>\n",
       "      <td>1</td>\n",
       "      <td>1</td>\n",
       "      <td>1</td>\n",
       "      <td>1</td>\n",
       "      <td>0</td>\n",
       "      <td>11.8</td>\n",
       "      <td>6.3</td>\n",
       "      <td>NaN</td>\n",
       "    </tr>\n",
       "    <tr>\n",
       "      <th>3</th>\n",
       "      <td>0</td>\n",
       "      <td>1</td>\n",
       "      <td>1</td>\n",
       "      <td>1</td>\n",
       "      <td>0</td>\n",
       "      <td>14.4</td>\n",
       "      <td>6.1</td>\n",
       "      <td>NaN</td>\n",
       "    </tr>\n",
       "    <tr>\n",
       "      <th>4</th>\n",
       "      <td>0</td>\n",
       "      <td>0</td>\n",
       "      <td>0</td>\n",
       "      <td>0</td>\n",
       "      <td>1</td>\n",
       "      <td>13.5</td>\n",
       "      <td>5.9</td>\n",
       "      <td>NaN</td>\n",
       "    </tr>\n",
       "    <tr>\n",
       "      <th>...</th>\n",
       "      <td>...</td>\n",
       "      <td>...</td>\n",
       "      <td>...</td>\n",
       "      <td>...</td>\n",
       "      <td>...</td>\n",
       "      <td>...</td>\n",
       "      <td>...</td>\n",
       "      <td>...</td>\n",
       "    </tr>\n",
       "    <tr>\n",
       "      <th>4996</th>\n",
       "      <td>0</td>\n",
       "      <td>0</td>\n",
       "      <td>0</td>\n",
       "      <td>0</td>\n",
       "      <td>1</td>\n",
       "      <td>13.6</td>\n",
       "      <td>5.1</td>\n",
       "      <td>Female</td>\n",
       "    </tr>\n",
       "    <tr>\n",
       "      <th>4997</th>\n",
       "      <td>0</td>\n",
       "      <td>0</td>\n",
       "      <td>0</td>\n",
       "      <td>0</td>\n",
       "      <td>1</td>\n",
       "      <td>11.9</td>\n",
       "      <td>5.4</td>\n",
       "      <td>Female</td>\n",
       "    </tr>\n",
       "    <tr>\n",
       "      <th>4998</th>\n",
       "      <td>0</td>\n",
       "      <td>0</td>\n",
       "      <td>0</td>\n",
       "      <td>0</td>\n",
       "      <td>1</td>\n",
       "      <td>12.9</td>\n",
       "      <td>5.7</td>\n",
       "      <td>Female</td>\n",
       "    </tr>\n",
       "    <tr>\n",
       "      <th>4999</th>\n",
       "      <td>0</td>\n",
       "      <td>0</td>\n",
       "      <td>0</td>\n",
       "      <td>0</td>\n",
       "      <td>1</td>\n",
       "      <td>13.2</td>\n",
       "      <td>6.2</td>\n",
       "      <td>Female</td>\n",
       "    </tr>\n",
       "    <tr>\n",
       "      <th>5000</th>\n",
       "      <td>1</td>\n",
       "      <td>1</td>\n",
       "      <td>1</td>\n",
       "      <td>1</td>\n",
       "      <td>1</td>\n",
       "      <td>15.4</td>\n",
       "      <td>5.4</td>\n",
       "      <td>Male</td>\n",
       "    </tr>\n",
       "  </tbody>\n",
       "</table>\n",
       "<p>5001 rows × 8 columns</p>\n",
       "</div>"
      ],
      "text/plain": [
       "       nose_wide  nose_long  lips_thin  distance_nose_to_lip_long  long_hair  \\\n",
       "index                                                                          \n",
       "0              1          0          1                          1          1   \n",
       "1              0          0          1                          0          0   \n",
       "2              1          1          1                          1          0   \n",
       "3              0          1          1                          1          0   \n",
       "4              0          0          0                          0          1   \n",
       "...          ...        ...        ...                        ...        ...   \n",
       "4996           0          0          0                          0          1   \n",
       "4997           0          0          0                          0          1   \n",
       "4998           0          0          0                          0          1   \n",
       "4999           0          0          0                          0          1   \n",
       "5000           1          1          1                          1          1   \n",
       "\n",
       "       forehead_width_cm  forehead_height_cm  gender  \n",
       "index                                                 \n",
       "0                   11.8                 6.1     NaN  \n",
       "1                   14.0                 5.4     NaN  \n",
       "2                   11.8                 6.3     NaN  \n",
       "3                   14.4                 6.1     NaN  \n",
       "4                   13.5                 5.9     NaN  \n",
       "...                  ...                 ...     ...  \n",
       "4996                13.6                 5.1  Female  \n",
       "4997                11.9                 5.4  Female  \n",
       "4998                12.9                 5.7  Female  \n",
       "4999                13.2                 6.2  Female  \n",
       "5000                15.4                 5.4    Male  \n",
       "\n",
       "[5001 rows x 8 columns]"
      ]
     },
     "execution_count": 41,
     "metadata": {},
     "output_type": "execute_result"
    }
   ],
   "source": [
    "df_new = pd.concat([c, df_concat[['forehead_width_cm', 'forehead_height_cm', 'gender']]], axis=1)\n",
    "df_new"
   ]
  },
  {
   "cell_type": "code",
   "execution_count": 42,
   "id": "433fede1",
   "metadata": {},
   "outputs": [
    {
     "data": {
      "text/plain": [
       "<AxesSubplot:>"
      ]
     },
     "execution_count": 42,
     "metadata": {},
     "output_type": "execute_result"
    },
    {
     "data": {
      "image/png": "[encoded data removed]",
      "text/plain": [
       "<Figure size 432x288 with 1 Axes>"
      ]
     },
     "metadata": {
      "needs_background": "light"
     },
     "output_type": "display_data"
    }
   ],
   "source": [
    "df_new['forehead_height_cm'].hist()"
   ]
  },
  {
   "cell_type": "markdown",
   "id": "d58d20c9",
   "metadata": {},
   "source": [
    "### Стандартизация признаков"
   ]
  },
  {
   "cell_type": "code",
   "execution_count": 43,
   "id": "1e4e8086",
   "metadata": {},
   "outputs": [],
   "source": [
    "from sklearn.preprocessing import StandardScaler"
   ]
  },
  {
   "cell_type": "code",
   "execution_count": 44,
   "id": "456f3a5d",
   "metadata": {},
   "outputs": [],
   "source": [
    "scaler = StandardScaler()"
   ]
  },
  {
   "cell_type": "code",
   "execution_count": 45,
   "id": "dee7cfed",
   "metadata": {},
   "outputs": [],
   "source": [
    "df_new[['forehead_width_cm', 'forehead_height_cm']] = scaler.fit_transform(\n",
    "                                            df_new[['forehead_width_cm', 'forehead_height_cm']])"
   ]
  },
  {
   "cell_type": "code",
   "execution_count": 46,
   "id": "ab5d0f6a",
   "metadata": {},
   "outputs": [
    {
     "data": {
      "text/html": [
       "<div>\n",
       "<style scoped>\n",
       "    .dataframe tbody tr th:only-of-type {\n",
       "        vertical-align: middle;\n",
       "    }\n",
       "\n",
       "    .dataframe tbody tr th {\n",
       "        vertical-align: top;\n",
       "    }\n",
       "\n",
       "    .dataframe thead th {\n",
       "        text-align: right;\n",
       "    }\n",
       "</style>\n",
       "<table border=\"1\" class=\"dataframe\">\n",
       "  <thead>\n",
       "    <tr style=\"text-align: right;\">\n",
       "      <th></th>\n",
       "      <th>nose_wide</th>\n",
       "      <th>nose_long</th>\n",
       "      <th>lips_thin</th>\n",
       "      <th>distance_nose_to_lip_long</th>\n",
       "      <th>long_hair</th>\n",
       "      <th>forehead_width_cm</th>\n",
       "      <th>forehead_height_cm</th>\n",
       "      <th>gender</th>\n",
       "    </tr>\n",
       "    <tr>\n",
       "      <th>index</th>\n",
       "      <th></th>\n",
       "      <th></th>\n",
       "      <th></th>\n",
       "      <th></th>\n",
       "      <th></th>\n",
       "      <th></th>\n",
       "      <th></th>\n",
       "      <th></th>\n",
       "    </tr>\n",
       "  </thead>\n",
       "  <tbody>\n",
       "    <tr>\n",
       "      <th>0</th>\n",
       "      <td>1</td>\n",
       "      <td>0</td>\n",
       "      <td>1</td>\n",
       "      <td>1</td>\n",
       "      <td>1</td>\n",
       "      <td>-1.247933</td>\n",
       "      <td>0.283971</td>\n",
       "      <td>NaN</td>\n",
       "    </tr>\n",
       "    <tr>\n",
       "      <th>1</th>\n",
       "      <td>0</td>\n",
       "      <td>0</td>\n",
       "      <td>1</td>\n",
       "      <td>0</td>\n",
       "      <td>0</td>\n",
       "      <td>0.739389</td>\n",
       "      <td>-1.009418</td>\n",
       "      <td>NaN</td>\n",
       "    </tr>\n",
       "    <tr>\n",
       "      <th>2</th>\n",
       "      <td>1</td>\n",
       "      <td>1</td>\n",
       "      <td>1</td>\n",
       "      <td>1</td>\n",
       "      <td>0</td>\n",
       "      <td>-1.247933</td>\n",
       "      <td>0.653511</td>\n",
       "      <td>NaN</td>\n",
       "    </tr>\n",
       "    <tr>\n",
       "      <th>3</th>\n",
       "      <td>0</td>\n",
       "      <td>1</td>\n",
       "      <td>1</td>\n",
       "      <td>1</td>\n",
       "      <td>0</td>\n",
       "      <td>1.100720</td>\n",
       "      <td>0.283971</td>\n",
       "      <td>NaN</td>\n",
       "    </tr>\n",
       "    <tr>\n",
       "      <th>4</th>\n",
       "      <td>0</td>\n",
       "      <td>0</td>\n",
       "      <td>0</td>\n",
       "      <td>0</td>\n",
       "      <td>1</td>\n",
       "      <td>0.287725</td>\n",
       "      <td>-0.085568</td>\n",
       "      <td>NaN</td>\n",
       "    </tr>\n",
       "  </tbody>\n",
       "</table>\n",
       "</div>"
      ],
      "text/plain": [
       "       nose_wide  nose_long  lips_thin  distance_nose_to_lip_long  long_hair  \\\n",
       "index                                                                          \n",
       "0              1          0          1                          1          1   \n",
       "1              0          0          1                          0          0   \n",
       "2              1          1          1                          1          0   \n",
       "3              0          1          1                          1          0   \n",
       "4              0          0          0                          0          1   \n",
       "\n",
       "       forehead_width_cm  forehead_height_cm gender  \n",
       "index                                                \n",
       "0              -1.247933            0.283971    NaN  \n",
       "1               0.739389           -1.009418    NaN  \n",
       "2              -1.247933            0.653511    NaN  \n",
       "3               1.100720            0.283971    NaN  \n",
       "4               0.287725           -0.085568    NaN  "
      ]
     },
     "execution_count": 46,
     "metadata": {},
     "output_type": "execute_result"
    }
   ],
   "source": [
    "df_new.head()"
   ]
  },
  {
   "cell_type": "markdown",
   "id": "7978c2e0",
   "metadata": {},
   "source": [
    "## 4. Моделирование"
   ]
  },
  {
   "cell_type": "markdown",
   "id": "c8ef7abc",
   "metadata": {},
   "source": [
    "### 4.1 Разбиение на обучающую и предсказательную части"
   ]
  },
  {
   "cell_type": "markdown",
   "id": "77ad7d8b",
   "metadata": {},
   "source": [
    "### Предсказательный набор данных"
   ]
  },
  {
   "cell_type": "code",
   "execution_count": 47,
   "id": "d0322155",
   "metadata": {},
   "outputs": [
    {
     "data": {
      "text/html": [
       "<div>\n",
       "<style scoped>\n",
       "    .dataframe tbody tr th:only-of-type {\n",
       "        vertical-align: middle;\n",
       "    }\n",
       "\n",
       "    .dataframe tbody tr th {\n",
       "        vertical-align: top;\n",
       "    }\n",
       "\n",
       "    .dataframe thead th {\n",
       "        text-align: right;\n",
       "    }\n",
       "</style>\n",
       "<table border=\"1\" class=\"dataframe\">\n",
       "  <thead>\n",
       "    <tr style=\"text-align: right;\">\n",
       "      <th></th>\n",
       "      <th>nose_wide</th>\n",
       "      <th>nose_long</th>\n",
       "      <th>lips_thin</th>\n",
       "      <th>distance_nose_to_lip_long</th>\n",
       "      <th>long_hair</th>\n",
       "      <th>forehead_width_cm</th>\n",
       "      <th>forehead_height_cm</th>\n",
       "      <th>gender</th>\n",
       "    </tr>\n",
       "    <tr>\n",
       "      <th>index</th>\n",
       "      <th></th>\n",
       "      <th></th>\n",
       "      <th></th>\n",
       "      <th></th>\n",
       "      <th></th>\n",
       "      <th></th>\n",
       "      <th></th>\n",
       "      <th></th>\n",
       "    </tr>\n",
       "  </thead>\n",
       "  <tbody>\n",
       "    <tr>\n",
       "      <th>0</th>\n",
       "      <td>1</td>\n",
       "      <td>0</td>\n",
       "      <td>1</td>\n",
       "      <td>1</td>\n",
       "      <td>1</td>\n",
       "      <td>-1.247933</td>\n",
       "      <td>0.283971</td>\n",
       "      <td>NaN</td>\n",
       "    </tr>\n",
       "    <tr>\n",
       "      <th>1</th>\n",
       "      <td>0</td>\n",
       "      <td>0</td>\n",
       "      <td>1</td>\n",
       "      <td>0</td>\n",
       "      <td>0</td>\n",
       "      <td>0.739389</td>\n",
       "      <td>-1.009418</td>\n",
       "      <td>NaN</td>\n",
       "    </tr>\n",
       "    <tr>\n",
       "      <th>2</th>\n",
       "      <td>1</td>\n",
       "      <td>1</td>\n",
       "      <td>1</td>\n",
       "      <td>1</td>\n",
       "      <td>0</td>\n",
       "      <td>-1.247933</td>\n",
       "      <td>0.653511</td>\n",
       "      <td>NaN</td>\n",
       "    </tr>\n",
       "    <tr>\n",
       "      <th>3</th>\n",
       "      <td>0</td>\n",
       "      <td>1</td>\n",
       "      <td>1</td>\n",
       "      <td>1</td>\n",
       "      <td>0</td>\n",
       "      <td>1.100720</td>\n",
       "      <td>0.283971</td>\n",
       "      <td>NaN</td>\n",
       "    </tr>\n",
       "    <tr>\n",
       "      <th>4</th>\n",
       "      <td>0</td>\n",
       "      <td>0</td>\n",
       "      <td>0</td>\n",
       "      <td>0</td>\n",
       "      <td>1</td>\n",
       "      <td>0.287725</td>\n",
       "      <td>-0.085568</td>\n",
       "      <td>NaN</td>\n",
       "    </tr>\n",
       "    <tr>\n",
       "      <th>...</th>\n",
       "      <td>...</td>\n",
       "      <td>...</td>\n",
       "      <td>...</td>\n",
       "      <td>...</td>\n",
       "      <td>...</td>\n",
       "      <td>...</td>\n",
       "      <td>...</td>\n",
       "      <td>...</td>\n",
       "    </tr>\n",
       "    <tr>\n",
       "      <th>996</th>\n",
       "      <td>0</td>\n",
       "      <td>0</td>\n",
       "      <td>0</td>\n",
       "      <td>1</td>\n",
       "      <td>0</td>\n",
       "      <td>-0.434938</td>\n",
       "      <td>0.099202</td>\n",
       "      <td>NaN</td>\n",
       "    </tr>\n",
       "    <tr>\n",
       "      <th>997</th>\n",
       "      <td>0</td>\n",
       "      <td>0</td>\n",
       "      <td>0</td>\n",
       "      <td>0</td>\n",
       "      <td>1</td>\n",
       "      <td>0.829721</td>\n",
       "      <td>-1.194188</td>\n",
       "      <td>NaN</td>\n",
       "    </tr>\n",
       "    <tr>\n",
       "      <th>998</th>\n",
       "      <td>1</td>\n",
       "      <td>1</td>\n",
       "      <td>1</td>\n",
       "      <td>0</td>\n",
       "      <td>1</td>\n",
       "      <td>-0.976935</td>\n",
       "      <td>0.468741</td>\n",
       "      <td>NaN</td>\n",
       "    </tr>\n",
       "    <tr>\n",
       "      <th>999</th>\n",
       "      <td>1</td>\n",
       "      <td>1</td>\n",
       "      <td>1</td>\n",
       "      <td>1</td>\n",
       "      <td>1</td>\n",
       "      <td>1.552384</td>\n",
       "      <td>0.099202</td>\n",
       "      <td>NaN</td>\n",
       "    </tr>\n",
       "    <tr>\n",
       "      <th>1000</th>\n",
       "      <td>1</td>\n",
       "      <td>1</td>\n",
       "      <td>1</td>\n",
       "      <td>1</td>\n",
       "      <td>1</td>\n",
       "      <td>0.920054</td>\n",
       "      <td>-0.455108</td>\n",
       "      <td>NaN</td>\n",
       "    </tr>\n",
       "  </tbody>\n",
       "</table>\n",
       "<p>1001 rows × 8 columns</p>\n",
       "</div>"
      ],
      "text/plain": [
       "       nose_wide  nose_long  lips_thin  distance_nose_to_lip_long  long_hair  \\\n",
       "index                                                                          \n",
       "0              1          0          1                          1          1   \n",
       "1              0          0          1                          0          0   \n",
       "2              1          1          1                          1          0   \n",
       "3              0          1          1                          1          0   \n",
       "4              0          0          0                          0          1   \n",
       "...          ...        ...        ...                        ...        ...   \n",
       "996            0          0          0                          1          0   \n",
       "997            0          0          0                          0          1   \n",
       "998            1          1          1                          0          1   \n",
       "999            1          1          1                          1          1   \n",
       "1000           1          1          1                          1          1   \n",
       "\n",
       "       forehead_width_cm  forehead_height_cm gender  \n",
       "index                                                \n",
       "0              -1.247933            0.283971    NaN  \n",
       "1               0.739389           -1.009418    NaN  \n",
       "2              -1.247933            0.653511    NaN  \n",
       "3               1.100720            0.283971    NaN  \n",
       "4               0.287725           -0.085568    NaN  \n",
       "...                  ...                 ...    ...  \n",
       "996            -0.434938            0.099202    NaN  \n",
       "997             0.829721           -1.194188    NaN  \n",
       "998            -0.976935            0.468741    NaN  \n",
       "999             1.552384            0.099202    NaN  \n",
       "1000            0.920054           -0.455108    NaN  \n",
       "\n",
       "[1001 rows x 8 columns]"
      ]
     },
     "execution_count": 47,
     "metadata": {},
     "output_type": "execute_result"
    }
   ],
   "source": [
    "df_predict = df_new[df_new['gender'].isna()]\n",
    "df_predict"
   ]
  },
  {
   "cell_type": "code",
   "execution_count": 48,
   "id": "4f9cda0c",
   "metadata": {},
   "outputs": [
    {
     "data": {
      "text/plain": [
       "False    883\n",
       "True     118\n",
       "dtype: int64"
      ]
     },
     "execution_count": 48,
     "metadata": {},
     "output_type": "execute_result"
    }
   ],
   "source": [
    "df_predict[df_predict['gender'].isna()].duplicated().value_counts()"
   ]
  },
  {
   "cell_type": "markdown",
   "id": "467ed03d",
   "metadata": {},
   "source": [
    "Присутсвуют дубликаты, но эти примеры надо предсказать, на обучение они не повлияют"
   ]
  },
  {
   "cell_type": "code",
   "execution_count": 49,
   "id": "e763d11f",
   "metadata": {},
   "outputs": [
    {
     "data": {
      "text/html": [
       "<div>\n",
       "<style scoped>\n",
       "    .dataframe tbody tr th:only-of-type {\n",
       "        vertical-align: middle;\n",
       "    }\n",
       "\n",
       "    .dataframe tbody tr th {\n",
       "        vertical-align: top;\n",
       "    }\n",
       "\n",
       "    .dataframe thead th {\n",
       "        text-align: right;\n",
       "    }\n",
       "</style>\n",
       "<table border=\"1\" class=\"dataframe\">\n",
       "  <thead>\n",
       "    <tr style=\"text-align: right;\">\n",
       "      <th></th>\n",
       "      <th>nose_wide</th>\n",
       "      <th>nose_long</th>\n",
       "      <th>lips_thin</th>\n",
       "      <th>distance_nose_to_lip_long</th>\n",
       "      <th>long_hair</th>\n",
       "      <th>forehead_width_cm</th>\n",
       "      <th>forehead_height_cm</th>\n",
       "    </tr>\n",
       "    <tr>\n",
       "      <th>index</th>\n",
       "      <th></th>\n",
       "      <th></th>\n",
       "      <th></th>\n",
       "      <th></th>\n",
       "      <th></th>\n",
       "      <th></th>\n",
       "      <th></th>\n",
       "    </tr>\n",
       "  </thead>\n",
       "  <tbody>\n",
       "    <tr>\n",
       "      <th>0</th>\n",
       "      <td>1</td>\n",
       "      <td>0</td>\n",
       "      <td>1</td>\n",
       "      <td>1</td>\n",
       "      <td>1</td>\n",
       "      <td>-1.247933</td>\n",
       "      <td>0.283971</td>\n",
       "    </tr>\n",
       "    <tr>\n",
       "      <th>1</th>\n",
       "      <td>0</td>\n",
       "      <td>0</td>\n",
       "      <td>1</td>\n",
       "      <td>0</td>\n",
       "      <td>0</td>\n",
       "      <td>0.739389</td>\n",
       "      <td>-1.009418</td>\n",
       "    </tr>\n",
       "    <tr>\n",
       "      <th>2</th>\n",
       "      <td>1</td>\n",
       "      <td>1</td>\n",
       "      <td>1</td>\n",
       "      <td>1</td>\n",
       "      <td>0</td>\n",
       "      <td>-1.247933</td>\n",
       "      <td>0.653511</td>\n",
       "    </tr>\n",
       "    <tr>\n",
       "      <th>3</th>\n",
       "      <td>0</td>\n",
       "      <td>1</td>\n",
       "      <td>1</td>\n",
       "      <td>1</td>\n",
       "      <td>0</td>\n",
       "      <td>1.100720</td>\n",
       "      <td>0.283971</td>\n",
       "    </tr>\n",
       "    <tr>\n",
       "      <th>4</th>\n",
       "      <td>0</td>\n",
       "      <td>0</td>\n",
       "      <td>0</td>\n",
       "      <td>0</td>\n",
       "      <td>1</td>\n",
       "      <td>0.287725</td>\n",
       "      <td>-0.085568</td>\n",
       "    </tr>\n",
       "    <tr>\n",
       "      <th>...</th>\n",
       "      <td>...</td>\n",
       "      <td>...</td>\n",
       "      <td>...</td>\n",
       "      <td>...</td>\n",
       "      <td>...</td>\n",
       "      <td>...</td>\n",
       "      <td>...</td>\n",
       "    </tr>\n",
       "    <tr>\n",
       "      <th>996</th>\n",
       "      <td>0</td>\n",
       "      <td>0</td>\n",
       "      <td>0</td>\n",
       "      <td>1</td>\n",
       "      <td>0</td>\n",
       "      <td>-0.434938</td>\n",
       "      <td>0.099202</td>\n",
       "    </tr>\n",
       "    <tr>\n",
       "      <th>997</th>\n",
       "      <td>0</td>\n",
       "      <td>0</td>\n",
       "      <td>0</td>\n",
       "      <td>0</td>\n",
       "      <td>1</td>\n",
       "      <td>0.829721</td>\n",
       "      <td>-1.194188</td>\n",
       "    </tr>\n",
       "    <tr>\n",
       "      <th>998</th>\n",
       "      <td>1</td>\n",
       "      <td>1</td>\n",
       "      <td>1</td>\n",
       "      <td>0</td>\n",
       "      <td>1</td>\n",
       "      <td>-0.976935</td>\n",
       "      <td>0.468741</td>\n",
       "    </tr>\n",
       "    <tr>\n",
       "      <th>999</th>\n",
       "      <td>1</td>\n",
       "      <td>1</td>\n",
       "      <td>1</td>\n",
       "      <td>1</td>\n",
       "      <td>1</td>\n",
       "      <td>1.552384</td>\n",
       "      <td>0.099202</td>\n",
       "    </tr>\n",
       "    <tr>\n",
       "      <th>1000</th>\n",
       "      <td>1</td>\n",
       "      <td>1</td>\n",
       "      <td>1</td>\n",
       "      <td>1</td>\n",
       "      <td>1</td>\n",
       "      <td>0.920054</td>\n",
       "      <td>-0.455108</td>\n",
       "    </tr>\n",
       "  </tbody>\n",
       "</table>\n",
       "<p>1001 rows × 7 columns</p>\n",
       "</div>"
      ],
      "text/plain": [
       "       nose_wide  nose_long  lips_thin  distance_nose_to_lip_long  long_hair  \\\n",
       "index                                                                          \n",
       "0              1          0          1                          1          1   \n",
       "1              0          0          1                          0          0   \n",
       "2              1          1          1                          1          0   \n",
       "3              0          1          1                          1          0   \n",
       "4              0          0          0                          0          1   \n",
       "...          ...        ...        ...                        ...        ...   \n",
       "996            0          0          0                          1          0   \n",
       "997            0          0          0                          0          1   \n",
       "998            1          1          1                          0          1   \n",
       "999            1          1          1                          1          1   \n",
       "1000           1          1          1                          1          1   \n",
       "\n",
       "       forehead_width_cm  forehead_height_cm  \n",
       "index                                         \n",
       "0              -1.247933            0.283971  \n",
       "1               0.739389           -1.009418  \n",
       "2              -1.247933            0.653511  \n",
       "3               1.100720            0.283971  \n",
       "4               0.287725           -0.085568  \n",
       "...                  ...                 ...  \n",
       "996            -0.434938            0.099202  \n",
       "997             0.829721           -1.194188  \n",
       "998            -0.976935            0.468741  \n",
       "999             1.552384            0.099202  \n",
       "1000            0.920054           -0.455108  \n",
       "\n",
       "[1001 rows x 7 columns]"
      ]
     },
     "execution_count": 49,
     "metadata": {},
     "output_type": "execute_result"
    }
   ],
   "source": [
    "x_predict = df_predict.drop('gender', axis=1)\n",
    "x_predict"
   ]
  },
  {
   "cell_type": "markdown",
   "id": "af7dd44e",
   "metadata": {},
   "source": [
    "### Обучающий набор данных"
   ]
  },
  {
   "cell_type": "code",
   "execution_count": 50,
   "id": "121d5c5a",
   "metadata": {},
   "outputs": [
    {
     "data": {
      "text/html": [
       "<div>\n",
       "<style scoped>\n",
       "    .dataframe tbody tr th:only-of-type {\n",
       "        vertical-align: middle;\n",
       "    }\n",
       "\n",
       "    .dataframe tbody tr th {\n",
       "        vertical-align: top;\n",
       "    }\n",
       "\n",
       "    .dataframe thead th {\n",
       "        text-align: right;\n",
       "    }\n",
       "</style>\n",
       "<table border=\"1\" class=\"dataframe\">\n",
       "  <thead>\n",
       "    <tr style=\"text-align: right;\">\n",
       "      <th></th>\n",
       "      <th>nose_wide</th>\n",
       "      <th>nose_long</th>\n",
       "      <th>lips_thin</th>\n",
       "      <th>distance_nose_to_lip_long</th>\n",
       "      <th>long_hair</th>\n",
       "      <th>forehead_width_cm</th>\n",
       "      <th>forehead_height_cm</th>\n",
       "      <th>gender</th>\n",
       "    </tr>\n",
       "    <tr>\n",
       "      <th>index</th>\n",
       "      <th></th>\n",
       "      <th></th>\n",
       "      <th></th>\n",
       "      <th></th>\n",
       "      <th></th>\n",
       "      <th></th>\n",
       "      <th></th>\n",
       "      <th></th>\n",
       "    </tr>\n",
       "  </thead>\n",
       "  <tbody>\n",
       "    <tr>\n",
       "      <th>1001</th>\n",
       "      <td>1</td>\n",
       "      <td>1</td>\n",
       "      <td>1</td>\n",
       "      <td>1</td>\n",
       "      <td>1</td>\n",
       "      <td>0.197392</td>\n",
       "      <td>0.283971</td>\n",
       "      <td>Male</td>\n",
       "    </tr>\n",
       "    <tr>\n",
       "      <th>1002</th>\n",
       "      <td>1</td>\n",
       "      <td>1</td>\n",
       "      <td>1</td>\n",
       "      <td>1</td>\n",
       "      <td>0</td>\n",
       "      <td>0.287725</td>\n",
       "      <td>0.838281</td>\n",
       "      <td>Male</td>\n",
       "    </tr>\n",
       "    <tr>\n",
       "      <th>1003</th>\n",
       "      <td>1</td>\n",
       "      <td>0</td>\n",
       "      <td>0</td>\n",
       "      <td>0</td>\n",
       "      <td>1</td>\n",
       "      <td>0.197392</td>\n",
       "      <td>-1.009418</td>\n",
       "      <td>Female</td>\n",
       "    </tr>\n",
       "    <tr>\n",
       "      <th>1004</th>\n",
       "      <td>0</td>\n",
       "      <td>0</td>\n",
       "      <td>0</td>\n",
       "      <td>0</td>\n",
       "      <td>1</td>\n",
       "      <td>0.829721</td>\n",
       "      <td>0.653511</td>\n",
       "      <td>Female</td>\n",
       "    </tr>\n",
       "    <tr>\n",
       "      <th>1005</th>\n",
       "      <td>0</td>\n",
       "      <td>0</td>\n",
       "      <td>0</td>\n",
       "      <td>0</td>\n",
       "      <td>1</td>\n",
       "      <td>-0.615603</td>\n",
       "      <td>-1.378958</td>\n",
       "      <td>Female</td>\n",
       "    </tr>\n",
       "    <tr>\n",
       "      <th>...</th>\n",
       "      <td>...</td>\n",
       "      <td>...</td>\n",
       "      <td>...</td>\n",
       "      <td>...</td>\n",
       "      <td>...</td>\n",
       "      <td>...</td>\n",
       "      <td>...</td>\n",
       "      <td>...</td>\n",
       "    </tr>\n",
       "    <tr>\n",
       "      <th>4996</th>\n",
       "      <td>0</td>\n",
       "      <td>0</td>\n",
       "      <td>0</td>\n",
       "      <td>0</td>\n",
       "      <td>1</td>\n",
       "      <td>0.378057</td>\n",
       "      <td>-1.563727</td>\n",
       "      <td>Female</td>\n",
       "    </tr>\n",
       "    <tr>\n",
       "      <th>4997</th>\n",
       "      <td>0</td>\n",
       "      <td>0</td>\n",
       "      <td>0</td>\n",
       "      <td>0</td>\n",
       "      <td>1</td>\n",
       "      <td>-1.157600</td>\n",
       "      <td>-1.009418</td>\n",
       "      <td>Female</td>\n",
       "    </tr>\n",
       "    <tr>\n",
       "      <th>4998</th>\n",
       "      <td>0</td>\n",
       "      <td>0</td>\n",
       "      <td>0</td>\n",
       "      <td>0</td>\n",
       "      <td>1</td>\n",
       "      <td>-0.254272</td>\n",
       "      <td>-0.455108</td>\n",
       "      <td>Female</td>\n",
       "    </tr>\n",
       "    <tr>\n",
       "      <th>4999</th>\n",
       "      <td>0</td>\n",
       "      <td>0</td>\n",
       "      <td>0</td>\n",
       "      <td>0</td>\n",
       "      <td>1</td>\n",
       "      <td>0.016726</td>\n",
       "      <td>0.468741</td>\n",
       "      <td>Female</td>\n",
       "    </tr>\n",
       "    <tr>\n",
       "      <th>5000</th>\n",
       "      <td>1</td>\n",
       "      <td>1</td>\n",
       "      <td>1</td>\n",
       "      <td>1</td>\n",
       "      <td>1</td>\n",
       "      <td>2.004048</td>\n",
       "      <td>-1.009418</td>\n",
       "      <td>Male</td>\n",
       "    </tr>\n",
       "  </tbody>\n",
       "</table>\n",
       "<p>4000 rows × 8 columns</p>\n",
       "</div>"
      ],
      "text/plain": [
       "       nose_wide  nose_long  lips_thin  distance_nose_to_lip_long  long_hair  \\\n",
       "index                                                                          \n",
       "1001           1          1          1                          1          1   \n",
       "1002           1          1          1                          1          0   \n",
       "1003           1          0          0                          0          1   \n",
       "1004           0          0          0                          0          1   \n",
       "1005           0          0          0                          0          1   \n",
       "...          ...        ...        ...                        ...        ...   \n",
       "4996           0          0          0                          0          1   \n",
       "4997           0          0          0                          0          1   \n",
       "4998           0          0          0                          0          1   \n",
       "4999           0          0          0                          0          1   \n",
       "5000           1          1          1                          1          1   \n",
       "\n",
       "       forehead_width_cm  forehead_height_cm  gender  \n",
       "index                                                 \n",
       "1001            0.197392            0.283971    Male  \n",
       "1002            0.287725            0.838281    Male  \n",
       "1003            0.197392           -1.009418  Female  \n",
       "1004            0.829721            0.653511  Female  \n",
       "1005           -0.615603           -1.378958  Female  \n",
       "...                  ...                 ...     ...  \n",
       "4996            0.378057           -1.563727  Female  \n",
       "4997           -1.157600           -1.009418  Female  \n",
       "4998           -0.254272           -0.455108  Female  \n",
       "4999            0.016726            0.468741  Female  \n",
       "5000            2.004048           -1.009418    Male  \n",
       "\n",
       "[4000 rows x 8 columns]"
      ]
     },
     "execution_count": 50,
     "metadata": {},
     "output_type": "execute_result"
    }
   ],
   "source": [
    "df_train = df_new[~df_new['gender'].isna()]\n",
    "df_train"
   ]
  },
  {
   "cell_type": "code",
   "execution_count": 51,
   "id": "daae7bca",
   "metadata": {},
   "outputs": [
    {
     "data": {
      "text/plain": [
       "1256"
      ]
     },
     "execution_count": 51,
     "metadata": {},
     "output_type": "execute_result"
    }
   ],
   "source": [
    "df_train.duplicated().sum()"
   ]
  },
  {
   "cell_type": "markdown",
   "id": "770a3923",
   "metadata": {},
   "source": [
    "Имеются дубликты!!!!"
   ]
  },
  {
   "cell_type": "markdown",
   "id": "0fc9ae75",
   "metadata": {},
   "source": [
    "Удалим дубли"
   ]
  },
  {
   "cell_type": "code",
   "execution_count": 52,
   "id": "36548b04",
   "metadata": {},
   "outputs": [],
   "source": [
    "df_train.drop_duplicates(inplace=True)"
   ]
  },
  {
   "cell_type": "code",
   "execution_count": 53,
   "id": "a6983a2f",
   "metadata": {},
   "outputs": [
    {
     "data": {
      "text/plain": [
       "0"
      ]
     },
     "execution_count": 53,
     "metadata": {},
     "output_type": "execute_result"
    }
   ],
   "source": [
    "df_train.duplicated().sum()"
   ]
  },
  {
   "cell_type": "code",
   "execution_count": 54,
   "id": "4bbdae3f",
   "metadata": {},
   "outputs": [
    {
     "data": {
      "text/html": [
       "<div>\n",
       "<style scoped>\n",
       "    .dataframe tbody tr th:only-of-type {\n",
       "        vertical-align: middle;\n",
       "    }\n",
       "\n",
       "    .dataframe tbody tr th {\n",
       "        vertical-align: top;\n",
       "    }\n",
       "\n",
       "    .dataframe thead th {\n",
       "        text-align: right;\n",
       "    }\n",
       "</style>\n",
       "<table border=\"1\" class=\"dataframe\">\n",
       "  <thead>\n",
       "    <tr style=\"text-align: right;\">\n",
       "      <th></th>\n",
       "      <th>nose_wide</th>\n",
       "      <th>nose_long</th>\n",
       "      <th>lips_thin</th>\n",
       "      <th>distance_nose_to_lip_long</th>\n",
       "      <th>long_hair</th>\n",
       "      <th>forehead_width_cm</th>\n",
       "      <th>forehead_height_cm</th>\n",
       "    </tr>\n",
       "    <tr>\n",
       "      <th>index</th>\n",
       "      <th></th>\n",
       "      <th></th>\n",
       "      <th></th>\n",
       "      <th></th>\n",
       "      <th></th>\n",
       "      <th></th>\n",
       "      <th></th>\n",
       "    </tr>\n",
       "  </thead>\n",
       "  <tbody>\n",
       "    <tr>\n",
       "      <th>1001</th>\n",
       "      <td>1</td>\n",
       "      <td>1</td>\n",
       "      <td>1</td>\n",
       "      <td>1</td>\n",
       "      <td>1</td>\n",
       "      <td>0.197392</td>\n",
       "      <td>0.283971</td>\n",
       "    </tr>\n",
       "    <tr>\n",
       "      <th>1002</th>\n",
       "      <td>1</td>\n",
       "      <td>1</td>\n",
       "      <td>1</td>\n",
       "      <td>1</td>\n",
       "      <td>0</td>\n",
       "      <td>0.287725</td>\n",
       "      <td>0.838281</td>\n",
       "    </tr>\n",
       "    <tr>\n",
       "      <th>1003</th>\n",
       "      <td>1</td>\n",
       "      <td>0</td>\n",
       "      <td>0</td>\n",
       "      <td>0</td>\n",
       "      <td>1</td>\n",
       "      <td>0.197392</td>\n",
       "      <td>-1.009418</td>\n",
       "    </tr>\n",
       "    <tr>\n",
       "      <th>1004</th>\n",
       "      <td>0</td>\n",
       "      <td>0</td>\n",
       "      <td>0</td>\n",
       "      <td>0</td>\n",
       "      <td>1</td>\n",
       "      <td>0.829721</td>\n",
       "      <td>0.653511</td>\n",
       "    </tr>\n",
       "    <tr>\n",
       "      <th>1005</th>\n",
       "      <td>0</td>\n",
       "      <td>0</td>\n",
       "      <td>0</td>\n",
       "      <td>0</td>\n",
       "      <td>1</td>\n",
       "      <td>-0.615603</td>\n",
       "      <td>-1.378958</td>\n",
       "    </tr>\n",
       "  </tbody>\n",
       "</table>\n",
       "</div>"
      ],
      "text/plain": [
       "       nose_wide  nose_long  lips_thin  distance_nose_to_lip_long  long_hair  \\\n",
       "index                                                                          \n",
       "1001           1          1          1                          1          1   \n",
       "1002           1          1          1                          1          0   \n",
       "1003           1          0          0                          0          1   \n",
       "1004           0          0          0                          0          1   \n",
       "1005           0          0          0                          0          1   \n",
       "\n",
       "       forehead_width_cm  forehead_height_cm  \n",
       "index                                         \n",
       "1001            0.197392            0.283971  \n",
       "1002            0.287725            0.838281  \n",
       "1003            0.197392           -1.009418  \n",
       "1004            0.829721            0.653511  \n",
       "1005           -0.615603           -1.378958  "
      ]
     },
     "execution_count": 54,
     "metadata": {},
     "output_type": "execute_result"
    }
   ],
   "source": [
    "X = df_train.drop('gender', axis=1)\n",
    "X.head()"
   ]
  },
  {
   "cell_type": "code",
   "execution_count": 55,
   "id": "21a022d9",
   "metadata": {},
   "outputs": [
    {
     "data": {
      "text/plain": [
       "index\n",
       "1001      Male\n",
       "1002      Male\n",
       "1003    Female\n",
       "1004    Female\n",
       "1005    Female\n",
       "         ...  \n",
       "4986      Male\n",
       "4990    Female\n",
       "4992      Male\n",
       "4993    Female\n",
       "4995      Male\n",
       "Name: gender, Length: 2744, dtype: object"
      ]
     },
     "execution_count": 55,
     "metadata": {},
     "output_type": "execute_result"
    }
   ],
   "source": [
    "y = df_train['gender']\n",
    "y"
   ]
  },
  {
   "cell_type": "markdown",
   "id": "0daa5ddc",
   "metadata": {},
   "source": [
    "### Факторизация"
   ]
  },
  {
   "cell_type": "code",
   "execution_count": 56,
   "id": "92d06137",
   "metadata": {},
   "outputs": [
    {
     "data": {
      "text/plain": [
       "index\n",
       "1001    1\n",
       "1002    1\n",
       "1003    0\n",
       "1004    0\n",
       "1005    0\n",
       "       ..\n",
       "4986    1\n",
       "4990    0\n",
       "4992    1\n",
       "4993    0\n",
       "4995    1\n",
       "Name: gender, Length: 2744, dtype: int64"
      ]
     },
     "execution_count": 56,
     "metadata": {},
     "output_type": "execute_result"
    }
   ],
   "source": [
    "y = y.map({'Male': 1, 'Female': 0})\n",
    "y"
   ]
  },
  {
   "cell_type": "markdown",
   "id": "10488b7a",
   "metadata": {},
   "source": [
    "### 4.2 Машинное обучение"
   ]
  },
  {
   "cell_type": "code",
   "execution_count": 57,
   "id": "a364097b",
   "metadata": {},
   "outputs": [],
   "source": [
    "from sklearn.model_selection import train_test_split"
   ]
  },
  {
   "cell_type": "code",
   "execution_count": 58,
   "id": "80b77f97",
   "metadata": {},
   "outputs": [],
   "source": [
    "X_train, X_test, y_train, y_test = train_test_split(X, y, test_size=0.33, random_state=42)"
   ]
  },
  {
   "cell_type": "markdown",
   "id": "79455c21",
   "metadata": {},
   "source": [
    "### RandomForestClassifier"
   ]
  },
  {
   "cell_type": "code",
   "execution_count": 59,
   "id": "419333ce",
   "metadata": {},
   "outputs": [],
   "source": [
    "from sklearn.ensemble import RandomForestClassifier\n",
    "from sklearn.model_selection import GridSearchCV\n",
    "from sklearn.metrics import plot_confusion_matrix"
   ]
  },
  {
   "cell_type": "code",
   "execution_count": 60,
   "id": "c39ac706",
   "metadata": {},
   "outputs": [],
   "source": [
    "rfc = RandomForestClassifier(random_state=42)"
   ]
  },
  {
   "cell_type": "code",
   "execution_count": 61,
   "id": "f8e071ed",
   "metadata": {},
   "outputs": [],
   "source": [
    "parameters = {'n_estimators': [25, 50, 100, 150, 200],\n",
    "             'max_depth': [3, 5, 7, 9, 11],\n",
    "             'min_samples_split': [2, 3, 4, 5],\n",
    "             'min_samples_leaf': [1, 2, 3, 4]}"
   ]
  },
  {
   "cell_type": "code",
   "execution_count": 62,
   "id": "c7094dd7",
   "metadata": {},
   "outputs": [],
   "source": [
    "clf = GridSearchCV(rfc, parameters, cv=5)"
   ]
  },
  {
   "cell_type": "code",
   "execution_count": 63,
   "id": "f799a279",
   "metadata": {},
   "outputs": [
    {
     "data": {
      "text/plain": [
       "GridSearchCV(cv=5, estimator=RandomForestClassifier(random_state=42),\n",
       "             param_grid={'max_depth': [3, 5, 7, 9, 11],\n",
       "                         'min_samples_leaf': [1, 2, 3, 4],\n",
       "                         'min_samples_split': [2, 3, 4, 5],\n",
       "                         'n_estimators': [25, 50, 100, 150, 200]})"
      ]
     },
     "execution_count": 63,
     "metadata": {},
     "output_type": "execute_result"
    }
   ],
   "source": [
    "clf.fit(X_train, y_train)"
   ]
  },
  {
   "cell_type": "code",
   "execution_count": 64,
   "id": "7e062d4b",
   "metadata": {},
   "outputs": [],
   "source": [
    "best_rfc = clf.best_estimator_"
   ]
  },
  {
   "cell_type": "code",
   "execution_count": 65,
   "id": "2406f716",
   "metadata": {},
   "outputs": [
    {
     "data": {
      "text/plain": [
       "0.9755212652529319"
      ]
     },
     "execution_count": 65,
     "metadata": {},
     "output_type": "execute_result"
    }
   ],
   "source": [
    "clf.best_score_"
   ]
  },
  {
   "cell_type": "code",
   "execution_count": 66,
   "id": "7e9f491f",
   "metadata": {},
   "outputs": [
    {
     "data": {
      "text/plain": [
       "{'max_depth': 7,\n",
       " 'min_samples_leaf': 1,\n",
       " 'min_samples_split': 5,\n",
       " 'n_estimators': 100}"
      ]
     },
     "execution_count": 66,
     "metadata": {},
     "output_type": "execute_result"
    }
   ],
   "source": [
    "clf.best_params_"
   ]
  },
  {
   "cell_type": "code",
   "execution_count": 67,
   "id": "e60672f0",
   "metadata": {},
   "outputs": [
    {
     "data": {
      "text/plain": [
       "<sklearn.metrics._plot.confusion_matrix.ConfusionMatrixDisplay at 0x1fca96f8fc8>"
      ]
     },
     "execution_count": 67,
     "metadata": {},
     "output_type": "execute_result"
    },
    {
     "data": {
      "image/png": "[encoded data removed]",
      "text/plain": [
       "<Figure size 432x288 with 2 Axes>"
      ]
     },
     "metadata": {
      "needs_background": "light"
     },
     "output_type": "display_data"
    }
   ],
   "source": [
    "plot_confusion_matrix(clf, X_test, y_test)"
   ]
  },
  {
   "cell_type": "code",
   "execution_count": 68,
   "id": "75235f8d",
   "metadata": {},
   "outputs": [
    {
     "data": {
      "text/plain": [
       "array([1, 0, 1, ..., 1, 1, 1], dtype=int64)"
      ]
     },
     "execution_count": 68,
     "metadata": {},
     "output_type": "execute_result"
    }
   ],
   "source": [
    "ans = best_rfc.predict(x_predict)\n",
    "ans"
   ]
  },
  {
   "cell_type": "code",
   "execution_count": 69,
   "id": "daaf760e",
   "metadata": {},
   "outputs": [],
   "source": [
    "pd.Series(np.where(ans==1, \"Male\", \"Female\")).to_csv('res_rfc.csv', header=False, index=False)"
   ]
  },
  {
   "cell_type": "markdown",
   "id": "39a840b9",
   "metadata": {},
   "source": [
    "Прошел"
   ]
  },
  {
   "cell_type": "markdown",
   "id": "275f1a39",
   "metadata": {},
   "source": [
    "Попытка обучить на всей выборке"
   ]
  },
  {
   "cell_type": "code",
   "execution_count": 70,
   "id": "a71b87ed",
   "metadata": {},
   "outputs": [],
   "source": [
    "clf2 = GridSearchCV(rfc, parameters, cv=5)"
   ]
  },
  {
   "cell_type": "code",
   "execution_count": 71,
   "id": "a60e716f",
   "metadata": {},
   "outputs": [
    {
     "data": {
      "text/plain": [
       "GridSearchCV(cv=5, estimator=RandomForestClassifier(random_state=42),\n",
       "             param_grid={'max_depth': [3, 5, 7, 9, 11],\n",
       "                         'min_samples_leaf': [1, 2, 3, 4],\n",
       "                         'min_samples_split': [2, 3, 4, 5],\n",
       "                         'n_estimators': [25, 50, 100, 150, 200]})"
      ]
     },
     "execution_count": 71,
     "metadata": {},
     "output_type": "execute_result"
    }
   ],
   "source": [
    "clf2.fit(X, y)"
   ]
  },
  {
   "cell_type": "code",
   "execution_count": 72,
   "id": "76659b83",
   "metadata": {},
   "outputs": [],
   "source": [
    "best_rfc = clf2.best_estimator_"
   ]
  },
  {
   "cell_type": "code",
   "execution_count": 73,
   "id": "87401dea",
   "metadata": {},
   "outputs": [
    {
     "data": {
      "text/plain": [
       "0.9693876058660071"
      ]
     },
     "execution_count": 73,
     "metadata": {},
     "output_type": "execute_result"
    }
   ],
   "source": [
    "clf2.best_score_"
   ]
  },
  {
   "cell_type": "code",
   "execution_count": 74,
   "id": "50fca81d",
   "metadata": {},
   "outputs": [
    {
     "data": {
      "text/plain": [
       "{'max_depth': 5,\n",
       " 'min_samples_leaf': 1,\n",
       " 'min_samples_split': 5,\n",
       " 'n_estimators': 100}"
      ]
     },
     "execution_count": 74,
     "metadata": {},
     "output_type": "execute_result"
    }
   ],
   "source": [
    "clf2.best_params_"
   ]
  },
  {
   "cell_type": "code",
   "execution_count": 75,
   "id": "05f7c596",
   "metadata": {},
   "outputs": [
    {
     "data": {
      "text/plain": [
       "array([1, 0, 1, ..., 1, 1, 1], dtype=int64)"
      ]
     },
     "execution_count": 75,
     "metadata": {},
     "output_type": "execute_result"
    }
   ],
   "source": [
    "ans = best_rfc.predict(x_predict)\n",
    "ans"
   ]
  },
  {
   "cell_type": "code",
   "execution_count": 76,
   "id": "784649f6",
   "metadata": {},
   "outputs": [],
   "source": [
    "pd.Series(np.where(ans==1, \"Male\", \"Female\")).to_csv('res_rfc2.csv', header=False, index=False)"
   ]
  },
  {
   "cell_type": "markdown",
   "id": "881a031f",
   "metadata": {},
   "source": [
    "Прошел"
   ]
  },
  {
   "cell_type": "markdown",
   "id": "5f087865",
   "metadata": {},
   "source": [
    "### LogisticRegression"
   ]
  },
  {
   "cell_type": "code",
   "execution_count": 77,
   "id": "72eb94d7",
   "metadata": {},
   "outputs": [],
   "source": [
    "from sklearn.linear_model import LogisticRegression"
   ]
  },
  {
   "cell_type": "code",
   "execution_count": 78,
   "id": "697835d8",
   "metadata": {},
   "outputs": [],
   "source": [
    "Logres = LogisticRegression(random_state=42)"
   ]
  },
  {
   "cell_type": "code",
   "execution_count": 79,
   "id": "344be719",
   "metadata": {},
   "outputs": [
    {
     "data": {
      "text/plain": [
       "LogisticRegression(random_state=42)"
      ]
     },
     "execution_count": 79,
     "metadata": {},
     "output_type": "execute_result"
    }
   ],
   "source": [
    "Logres.fit(X, y)"
   ]
  },
  {
   "cell_type": "code",
   "execution_count": 80,
   "id": "68e3f743",
   "metadata": {},
   "outputs": [
    {
     "data": {
      "text/plain": [
       "array([1, 0, 1, ..., 1, 1, 1], dtype=int64)"
      ]
     },
     "execution_count": 80,
     "metadata": {},
     "output_type": "execute_result"
    }
   ],
   "source": [
    "ans = Logres.predict(x_predict)\n",
    "ans"
   ]
  },
  {
   "cell_type": "code",
   "execution_count": 81,
   "id": "b57b9ead",
   "metadata": {},
   "outputs": [],
   "source": [
    "pd.Series(np.where(ans==1, \"Male\", \"Female\")).to_csv('res_logreg.csv', header=False, index=False)"
   ]
  },
  {
   "cell_type": "markdown",
   "id": "6050ce4e",
   "metadata": {},
   "source": [
    "Прошел"
   ]
  },
  {
   "cell_type": "markdown",
   "id": "40e691db",
   "metadata": {},
   "source": [
    "### KNeighborsClassifier"
   ]
  },
  {
   "cell_type": "code",
   "execution_count": 82,
   "id": "33529871",
   "metadata": {},
   "outputs": [],
   "source": [
    "from sklearn.neighbors import KNeighborsClassifier"
   ]
  },
  {
   "cell_type": "code",
   "execution_count": 83,
   "id": "c34ef68d",
   "metadata": {},
   "outputs": [],
   "source": [
    "neigh = KNeighborsClassifier(n_neighbors=3)"
   ]
  },
  {
   "cell_type": "code",
   "execution_count": 84,
   "id": "f9b2a352",
   "metadata": {},
   "outputs": [
    {
     "data": {
      "text/plain": [
       "KNeighborsClassifier(n_neighbors=3)"
      ]
     },
     "execution_count": 84,
     "metadata": {},
     "output_type": "execute_result"
    }
   ],
   "source": [
    "neigh.fit(X, y)"
   ]
  },
  {
   "cell_type": "code",
   "execution_count": 85,
   "id": "4284ec33",
   "metadata": {},
   "outputs": [
    {
     "data": {
      "text/plain": [
       "array([1, 0, 1, ..., 1, 1, 1], dtype=int64)"
      ]
     },
     "execution_count": 85,
     "metadata": {},
     "output_type": "execute_result"
    }
   ],
   "source": [
    "ans = neigh.predict(x_predict)\n",
    "ans"
   ]
  },
  {
   "cell_type": "code",
   "execution_count": 86,
   "id": "f891705c",
   "metadata": {},
   "outputs": [],
   "source": [
    "pd.Series(np.where(ans==1, \"Male\", \"Female\")).to_csv('res_KNeighbors.csv', header=False, index=False)"
   ]
  },
  {
   "cell_type": "markdown",
   "id": "a99117b8",
   "metadata": {},
   "source": [
    "Прошел"
   ]
  },
  {
   "cell_type": "markdown",
   "id": "e393907b",
   "metadata": {},
   "source": [
    "### Метод опорных векторов"
   ]
  },
  {
   "cell_type": "code",
   "execution_count": 87,
   "id": "cfa04423",
   "metadata": {},
   "outputs": [],
   "source": [
    "from sklearn.svm import SVC"
   ]
  },
  {
   "cell_type": "code",
   "execution_count": 88,
   "id": "5a04ba47",
   "metadata": {},
   "outputs": [],
   "source": [
    "svc_clf = SVC()"
   ]
  },
  {
   "cell_type": "code",
   "execution_count": 89,
   "id": "2724c412",
   "metadata": {},
   "outputs": [
    {
     "data": {
      "text/plain": [
       "SVC()"
      ]
     },
     "execution_count": 89,
     "metadata": {},
     "output_type": "execute_result"
    }
   ],
   "source": [
    "svc_clf.fit(X, y)"
   ]
  },
  {
   "cell_type": "code",
   "execution_count": 90,
   "id": "6f2dbb3c",
   "metadata": {},
   "outputs": [
    {
     "data": {
      "text/plain": [
       "array([1, 0, 1, ..., 1, 1, 1], dtype=int64)"
      ]
     },
     "execution_count": 90,
     "metadata": {},
     "output_type": "execute_result"
    }
   ],
   "source": [
    "ans = svc_clf.predict(x_predict)\n",
    "ans"
   ]
  },
  {
   "cell_type": "code",
   "execution_count": 91,
   "id": "903b8c87",
   "metadata": {},
   "outputs": [],
   "source": [
    "pd.Series(np.where(ans==1, \"Male\", \"Female\")).to_csv('res_svc.csv', header=False, index=False)"
   ]
  },
  {
   "cell_type": "markdown",
   "id": "2798b64b",
   "metadata": {},
   "source": [
    "Прошел метод"
   ]
  },
  {
   "cell_type": "markdown",
   "id": "4bc9d6fb",
   "metadata": {},
   "source": [
    "## Нейросеть tensorflow"
   ]
  },
  {
   "cell_type": "code",
   "execution_count": 92,
   "id": "fc250340",
   "metadata": {},
   "outputs": [],
   "source": [
    "import tensorflow as tf"
   ]
  },
  {
   "cell_type": "code",
   "execution_count": 93,
   "id": "391932e8",
   "metadata": {},
   "outputs": [],
   "source": [
    "def get_basic_model():\n",
    "    model = tf.keras.Sequential([\n",
    "      tf.keras.layers.Dense(10, activation=tf.nn.relu, input_shape=(7,)), # input shape required\n",
    "      tf.keras.layers.Dense(10, activation=tf.nn.relu),\n",
    "      tf.keras.layers.Dense(2)\n",
    "    ])\n",
    "\n",
    "    model.compile(optimizer='adam',\n",
    "                loss=tf.keras.losses.SparseCategoricalCrossentropy(from_logits=True),\n",
    "                metrics=['accuracy'])\n",
    "    return model"
   ]
  },
  {
   "cell_type": "code",
   "execution_count": 94,
   "id": "89fde2a9",
   "metadata": {},
   "outputs": [
    {
     "name": "stdout",
     "output_type": "stream",
     "text": [
      "Epoch 1/15\n",
      "92/92 [==============================] - 0s 2ms/step - loss: 0.5938 - accuracy: 0.6571\n",
      "Epoch 2/15\n",
      "92/92 [==============================] - 0s 920us/step - loss: 0.3898 - accuracy: 0.8659\n",
      "Epoch 3/15\n",
      "92/92 [==============================] - 0s 920us/step - loss: 0.2516 - accuracy: 0.9158\n",
      "Epoch 4/15\n",
      "92/92 [==============================] - 0s 1ms/step - loss: 0.1790 - accuracy: 0.9362\n",
      "Epoch 5/15\n",
      "92/92 [==============================] - 0s 1ms/step - loss: 0.1457 - accuracy: 0.9472\n",
      "Epoch 6/15\n",
      "92/92 [==============================] - 0s 1ms/step - loss: 0.1295 - accuracy: 0.9504\n",
      "Epoch 7/15\n",
      "92/92 [==============================] - 0s 920us/step - loss: 0.1214 - accuracy: 0.9534\n",
      "Epoch 8/15\n",
      "92/92 [==============================] - 0s 920us/step - loss: 0.1159 - accuracy: 0.9534\n",
      "Epoch 9/15\n",
      "92/92 [==============================] - 0s 1ms/step - loss: 0.1130 - accuracy: 0.9548\n",
      "Epoch 10/15\n",
      "92/92 [==============================] - 0s 1ms/step - loss: 0.1103 - accuracy: 0.9570\n",
      "Epoch 11/15\n",
      "92/92 [==============================] - 0s 1ms/step - loss: 0.1079 - accuracy: 0.9566\n",
      "Epoch 12/15\n",
      "92/92 [==============================] - 0s 1ms/step - loss: 0.1066 - accuracy: 0.9603\n",
      "Epoch 13/15\n",
      "92/92 [==============================] - 0s 1ms/step - loss: 0.1054 - accuracy: 0.9595\n",
      "Epoch 14/15\n",
      "92/92 [==============================] - 0s 1ms/step - loss: 0.1040 - accuracy: 0.9577\n",
      "Epoch 15/15\n",
      "92/92 [==============================] - 0s 1ms/step - loss: 0.1027 - accuracy: 0.9588\n"
     ]
    },
    {
     "data": {
      "text/plain": [
       "<tensorflow.python.keras.callbacks.History at 0x1fcb0adedc8>"
      ]
     },
     "execution_count": 94,
     "metadata": {},
     "output_type": "execute_result"
    }
   ],
   "source": [
    "BATCH_SIZE = 30\n",
    "\n",
    "model = get_basic_model()\n",
    "model.fit(X, y, epochs=15, batch_size=BATCH_SIZE)"
   ]
  },
  {
   "cell_type": "code",
   "execution_count": 95,
   "id": "8e97b540",
   "metadata": {},
   "outputs": [
    {
     "data": {
      "text/plain": [
       "array([1, 0, 1, ..., 1, 1, 1], dtype=int64)"
      ]
     },
     "execution_count": 95,
     "metadata": {},
     "output_type": "execute_result"
    }
   ],
   "source": [
    "ans = model.predict(x_predict).argmax(axis=1)\n",
    "ans"
   ]
  },
  {
   "cell_type": "code",
   "execution_count": 96,
   "id": "2fbb76f0",
   "metadata": {},
   "outputs": [],
   "source": [
    "pd.Series(np.where(ans==1, \"Male\", \"Female\")).to_csv('res.csv', header=False, index=False)"
   ]
  },
  {
   "cell_type": "markdown",
   "id": "4cece8f1",
   "metadata": {},
   "source": [
    "Этот способ прошел"
   ]
  }
 ],
 "metadata": {
  "kernelspec": {
   "display_name": "Python 3",
   "language": "python",
   "name": "python3"
  },
  "language_info": {
   "codemirror_mode": {
    "name": "ipython",
    "version": 3
   },
   "file_extension": ".py",
   "mimetype": "text/x-python",
   "name": "python",
   "nbconvert_exporter": "python",
   "pygments_lexer": "ipython3",
   "version": "3.7.10"
  }
 },
 "nbformat": 4,
 "nbformat_minor": 5
}
