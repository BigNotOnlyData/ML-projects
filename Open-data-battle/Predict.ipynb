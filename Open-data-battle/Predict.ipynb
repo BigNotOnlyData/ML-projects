{
 "cells": [
  {
   "cell_type": "markdown",
   "id": "1390d51b",
   "metadata": {},
   "source": [
    "https://open-data-battle.geecko.com/issues/predict"
   ]
  },
  {
   "cell_type": "markdown",
   "id": "a75b29dc",
   "metadata": {},
   "source": [
    "# Predict"
   ]
  },
  {
   "cell_type": "markdown",
   "id": "b596f690",
   "metadata": {},
   "source": [
    " В одной из компаний для найма сотрудников решили создать математическую модель, описывающую зависимость уровня заработной платы от опыта сотрудников. В файлах ‘inputs.npy’, ‘outputs.npy’ даны оценки заработной платы и опыта сотрудников, представленные в своих диапазонах и полученные в результате использования шкалы перевода.\n",
    "\n",
    "В компании разработали простейшую нейронную сеть model с ошибкой loss. Обучи нейронную сеть предсказывать необходимые значения. В качестве ответа к заданию предскажи 5 точек [1, 2, 3, 4, 5] при помощи нейронной сети любой модели. Ответ выдайте в формате JSON: \n",
    "\n",
    "`{\"answer\": [\"x1\", \"x2\", ... \"x5\"]}`"
   ]
  },
  {
   "cell_type": "markdown",
   "id": "99265595",
   "metadata": {},
   "source": [
    "## Загрузка данных"
   ]
  },
  {
   "cell_type": "code",
   "execution_count": 1,
   "id": "7ebfe737",
   "metadata": {},
   "outputs": [],
   "source": [
    "import numpy as np\n",
    "import tensorflow as tf\n",
    "import matplotlib.pyplot as plt"
   ]
  },
  {
   "cell_type": "code",
   "execution_count": 4,
   "id": "ba991228",
   "metadata": {},
   "outputs": [
    {
     "name": "stdout",
     "output_type": "stream",
     "text": [
      "(1000,)\n",
      "[-0.7150358 -1.7290071  1.9302819  1.9619546 -0.5580657]\n"
     ]
    }
   ],
   "source": [
    "inputs = np.load('Data/inputs.npy')\n",
    "print(inputs.shape, inputs[:5], sep='\\n')"
   ]
  },
  {
   "cell_type": "code",
   "execution_count": 9,
   "id": "eb747f0b",
   "metadata": {},
   "outputs": [
    {
     "name": "stdout",
     "output_type": "stream",
     "text": [
      "(1000,)\n",
      "[-2.350982  -6.686186  14.57553   15.004372  -2.2539327]\n"
     ]
    }
   ],
   "source": [
    "outputs = np.load('Data\\outputs.npy')\n",
    "print(outputs.shape, outputs[:5], sep='\\n')"
   ]
  },
  {
   "cell_type": "code",
   "execution_count": 10,
   "id": "75c0aa77",
   "metadata": {},
   "outputs": [
    {
     "data": {
      "text/plain": [
       "<matplotlib.collections.PathCollection at 0x2a6c2769e88>"
      ]
     },
     "execution_count": 10,
     "metadata": {},
     "output_type": "execute_result"
    },
    {
     "data": {
      "image/png": "[encoded data removed]",
      "text/plain": [
       "<Figure size 432x288 with 1 Axes>"
      ]
     },
     "metadata": {
      "needs_background": "light"
     },
     "output_type": "display_data"
    }
   ],
   "source": [
    "plt.scatter(inputs, outputs)"
   ]
  },
  {
   "cell_type": "markdown",
   "id": "f341d3b1",
   "metadata": {},
   "source": [
    "## Реализация градиентного спуска"
   ]
  },
  {
   "cell_type": "markdown",
   "id": "445fb2fc",
   "metadata": {},
   "source": [
    "### 1 способ"
   ]
  },
  {
   "cell_type": "code",
   "execution_count": 11,
   "id": "eec0b744",
   "metadata": {},
   "outputs": [
    {
     "name": "stdout",
     "output_type": "stream",
     "text": [
      "<tf.Variable 'Variable:0' shape=() dtype=float32, numpy=5.9721303>\n",
      "<tf.Variable 'Variable:0' shape=() dtype=float32, numpy=2.0731428>\n"
     ]
    }
   ],
   "source": [
    "k = tf.Variable(0.0)\n",
    "b = tf.Variable(0.0)\n",
    "\n",
    "EPOCHS = 500\n",
    "learning_rate = 0.02\n",
    "\n",
    "list_loss = []\n",
    "for n in range(EPOCHS):\n",
    "    with tf.GradientTape() as t:\n",
    "        f = k * inputs + b\n",
    "        loss = tf.reduce_mean(tf.square(outputs - f))\n",
    "        list_loss.append(loss.numpy())\n",
    "         \n",
    "    dk, db = t.gradient(loss, [k, b])\n",
    " \n",
    "    k.assign_sub(learning_rate * dk)\n",
    "    b.assign_sub(learning_rate * db)\n",
    "    \n",
    "print(k, b, sep=\"\\n\")    "
   ]
  },
  {
   "cell_type": "code",
   "execution_count": 12,
   "id": "a96bc666",
   "metadata": {},
   "outputs": [
    {
     "data": {
      "text/plain": [
       "[<matplotlib.lines.Line2D at 0x2a6c2875308>]"
      ]
     },
     "execution_count": 12,
     "metadata": {},
     "output_type": "execute_result"
    },
    {
     "data": {
      "image/png": "[encoded data removed]",
      "text/plain": [
       "<Figure size 432x288 with 1 Axes>"
      ]
     },
     "metadata": {
      "needs_background": "light"
     },
     "output_type": "display_data"
    }
   ],
   "source": [
    "plt.plot(list_loss)"
   ]
  },
  {
   "cell_type": "code",
   "execution_count": 13,
   "id": "2f29162e",
   "metadata": {},
   "outputs": [
    {
     "data": {
      "image/png": "[encoded data removed]",
      "text/plain": [
       "<Figure size 432x288 with 1 Axes>"
      ]
     },
     "metadata": {
      "needs_background": "light"
     },
     "output_type": "display_data"
    }
   ],
   "source": [
    "y_pr = k * inputs + b\n",
    "plt.scatter(inputs, outputs, s=2)\n",
    "plt.scatter(inputs, y_pr, c='r', s=2)\n",
    "plt.show()"
   ]
  },
  {
   "cell_type": "code",
   "execution_count": 14,
   "id": "2aba6783",
   "metadata": {},
   "outputs": [],
   "source": [
    "x_pred = range(1, 6)"
   ]
  },
  {
   "cell_type": "code",
   "execution_count": 15,
   "id": "d5e2938b",
   "metadata": {},
   "outputs": [
    {
     "data": {
      "text/plain": [
       "{'answer': [8.045272827148438,\n",
       "  14.017403602600098,\n",
       "  19.989534378051758,\n",
       "  25.9616641998291,\n",
       "  31.933794021606445]}"
      ]
     },
     "execution_count": 15,
     "metadata": {},
     "output_type": "execute_result"
    }
   ],
   "source": [
    "y_pr = k * x_pred + b\n",
    "answer = y_pr.numpy().tolist()\n",
    "answer = {'answer': answer}\n",
    "answer"
   ]
  },
  {
   "cell_type": "code",
   "execution_count": 16,
   "id": "b649d69c",
   "metadata": {},
   "outputs": [],
   "source": [
    "import json"
   ]
  },
  {
   "cell_type": "code",
   "execution_count": 17,
   "id": "6c39a362",
   "metadata": {},
   "outputs": [],
   "source": [
    "with open(\"predict.json\", \"w\") as write_file:\n",
    "    json.dump(answer, write_file)"
   ]
  },
  {
   "cell_type": "markdown",
   "id": "df507819",
   "metadata": {},
   "source": [
    "### 2 способ"
   ]
  },
  {
   "cell_type": "code",
   "execution_count": 18,
   "id": "f5c50c13",
   "metadata": {},
   "outputs": [],
   "source": [
    "k = tf.Variable([[0.]])\n",
    "b = tf.Variable([[0.0]])"
   ]
  },
  {
   "cell_type": "code",
   "execution_count": 19,
   "id": "186d2f8e",
   "metadata": {},
   "outputs": [
    {
     "name": "stdout",
     "output_type": "stream",
     "text": [
      "<tf.Variable 'Variable:0' shape=(1, 1) dtype=float32, numpy=array([[5.972135]], dtype=float32)>\n",
      "<tf.Variable 'Variable:0' shape=(1, 1) dtype=float32, numpy=array([[2.0731447]], dtype=float32)>\n"
     ]
    }
   ],
   "source": [
    "EPOCHS = 500\n",
    "\n",
    "opt = tf.optimizers.SGD(learning_rate=0.1)\n",
    "\n",
    "for n in range(EPOCHS):\n",
    "    with tf.GradientTape() as t:\n",
    "        f = inputs.reshape(-1, 1) @ k + b\n",
    "        loss = tf.reduce_mean(tf.square(outputs.reshape(-1, 1) - f))\n",
    "        list_loss.append(loss.numpy())\n",
    "         \n",
    "    dk, db = t.gradient(loss, [k, b])\n",
    "    opt.apply_gradients(zip([dk, db], [k, b]))\n",
    "    \n",
    "print(k, b, sep=\"\\n\")  "
   ]
  },
  {
   "cell_type": "code",
   "execution_count": 20,
   "id": "2ac85648",
   "metadata": {},
   "outputs": [
    {
     "data": {
      "image/png": "[encoded data removed]",
      "text/plain": [
       "<Figure size 432x288 with 1 Axes>"
      ]
     },
     "metadata": {
      "needs_background": "light"
     },
     "output_type": "display_data"
    }
   ],
   "source": [
    "y_pr = k * inputs + b\n",
    "plt.scatter(inputs, outputs, s=2)\n",
    "plt.scatter(inputs, y_pr, c='r', s=2)\n",
    "plt.show()"
   ]
  },
  {
   "cell_type": "markdown",
   "id": "6d6ce162",
   "metadata": {},
   "source": [
    "### 3 способ (сокращение 1 и 2 способов)"
   ]
  },
  {
   "cell_type": "code",
   "execution_count": 21,
   "id": "aba15354",
   "metadata": {},
   "outputs": [
    {
     "name": "stdout",
     "output_type": "stream",
     "text": [
      "<tf.Variable 'Variable:0' shape=() dtype=float32, numpy=5.972135> <tf.Variable 'Variable:0' shape=() dtype=float32, numpy=2.0731447>\n"
     ]
    }
   ],
   "source": [
    "k = tf.Variable(0.0)\n",
    "b = tf.Variable(0.0)\n",
    "loss = lambda: tf.reduce_mean(tf.square(outputs - (k*inputs+b)))\n",
    "\n",
    "opt = tf.optimizers.SGD(learning_rate=0.1)\n",
    "\n",
    "for n in range(EPOCHS):\n",
    "    opt.minimize(loss, [k, b])\n",
    "\n",
    "print(k, b)"
   ]
  },
  {
   "cell_type": "code",
   "execution_count": 22,
   "id": "13280c67",
   "metadata": {},
   "outputs": [
    {
     "data": {
      "image/png": "[encoded data removed]",
      "text/plain": [
       "<Figure size 432x288 with 1 Axes>"
      ]
     },
     "metadata": {
      "needs_background": "light"
     },
     "output_type": "display_data"
    }
   ],
   "source": [
    "y_pr = k * inputs + b\n",
    "plt.scatter(inputs, outputs, s=2)\n",
    "plt.scatter(inputs, y_pr, c='r', s=2)\n",
    "plt.show()"
   ]
  },
  {
   "cell_type": "markdown",
   "id": "abaad2c2",
   "metadata": {},
   "source": [
    "### 4 способ (через слой нейросети)"
   ]
  },
  {
   "cell_type": "code",
   "execution_count": 42,
   "id": "28905661",
   "metadata": {},
   "outputs": [],
   "source": [
    "class DenseNN(tf.Module):\n",
    "    \"\"\"\n",
    "        Класс для создания полносвязного слоя нейросети\n",
    "    \"\"\"\n",
    "    def __init__(self, outputs):\n",
    "        super().__init__()\n",
    "        self.outputs = outputs  #количество выходов\n",
    "        self.fl_init = False\n",
    " \n",
    "    def __call__(self, x):\n",
    "        #инициализация начальных значений\n",
    "        if not self.fl_init:\n",
    "            w = tf.random.truncated_normal((x.shape[-1], self.outputs), stddev=0.1, name=\"w\")\n",
    "            b = tf.zeros([self.outputs], dtype=tf.float32, name=\"b\")\n",
    " \n",
    "            self.w = tf.Variable(w)\n",
    "            self.b = tf.Variable(b)\n",
    " \n",
    "            self.fl_init = True\n",
    " \n",
    "        y = x @ self.w + self.b\n",
    "        return y"
   ]
  },
  {
   "cell_type": "code",
   "execution_count": 80,
   "id": "6b23b8f0",
   "metadata": {},
   "outputs": [],
   "source": [
    "model = DenseNN(1)"
   ]
  },
  {
   "cell_type": "code",
   "execution_count": 44,
   "id": "5bea1d5f",
   "metadata": {},
   "outputs": [],
   "source": [
    "loss = lambda x, y: tf.reduce_mean(tf.square(x - y))\n",
    "opt = tf.optimizers.Adam(learning_rate=0.01)"
   ]
  },
  {
   "cell_type": "code",
   "execution_count": 81,
   "id": "43d72b9c",
   "metadata": {},
   "outputs": [],
   "source": [
    "x_train, y_train = inputs, outputs"
   ]
  },
  {
   "cell_type": "code",
   "execution_count": 88,
   "id": "0a16a9b7",
   "metadata": {},
   "outputs": [
    {
     "data": {
      "text/plain": [
       "<tf.Tensor: shape=(2, 1), dtype=float32, numpy=\n",
       "array([[-0.7150358],\n",
       "       [-1.7290071]], dtype=float32)>"
      ]
     },
     "execution_count": 88,
     "metadata": {},
     "output_type": "execute_result"
    }
   ],
   "source": [
    "x_train = tf.constant(x_train, shape=(len(x_train),1))\n",
    "x_train[:2]"
   ]
  },
  {
   "cell_type": "code",
   "execution_count": 85,
   "id": "496c18ce",
   "metadata": {},
   "outputs": [
    {
     "name": "stdout",
     "output_type": "stream",
     "text": [
      "0.7285463\n"
     ]
    }
   ],
   "source": [
    "EPOCHS = 50\n",
    "for n in range(EPOCHS):\n",
    "    for x, y in zip(x_train, y_train):\n",
    "        x = tf.expand_dims(x, axis=0)\n",
    "        with tf.GradientTape() as tape:\n",
    "            f_loss = loss(y, model(x))\n",
    " \n",
    "        # trainable_variables унаследовался от tf.Modele\n",
    "        grads = tape.gradient(f_loss, model.trainable_variables) \n",
    "        opt.apply_gradients(zip(grads, model.trainable_variables))\n",
    "        \n",
    "print(f_loss.numpy())"
   ]
  },
  {
   "cell_type": "code",
   "execution_count": 86,
   "id": "c2c2744a",
   "metadata": {},
   "outputs": [],
   "source": [
    "b, w = model.trainable_variables"
   ]
  },
  {
   "cell_type": "code",
   "execution_count": 87,
   "id": "db7366d7",
   "metadata": {},
   "outputs": [
    {
     "data": {
      "image/png": "[encoded data removed]",
      "text/plain": [
       "<Figure size 432x288 with 1 Axes>"
      ]
     },
     "metadata": {
      "needs_background": "light"
     },
     "output_type": "display_data"
    }
   ],
   "source": [
    "y_pr = w * inputs + b\n",
    "plt.scatter(inputs, outputs, s=2)\n",
    "plt.scatter(inputs, y_pr, c='r', s=2)\n",
    "plt.show()"
   ]
  }
 ],
 "metadata": {
  "kernelspec": {
   "display_name": "Python 3",
   "language": "python",
   "name": "python3"
  },
  "language_info": {
   "codemirror_mode": {
    "name": "ipython",
    "version": 3
   },
   "file_extension": ".py",
   "mimetype": "text/x-python",
   "name": "python",
   "nbconvert_exporter": "python",
   "pygments_lexer": "ipython3",
   "version": "3.7.10"
  }
 },
 "nbformat": 4,
 "nbformat_minor": 5
}
