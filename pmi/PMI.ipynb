{
 "cells": [
  {
   "cell_type": "markdown",
   "id": "4ead95d2",
   "metadata": {},
   "source": [
    "# Pointwise mutual information (Взаимная точечная информация)\n",
    "## Введение\n",
    "**Немного информации о PMI:**\n",
    "+ [Multinomial Naïve Bayes classifier using pointwise mutual information](https://towardsdatascience.com/multinomial-na%C3%AFve-bayes-classifier-using-pointwise-mutual-information-9ade011fcbd0)\n",
    "\n",
    "+ [Understanding Pointwise Mutual Information in NLP](https://medium.com/dataseries/understanding-pointwise-mutual-information-in-nlp-e4ef75ecb57a)\n",
    "\n",
    "+ [Harvesting the power of Mutual Information to find bias in your NLP dataset](https://towardsdatascience.com/harvesting-the-power-of-mutual-information-to-find-bias-in-your-nlp-dataset-c172c0dddebe)\n",
    "\n",
    "+ [Learning NLP Language Models with Real Data](https://towardsdatascience.com/learning-nlp-language-models-with-real-data-cdff04c51c25)\n",
    "  + [этот же пример в Kaggle](https://www.kaggle.com/code/osbornep/education-learning-language-models-with-real-data/notebook)\n",
    "\n",
    "+ [Статья: A search engine model: Web Scraping, Natural Language Processing, and Pointwise Mutual Information](https://www.researchgate.net/publication/346088126_A_search_engine_model_Web_Scraping_Natural_Language_Processing_and_Pointwise_Mutual_Information)\n",
    "\n",
    "+ [A Deep Conceptual Guide to Mutual Information](https://medium.com/swlh/a-deep-conceptual-guide-to-mutual-information-a5021031fad0)\n",
    "\n",
    "+ [Word2Vec For Phrases — Learning Embeddings For More Than One Word](https://towardsdatascience.com/word2vec-for-phrases-learning-embeddings-for-more-than-one-word-727b6cf723cf)\n",
    "\n",
    "**Определение:**\n",
    "+ Измеряется между двумя случайными событиями A и B; \n",
    "+ Мера того, насколько сильно мы будем ожидать появление A после наблюдения события B, по сравнению с нашими ожиданиями в ситуации, когда событие B мы не наблюдаем;\n",
    "+ PMI симметрична.\n",
    "\n",
    "**Формула:**\n",
    "$$PMI(A, B)=\\log_{2}\\frac{P(A, B)}{P(A)\\cdot P(B)} = \\log_{2}\\frac{P(A|B)}{P(A)}= \\log_{2}\\frac{P(B|A)}{P(B)}$$\n",
    "\n",
    "**Решаемые задачи:**\n",
    "1. Поиск словосочетаний (наиболее частая встречаемость пар слов):\n",
    "  + Глобальный поиск (найти самые частовстречаемые пары слов во всем корпусе);\n",
    "  + Локальный поиск (по переданному слову определить наиболее связанные с ним слова);\n",
    "2. Построение признакового пространства для задач классификации текста:\n",
    "  + Отбор признаков ранжировав по PMI;\n",
    "  + Построение эмбеддинга документов.\n",
    "\n",
    "\n",
    "\n",
    "## Расчёт PMI\n",
    "Пример подсчета PMI из Kaggle: https://www.kaggle.com/code/gabrielaltay/word-vectors-from-pmi-matrix\n",
    "\n",
    "Рассмотрим вычисление PMI на примере задачи классификации. Для этого создаётся матрица с размерностью (число токенов, число классов). Значения матрицы - значения PMI.\n",
    "\n",
    "$$PMI(w, c)=\\log_{2}\\frac{P(w, c)}{P(w)\\cdot P(c)} = \\log_{2}\\frac{P(w|c)}{P(w)}= \\log_{2}\\frac{P(c|w)}{P(c)}$$\n",
    "\n",
    "Где $w$ - слово, $с$ - класс.\n",
    "\n",
    "Вероятность появлянения слова: $$P(w)=\\frac{n_{w}}{n_{doc}}$$\n",
    "Вероятность появлянения класса: $$P(с)=\\frac{n_{с}}{n_{doc}}$$\n",
    "Вероятность появлянения слова в конкретном классе: $$P(w|с)=\\frac{n_{wс}}{n_{c}}$$\n",
    "Вероятность совместного появления слова и класса: $$P(w, с)=\\frac{n_{wс}}{n_{doc}}$$\n",
    "\n",
    "$n_{w}$ - количество документов с конкретным словом;\n",
    "\n",
    "$n_{с}$ - количество документов с конкретным классом;\n",
    "\n",
    "$n_{wc}$ - количество документов с конкретным словом в конкретном классе;\n",
    "\n",
    "$n_{doc}$ - общее количество документов в корпусе.\n",
    "\n",
    "**Поправки в формулу PMI:**\n",
    "+ Positive PMI (PPMI)\n",
    "  + Для избежания PMI=-бесконечность\n",
    "$$PPMI(w, c) = max(0, PMI(w, c))$$\n",
    "+ Local mutual information (LMI) \n",
    "  + учитывает частоту токенов \n",
    "  + в частности орфографические ошибки\n",
    "$$LMI(w, c) = P(w, с)\\cdot PMI(w, c)$$\n",
    "\n",
    "+ Normalized Pointwise Mutual Information (NPMI)\n",
    "  + нормализует PMI между [-1,+1] : \n",
    "$$NPMI(w, c) = \\frac{PMI(w, c)}{-\\log_{2}P(w, с)}$$\n",
    "\n",
    "**Алгоритм:**\n",
    "1. Предобработка текста\n",
    "2. Создание словаря слов\n",
    "3. Расчет матрицы частотности размером (кол-во слов, кол-во классов)\n",
    "4. Расчет матрицы PMI размером (кол-во слов, кол-во классов)\n",
    "5. Создание матрицы признаков размером (кол-во примеров, кол-во слов)"
   ]
  },
  {
   "cell_type": "markdown",
   "id": "9c5c6a85",
   "metadata": {},
   "source": [
    "# 1 Загрузка данных"
   ]
  },
  {
   "cell_type": "code",
   "execution_count": 1,
   "id": "6a62bbbc",
   "metadata": {},
   "outputs": [],
   "source": [
    "# !pip install numpy pandas matplotlib seaborn scikit-learn nltk"
   ]
  },
  {
   "cell_type": "code",
   "execution_count": 2,
   "id": "32c33ca0",
   "metadata": {},
   "outputs": [],
   "source": [
    "%load_ext autoreload\n",
    "%autoreload 2\n",
    "\n",
    "import seaborn as sns\n",
    "import matplotlib.pyplot as plt\n",
    "import pandas as pd\n",
    "import numpy as np\n",
    "\n",
    "from nltk.collocations import BigramCollocationFinder, BigramAssocMeasures\n",
    "from nltk.corpus import stopwords\n",
    "\n",
    "from sklearn.metrics import accuracy_score\n",
    "from sklearn.preprocessing import StandardScaler, Normalizer, MinMaxScaler\n",
    "from sklearn.naive_bayes import MultinomialNB\n",
    "from sklearn.feature_extraction.text import TfidfVectorizer\n",
    "from sklearn.pipeline import make_pipeline\n",
    "from sklearn.decomposition import TruncatedSVD\n",
    "from sklearn.datasets import fetch_20newsgroups\n",
    "\n",
    "from pmi.utils import plot_weights, print_minmax, print_nnz_sparse, text_tokenize, top_features\n",
    "from pmi.collocation import PmiCollocation\n",
    "from pmi.document import PmiDocument\n",
    "\n",
    "from tqdm import tqdm\n",
    "import warnings\n",
    "warnings.filterwarnings('ignore')"
   ]
  },
  {
   "cell_type": "markdown",
   "id": "b34151f1",
   "metadata": {},
   "source": [
    "## 1.1 Пример из Wikipedia\n",
    "https://en.wikipedia.org/wiki/Pointwise_mutual_information"
   ]
  },
  {
   "cell_type": "code",
   "execution_count": 3,
   "id": "dfe0f6b7",
   "metadata": {},
   "outputs": [
    {
     "data": {
      "text/html": [
       "<div>\n",
       "<style scoped>\n",
       "    .dataframe tbody tr th:only-of-type {\n",
       "        vertical-align: middle;\n",
       "    }\n",
       "\n",
       "    .dataframe tbody tr th {\n",
       "        vertical-align: top;\n",
       "    }\n",
       "\n",
       "    .dataframe thead th {\n",
       "        text-align: right;\n",
       "    }\n",
       "</style>\n",
       "<table border=\"1\" class=\"dataframe\">\n",
       "  <thead>\n",
       "    <tr style=\"text-align: right;\">\n",
       "      <th></th>\n",
       "      <th>word_1</th>\n",
       "      <th>word_2</th>\n",
       "      <th>count_word_1</th>\n",
       "      <th>count_word_2</th>\n",
       "      <th>count_of_co-occurrences</th>\n",
       "      <th>PMI</th>\n",
       "    </tr>\n",
       "  </thead>\n",
       "  <tbody>\n",
       "    <tr>\n",
       "      <th>0</th>\n",
       "      <td>puerto</td>\n",
       "      <td>rico</td>\n",
       "      <td>1938</td>\n",
       "      <td>1311</td>\n",
       "      <td>1159</td>\n",
       "      <td>10.034908</td>\n",
       "    </tr>\n",
       "    <tr>\n",
       "      <th>1</th>\n",
       "      <td>hong</td>\n",
       "      <td>kong</td>\n",
       "      <td>2438</td>\n",
       "      <td>2694</td>\n",
       "      <td>2205</td>\n",
       "      <td>9.728320</td>\n",
       "    </tr>\n",
       "    <tr>\n",
       "      <th>2</th>\n",
       "      <td>los</td>\n",
       "      <td>angeles</td>\n",
       "      <td>3501</td>\n",
       "      <td>2808</td>\n",
       "      <td>2791</td>\n",
       "      <td>9.560676</td>\n",
       "    </tr>\n",
       "    <tr>\n",
       "      <th>3</th>\n",
       "      <td>carbon</td>\n",
       "      <td>dioxide</td>\n",
       "      <td>4265</td>\n",
       "      <td>1353</td>\n",
       "      <td>1032</td>\n",
       "      <td>9.098529</td>\n",
       "    </tr>\n",
       "    <tr>\n",
       "      <th>4</th>\n",
       "      <td>prize</td>\n",
       "      <td>laureate</td>\n",
       "      <td>5131</td>\n",
       "      <td>1676</td>\n",
       "      <td>1210</td>\n",
       "      <td>8.858707</td>\n",
       "    </tr>\n",
       "    <tr>\n",
       "      <th>5</th>\n",
       "      <td>san</td>\n",
       "      <td>francisco</td>\n",
       "      <td>5237</td>\n",
       "      <td>2477</td>\n",
       "      <td>1779</td>\n",
       "      <td>8.833052</td>\n",
       "    </tr>\n",
       "    <tr>\n",
       "      <th>6</th>\n",
       "      <td>nobel</td>\n",
       "      <td>prize</td>\n",
       "      <td>4098</td>\n",
       "      <td>5131</td>\n",
       "      <td>2498</td>\n",
       "      <td>8.689488</td>\n",
       "    </tr>\n",
       "    <tr>\n",
       "      <th>7</th>\n",
       "      <td>ice</td>\n",
       "      <td>hockey</td>\n",
       "      <td>5607</td>\n",
       "      <td>3002</td>\n",
       "      <td>1933</td>\n",
       "      <td>8.655576</td>\n",
       "    </tr>\n",
       "    <tr>\n",
       "      <th>8</th>\n",
       "      <td>star</td>\n",
       "      <td>trek</td>\n",
       "      <td>8264</td>\n",
       "      <td>1594</td>\n",
       "      <td>1489</td>\n",
       "      <td>8.639747</td>\n",
       "    </tr>\n",
       "    <tr>\n",
       "      <th>9</th>\n",
       "      <td>car</td>\n",
       "      <td>driver</td>\n",
       "      <td>5578</td>\n",
       "      <td>2749</td>\n",
       "      <td>1384</td>\n",
       "      <td>8.414708</td>\n",
       "    </tr>\n",
       "    <tr>\n",
       "      <th>10</th>\n",
       "      <td>it</td>\n",
       "      <td>the</td>\n",
       "      <td>283891</td>\n",
       "      <td>3293296</td>\n",
       "      <td>3347</td>\n",
       "      <td>-1.720373</td>\n",
       "    </tr>\n",
       "    <tr>\n",
       "      <th>11</th>\n",
       "      <td>are</td>\n",
       "      <td>of</td>\n",
       "      <td>234458</td>\n",
       "      <td>1761436</td>\n",
       "      <td>1019</td>\n",
       "      <td>-2.092542</td>\n",
       "    </tr>\n",
       "    <tr>\n",
       "      <th>12</th>\n",
       "      <td>this</td>\n",
       "      <td>the</td>\n",
       "      <td>199882</td>\n",
       "      <td>3293296</td>\n",
       "      <td>1211</td>\n",
       "      <td>-2.386128</td>\n",
       "    </tr>\n",
       "    <tr>\n",
       "      <th>13</th>\n",
       "      <td>is</td>\n",
       "      <td>of</td>\n",
       "      <td>565679</td>\n",
       "      <td>1761436</td>\n",
       "      <td>1562</td>\n",
       "      <td>-2.546147</td>\n",
       "    </tr>\n",
       "    <tr>\n",
       "      <th>14</th>\n",
       "      <td>and</td>\n",
       "      <td>of</td>\n",
       "      <td>1375396</td>\n",
       "      <td>1761436</td>\n",
       "      <td>2949</td>\n",
       "      <td>-2.799118</td>\n",
       "    </tr>\n",
       "    <tr>\n",
       "      <th>15</th>\n",
       "      <td>a</td>\n",
       "      <td>and</td>\n",
       "      <td>984442</td>\n",
       "      <td>1375396</td>\n",
       "      <td>1457</td>\n",
       "      <td>-2.922395</td>\n",
       "    </tr>\n",
       "    <tr>\n",
       "      <th>16</th>\n",
       "      <td>in</td>\n",
       "      <td>and</td>\n",
       "      <td>1187652</td>\n",
       "      <td>1375396</td>\n",
       "      <td>1537</td>\n",
       "      <td>-3.056601</td>\n",
       "    </tr>\n",
       "    <tr>\n",
       "      <th>17</th>\n",
       "      <td>to</td>\n",
       "      <td>and</td>\n",
       "      <td>1025659</td>\n",
       "      <td>1375396</td>\n",
       "      <td>1286</td>\n",
       "      <td>-3.088254</td>\n",
       "    </tr>\n",
       "    <tr>\n",
       "      <th>18</th>\n",
       "      <td>to</td>\n",
       "      <td>in</td>\n",
       "      <td>1025659</td>\n",
       "      <td>1187652</td>\n",
       "      <td>1066</td>\n",
       "      <td>-3.129113</td>\n",
       "    </tr>\n",
       "    <tr>\n",
       "      <th>19</th>\n",
       "      <td>of</td>\n",
       "      <td>and</td>\n",
       "      <td>1761436</td>\n",
       "      <td>1375396</td>\n",
       "      <td>1190</td>\n",
       "      <td>-3.706631</td>\n",
       "    </tr>\n",
       "  </tbody>\n",
       "</table>\n",
       "</div>"
      ],
      "text/plain": [
       "     word_1      word_2  count_word_1  count_word_2  count_of_co-occurrences  \\\n",
       "0   puerto        rico           1938          1311                     1159   \n",
       "1     hong        kong           2438          2694                     2205   \n",
       "2      los     angeles           3501          2808                     2791   \n",
       "3   carbon     dioxide           4265          1353                     1032   \n",
       "4    prize    laureate           5131          1676                     1210   \n",
       "5      san   francisco           5237          2477                     1779   \n",
       "6    nobel       prize           4098          5131                     2498   \n",
       "7      ice      hockey           5607          3002                     1933   \n",
       "8     star        trek           8264          1594                     1489   \n",
       "9      car      driver           5578          2749                     1384   \n",
       "10      it         the         283891       3293296                     3347   \n",
       "11     are          of         234458       1761436                     1019   \n",
       "12    this         the         199882       3293296                     1211   \n",
       "13      is          of         565679       1761436                     1562   \n",
       "14     and          of        1375396       1761436                     2949   \n",
       "15       a         and         984442       1375396                     1457   \n",
       "16      in         and        1187652       1375396                     1537   \n",
       "17      to         and        1025659       1375396                     1286   \n",
       "18      to          in        1025659       1187652                     1066   \n",
       "19      of         and        1761436       1375396                     1190   \n",
       "\n",
       "          PMI  \n",
       "0   10.034908  \n",
       "1    9.728320  \n",
       "2    9.560676  \n",
       "3    9.098529  \n",
       "4    8.858707  \n",
       "5    8.833052  \n",
       "6    8.689488  \n",
       "7    8.655576  \n",
       "8    8.639747  \n",
       "9    8.414708  \n",
       "10  -1.720373  \n",
       "11  -2.092542  \n",
       "12  -2.386128  \n",
       "13  -2.546147  \n",
       "14  -2.799118  \n",
       "15  -2.922395  \n",
       "16  -3.056601  \n",
       "17  -3.088254  \n",
       "18  -3.129113  \n",
       "19  -3.706631  "
      ]
     },
     "execution_count": 3,
     "metadata": {},
     "output_type": "execute_result"
    }
   ],
   "source": [
    "TOTAL = 50_000_952  # всего слов\n",
    "\n",
    "df_wiki = pd.read_csv('data/wiki_example.txt', sep='\\t')\n",
    "df_wiki.columns = [col.strip() for col in df_wiki.columns]\n",
    "df_wiki"
   ]
  },
  {
   "cell_type": "code",
   "execution_count": 4,
   "id": "d8a2a0df",
   "metadata": {},
   "outputs": [
    {
     "name": "stdout",
     "output_type": "stream",
     "text": [
      "Равны ли PMI посчитанный и табличный: True\n"
     ]
    }
   ],
   "source": [
    "p_w1 = df_wiki['count_word_1'] / TOTAL \n",
    "p_w2 = df_wiki['count_word_2'] / TOTAL\n",
    "p_w1_w2 = df_wiki['count_of_co-occurrences'] / TOTAL\n",
    "pmi = np.log(p_w1_w2 / (p_w1 * p_w2))\n",
    "print('Равны ли PMI посчитанный и табличный:', np.isclose(pmi.values, df_wiki['PMI'].values).all())"
   ]
  },
  {
   "cell_type": "markdown",
   "id": "4487a6a2",
   "metadata": {},
   "source": [
    "## 1.2 Пример NLTK\n",
    "https://www.listendata.com/2022/06/pointwise-mutual-information-pmi.html"
   ]
  },
  {
   "cell_type": "code",
   "execution_count": 5,
   "id": "8ef35083",
   "metadata": {},
   "outputs": [
    {
     "data": {
      "text/plain": [
       "[(('is', 'a'), 4.523561956057013),\n",
       " (('this', 'is'), 4.523561956057013),\n",
       " (('a', 'foo'), 2.938599455335857),\n",
       " (('sheep', 'shep'), 2.938599455335857),\n",
       " (('black', 'sentence'), 2.523561956057013),\n",
       " (('black', 'sheep'), 2.523561956057013),\n",
       " (('sheep', 'foo'), 2.353636954614701),\n",
       " (('bar', 'black'), 1.523561956057013),\n",
       " (('foo', 'bar'), 1.523561956057013),\n",
       " (('shep', 'bar'), 1.523561956057013),\n",
       " (('bar', 'bar'), 0.5235619560570131)]"
      ]
     },
     "execution_count": 5,
     "metadata": {},
     "output_type": "execute_result"
    }
   ],
   "source": [
    "text = \"this is a foo bar bar black sheep  foo bar bar black sheep foo bar bar black sheep shep bar bar black sentence\"\n",
    "words = text.split()\n",
    "bigram_measures = BigramAssocMeasures()\n",
    "finder = BigramCollocationFinder.from_words(words)\n",
    "pmi_nltk = []\n",
    "for p in finder.score_ngrams(bigram_measures.pmi):\n",
    "    pmi_nltk.append(p)\n",
    "pmi_nltk "
   ]
  },
  {
   "cell_type": "markdown",
   "id": "809eb574",
   "metadata": {},
   "source": [
    "## 1.3 Датасет \"20 newsgroups\" \n",
    "Далее в качестве данных используется датасет \"20 newsgroups\""
   ]
  },
  {
   "cell_type": "code",
   "execution_count": 6,
   "id": "085020f6",
   "metadata": {},
   "outputs": [
    {
     "name": "stdout",
     "output_type": "stream",
     "text": [
      "Тренировочных документов: 11314\n",
      "Тестовых документов: 7532\n",
      "Классов: 20\n"
     ]
    }
   ],
   "source": [
    "RS = 44\n",
    "target_names = fetch_20newsgroups()['target_names']\n",
    "\n",
    "X_train, y_train = fetch_20newsgroups(subset='train', return_X_y=True)\n",
    "X_test, y_test = fetch_20newsgroups(subset='test', return_X_y=True)\n",
    "\n",
    "print(\"Тренировочных документов:\", len(X_train))\n",
    "print(\"Тестовых документов:\", len(X_test))\n",
    "print(\"Классов:\", len(np.unique(y_train)))"
   ]
  },
  {
   "cell_type": "code",
   "execution_count": 7,
   "id": "514f8c79",
   "metadata": {},
   "outputs": [
    {
     "name": "stdout",
     "output_type": "stream",
     "text": [
      "CPU times: total: 6.36 s\n",
      "Wall time: 6.59 s\n"
     ]
    },
    {
     "data": {
      "text/plain": [
       "(11314, 7532)"
      ]
     },
     "execution_count": 7,
     "metadata": {},
     "output_type": "execute_result"
    }
   ],
   "source": [
    "%%time\n",
    "stopwords_set = set(stopwords.words('english'))\n",
    "\n",
    "train_tokenized = text_tokenize(X_train, stopwords=stopwords_set)\n",
    "test_tokenized = text_tokenize(X_test, stopwords=stopwords_set)\n",
    "len(train_tokenized), len(test_tokenized)"
   ]
  },
  {
   "cell_type": "markdown",
   "id": "1209e3df",
   "metadata": {},
   "source": [
    "# 2 Поиск словосочетаний\n",
    "## 2.1 Матрица PMI"
   ]
  },
  {
   "cell_type": "code",
   "execution_count": 8,
   "id": "b0f83141",
   "metadata": {},
   "outputs": [
    {
     "name": "stderr",
     "output_type": "stream",
     "text": [
      "Vocabular: 100%|███████████████████████| 11314/11314 [00:02<00:00, 3928.89it/s]\n",
      "Skipgrams: 100%|████████████████████████| 11314/11314 [00:25<00:00, 438.97it/s]\n",
      "Matrix: 100%|████████████████████| 3238666/3238666 [00:03<00:00, 867973.47it/s]\n"
     ]
    },
    {
     "name": "stdout",
     "output_type": "stream",
     "text": [
      "PMI: min=0.000, max=18.068\n",
      "LMI: min=0.000, max=0.019\n",
      "NPMI: min=0.000, max=0.969\n",
      "CPU times: total: 34.6 s\n",
      "Wall time: 35.8 s\n"
     ]
    }
   ],
   "source": [
    "%%time\n",
    "\n",
    "colloc = PmiCollocation(min_words=5, window=2)\n",
    "colloc.fit(train_tokenized)\n",
    "\n",
    "matrix_pmi = colloc.matrix_pmi\n",
    "matrix_lmi = colloc.matrix_lmi\n",
    "matrix_npmi = colloc.matrix_npmi\n",
    "\n",
    "print_minmax(matrix_pmi, title='PMI')\n",
    "print_minmax(matrix_lmi, title='LMI')\n",
    "print_minmax(matrix_npmi, title='NPMI')"
   ]
  },
  {
   "cell_type": "markdown",
   "id": "8e26e842",
   "metadata": {},
   "source": [
    "## 2.2 Топ PMI"
   ]
  },
  {
   "cell_type": "code",
   "execution_count": 9,
   "id": "e8e618d2",
   "metadata": {},
   "outputs": [
    {
     "data": {
      "text/plain": [
       "[('ordularinin', 'rus', 18.06783846749079),\n",
       " ('rus', 'ordularinin', 18.06783846749079),\n",
       " ('honk', 'wak', 17.97472906309931),\n",
       " ('auf', 'alle', 17.97472906309931),\n",
       " ('alle', 'auf', 17.97472906309931),\n",
       " ('wak', 'honk', 17.97472906309931),\n",
       " ('abcdefghijklmnopqrstuvwxyz', '0123456789', 17.94558271743979),\n",
       " ('0123456789', 'abcdefghijklmnopqrstuvwxyz', 17.94558271743979),\n",
       " ('geoffm',\n",
       "  'brownbladerunnersugarcubeselectronicblaylockpowersspikeleekatebushhamcornpizza',\n",
       "  17.875193389548393),\n",
       " ('francesca_m', '_benson', 17.875193389548393)]"
      ]
     },
     "execution_count": 9,
     "metadata": {},
     "output_type": "execute_result"
    }
   ],
   "source": [
    "colloc.global_best_pmi(matrix_pmi, topn=10)"
   ]
  },
  {
   "cell_type": "code",
   "execution_count": 10,
   "id": "fe8721ad",
   "metadata": {},
   "outputs": [
    {
     "data": {
      "text/plain": [
       "[('ax', 'max', 0.019247402014877537),\n",
       " ('max', 'ax', 0.019247402014877537),\n",
       " ('host', 'nntp', 0.004377008420449775),\n",
       " ('nntp', 'host', 0.004377008420449775),\n",
       " ('host', 'posting', 0.004283872936584521),\n",
       " ('posting', 'host', 0.004283872936584521),\n",
       " ('posting', 'nntp', 0.004281404206169439),\n",
       " ('nntp', 'posting', 0.004281404206169438),\n",
       " ('article', 'lines', 0.0019035033527744624),\n",
       " ('lines', 'article', 0.001903503352774462)]"
      ]
     },
     "execution_count": 10,
     "metadata": {},
     "output_type": "execute_result"
    }
   ],
   "source": [
    "colloc.global_best_pmi(matrix_lmi, topn=10)"
   ]
  },
  {
   "cell_type": "code",
   "execution_count": 11,
   "id": "43af95ec",
   "metadata": {},
   "outputs": [
    {
     "data": {
      "text/plain": [
       "[('gargle', 'howl', 0.9685860054189027),\n",
       " ('howl', 'gargle', 0.9685860054189025),\n",
       " ('0123456789', 'abcdefghijklmnopqrstuvwxyz', 0.9457622639966475),\n",
       " ('abcdefghijklmnopqrstuvwxyz', '0123456789', 0.9457622639966475),\n",
       " ('ax', 'max', 0.9300985971703933),\n",
       " ('max', 'ax', 0.9300985971703933),\n",
       " ('howp', 'skyfox', 0.8946755216514244),\n",
       " ('skyfox', 'howp', 0.8946755216514244),\n",
       " ('hgo7', 'zdem0a', 0.8858872581682276),\n",
       " ('zdem0a', 'hgo7', 0.8858872581682276)]"
      ]
     },
     "execution_count": 11,
     "metadata": {},
     "output_type": "execute_result"
    }
   ],
   "source": [
    "colloc.global_best_pmi(matrix_npmi, topn=10)"
   ]
  },
  {
   "cell_type": "markdown",
   "id": "9a5a8f1a",
   "metadata": {},
   "source": [
    "## 2.3 Топ контекста"
   ]
  },
  {
   "cell_type": "code",
   "execution_count": 12,
   "id": "cfa0fa34",
   "metadata": {},
   "outputs": [
    {
     "data": {
      "text/plain": [
       "[('gm2', 7.992142856765997),\n",
       " ('goddard', 7.756514608272854),\n",
       " ('_without_', 7.407180356044841),\n",
       " ('presumeably', 7.407180356044841),\n",
       " ('clippers', 7.2696768322949055),\n",
       " ('vlbi', 7.261749916523277),\n",
       " ('1999', 7.261749916523277),\n",
       " ('crafts', 7.255177262599791),\n",
       " ('dsn', 7.255177262599791),\n",
       " ('aeronautics', 7.247981761195587)]"
      ]
     },
     "execution_count": 12,
     "metadata": {},
     "output_type": "execute_result"
    }
   ],
   "source": [
    "word = 'space'\n",
    "colloc.local_best_pmi(matrix_pmi, word, topn=10)"
   ]
  },
  {
   "cell_type": "code",
   "execution_count": 13,
   "id": "68a7c3a2",
   "metadata": {},
   "outputs": [
    {
     "data": {
      "text/plain": [
       "[('station', 9.28231693179589e-05),\n",
       " ('shuttle', 9.193922662226485e-05),\n",
       " ('sci', 8.851681881041676e-05),\n",
       " ('center', 4.5847056156484034e-05),\n",
       " ('digest', 4.1888183994304584e-05),\n",
       " ('flight', 3.418053838416406e-05),\n",
       " ('goddard', 3.333785592069114e-05),\n",
       " ('disk', 3.3219182791601945e-05),\n",
       " ('national', 2.8694703177752927e-05),\n",
       " ('telescope', 2.8664411996815274e-05)]"
      ]
     },
     "execution_count": 13,
     "metadata": {},
     "output_type": "execute_result"
    }
   ],
   "source": [
    "colloc.local_best_pmi(matrix_lmi, word, topn=10)"
   ]
  },
  {
   "cell_type": "code",
   "execution_count": 14,
   "id": "25d16021",
   "metadata": {},
   "outputs": [
    {
     "data": {
      "text/plain": [
       "[('goddard', 0.43507760143956065),\n",
       " ('gm2', 0.42119931358116425),\n",
       " ('shuttle', 0.41467746220418905),\n",
       " ('digest', 0.40482619088129396),\n",
       " ('station', 0.3934173314636957),\n",
       " ('forwarded', 0.3859348715299477),\n",
       " ('redesign', 0.3775504731996335),\n",
       " ('1999', 0.37581537869540727),\n",
       " ('vlbi', 0.37581537869540727),\n",
       " ('aeronautics', 0.372452399768273)]"
      ]
     },
     "execution_count": 14,
     "metadata": {},
     "output_type": "execute_result"
    }
   ],
   "source": [
    "colloc.local_best_pmi(matrix_npmi, word, topn=10)"
   ]
  },
  {
   "cell_type": "markdown",
   "id": "870cb2ed",
   "metadata": {},
   "source": [
    "## 2.4 Косинусная близость (похожие слова)"
   ]
  },
  {
   "cell_type": "code",
   "execution_count": 15,
   "id": "70bf13db",
   "metadata": {},
   "outputs": [
    {
     "data": {
      "text/plain": [
       "[('space', 0.9999999999999988),\n",
       " ('shuttle', 0.21342221161120536),\n",
       " ('launch', 0.16505841254157508),\n",
       " ('nasa', 0.13823995338075618),\n",
       " ('station', 0.13112054408867443),\n",
       " ('missions', 0.13089921734193866),\n",
       " ('mission', 0.13037170503754344),\n",
       " ('lunar', 0.1297372044732195),\n",
       " ('commercial', 0.1211725382987305),\n",
       " ('national', 0.11770730076390927)]"
      ]
     },
     "execution_count": 15,
     "metadata": {},
     "output_type": "execute_result"
    }
   ],
   "source": [
    "colloc.word_cos_similarity(word, matrix_pmi, topn=10)"
   ]
  },
  {
   "cell_type": "code",
   "execution_count": 16,
   "id": "988ec31c",
   "metadata": {},
   "outputs": [
    {
     "data": {
      "text/plain": [
       "[('space', 1.000000000000002),\n",
       " ('crypt', 0.38742941803959396),\n",
       " ('redesign', 0.3348747637585483),\n",
       " ('gm2', 0.31856228900041456),\n",
       " ('whaling', 0.2923825508944173),\n",
       " ('wagons', 0.29009015032541174),\n",
       " ('med', 0.28875110040292634),\n",
       " ('skeptic', 0.27216555346202526),\n",
       " ('manifest', 0.271199694405023),\n",
       " ('astro', 0.2692656167309971)]"
      ]
     },
     "execution_count": 16,
     "metadata": {},
     "output_type": "execute_result"
    }
   ],
   "source": [
    "colloc.word_cos_similarity(word, matrix_lmi, topn=10)"
   ]
  },
  {
   "cell_type": "code",
   "execution_count": 17,
   "id": "290a8158",
   "metadata": {},
   "outputs": [
    {
     "data": {
      "text/plain": [
       "[('space', 1.0000000000000033),\n",
       " ('shuttle', 0.21913227307226593),\n",
       " ('launch', 0.16932249044277534),\n",
       " ('nasa', 0.14350368964674676),\n",
       " ('missions', 0.13605841400005342),\n",
       " ('lunar', 0.13515336273434675),\n",
       " ('station', 0.13491131772330217),\n",
       " ('mission', 0.13405637754589525),\n",
       " ('commercial', 0.12445980022723474),\n",
       " ('satellite', 0.12126486127932709)]"
      ]
     },
     "execution_count": 17,
     "metadata": {},
     "output_type": "execute_result"
    }
   ],
   "source": [
    "colloc.word_cos_similarity(word, matrix_npmi, topn=10)"
   ]
  },
  {
   "cell_type": "markdown",
   "id": "70d12033",
   "metadata": {},
   "source": [
    "# 3 Классификация\n",
    "## 3.1 Матрица PMI"
   ]
  },
  {
   "cell_type": "code",
   "execution_count": 18,
   "id": "3726ced4",
   "metadata": {},
   "outputs": [
    {
     "name": "stdout",
     "output_type": "stream",
     "text": [
      "PMI: min=0.000, max=4.907\n",
      "LMI: min=0.000, max=0.121\n",
      "NPMI: min=0.000, max=0.802\n",
      "CPU times: total: 3.2 s\n",
      "Wall time: 3.22 s\n"
     ]
    }
   ],
   "source": [
    "%%time\n",
    "\n",
    "pmi_doc = PmiDocument(min_count=5, max_doc_freq=0.8)\n",
    "pmi_doc.fit(train_tokenized, y_train)\n",
    "\n",
    "matrix_pmi2 = pmi_doc.matrix_pmi\n",
    "matrix_lmi2 = pmi_doc.matrix_lmi\n",
    "matrix_npmi2 = pmi_doc.matrix_npmi\n",
    "\n",
    "print_minmax(matrix_pmi2, title='PMI')\n",
    "print_minmax(matrix_lmi2, title='LMI')\n",
    "print_minmax(matrix_npmi2, title='NPMI')"
   ]
  },
  {
   "cell_type": "markdown",
   "id": "1e9fa729",
   "metadata": {},
   "source": [
    "## 3.2 Векторизация документов"
   ]
  },
  {
   "cell_type": "code",
   "execution_count": 19,
   "id": "051ca18a",
   "metadata": {},
   "outputs": [
    {
     "name": "stdout",
     "output_type": "stream",
     "text": [
      "(PMI train) Ненулевых значений: 0.41 %.\n",
      "(PMI test) Ненулевых значений: 0.39 %.\n",
      "CPU times: total: 15.5 s\n",
      "Wall time: 15.7 s\n"
     ]
    }
   ],
   "source": [
    "%%time\n",
    "\n",
    "pmi_train = pmi_doc.transform(train_tokenized, mode='pmi')\n",
    "pmi_test = pmi_doc.transform(test_tokenized, mode='pmi')\n",
    "\n",
    "lmi_train = pmi_doc.transform(train_tokenized, mode='lmi')\n",
    "lmi_test = pmi_doc.transform(test_tokenized, mode='lmi')\n",
    "\n",
    "npmi_train = pmi_doc.transform(train_tokenized, mode='npmi')\n",
    "npmi_test = pmi_doc.transform(test_tokenized, mode='npmi')\n",
    "\n",
    "print_nnz_sparse(pmi_train, 'PMI train')\n",
    "print_nnz_sparse(pmi_test, 'PMI test')"
   ]
  },
  {
   "cell_type": "code",
   "execution_count": 20,
   "id": "8b2ae1ce",
   "metadata": {},
   "outputs": [
    {
     "data": {
      "image/png": "[encoded data removed]",
      "text/plain": [
       "<Figure size 1200x500 with 3 Axes>"
      ]
     },
     "metadata": {},
     "output_type": "display_data"
    }
   ],
   "source": [
    "titles = ['PMI', 'LMI', 'NPMI']\n",
    "plot_data = [pmi_train, lmi_train, npmi_train]\n",
    "plot_weights(plot_data, titles)"
   ]
  },
  {
   "cell_type": "markdown",
   "id": "c32ff3d7",
   "metadata": {},
   "source": [
    "## 3.3 Ранжирование токенов"
   ]
  },
  {
   "cell_type": "code",
   "execution_count": 21,
   "id": "0b74cd5c",
   "metadata": {},
   "outputs": [
    {
     "name": "stdout",
     "output_type": "stream",
     "text": [
      "Класс sci.space\n",
      "PMI\n",
      "('vandalizing', 4.2539331610977715)\n",
      "('leech', 4.2539331610977715)\n",
      "('flyby', 4.2539331610977715)\n",
      "('kjenks', 4.2539331610977715)\n",
      "('orbiter', 4.2539331610977715)\n",
      "('mohney', 4.2539331610977715)\n",
      "('mahler', 4.2539331610977715)\n",
      "('nsmca', 4.2539331610977715)\n",
      "('dietz', 4.2539331610977715)\n",
      "('c5t05k', 4.2539331610977715)\n",
      "LMI\n",
      "('space', 0.09097912078806633)\n",
      "('nasa', 0.055867610087598024)\n",
      "('orbit', 0.04901585155370534)\n",
      "('moon', 0.03934236520928235)\n",
      "('launch', 0.03502469998805174)\n",
      "('earth', 0.03159718436158909)\n",
      "('shuttle', 0.03063998017533294)\n",
      "('prb', 0.028323390722256692)\n",
      "('flight', 0.02537572477047886)\n",
      "('spacecraft', 0.025064653278279003)\n",
      "NPMI\n",
      "('orbit', 0.6504389461008887)\n",
      "('space', 0.6324721213046648)\n",
      "('moon', 0.5846541940179523)\n",
      "('prb', 0.5841674163466344)\n",
      "('shuttle', 0.5779638282047151)\n",
      "('launch', 0.5763344217281373)\n",
      "('spacecraft', 0.5719881961430414)\n",
      "('nsmca', 0.5497528542305882)\n",
      "('nasa', 0.5448970679544293)\n",
      "('lunar', 0.5416485274504776)\n"
     ]
    }
   ],
   "source": [
    "label = 14\n",
    "data = [matrix_pmi2, matrix_lmi2, matrix_npmi2]\n",
    "\n",
    "print(f'Класс {target_names[label]}')\n",
    "for matrix, title in zip(data, titles):\n",
    "    print(title)\n",
    "    top = pmi_doc.relevant_tokens_for_class(matrix, label)\n",
    "    for element in top:\n",
    "        print(element)"
   ]
  },
  {
   "cell_type": "markdown",
   "id": "68533787",
   "metadata": {},
   "source": [
    "## 3.4 Отбор признаков"
   ]
  },
  {
   "cell_type": "code",
   "execution_count": 22,
   "id": "50975d6f",
   "metadata": {},
   "outputs": [
    {
     "name": "stdout",
     "output_type": "stream",
     "text": [
      "Количество отфильтрованных токенов. Топ=1000\n",
      "PMI: 17159\n",
      "LMI: 13786\n",
      "NPMI: 17565\n"
     ]
    }
   ],
   "source": [
    "k = 1000\n",
    "print(f'Количество отфильтрованных токенов. Топ={k}')\n",
    "pmi_features = top_features(matrix_pmi2, k=k)\n",
    "print('PMI:', len(pmi_features))\n",
    "\n",
    "lmi_features = top_features(matrix_lmi2, k=k)\n",
    "print('LMI:', len(lmi_features))\n",
    "\n",
    "npmi_features = top_features(matrix_npmi2, k=k)\n",
    "print('NPMI:', len(npmi_features))\n",
    "\n",
    "pmi_train_trunc = pmi_train[:, pmi_features]\n",
    "pmi_test_trunc = pmi_test[:, pmi_features]\n",
    "\n",
    "lmi_train_trunc = lmi_train[:, lmi_features]\n",
    "lmi_test_trunc = lmi_test[:, lmi_features]\n",
    "\n",
    "npmi_train_trunc = npmi_train[:, npmi_features]\n",
    "npmi_test_trunc = npmi_test[:, npmi_features]"
   ]
  },
  {
   "cell_type": "markdown",
   "id": "c34994ac",
   "metadata": {},
   "source": [
    "## 3.5 Моделирование"
   ]
  },
  {
   "cell_type": "code",
   "execution_count": 23,
   "id": "e9bbd8c0",
   "metadata": {},
   "outputs": [],
   "source": [
    "# бейзлайн\n",
    "tfidf = TfidfVectorizer()\n",
    "X_train_basline = tfidf.fit_transform([' '.join(text) for text in train_tokenized])\n",
    "X_test_basline = tfidf.transform([' '.join(text) for text in test_tokenized])"
   ]
  },
  {
   "cell_type": "code",
   "execution_count": 24,
   "id": "28295556",
   "metadata": {},
   "outputs": [],
   "source": [
    "nb = MultinomialNB()\n",
    "\n",
    "pipe_std = make_pipeline(StandardScaler(with_mean=False),\n",
    "                         MultinomialNB())\n",
    "\n",
    "pipe_norm = make_pipeline(Normalizer(),\n",
    "                         MultinomialNB())\n",
    "\n",
    "pipe_svd = make_pipeline(TruncatedSVD(n_components=200, random_state=RS),\n",
    "                         Normalizer(),\n",
    "                         MinMaxScaler(),\n",
    "                         MultinomialNB())"
   ]
  },
  {
   "cell_type": "code",
   "execution_count": 25,
   "id": "30602e41",
   "metadata": {},
   "outputs": [
    {
     "name": "stderr",
     "output_type": "stream",
     "text": [
      "100%|████████████████████████████████████████████| 4/4 [01:35<00:00, 23.96s/it]\n"
     ]
    }
   ],
   "source": [
    "df_results = pd.DataFrame(columns=['model', 'accuracy'])\n",
    "\n",
    "models = [('nb', nb), \n",
    "          ('std', pipe_std), \n",
    "          ('norm', pipe_norm), \n",
    "          ('svd', pipe_svd)]\n",
    "\n",
    "X_train_data = [('PMI', pmi_train), \n",
    "                ('LMI', lmi_train), \n",
    "                ('NPMI', npmi_train),\n",
    "                ('TFIDF', X_train_basline),\n",
    "                ('PMI_TOP', pmi_train_trunc),\n",
    "                ('LMI_TOP', lmi_train_trunc),\n",
    "                ('NPMI_TOP', npmi_train_trunc)]\n",
    "\n",
    "X_test_data = [pmi_test, \n",
    "               lmi_test, \n",
    "               npmi_test, \n",
    "               X_test_basline,\n",
    "               pmi_test_trunc,\n",
    "               lmi_test_trunc,\n",
    "               npmi_test_trunc]\n",
    "\n",
    "for m_name, model in tqdm(models):\n",
    "    for (x_name, train_data), test_data in zip(X_train_data, X_test_data):\n",
    "        name = x_name + '_' + m_name\n",
    "        model.fit(train_data, y_train)\n",
    "        y_pred = model.predict(test_data)\n",
    "        accuracy_test = accuracy_score(y_test, y_pred)\n",
    "        df_tmp = pd.DataFrame(data=[(name, accuracy_test)], columns=['model', 'accuracy'])\n",
    "        df_results = pd.concat([df_results, df_tmp])"
   ]
  },
  {
   "cell_type": "code",
   "execution_count": 26,
   "id": "aff1e192",
   "metadata": {},
   "outputs": [
    {
     "data": {
      "text/html": [
       "<div>\n",
       "<style scoped>\n",
       "    .dataframe tbody tr th:only-of-type {\n",
       "        vertical-align: middle;\n",
       "    }\n",
       "\n",
       "    .dataframe tbody tr th {\n",
       "        vertical-align: top;\n",
       "    }\n",
       "\n",
       "    .dataframe thead th {\n",
       "        text-align: right;\n",
       "    }\n",
       "</style>\n",
       "<table border=\"1\" class=\"dataframe\">\n",
       "  <thead>\n",
       "    <tr style=\"text-align: right;\">\n",
       "      <th></th>\n",
       "      <th>model</th>\n",
       "      <th>accuracy</th>\n",
       "    </tr>\n",
       "  </thead>\n",
       "  <tbody>\n",
       "    <tr>\n",
       "      <th>0</th>\n",
       "      <td>PMI_norm</td>\n",
       "      <td>0.837361</td>\n",
       "    </tr>\n",
       "    <tr>\n",
       "      <th>1</th>\n",
       "      <td>PMI_nb</td>\n",
       "      <td>0.836166</td>\n",
       "    </tr>\n",
       "    <tr>\n",
       "      <th>2</th>\n",
       "      <td>NPMI_TOP_nb</td>\n",
       "      <td>0.835767</td>\n",
       "    </tr>\n",
       "    <tr>\n",
       "      <th>3</th>\n",
       "      <td>NPMI_TOP_norm</td>\n",
       "      <td>0.830324</td>\n",
       "    </tr>\n",
       "    <tr>\n",
       "      <th>4</th>\n",
       "      <td>NPMI_norm</td>\n",
       "      <td>0.830191</td>\n",
       "    </tr>\n",
       "    <tr>\n",
       "      <th>5</th>\n",
       "      <td>PMI_TOP_norm</td>\n",
       "      <td>0.829926</td>\n",
       "    </tr>\n",
       "    <tr>\n",
       "      <th>6</th>\n",
       "      <td>PMI_TOP_nb</td>\n",
       "      <td>0.828864</td>\n",
       "    </tr>\n",
       "    <tr>\n",
       "      <th>7</th>\n",
       "      <td>NPMI_nb</td>\n",
       "      <td>0.828067</td>\n",
       "    </tr>\n",
       "    <tr>\n",
       "      <th>8</th>\n",
       "      <td>TFIDF_nb</td>\n",
       "      <td>0.809612</td>\n",
       "    </tr>\n",
       "    <tr>\n",
       "      <th>9</th>\n",
       "      <td>TFIDF_norm</td>\n",
       "      <td>0.809612</td>\n",
       "    </tr>\n",
       "  </tbody>\n",
       "</table>\n",
       "</div>"
      ],
      "text/plain": [
       "           model  accuracy\n",
       "0       PMI_norm  0.837361\n",
       "1         PMI_nb  0.836166\n",
       "2    NPMI_TOP_nb  0.835767\n",
       "3  NPMI_TOP_norm  0.830324\n",
       "4      NPMI_norm  0.830191\n",
       "5   PMI_TOP_norm  0.829926\n",
       "6     PMI_TOP_nb  0.828864\n",
       "7        NPMI_nb  0.828067\n",
       "8       TFIDF_nb  0.809612\n",
       "9     TFIDF_norm  0.809612"
      ]
     },
     "execution_count": 26,
     "metadata": {},
     "output_type": "execute_result"
    }
   ],
   "source": [
    "df_results = df_results.sort_values('accuracy', ascending=False).reset_index(drop=True)\n",
    "df_results.head(10)"
   ]
  },
  {
   "cell_type": "code",
   "execution_count": 27,
   "id": "ebf4638f",
   "metadata": {},
   "outputs": [
    {
     "data": {
      "image/png": "[encoded data removed]",
      "text/plain": [
       "<Figure size 700x700 with 1 Axes>"
      ]
     },
     "metadata": {},
     "output_type": "display_data"
    }
   ],
   "source": [
    "plt.figure(figsize=(7, 7))\n",
    "sns.barplot(df_results, x='accuracy', y='model')\n",
    "plt.xlim(0.5, .9);"
   ]
  },
  {
   "cell_type": "markdown",
   "id": "359c9151",
   "metadata": {},
   "source": [
    "+ Реализован подсчет PMI, LMI, NPMI через матричные операции;\n",
    "+ PPMI помог избежать ошибок, связанных с отсутсвием токена в словаре или классе;\n",
    "+ Для поиска релевантных пар (класс-токен) лучше подходят LMI, NPMI;\n",
    "+ Реализована векторизация документов. Каждому токену присваивается максимальное значение PMI (LMI, NPMI) из всех классов;\n",
    "+ Лучшая модель превосходит basline. При решение столкнулся с ошибкой, требующая для модели MultinomialNB неотрицательных значений (помог PPMI);"
   ]
  }
 ],
 "metadata": {
  "kernelspec": {
   "display_name": "Python 3 (ipykernel)",
   "language": "python",
   "name": "python3"
  },
  "language_info": {
   "codemirror_mode": {
    "name": "ipython",
    "version": 3
   },
   "file_extension": ".py",
   "mimetype": "text/x-python",
   "name": "python",
   "nbconvert_exporter": "python",
   "pygments_lexer": "ipython3",
   "version": "3.8.13"
  }
 },
 "nbformat": 4,
 "nbformat_minor": 5
}
